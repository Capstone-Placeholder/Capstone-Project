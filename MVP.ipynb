{
 "cells": [
  {
   "cell_type": "markdown",
   "metadata": {},
   "source": [
    "# SpotiScry\n",
    "### Date: January 2021\n",
    "### Project Goal:\n",
    "### Creators:\n",
    "\n",
    "## Table of Contents\n",
    "- [Acquire](#acquire)\n",
    "- [Prepare](#prepare)\n",
    "- [Explore](#explore)\n",
    "- [Model](#model)\n",
    "- [Conclusions](#conclusions)"
   ]
  },
  {
   "cell_type": "markdown",
   "metadata": {},
   "source": [
    "# Acquire <a class=\"anchor\" id=\"acquire\"></a>"
   ]
  },
  {
   "cell_type": "code",
   "execution_count": null,
   "metadata": {},
   "outputs": [],
   "source": []
  },
  {
   "cell_type": "markdown",
   "metadata": {},
   "source": [
    "## Takeaways"
   ]
  },
  {
   "cell_type": "markdown",
   "metadata": {},
   "source": [
    "# Prepare <a class=\"anchor\" id=\"prepare\"></a>"
   ]
  },
  {
   "cell_type": "code",
   "execution_count": null,
   "metadata": {},
   "outputs": [],
   "source": []
  },
  {
   "cell_type": "markdown",
   "metadata": {},
   "source": [
    "## Takeaways"
   ]
  },
  {
   "cell_type": "markdown",
   "metadata": {},
   "source": [
    "# Explore <a class=\"anchor\" id=\"explore\"></a>"
   ]
  },
  {
   "cell_type": "code",
   "execution_count": null,
   "metadata": {},
   "outputs": [],
   "source": []
  },
  {
   "cell_type": "markdown",
   "metadata": {},
   "source": [
    "## Takeaways"
   ]
  },
  {
   "cell_type": "markdown",
   "metadata": {},
   "source": [
    "# Model <a class=\"anchor\" id=\"model\"></a>"
   ]
  },
  {
   "cell_type": "markdown",
   "metadata": {},
   "source": [
    "### Prepare data for modeling"
   ]
  },
  {
   "cell_type": "code",
   "execution_count": 1,
   "metadata": {},
   "outputs": [],
   "source": [
    "from preprocessing import spotify_split, scale_data, modeling_prep\n",
    "from model import get_baseline_metrics, linear_regression_model, lasso_lars\n",
    "from model import polynomial_regression, evaluate_df"
   ]
  },
  {
   "cell_type": "code",
   "execution_count": 2,
   "metadata": {},
   "outputs": [],
   "source": [
    "df = modeling_prep()"
   ]
  },
  {
   "cell_type": "code",
   "execution_count": 3,
   "metadata": {},
   "outputs": [
    {
     "name": "stdout",
     "output_type": "stream",
     "text": [
      "Shape of train: (4012, 24) | Shape of validate: (861, 24) | Shape of test: (860, 24)\n",
      "Percent train: 70.0        | Percent validate: 15.0       | Percent test: 15.0\n"
     ]
    },
    {
     "data": {
      "text/html": [
       "<div>\n",
       "<style scoped>\n",
       "    .dataframe tbody tr th:only-of-type {\n",
       "        vertical-align: middle;\n",
       "    }\n",
       "\n",
       "    .dataframe tbody tr th {\n",
       "        vertical-align: top;\n",
       "    }\n",
       "\n",
       "    .dataframe thead th {\n",
       "        text-align: right;\n",
       "    }\n",
       "</style>\n",
       "<table border=\"1\" class=\"dataframe\">\n",
       "  <thead>\n",
       "    <tr style=\"text-align: right;\">\n",
       "      <th></th>\n",
       "      <th>danceability</th>\n",
       "      <th>energy</th>\n",
       "      <th>key</th>\n",
       "      <th>loudness</th>\n",
       "      <th>mode</th>\n",
       "      <th>speechiness</th>\n",
       "      <th>instrumentalness</th>\n",
       "      <th>liveness</th>\n",
       "      <th>valence</th>\n",
       "      <th>tempo</th>\n",
       "      <th>...</th>\n",
       "      <th>duration_seconds</th>\n",
       "      <th>duration_minutes</th>\n",
       "      <th>is_featured_artist</th>\n",
       "      <th>release_year</th>\n",
       "      <th>release_month</th>\n",
       "      <th>release_day</th>\n",
       "      <th>is_explicit</th>\n",
       "      <th>top_ten_label</th>\n",
       "      <th>compilation</th>\n",
       "      <th>single</th>\n",
       "    </tr>\n",
       "    <tr>\n",
       "      <th>track_id</th>\n",
       "      <th></th>\n",
       "      <th></th>\n",
       "      <th></th>\n",
       "      <th></th>\n",
       "      <th></th>\n",
       "      <th></th>\n",
       "      <th></th>\n",
       "      <th></th>\n",
       "      <th></th>\n",
       "      <th></th>\n",
       "      <th></th>\n",
       "      <th></th>\n",
       "      <th></th>\n",
       "      <th></th>\n",
       "      <th></th>\n",
       "      <th></th>\n",
       "      <th></th>\n",
       "      <th></th>\n",
       "      <th></th>\n",
       "      <th></th>\n",
       "      <th></th>\n",
       "    </tr>\n",
       "  </thead>\n",
       "  <tbody>\n",
       "    <tr>\n",
       "      <th>30bqVoKjX479ab90a8Pafp</th>\n",
       "      <td>0.585</td>\n",
       "      <td>0.471</td>\n",
       "      <td>4</td>\n",
       "      <td>-9.934</td>\n",
       "      <td>0</td>\n",
       "      <td>0.0616</td>\n",
       "      <td>0.0184</td>\n",
       "      <td>0.115</td>\n",
       "      <td>0.323</td>\n",
       "      <td>93.099</td>\n",
       "      <td>...</td>\n",
       "      <td>142</td>\n",
       "      <td>2</td>\n",
       "      <td>0</td>\n",
       "      <td>2019</td>\n",
       "      <td>4</td>\n",
       "      <td>19</td>\n",
       "      <td>1</td>\n",
       "      <td>0</td>\n",
       "      <td>0</td>\n",
       "      <td>1</td>\n",
       "    </tr>\n",
       "    <tr>\n",
       "      <th>0HO8pCseEpgozNi3z0R4bc</th>\n",
       "      <td>0.833</td>\n",
       "      <td>0.518</td>\n",
       "      <td>10</td>\n",
       "      <td>-10.126</td>\n",
       "      <td>0</td>\n",
       "      <td>0.3490</td>\n",
       "      <td>0.0000</td>\n",
       "      <td>0.635</td>\n",
       "      <td>0.773</td>\n",
       "      <td>180.008</td>\n",
       "      <td>...</td>\n",
       "      <td>120</td>\n",
       "      <td>2</td>\n",
       "      <td>0</td>\n",
       "      <td>2015</td>\n",
       "      <td>3</td>\n",
       "      <td>17</td>\n",
       "      <td>1</td>\n",
       "      <td>0</td>\n",
       "      <td>0</td>\n",
       "      <td>0</td>\n",
       "    </tr>\n",
       "    <tr>\n",
       "      <th>643K3eEgRvdJiXjSzlz7dg</th>\n",
       "      <td>0.471</td>\n",
       "      <td>0.671</td>\n",
       "      <td>1</td>\n",
       "      <td>-6.050</td>\n",
       "      <td>1</td>\n",
       "      <td>0.3410</td>\n",
       "      <td>0.0000</td>\n",
       "      <td>0.308</td>\n",
       "      <td>0.850</td>\n",
       "      <td>176.863</td>\n",
       "      <td>...</td>\n",
       "      <td>252</td>\n",
       "      <td>4</td>\n",
       "      <td>0</td>\n",
       "      <td>1998</td>\n",
       "      <td>8</td>\n",
       "      <td>11</td>\n",
       "      <td>1</td>\n",
       "      <td>0</td>\n",
       "      <td>0</td>\n",
       "      <td>0</td>\n",
       "    </tr>\n",
       "  </tbody>\n",
       "</table>\n",
       "<p>3 rows × 24 columns</p>\n",
       "</div>"
      ],
      "text/plain": [
       "                        danceability  energy  key  loudness  mode  \\\n",
       "track_id                                                            \n",
       "30bqVoKjX479ab90a8Pafp         0.585   0.471    4    -9.934     0   \n",
       "0HO8pCseEpgozNi3z0R4bc         0.833   0.518   10   -10.126     0   \n",
       "643K3eEgRvdJiXjSzlz7dg         0.471   0.671    1    -6.050     1   \n",
       "\n",
       "                        speechiness  instrumentalness  liveness  valence  \\\n",
       "track_id                                                                   \n",
       "30bqVoKjX479ab90a8Pafp       0.0616            0.0184     0.115    0.323   \n",
       "0HO8pCseEpgozNi3z0R4bc       0.3490            0.0000     0.635    0.773   \n",
       "643K3eEgRvdJiXjSzlz7dg       0.3410            0.0000     0.308    0.850   \n",
       "\n",
       "                          tempo  ...  duration_seconds  duration_minutes  \\\n",
       "track_id                         ...                                       \n",
       "30bqVoKjX479ab90a8Pafp   93.099  ...               142                 2   \n",
       "0HO8pCseEpgozNi3z0R4bc  180.008  ...               120                 2   \n",
       "643K3eEgRvdJiXjSzlz7dg  176.863  ...               252                 4   \n",
       "\n",
       "                        is_featured_artist  release_year  release_month  \\\n",
       "track_id                                                                  \n",
       "30bqVoKjX479ab90a8Pafp                   0          2019              4   \n",
       "0HO8pCseEpgozNi3z0R4bc                   0          2015              3   \n",
       "643K3eEgRvdJiXjSzlz7dg                   0          1998              8   \n",
       "\n",
       "                        release_day  is_explicit  top_ten_label  compilation  \\\n",
       "track_id                                                                       \n",
       "30bqVoKjX479ab90a8Pafp           19            1              0            0   \n",
       "0HO8pCseEpgozNi3z0R4bc           17            1              0            0   \n",
       "643K3eEgRvdJiXjSzlz7dg           11            1              0            0   \n",
       "\n",
       "                        single  \n",
       "track_id                        \n",
       "30bqVoKjX479ab90a8Pafp       1  \n",
       "0HO8pCseEpgozNi3z0R4bc       0  \n",
       "643K3eEgRvdJiXjSzlz7dg       0  \n",
       "\n",
       "[3 rows x 24 columns]"
      ]
     },
     "execution_count": 3,
     "metadata": {},
     "output_type": "execute_result"
    }
   ],
   "source": [
    "# split the data for modeling\n",
    "X_train, y_train, X_validate, y_validate, X_test, y_test, train, validate, test = spotify_split(df, 'popularity')\n",
    "X_train.head(3)"
   ]
  },
  {
   "cell_type": "code",
   "execution_count": 4,
   "metadata": {
    "scrolled": true
   },
   "outputs": [
    {
     "data": {
      "text/html": [
       "<div>\n",
       "<style scoped>\n",
       "    .dataframe tbody tr th:only-of-type {\n",
       "        vertical-align: middle;\n",
       "    }\n",
       "\n",
       "    .dataframe tbody tr th {\n",
       "        vertical-align: top;\n",
       "    }\n",
       "\n",
       "    .dataframe thead th {\n",
       "        text-align: right;\n",
       "    }\n",
       "</style>\n",
       "<table border=\"1\" class=\"dataframe\">\n",
       "  <thead>\n",
       "    <tr style=\"text-align: right;\">\n",
       "      <th></th>\n",
       "      <th>danceability</th>\n",
       "      <th>energy</th>\n",
       "      <th>key</th>\n",
       "      <th>loudness</th>\n",
       "      <th>mode</th>\n",
       "      <th>speechiness</th>\n",
       "      <th>instrumentalness</th>\n",
       "      <th>liveness</th>\n",
       "      <th>valence</th>\n",
       "      <th>tempo</th>\n",
       "      <th>...</th>\n",
       "      <th>duration_seconds</th>\n",
       "      <th>duration_minutes</th>\n",
       "      <th>is_featured_artist</th>\n",
       "      <th>release_year</th>\n",
       "      <th>release_month</th>\n",
       "      <th>release_day</th>\n",
       "      <th>is_explicit</th>\n",
       "      <th>top_ten_label</th>\n",
       "      <th>compilation</th>\n",
       "      <th>single</th>\n",
       "    </tr>\n",
       "    <tr>\n",
       "      <th>track_id</th>\n",
       "      <th></th>\n",
       "      <th></th>\n",
       "      <th></th>\n",
       "      <th></th>\n",
       "      <th></th>\n",
       "      <th></th>\n",
       "      <th></th>\n",
       "      <th></th>\n",
       "      <th></th>\n",
       "      <th></th>\n",
       "      <th></th>\n",
       "      <th></th>\n",
       "      <th></th>\n",
       "      <th></th>\n",
       "      <th></th>\n",
       "      <th></th>\n",
       "      <th></th>\n",
       "      <th></th>\n",
       "      <th></th>\n",
       "      <th></th>\n",
       "      <th></th>\n",
       "    </tr>\n",
       "  </thead>\n",
       "  <tbody>\n",
       "    <tr>\n",
       "      <th>30bqVoKjX479ab90a8Pafp</th>\n",
       "      <td>0.593306</td>\n",
       "      <td>0.439493</td>\n",
       "      <td>0.363636</td>\n",
       "      <td>0.580823</td>\n",
       "      <td>0.0</td>\n",
       "      <td>0.064033</td>\n",
       "      <td>0.019127</td>\n",
       "      <td>0.101302</td>\n",
       "      <td>0.328921</td>\n",
       "      <td>0.422695</td>\n",
       "      <td>...</td>\n",
       "      <td>0.235832</td>\n",
       "      <td>0.222222</td>\n",
       "      <td>0.0</td>\n",
       "      <td>0.972973</td>\n",
       "      <td>0.272727</td>\n",
       "      <td>0.600000</td>\n",
       "      <td>1.0</td>\n",
       "      <td>0.0</td>\n",
       "      <td>0.0</td>\n",
       "      <td>1.0</td>\n",
       "    </tr>\n",
       "    <tr>\n",
       "      <th>0HO8pCseEpgozNi3z0R4bc</th>\n",
       "      <td>0.844828</td>\n",
       "      <td>0.489960</td>\n",
       "      <td>0.909091</td>\n",
       "      <td>0.572667</td>\n",
       "      <td>0.0</td>\n",
       "      <td>0.362786</td>\n",
       "      <td>0.000000</td>\n",
       "      <td>0.651741</td>\n",
       "      <td>0.787169</td>\n",
       "      <td>0.817286</td>\n",
       "      <td>...</td>\n",
       "      <td>0.195612</td>\n",
       "      <td>0.222222</td>\n",
       "      <td>0.0</td>\n",
       "      <td>0.864865</td>\n",
       "      <td>0.181818</td>\n",
       "      <td>0.533333</td>\n",
       "      <td>1.0</td>\n",
       "      <td>0.0</td>\n",
       "      <td>0.0</td>\n",
       "      <td>0.0</td>\n",
       "    </tr>\n",
       "    <tr>\n",
       "      <th>643K3eEgRvdJiXjSzlz7dg</th>\n",
       "      <td>0.477688</td>\n",
       "      <td>0.654247</td>\n",
       "      <td>0.090909</td>\n",
       "      <td>0.745826</td>\n",
       "      <td>1.0</td>\n",
       "      <td>0.354470</td>\n",
       "      <td>0.000000</td>\n",
       "      <td>0.305600</td>\n",
       "      <td>0.865580</td>\n",
       "      <td>0.803007</td>\n",
       "      <td>...</td>\n",
       "      <td>0.436929</td>\n",
       "      <td>0.444444</td>\n",
       "      <td>0.0</td>\n",
       "      <td>0.405405</td>\n",
       "      <td>0.636364</td>\n",
       "      <td>0.333333</td>\n",
       "      <td>1.0</td>\n",
       "      <td>0.0</td>\n",
       "      <td>0.0</td>\n",
       "      <td>0.0</td>\n",
       "    </tr>\n",
       "  </tbody>\n",
       "</table>\n",
       "<p>3 rows × 24 columns</p>\n",
       "</div>"
      ],
      "text/plain": [
       "                        danceability    energy       key  loudness  mode  \\\n",
       "track_id                                                                   \n",
       "30bqVoKjX479ab90a8Pafp      0.593306  0.439493  0.363636  0.580823   0.0   \n",
       "0HO8pCseEpgozNi3z0R4bc      0.844828  0.489960  0.909091  0.572667   0.0   \n",
       "643K3eEgRvdJiXjSzlz7dg      0.477688  0.654247  0.090909  0.745826   1.0   \n",
       "\n",
       "                        speechiness  instrumentalness  liveness   valence  \\\n",
       "track_id                                                                    \n",
       "30bqVoKjX479ab90a8Pafp     0.064033          0.019127  0.101302  0.328921   \n",
       "0HO8pCseEpgozNi3z0R4bc     0.362786          0.000000  0.651741  0.787169   \n",
       "643K3eEgRvdJiXjSzlz7dg     0.354470          0.000000  0.305600  0.865580   \n",
       "\n",
       "                           tempo  ...  duration_seconds  duration_minutes  \\\n",
       "track_id                          ...                                       \n",
       "30bqVoKjX479ab90a8Pafp  0.422695  ...          0.235832          0.222222   \n",
       "0HO8pCseEpgozNi3z0R4bc  0.817286  ...          0.195612          0.222222   \n",
       "643K3eEgRvdJiXjSzlz7dg  0.803007  ...          0.436929          0.444444   \n",
       "\n",
       "                        is_featured_artist  release_year  release_month  \\\n",
       "track_id                                                                  \n",
       "30bqVoKjX479ab90a8Pafp                 0.0      0.972973       0.272727   \n",
       "0HO8pCseEpgozNi3z0R4bc                 0.0      0.864865       0.181818   \n",
       "643K3eEgRvdJiXjSzlz7dg                 0.0      0.405405       0.636364   \n",
       "\n",
       "                        release_day  is_explicit  top_ten_label  compilation  \\\n",
       "track_id                                                                       \n",
       "30bqVoKjX479ab90a8Pafp     0.600000          1.0            0.0          0.0   \n",
       "0HO8pCseEpgozNi3z0R4bc     0.533333          1.0            0.0          0.0   \n",
       "643K3eEgRvdJiXjSzlz7dg     0.333333          1.0            0.0          0.0   \n",
       "\n",
       "                        single  \n",
       "track_id                        \n",
       "30bqVoKjX479ab90a8Pafp     1.0  \n",
       "0HO8pCseEpgozNi3z0R4bc     0.0  \n",
       "643K3eEgRvdJiXjSzlz7dg     0.0  \n",
       "\n",
       "[3 rows x 24 columns]"
      ]
     },
     "execution_count": 4,
     "metadata": {},
     "output_type": "execute_result"
    }
   ],
   "source": [
    "# scale the data: min-max scaler\n",
    "X_train_scaled, X_validate_scaled, X_test_scaled = scale_data(train, validate, test, 'popularity', 'MinMax')\n",
    "X_train_scaled.head(3)"
   ]
  },
  {
   "cell_type": "markdown",
   "metadata": {},
   "source": [
    "### Baseline Model"
   ]
  },
  {
   "cell_type": "code",
   "execution_count": 5,
   "metadata": {},
   "outputs": [
    {
     "name": "stdout",
     "output_type": "stream",
     "text": [
      "RMSE (Root Mean Square Error) of Baseline on train data:\n",
      " 22.897138\n"
     ]
    }
   ],
   "source": [
    "#baseline is the mean popularity of the training dataset\n",
    "bl, bl_train_rmse = get_baseline_metrics(y_train)"
   ]
  },
  {
   "cell_type": "markdown",
   "metadata": {},
   "source": [
    "### Train Models"
   ]
  },
  {
   "cell_type": "code",
   "execution_count": 13,
   "metadata": {},
   "outputs": [
    {
     "name": "stdout",
     "output_type": "stream",
     "text": [
      "RMSE for OLS using Linear Regression \n",
      "\n",
      "On train data:\n",
      " 20.910148 \n",
      "\n",
      "RMSE for LASSO + LARS \n",
      "\n",
      "On train data:\n",
      " 20.911551 \n",
      "\n",
      "RMSE for Polynomial Squared + Linear Regression \n",
      "\n",
      "On train data:\n",
      " 19.015856 \n",
      "\n",
      "RMSE for Polynomial Cubed + Linear Regression \n",
      "\n",
      "On train data:\n",
      " 17.552747 \n",
      "\n"
     ]
    }
   ],
   "source": [
    "# OLS Model(defaults)\n",
    "lm_rmse, lm_rmse_v = linear_regression_model(X_train, y_train, X_validate, y_validate)\n",
    "# LASSO + LARS Model(alpha=.00001)\n",
    "lars_rmse, lars_rmse_v, lars_rmse_t = lasso_lars(X_train, y_train, X_validate, y_validate, X_test, y_test, alpha=.00001, fit_intercept=True)\n",
    "# Polynomial Features (squared, deg=2) with Linear Regression\n",
    "lm_sq_rmse, lm_sq_rmse_v = polynomial_regression(X_train, y_train, X_validate, y_validate, 'Squared', degree=2) \n",
    "# Polynomial Features (cubed, deg=3) with Linear Regression\n",
    "lm_cb_rmse, lm_cb_rmse_v =  polynomial_regression(X_train, y_train, X_validate, y_validate, 'Cubed', degree=3) "
   ]
  },
  {
   "cell_type": "markdown",
   "metadata": {},
   "source": [
    "### Evaluate Models"
   ]
  },
  {
   "cell_type": "code",
   "execution_count": 14,
   "metadata": {},
   "outputs": [
    {
     "name": "stdout",
     "output_type": "stream",
     "text": [
      "Model beat baseline by 9.22%\n"
     ]
    },
    {
     "data": {
      "text/html": [
       "<div>\n",
       "<style scoped>\n",
       "    .dataframe tbody tr th:only-of-type {\n",
       "        vertical-align: middle;\n",
       "    }\n",
       "\n",
       "    .dataframe tbody tr th {\n",
       "        vertical-align: top;\n",
       "    }\n",
       "\n",
       "    .dataframe thead th {\n",
       "        text-align: right;\n",
       "    }\n",
       "</style>\n",
       "<table border=\"1\" class=\"dataframe\">\n",
       "  <thead>\n",
       "    <tr style=\"text-align: right;\">\n",
       "      <th></th>\n",
       "      <th>train_rmse</th>\n",
       "      <th>validate_rmse</th>\n",
       "      <th>test_rmse</th>\n",
       "    </tr>\n",
       "  </thead>\n",
       "  <tbody>\n",
       "    <tr>\n",
       "      <th>pf3_lr</th>\n",
       "      <td>17.552747</td>\n",
       "      <td>45.4758</td>\n",
       "      <td>-</td>\n",
       "    </tr>\n",
       "    <tr>\n",
       "      <th>pf2_lr</th>\n",
       "      <td>19.015856</td>\n",
       "      <td>21.2229</td>\n",
       "      <td>-</td>\n",
       "    </tr>\n",
       "    <tr>\n",
       "      <th>ols</th>\n",
       "      <td>20.910148</td>\n",
       "      <td>-</td>\n",
       "      <td>-</td>\n",
       "    </tr>\n",
       "    <tr>\n",
       "      <th>lassolars</th>\n",
       "      <td>20.911551</td>\n",
       "      <td>20.891</td>\n",
       "      <td>20.7853</td>\n",
       "    </tr>\n",
       "    <tr>\n",
       "      <th>baseline</th>\n",
       "      <td>22.897138</td>\n",
       "      <td>-</td>\n",
       "      <td>-</td>\n",
       "    </tr>\n",
       "  </tbody>\n",
       "</table>\n",
       "</div>"
      ],
      "text/plain": [
       "           train_rmse validate_rmse test_rmse\n",
       "pf3_lr      17.552747       45.4758         -\n",
       "pf2_lr      19.015856       21.2229         -\n",
       "ols         20.910148             -         -\n",
       "lassolars   20.911551        20.891   20.7853\n",
       "baseline    22.897138             -         -"
      ]
     },
     "execution_count": 14,
     "metadata": {},
     "output_type": "execute_result"
    }
   ],
   "source": [
    "evaluate_df(bl_train_rmse, lm_rmse, lars_rmse, lars_rmse_v, \n",
    "            lars_rmse_t, lm_sq_rmse, lm_sq_rmse_v, \n",
    "            lm_cb_rmse, lm_cb_rmse_v)"
   ]
  },
  {
   "cell_type": "markdown",
   "metadata": {},
   "source": [
    "## Takeaways"
   ]
  },
  {
   "cell_type": "markdown",
   "metadata": {},
   "source": [
    "<div class=\"alert alert-block alert-info\">\n",
    "    <li>Polynomial features cubed is overfit</li>\n",
    "    <li>Polynomial features squared and Lasso lars perform best on train and validate</li>\n",
    "    <li><b>Best Model</b> is Lasso Lars since it performed better on unseen data</li>\n",
    "    <li>Beat the baseline by 9.22%.</li>\n",
    "    </div>"
   ]
  },
  {
   "cell_type": "markdown",
   "metadata": {},
   "source": [
    "# Conclusions <a class=\"anchor\" id=\"conclusions\"></a>"
   ]
  }
 ],
 "metadata": {
  "kernelspec": {
   "display_name": "Python 3",
   "language": "python",
   "name": "python3"
  },
  "language_info": {
   "codemirror_mode": {
    "name": "ipython",
    "version": 3
   },
   "file_extension": ".py",
   "mimetype": "text/x-python",
   "name": "python",
   "nbconvert_exporter": "python",
   "pygments_lexer": "ipython3",
   "version": "3.7.6"
  }
 },
 "nbformat": 4,
 "nbformat_minor": 4
}
