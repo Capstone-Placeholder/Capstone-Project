{
 "cells": [
  {
   "cell_type": "code",
   "execution_count": 2,
   "metadata": {},
   "outputs": [
    {
     "name": "stdout",
     "output_type": "stream",
     "text": [
      "<svg xmlns=\"http://www.w3.org/2000/svg\" \n"
     ]
    }
   ],
   "source": [
    "from pybadges import badge\n",
    "s = badge(left_text='coverage', right_text='23%', right_color='red')\n",
    "# s is a string that contains the badge data as an svg image.\n",
    "print(s[:40]) # => <svg height=\"20\" width=\"191.0\" xmlns=\"ht"
   ]
  },
  {
   "cell_type": "code",
   "execution_count": 3,
   "metadata": {},
   "outputs": [
    {
     "data": {
      "text/plain": [
       "'<svg xmlns=\"http://www.w3.org/2000/svg\" xmlns:xlink=\"http://www.w3.org/1999/xlink\" width=\"95.5\" height=\"20\"><linearGradient id=\"smooth\" x2=\"0\" y2=\"100%\"><stop offset=\"0\" stop-color=\"#bbb\" stop-opacity=\".1\"/><stop offset=\"1\" stop-opacity=\".1\"/></linearGradient><clipPath id=\"round\"><rect width=\"95.5\" height=\"20\" rx=\"3\" fill=\"#fff\"/></clipPath><g clip-path=\"url(#round)\"><rect width=\"61.0\" height=\"20\" fill=\"#555\"/><rect x=\"61.0\" width=\"34.5\" height=\"20\" fill=\"#e05d44\"/><rect width=\"95.5\" height=\"20\" fill=\"url(#smooth)\"/></g><g fill=\"#fff\" text-anchor=\"middle\" font-family=\"DejaVu Sans,Verdana,Geneva,sans-serif\" font-size=\"110\"><text x=\"315.0\" y=\"150\" fill=\"#010101\" fill-opacity=\".3\" transform=\"scale(0.1)\" textLength=\"510.0\" lengthAdjust=\"spacing\">coverage</text><text x=\"315.0\" y=\"140\" transform=\"scale(0.1)\" textLength=\"510.0\" lengthAdjust=\"spacing\">coverage</text><text x=\"772.5\" y=\"150\" fill=\"#010101\" fill-opacity=\".3\" transform=\"scale(0.1)\" textLength=\"245.0\" lengthAdjust=\"spacing\">23%</text><text x=\"772.5\" y=\"140\" transform=\"scale(0.1)\" textLength=\"245.0\" lengthAdjust=\"spacing\">23%</text></g></svg>'"
      ]
     },
     "execution_count": 3,
     "metadata": {},
     "output_type": "execute_result"
    }
   ],
   "source": [
    "s"
   ]
  },
  {
   "cell_type": "code",
   "execution_count": 4,
   "metadata": {},
   "outputs": [],
   "source": [
    "s = badge(left_text='python library', right_text='pandas')"
   ]
  },
  {
   "cell_type": "code",
   "execution_count": 5,
   "metadata": {},
   "outputs": [
    {
     "data": {
      "text/plain": [
       "'<svg xmlns=\"http://www.w3.org/2000/svg\" xmlns:xlink=\"http://www.w3.org/1999/xlink\" width=\"137.5\" height=\"20\"><linearGradient id=\"smooth\" x2=\"0\" y2=\"100%\"><stop offset=\"0\" stop-color=\"#bbb\" stop-opacity=\".1\"/><stop offset=\"1\" stop-opacity=\".1\"/></linearGradient><clipPath id=\"round\"><rect width=\"137.5\" height=\"20\" rx=\"3\" fill=\"#fff\"/></clipPath><g clip-path=\"url(#round)\"><rect width=\"87.4\" height=\"20\" fill=\"#555\"/><rect x=\"87.4\" width=\"50.1\" height=\"20\" fill=\"#007ec6\"/><rect width=\"137.5\" height=\"20\" fill=\"url(#smooth)\"/></g><g fill=\"#fff\" text-anchor=\"middle\" font-family=\"DejaVu Sans,Verdana,Geneva,sans-serif\" font-size=\"110\"><text x=\"447.0\" y=\"150\" fill=\"#010101\" fill-opacity=\".3\" transform=\"scale(0.1)\" textLength=\"774.0\" lengthAdjust=\"spacing\">python library</text><text x=\"447.0\" y=\"140\" transform=\"scale(0.1)\" textLength=\"774.0\" lengthAdjust=\"spacing\">python library</text><text x=\"1114.5\" y=\"150\" fill=\"#010101\" fill-opacity=\".3\" transform=\"scale(0.1)\" textLength=\"401.0\" lengthAdjust=\"spacing\">pandas</text><text x=\"1114.5\" y=\"140\" transform=\"scale(0.1)\" textLength=\"401.0\" lengthAdjust=\"spacing\">pandas</text></g></svg>'"
      ]
     },
     "execution_count": 5,
     "metadata": {},
     "output_type": "execute_result"
    }
   ],
   "source": [
    "s"
   ]
  },
  {
   "cell_type": "code",
   "execution_count": null,
   "metadata": {},
   "outputs": [],
   "source": []
  }
 ],
 "metadata": {
  "kernelspec": {
   "display_name": "Python 3",
   "language": "python",
   "name": "python3"
  },
  "language_info": {
   "codemirror_mode": {
    "name": "ipython",
    "version": 3
   },
   "file_extension": ".py",
   "mimetype": "text/x-python",
   "name": "python",
   "nbconvert_exporter": "python",
   "pygments_lexer": "ipython3",
   "version": "3.8.3"
  }
 },
 "nbformat": 4,
 "nbformat_minor": 4
}
