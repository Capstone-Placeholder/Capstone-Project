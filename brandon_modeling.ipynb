{
 "cells": [
  {
   "cell_type": "code",
   "execution_count": 1,
   "metadata": {},
   "outputs": [],
   "source": [
    "import numpy as np\n",
    "import pandas as pd\n",
    "import matplotlib.pyplot as plt\n",
    "%matplotlib inline\n",
    "import seaborn as sns\n",
    "plt.rc('figure', figsize=(16,9))"
   ]
  },
  {
   "cell_type": "code",
   "execution_count": 2,
   "metadata": {},
   "outputs": [],
   "source": [
    "import pandas as pd\n",
    "import numpy as np\n",
    "from scipy import stats\n",
    "from math import sqrt\n",
    "\n",
    "from sklearn.metrics import mean_squared_error, explained_variance_score, mean_absolute_error\n",
    "from sklearn.linear_model import LinearRegression, LassoLars, TweedieRegressor\n",
    "from sklearn.ensemble import IsolationForest, RandomForestRegressor\n",
    "\n",
    "import warnings\n",
    "warnings.filterwarnings(\"ignore\")"
   ]
  },
  {
   "cell_type": "markdown",
   "metadata": {},
   "source": [
    "# Wrangling"
   ]
  },
  {
   "cell_type": "code",
   "execution_count": 3,
   "metadata": {},
   "outputs": [],
   "source": [
    "from preprocessing import spotify_split, scale_data #,modeling_prep \n",
    "from acquire import concat_csv_files\n",
    "from prepare import prepare_df, set_index"
   ]
  },
  {
   "cell_type": "code",
   "execution_count": 4,
   "metadata": {},
   "outputs": [],
   "source": [
    "def modeling_prep():\n",
    "    '''\n",
    "    This function prepares the data for modeling\n",
    "    '''\n",
    "    # all local csv data compiled into a dataframe\n",
    "    df = concat_csv_files()\n",
    "    # adds new features, handles nulls, fixes data types, \n",
    "    # set the index to track_id, and fixes the tempo feature\n",
    "    df = prepare_df(df)\n",
    "\n",
    "    #encode album_type\n",
    "    album_dummies = pd.get_dummies(df.album_type, drop_first=True).astype('int')\n",
    "    df = pd.concat([df, album_dummies], axis=1)\n",
    "\n",
    "    # drop any columns that won't contribute to modeling\n",
    "    df = df.drop(columns=['album_popularity','label', 'artist', \n",
    "                        'album', 'release_date', 'track_name', 'album_id', 'album_type',\n",
    "                        'release_year', 'release_month', 'release_day', 'duration_minutes', \n",
    "                        'duration_seconds', 'decade'])\n",
    "    return df"
   ]
  },
  {
   "cell_type": "code",
   "execution_count": 5,
   "metadata": {},
   "outputs": [],
   "source": [
    "df = modeling_prep()"
   ]
  },
  {
   "cell_type": "code",
   "execution_count": 6,
   "metadata": {},
   "outputs": [],
   "source": [
    "#genre = pd.read_csv('genre_count_df.csv')\n",
    "#genre = set_index(genre)\n",
    "#genre = genre[genre.columns[32:]]"
   ]
  },
  {
   "cell_type": "code",
   "execution_count": 7,
   "metadata": {
    "scrolled": true
   },
   "outputs": [],
   "source": [
    "#df = df.merge(genre, on='track_id', suffixes=[None, '_'])\n",
    "#df = df.dropna()"
   ]
  },
  {
   "cell_type": "code",
   "execution_count": 8,
   "metadata": {},
   "outputs": [],
   "source": [
    "#df.info()"
   ]
  },
  {
   "cell_type": "code",
   "execution_count": 9,
   "metadata": {
    "scrolled": false
   },
   "outputs": [],
   "source": [
    "#df.head(2)"
   ]
  },
  {
   "cell_type": "code",
   "execution_count": 10,
   "metadata": {},
   "outputs": [],
   "source": [
    "#genre.head(2)"
   ]
  },
  {
   "cell_type": "code",
   "execution_count": 11,
   "metadata": {},
   "outputs": [
    {
     "data": {
      "text/html": [
       "<div>\n",
       "<style scoped>\n",
       "    .dataframe tbody tr th:only-of-type {\n",
       "        vertical-align: middle;\n",
       "    }\n",
       "\n",
       "    .dataframe tbody tr th {\n",
       "        vertical-align: top;\n",
       "    }\n",
       "\n",
       "    .dataframe thead th {\n",
       "        text-align: right;\n",
       "    }\n",
       "</style>\n",
       "<table border=\"1\" class=\"dataframe\">\n",
       "  <thead>\n",
       "    <tr style=\"text-align: right;\">\n",
       "      <th></th>\n",
       "      <th>danceability</th>\n",
       "      <th>energy</th>\n",
       "      <th>key</th>\n",
       "      <th>loudness</th>\n",
       "      <th>mode</th>\n",
       "      <th>speechiness</th>\n",
       "      <th>instrumentalness</th>\n",
       "      <th>liveness</th>\n",
       "      <th>valence</th>\n",
       "      <th>tempo</th>\n",
       "      <th>duration_ms</th>\n",
       "      <th>time_signature</th>\n",
       "      <th>explicit</th>\n",
       "      <th>popularity</th>\n",
       "      <th>disc_number</th>\n",
       "      <th>track_number</th>\n",
       "      <th>is_featured_artist</th>\n",
       "      <th>is_top_billboard_label</th>\n",
       "      <th>compilation</th>\n",
       "      <th>single</th>\n",
       "    </tr>\n",
       "    <tr>\n",
       "      <th>track_id</th>\n",
       "      <th></th>\n",
       "      <th></th>\n",
       "      <th></th>\n",
       "      <th></th>\n",
       "      <th></th>\n",
       "      <th></th>\n",
       "      <th></th>\n",
       "      <th></th>\n",
       "      <th></th>\n",
       "      <th></th>\n",
       "      <th></th>\n",
       "      <th></th>\n",
       "      <th></th>\n",
       "      <th></th>\n",
       "      <th></th>\n",
       "      <th></th>\n",
       "      <th></th>\n",
       "      <th></th>\n",
       "      <th></th>\n",
       "      <th></th>\n",
       "    </tr>\n",
       "  </thead>\n",
       "  <tbody>\n",
       "    <tr>\n",
       "      <th>6mecZbKK3JDeMdFRNxsCV5</th>\n",
       "      <td>0.792</td>\n",
       "      <td>0.594</td>\n",
       "      <td>2</td>\n",
       "      <td>-8.544</td>\n",
       "      <td>1</td>\n",
       "      <td>0.300</td>\n",
       "      <td>0.0</td>\n",
       "      <td>0.244</td>\n",
       "      <td>0.351</td>\n",
       "      <td>82.512</td>\n",
       "      <td>232803</td>\n",
       "      <td>4</td>\n",
       "      <td>1</td>\n",
       "      <td>43</td>\n",
       "      <td>1</td>\n",
       "      <td>1</td>\n",
       "      <td>0</td>\n",
       "      <td>0</td>\n",
       "      <td>0</td>\n",
       "      <td>1</td>\n",
       "    </tr>\n",
       "    <tr>\n",
       "      <th>5PtMwNq8Dp31uYdGGacVJE</th>\n",
       "      <td>0.816</td>\n",
       "      <td>0.578</td>\n",
       "      <td>9</td>\n",
       "      <td>-6.912</td>\n",
       "      <td>1</td>\n",
       "      <td>0.233</td>\n",
       "      <td>0.0</td>\n",
       "      <td>0.114</td>\n",
       "      <td>0.265</td>\n",
       "      <td>148.077</td>\n",
       "      <td>193920</td>\n",
       "      <td>4</td>\n",
       "      <td>1</td>\n",
       "      <td>61</td>\n",
       "      <td>1</td>\n",
       "      <td>11</td>\n",
       "      <td>0</td>\n",
       "      <td>0</td>\n",
       "      <td>0</td>\n",
       "      <td>0</td>\n",
       "    </tr>\n",
       "  </tbody>\n",
       "</table>\n",
       "</div>"
      ],
      "text/plain": [
       "                        danceability  energy  key  loudness  mode  \\\n",
       "track_id                                                            \n",
       "6mecZbKK3JDeMdFRNxsCV5         0.792   0.594    2    -8.544     1   \n",
       "5PtMwNq8Dp31uYdGGacVJE         0.816   0.578    9    -6.912     1   \n",
       "\n",
       "                        speechiness  instrumentalness  liveness  valence  \\\n",
       "track_id                                                                   \n",
       "6mecZbKK3JDeMdFRNxsCV5        0.300               0.0     0.244    0.351   \n",
       "5PtMwNq8Dp31uYdGGacVJE        0.233               0.0     0.114    0.265   \n",
       "\n",
       "                          tempo  duration_ms  time_signature  explicit  \\\n",
       "track_id                                                                 \n",
       "6mecZbKK3JDeMdFRNxsCV5   82.512       232803               4         1   \n",
       "5PtMwNq8Dp31uYdGGacVJE  148.077       193920               4         1   \n",
       "\n",
       "                        popularity  disc_number  track_number  \\\n",
       "track_id                                                        \n",
       "6mecZbKK3JDeMdFRNxsCV5          43            1             1   \n",
       "5PtMwNq8Dp31uYdGGacVJE          61            1            11   \n",
       "\n",
       "                        is_featured_artist  is_top_billboard_label  \\\n",
       "track_id                                                             \n",
       "6mecZbKK3JDeMdFRNxsCV5                   0                       0   \n",
       "5PtMwNq8Dp31uYdGGacVJE                   0                       0   \n",
       "\n",
       "                        compilation  single  \n",
       "track_id                                     \n",
       "6mecZbKK3JDeMdFRNxsCV5            0       1  \n",
       "5PtMwNq8Dp31uYdGGacVJE            0       0  "
      ]
     },
     "execution_count": 11,
     "metadata": {},
     "output_type": "execute_result"
    }
   ],
   "source": [
    "df.head(2)"
   ]
  },
  {
   "cell_type": "code",
   "execution_count": 12,
   "metadata": {},
   "outputs": [
    {
     "data": {
      "text/plain": [
       "(5733, 20)"
      ]
     },
     "execution_count": 12,
     "metadata": {},
     "output_type": "execute_result"
    }
   ],
   "source": [
    "df.shape"
   ]
  },
  {
   "cell_type": "markdown",
   "metadata": {},
   "source": [
    "---\n",
    "### Split the Data"
   ]
  },
  {
   "cell_type": "code",
   "execution_count": 13,
   "metadata": {},
   "outputs": [
    {
     "name": "stdout",
     "output_type": "stream",
     "text": [
      "Shape of train: (4012, 19) | Shape of validate: (861, 19) | Shape of test: (860, 19)\n",
      "Percent train: 70.0        | Percent validate: 15.0       | Percent test: 15.0\n"
     ]
    },
    {
     "data": {
      "text/html": [
       "<div>\n",
       "<style scoped>\n",
       "    .dataframe tbody tr th:only-of-type {\n",
       "        vertical-align: middle;\n",
       "    }\n",
       "\n",
       "    .dataframe tbody tr th {\n",
       "        vertical-align: top;\n",
       "    }\n",
       "\n",
       "    .dataframe thead th {\n",
       "        text-align: right;\n",
       "    }\n",
       "</style>\n",
       "<table border=\"1\" class=\"dataframe\">\n",
       "  <thead>\n",
       "    <tr style=\"text-align: right;\">\n",
       "      <th></th>\n",
       "      <th>danceability</th>\n",
       "      <th>energy</th>\n",
       "      <th>key</th>\n",
       "      <th>loudness</th>\n",
       "      <th>mode</th>\n",
       "      <th>speechiness</th>\n",
       "      <th>instrumentalness</th>\n",
       "      <th>liveness</th>\n",
       "      <th>valence</th>\n",
       "      <th>tempo</th>\n",
       "      <th>duration_ms</th>\n",
       "      <th>time_signature</th>\n",
       "      <th>explicit</th>\n",
       "      <th>disc_number</th>\n",
       "      <th>track_number</th>\n",
       "      <th>is_featured_artist</th>\n",
       "      <th>is_top_billboard_label</th>\n",
       "      <th>compilation</th>\n",
       "      <th>single</th>\n",
       "    </tr>\n",
       "    <tr>\n",
       "      <th>track_id</th>\n",
       "      <th></th>\n",
       "      <th></th>\n",
       "      <th></th>\n",
       "      <th></th>\n",
       "      <th></th>\n",
       "      <th></th>\n",
       "      <th></th>\n",
       "      <th></th>\n",
       "      <th></th>\n",
       "      <th></th>\n",
       "      <th></th>\n",
       "      <th></th>\n",
       "      <th></th>\n",
       "      <th></th>\n",
       "      <th></th>\n",
       "      <th></th>\n",
       "      <th></th>\n",
       "      <th></th>\n",
       "      <th></th>\n",
       "    </tr>\n",
       "  </thead>\n",
       "  <tbody>\n",
       "    <tr>\n",
       "      <th>30bqVoKjX479ab90a8Pafp</th>\n",
       "      <td>0.585</td>\n",
       "      <td>0.471</td>\n",
       "      <td>4</td>\n",
       "      <td>-9.934</td>\n",
       "      <td>0</td>\n",
       "      <td>0.0616</td>\n",
       "      <td>0.0184</td>\n",
       "      <td>0.115</td>\n",
       "      <td>0.323</td>\n",
       "      <td>93.099</td>\n",
       "      <td>142000</td>\n",
       "      <td>4</td>\n",
       "      <td>1</td>\n",
       "      <td>1</td>\n",
       "      <td>1</td>\n",
       "      <td>0</td>\n",
       "      <td>0</td>\n",
       "      <td>0</td>\n",
       "      <td>1</td>\n",
       "    </tr>\n",
       "    <tr>\n",
       "      <th>0HO8pCseEpgozNi3z0R4bc</th>\n",
       "      <td>0.833</td>\n",
       "      <td>0.518</td>\n",
       "      <td>10</td>\n",
       "      <td>-10.126</td>\n",
       "      <td>0</td>\n",
       "      <td>0.3490</td>\n",
       "      <td>0.0000</td>\n",
       "      <td>0.635</td>\n",
       "      <td>0.773</td>\n",
       "      <td>90.004</td>\n",
       "      <td>120000</td>\n",
       "      <td>4</td>\n",
       "      <td>1</td>\n",
       "      <td>1</td>\n",
       "      <td>11</td>\n",
       "      <td>0</td>\n",
       "      <td>0</td>\n",
       "      <td>0</td>\n",
       "      <td>0</td>\n",
       "    </tr>\n",
       "  </tbody>\n",
       "</table>\n",
       "</div>"
      ],
      "text/plain": [
       "                        danceability  energy  key  loudness  mode  \\\n",
       "track_id                                                            \n",
       "30bqVoKjX479ab90a8Pafp         0.585   0.471    4    -9.934     0   \n",
       "0HO8pCseEpgozNi3z0R4bc         0.833   0.518   10   -10.126     0   \n",
       "\n",
       "                        speechiness  instrumentalness  liveness  valence  \\\n",
       "track_id                                                                   \n",
       "30bqVoKjX479ab90a8Pafp       0.0616            0.0184     0.115    0.323   \n",
       "0HO8pCseEpgozNi3z0R4bc       0.3490            0.0000     0.635    0.773   \n",
       "\n",
       "                         tempo  duration_ms  time_signature  explicit  \\\n",
       "track_id                                                                \n",
       "30bqVoKjX479ab90a8Pafp  93.099       142000               4         1   \n",
       "0HO8pCseEpgozNi3z0R4bc  90.004       120000               4         1   \n",
       "\n",
       "                        disc_number  track_number  is_featured_artist  \\\n",
       "track_id                                                                \n",
       "30bqVoKjX479ab90a8Pafp            1             1                   0   \n",
       "0HO8pCseEpgozNi3z0R4bc            1            11                   0   \n",
       "\n",
       "                        is_top_billboard_label  compilation  single  \n",
       "track_id                                                             \n",
       "30bqVoKjX479ab90a8Pafp                       0            0       1  \n",
       "0HO8pCseEpgozNi3z0R4bc                       0            0       0  "
      ]
     },
     "execution_count": 13,
     "metadata": {},
     "output_type": "execute_result"
    }
   ],
   "source": [
    "X_train, y_train, X_validate, y_validate, X_test, y_test, train, validate, test = spotify_split(df, 'popularity')\n",
    "X_train.head(2)"
   ]
  },
  {
   "cell_type": "markdown",
   "metadata": {},
   "source": [
    "---\n",
    "### Scale the Data"
   ]
  },
  {
   "cell_type": "code",
   "execution_count": 14,
   "metadata": {
    "scrolled": true
   },
   "outputs": [
    {
     "data": {
      "text/html": [
       "<div>\n",
       "<style scoped>\n",
       "    .dataframe tbody tr th:only-of-type {\n",
       "        vertical-align: middle;\n",
       "    }\n",
       "\n",
       "    .dataframe tbody tr th {\n",
       "        vertical-align: top;\n",
       "    }\n",
       "\n",
       "    .dataframe thead th {\n",
       "        text-align: right;\n",
       "    }\n",
       "</style>\n",
       "<table border=\"1\" class=\"dataframe\">\n",
       "  <thead>\n",
       "    <tr style=\"text-align: right;\">\n",
       "      <th></th>\n",
       "      <th>danceability</th>\n",
       "      <th>energy</th>\n",
       "      <th>key</th>\n",
       "      <th>loudness</th>\n",
       "      <th>mode</th>\n",
       "      <th>speechiness</th>\n",
       "      <th>instrumentalness</th>\n",
       "      <th>liveness</th>\n",
       "      <th>valence</th>\n",
       "      <th>tempo</th>\n",
       "      <th>duration_ms</th>\n",
       "      <th>time_signature</th>\n",
       "      <th>explicit</th>\n",
       "      <th>disc_number</th>\n",
       "      <th>track_number</th>\n",
       "      <th>is_featured_artist</th>\n",
       "      <th>is_top_billboard_label</th>\n",
       "      <th>compilation</th>\n",
       "      <th>single</th>\n",
       "    </tr>\n",
       "    <tr>\n",
       "      <th>track_id</th>\n",
       "      <th></th>\n",
       "      <th></th>\n",
       "      <th></th>\n",
       "      <th></th>\n",
       "      <th></th>\n",
       "      <th></th>\n",
       "      <th></th>\n",
       "      <th></th>\n",
       "      <th></th>\n",
       "      <th></th>\n",
       "      <th></th>\n",
       "      <th></th>\n",
       "      <th></th>\n",
       "      <th></th>\n",
       "      <th></th>\n",
       "      <th></th>\n",
       "      <th></th>\n",
       "      <th></th>\n",
       "      <th></th>\n",
       "    </tr>\n",
       "  </thead>\n",
       "  <tbody>\n",
       "    <tr>\n",
       "      <th>30bqVoKjX479ab90a8Pafp</th>\n",
       "      <td>0.593306</td>\n",
       "      <td>0.439493</td>\n",
       "      <td>0.363636</td>\n",
       "      <td>0.580823</td>\n",
       "      <td>0.0</td>\n",
       "      <td>0.064033</td>\n",
       "      <td>0.019127</td>\n",
       "      <td>0.101302</td>\n",
       "      <td>0.328921</td>\n",
       "      <td>0.547673</td>\n",
       "      <td>0.234238</td>\n",
       "      <td>0.8</td>\n",
       "      <td>1.0</td>\n",
       "      <td>0.0</td>\n",
       "      <td>0.000000</td>\n",
       "      <td>0.0</td>\n",
       "      <td>0.0</td>\n",
       "      <td>0.0</td>\n",
       "      <td>1.0</td>\n",
       "    </tr>\n",
       "    <tr>\n",
       "      <th>0HO8pCseEpgozNi3z0R4bc</th>\n",
       "      <td>0.844828</td>\n",
       "      <td>0.489960</td>\n",
       "      <td>0.909091</td>\n",
       "      <td>0.572667</td>\n",
       "      <td>0.0</td>\n",
       "      <td>0.362786</td>\n",
       "      <td>0.000000</td>\n",
       "      <td>0.651741</td>\n",
       "      <td>0.787169</td>\n",
       "      <td>0.529466</td>\n",
       "      <td>0.194025</td>\n",
       "      <td>0.8</td>\n",
       "      <td>1.0</td>\n",
       "      <td>0.0</td>\n",
       "      <td>0.163934</td>\n",
       "      <td>0.0</td>\n",
       "      <td>0.0</td>\n",
       "      <td>0.0</td>\n",
       "      <td>0.0</td>\n",
       "    </tr>\n",
       "    <tr>\n",
       "      <th>643K3eEgRvdJiXjSzlz7dg</th>\n",
       "      <td>0.477688</td>\n",
       "      <td>0.654247</td>\n",
       "      <td>0.090909</td>\n",
       "      <td>0.745826</td>\n",
       "      <td>1.0</td>\n",
       "      <td>0.354470</td>\n",
       "      <td>0.000000</td>\n",
       "      <td>0.305600</td>\n",
       "      <td>0.865580</td>\n",
       "      <td>0.520216</td>\n",
       "      <td>0.435841</td>\n",
       "      <td>0.8</td>\n",
       "      <td>1.0</td>\n",
       "      <td>0.0</td>\n",
       "      <td>0.016393</td>\n",
       "      <td>0.0</td>\n",
       "      <td>0.0</td>\n",
       "      <td>0.0</td>\n",
       "      <td>0.0</td>\n",
       "    </tr>\n",
       "  </tbody>\n",
       "</table>\n",
       "</div>"
      ],
      "text/plain": [
       "                        danceability    energy       key  loudness  mode  \\\n",
       "track_id                                                                   \n",
       "30bqVoKjX479ab90a8Pafp      0.593306  0.439493  0.363636  0.580823   0.0   \n",
       "0HO8pCseEpgozNi3z0R4bc      0.844828  0.489960  0.909091  0.572667   0.0   \n",
       "643K3eEgRvdJiXjSzlz7dg      0.477688  0.654247  0.090909  0.745826   1.0   \n",
       "\n",
       "                        speechiness  instrumentalness  liveness   valence  \\\n",
       "track_id                                                                    \n",
       "30bqVoKjX479ab90a8Pafp     0.064033          0.019127  0.101302  0.328921   \n",
       "0HO8pCseEpgozNi3z0R4bc     0.362786          0.000000  0.651741  0.787169   \n",
       "643K3eEgRvdJiXjSzlz7dg     0.354470          0.000000  0.305600  0.865580   \n",
       "\n",
       "                           tempo  duration_ms  time_signature  explicit  \\\n",
       "track_id                                                                  \n",
       "30bqVoKjX479ab90a8Pafp  0.547673     0.234238             0.8       1.0   \n",
       "0HO8pCseEpgozNi3z0R4bc  0.529466     0.194025             0.8       1.0   \n",
       "643K3eEgRvdJiXjSzlz7dg  0.520216     0.435841             0.8       1.0   \n",
       "\n",
       "                        disc_number  track_number  is_featured_artist  \\\n",
       "track_id                                                                \n",
       "30bqVoKjX479ab90a8Pafp          0.0      0.000000                 0.0   \n",
       "0HO8pCseEpgozNi3z0R4bc          0.0      0.163934                 0.0   \n",
       "643K3eEgRvdJiXjSzlz7dg          0.0      0.016393                 0.0   \n",
       "\n",
       "                        is_top_billboard_label  compilation  single  \n",
       "track_id                                                             \n",
       "30bqVoKjX479ab90a8Pafp                     0.0          0.0     1.0  \n",
       "0HO8pCseEpgozNi3z0R4bc                     0.0          0.0     0.0  \n",
       "643K3eEgRvdJiXjSzlz7dg                     0.0          0.0     0.0  "
      ]
     },
     "execution_count": 14,
     "metadata": {},
     "output_type": "execute_result"
    }
   ],
   "source": [
    "#  Using MIN-MAX scaler\n",
    "X_train_mm, X_validate_mm, X_test_mm = scale_data(train, validate, test, 'popularity', 'MinMax')\n",
    "X_train_mm.head(3)"
   ]
  },
  {
   "cell_type": "markdown",
   "metadata": {},
   "source": [
    "--- \n",
    "# Feature Selection"
   ]
  },
  {
   "cell_type": "code",
   "execution_count": 15,
   "metadata": {},
   "outputs": [],
   "source": [
    "from preprocessing import rfe, select_kbest"
   ]
  },
  {
   "cell_type": "code",
   "execution_count": 16,
   "metadata": {},
   "outputs": [
    {
     "data": {
      "text/plain": [
       "['speechiness', 'explicit', 'track_number', 'is_featured_artist', 'single']"
      ]
     },
     "execution_count": 16,
     "metadata": {},
     "output_type": "execute_result"
    }
   ],
   "source": [
    "skb_features = select_kbest(X_train_mm, y_train, 5)\n",
    "skb_features"
   ]
  },
  {
   "cell_type": "code",
   "execution_count": 17,
   "metadata": {},
   "outputs": [
    {
     "data": {
      "text/plain": [
       "['danceability', 'energy', 'speechiness', 'explicit', 'is_top_billboard_label']"
      ]
     },
     "execution_count": 17,
     "metadata": {},
     "output_type": "execute_result"
    }
   ],
   "source": [
    "rfe_features = rfe(X_train, y_train, 5)\n",
    "rfe_features"
   ]
  },
  {
   "cell_type": "code",
   "execution_count": 18,
   "metadata": {},
   "outputs": [],
   "source": [
    "# Select K Best Top 5 Features DF\n",
    "X_tr_skb = X_train_mm[skb_features]\n",
    "X_v_skb = X_validate_mm[skb_features]\n",
    "X_te_skb = X_test_mm[skb_features]"
   ]
  },
  {
   "cell_type": "code",
   "execution_count": 19,
   "metadata": {},
   "outputs": [],
   "source": [
    "# Recursive Feature Elimination Top 5 Features DF\n",
    "X_tr_rfe = X_train_mm[rfe_features]\n",
    "X_v_rfe = X_validate_mm[rfe_features]\n",
    "X_te_rfe = X_test_mm[rfe_features]"
   ]
  },
  {
   "cell_type": "markdown",
   "metadata": {},
   "source": [
    "---\n",
    "# Cross Validation\n",
    "- Optimize Hyperparameters\n",
    "\n",
    "### CV Using SKB Features"
   ]
  },
  {
   "cell_type": "code",
   "execution_count": 20,
   "metadata": {},
   "outputs": [],
   "source": [
    "from crossval import crossval_GSCV#, PolynomialRegression\n",
    "from sklearn.svm import SVR"
   ]
  },
  {
   "cell_type": "code",
   "execution_count": 21,
   "metadata": {},
   "outputs": [
    {
     "data": {
      "text/html": [
       "<div>\n",
       "<style scoped>\n",
       "    .dataframe tbody tr th:only-of-type {\n",
       "        vertical-align: middle;\n",
       "    }\n",
       "\n",
       "    .dataframe tbody tr th {\n",
       "        vertical-align: top;\n",
       "    }\n",
       "\n",
       "    .dataframe thead th {\n",
       "        text-align: right;\n",
       "    }\n",
       "</style>\n",
       "<table border=\"1\" class=\"dataframe\">\n",
       "  <thead>\n",
       "    <tr style=\"text-align: right;\">\n",
       "      <th></th>\n",
       "      <th>fit_intercept</th>\n",
       "      <th>normalize</th>\n",
       "      <th>RMSE</th>\n",
       "    </tr>\n",
       "  </thead>\n",
       "  <tbody>\n",
       "    <tr>\n",
       "      <th>0</th>\n",
       "      <td>True</td>\n",
       "      <td>True</td>\n",
       "      <td>-21.942778</td>\n",
       "    </tr>\n",
       "    <tr>\n",
       "      <th>1</th>\n",
       "      <td>True</td>\n",
       "      <td>False</td>\n",
       "      <td>-21.942778</td>\n",
       "    </tr>\n",
       "    <tr>\n",
       "      <th>2</th>\n",
       "      <td>False</td>\n",
       "      <td>True</td>\n",
       "      <td>-24.605475</td>\n",
       "    </tr>\n",
       "  </tbody>\n",
       "</table>\n",
       "</div>"
      ],
      "text/plain": [
       "   fit_intercept  normalize       RMSE\n",
       "0           True       True -21.942778\n",
       "1           True      False -21.942778\n",
       "2          False       True -24.605475"
      ]
     },
     "execution_count": 21,
     "metadata": {},
     "output_type": "execute_result"
    }
   ],
   "source": [
    "# OLS\n",
    "params = {'fit_intercept': [True, False],\n",
    "         'normalize': [True, False]}\n",
    "lm = LinearRegression()\n",
    "crossval_GSCV(params, lm, X_tr_skb, y_train).head(3)"
   ]
  },
  {
   "cell_type": "code",
   "execution_count": 22,
   "metadata": {},
   "outputs": [
    {
     "data": {
      "text/html": [
       "<div>\n",
       "<style scoped>\n",
       "    .dataframe tbody tr th:only-of-type {\n",
       "        vertical-align: middle;\n",
       "    }\n",
       "\n",
       "    .dataframe tbody tr th {\n",
       "        vertical-align: top;\n",
       "    }\n",
       "\n",
       "    .dataframe thead th {\n",
       "        text-align: right;\n",
       "    }\n",
       "</style>\n",
       "<table border=\"1\" class=\"dataframe\">\n",
       "  <thead>\n",
       "    <tr style=\"text-align: right;\">\n",
       "      <th></th>\n",
       "      <th>alpha</th>\n",
       "      <th>fit_intercept</th>\n",
       "      <th>RMSE</th>\n",
       "    </tr>\n",
       "  </thead>\n",
       "  <tbody>\n",
       "    <tr>\n",
       "      <th>0</th>\n",
       "      <td>0.0001</td>\n",
       "      <td>True</td>\n",
       "      <td>-21.942764</td>\n",
       "    </tr>\n",
       "    <tr>\n",
       "      <th>2</th>\n",
       "      <td>0.0010</td>\n",
       "      <td>True</td>\n",
       "      <td>-21.942866</td>\n",
       "    </tr>\n",
       "    <tr>\n",
       "      <th>4</th>\n",
       "      <td>0.0100</td>\n",
       "      <td>True</td>\n",
       "      <td>-21.966555</td>\n",
       "    </tr>\n",
       "  </tbody>\n",
       "</table>\n",
       "</div>"
      ],
      "text/plain": [
       "    alpha  fit_intercept       RMSE\n",
       "0  0.0001           True -21.942764\n",
       "2  0.0010           True -21.942866\n",
       "4  0.0100           True -21.966555"
      ]
     },
     "execution_count": 22,
     "metadata": {},
     "output_type": "execute_result"
    }
   ],
   "source": [
    "# LASSO + LARS\n",
    "params = {'fit_intercept': [True, False],\n",
    "          'alpha': [.0001, .001, .01]\n",
    "         }\n",
    "lars = LassoLars()\n",
    "crossval_GSCV(params, lars, X_tr_skb, y_train).head(3)"
   ]
  },
  {
   "cell_type": "code",
   "execution_count": 23,
   "metadata": {},
   "outputs": [
    {
     "data": {
      "text/html": [
       "<div>\n",
       "<style scoped>\n",
       "    .dataframe tbody tr th:only-of-type {\n",
       "        vertical-align: middle;\n",
       "    }\n",
       "\n",
       "    .dataframe tbody tr th {\n",
       "        vertical-align: top;\n",
       "    }\n",
       "\n",
       "    .dataframe thead th {\n",
       "        text-align: right;\n",
       "    }\n",
       "</style>\n",
       "<table border=\"1\" class=\"dataframe\">\n",
       "  <thead>\n",
       "    <tr style=\"text-align: right;\">\n",
       "      <th></th>\n",
       "      <th>gamma</th>\n",
       "      <th>kernel</th>\n",
       "      <th>RMSE</th>\n",
       "    </tr>\n",
       "  </thead>\n",
       "  <tbody>\n",
       "    <tr>\n",
       "      <th>0</th>\n",
       "      <td>scale</td>\n",
       "      <td>linear</td>\n",
       "      <td>-22.018246</td>\n",
       "    </tr>\n",
       "    <tr>\n",
       "      <th>4</th>\n",
       "      <td>auto</td>\n",
       "      <td>linear</td>\n",
       "      <td>-22.018246</td>\n",
       "    </tr>\n",
       "    <tr>\n",
       "      <th>2</th>\n",
       "      <td>scale</td>\n",
       "      <td>rbf</td>\n",
       "      <td>-22.049793</td>\n",
       "    </tr>\n",
       "  </tbody>\n",
       "</table>\n",
       "</div>"
      ],
      "text/plain": [
       "   gamma  kernel       RMSE\n",
       "0  scale  linear -22.018246\n",
       "4   auto  linear -22.018246\n",
       "2  scale     rbf -22.049793"
      ]
     },
     "execution_count": 23,
     "metadata": {},
     "output_type": "execute_result"
    }
   ],
   "source": [
    "# Support Vector Regressor\n",
    "params = {'kernel': ['linear', 'poly', 'rbf', 'sigmoid'], \n",
    "          'gamma': ['scale', 'auto']\n",
    "         }\n",
    "svr = SVR()\n",
    "crossval_GSCV(params, svr, X_tr_skb, y_train).head(3)"
   ]
  },
  {
   "cell_type": "code",
   "execution_count": 24,
   "metadata": {},
   "outputs": [
    {
     "data": {
      "text/html": [
       "<div>\n",
       "<style scoped>\n",
       "    .dataframe tbody tr th:only-of-type {\n",
       "        vertical-align: middle;\n",
       "    }\n",
       "\n",
       "    .dataframe tbody tr th {\n",
       "        vertical-align: top;\n",
       "    }\n",
       "\n",
       "    .dataframe thead th {\n",
       "        text-align: right;\n",
       "    }\n",
       "</style>\n",
       "<table border=\"1\" class=\"dataframe\">\n",
       "  <thead>\n",
       "    <tr style=\"text-align: right;\">\n",
       "      <th></th>\n",
       "      <th>alpha</th>\n",
       "      <th>link</th>\n",
       "      <th>power</th>\n",
       "      <th>RMSE</th>\n",
       "    </tr>\n",
       "  </thead>\n",
       "  <tbody>\n",
       "    <tr>\n",
       "      <th>0</th>\n",
       "      <td>0</td>\n",
       "      <td>auto</td>\n",
       "      <td>0</td>\n",
       "      <td>-21.942779</td>\n",
       "    </tr>\n",
       "    <tr>\n",
       "      <th>1</th>\n",
       "      <td>0</td>\n",
       "      <td>auto</td>\n",
       "      <td>1</td>\n",
       "      <td>-21.972706</td>\n",
       "    </tr>\n",
       "    <tr>\n",
       "      <th>3</th>\n",
       "      <td>0</td>\n",
       "      <td>log</td>\n",
       "      <td>1</td>\n",
       "      <td>-21.972706</td>\n",
       "    </tr>\n",
       "  </tbody>\n",
       "</table>\n",
       "</div>"
      ],
      "text/plain": [
       "   alpha  link  power       RMSE\n",
       "0      0  auto      0 -21.942779\n",
       "1      0  auto      1 -21.972706\n",
       "3      0   log      1 -21.972706"
      ]
     },
     "execution_count": 24,
     "metadata": {},
     "output_type": "execute_result"
    }
   ],
   "source": [
    "# Genralized Linear Model with Tweedie Regressor\n",
    "params = {'power': [0, 1], \n",
    "          'alpha': [0, 1],\n",
    "          'link': ['auto', 'log']\n",
    "         }\n",
    "glm = TweedieRegressor()\n",
    "crossval_GSCV(params, glm, X_tr_skb, y_train).head(3)"
   ]
  },
  {
   "cell_type": "markdown",
   "metadata": {},
   "source": [
    "### CV Using RFE Features"
   ]
  },
  {
   "cell_type": "code",
   "execution_count": 25,
   "metadata": {},
   "outputs": [
    {
     "data": {
      "text/html": [
       "<div>\n",
       "<style scoped>\n",
       "    .dataframe tbody tr th:only-of-type {\n",
       "        vertical-align: middle;\n",
       "    }\n",
       "\n",
       "    .dataframe tbody tr th {\n",
       "        vertical-align: top;\n",
       "    }\n",
       "\n",
       "    .dataframe thead th {\n",
       "        text-align: right;\n",
       "    }\n",
       "</style>\n",
       "<table border=\"1\" class=\"dataframe\">\n",
       "  <thead>\n",
       "    <tr style=\"text-align: right;\">\n",
       "      <th></th>\n",
       "      <th>fit_intercept</th>\n",
       "      <th>normalize</th>\n",
       "      <th>RMSE</th>\n",
       "    </tr>\n",
       "  </thead>\n",
       "  <tbody>\n",
       "    <tr>\n",
       "      <th>0</th>\n",
       "      <td>True</td>\n",
       "      <td>True</td>\n",
       "      <td>-22.070954</td>\n",
       "    </tr>\n",
       "    <tr>\n",
       "      <th>1</th>\n",
       "      <td>True</td>\n",
       "      <td>False</td>\n",
       "      <td>-22.070954</td>\n",
       "    </tr>\n",
       "    <tr>\n",
       "      <th>2</th>\n",
       "      <td>False</td>\n",
       "      <td>True</td>\n",
       "      <td>-22.391851</td>\n",
       "    </tr>\n",
       "  </tbody>\n",
       "</table>\n",
       "</div>"
      ],
      "text/plain": [
       "   fit_intercept  normalize       RMSE\n",
       "0           True       True -22.070954\n",
       "1           True      False -22.070954\n",
       "2          False       True -22.391851"
      ]
     },
     "execution_count": 25,
     "metadata": {},
     "output_type": "execute_result"
    }
   ],
   "source": [
    "# OLS\n",
    "params = {'fit_intercept': [True, False],\n",
    "         'normalize': [True, False]}\n",
    "lm = LinearRegression()\n",
    "crossval_GSCV(params, lm, X_tr_rfe, y_train).head(3)"
   ]
  },
  {
   "cell_type": "code",
   "execution_count": 26,
   "metadata": {},
   "outputs": [
    {
     "data": {
      "text/html": [
       "<div>\n",
       "<style scoped>\n",
       "    .dataframe tbody tr th:only-of-type {\n",
       "        vertical-align: middle;\n",
       "    }\n",
       "\n",
       "    .dataframe tbody tr th {\n",
       "        vertical-align: top;\n",
       "    }\n",
       "\n",
       "    .dataframe thead th {\n",
       "        text-align: right;\n",
       "    }\n",
       "</style>\n",
       "<table border=\"1\" class=\"dataframe\">\n",
       "  <thead>\n",
       "    <tr style=\"text-align: right;\">\n",
       "      <th></th>\n",
       "      <th>alpha</th>\n",
       "      <th>fit_intercept</th>\n",
       "      <th>RMSE</th>\n",
       "    </tr>\n",
       "  </thead>\n",
       "  <tbody>\n",
       "    <tr>\n",
       "      <th>0</th>\n",
       "      <td>0.0001</td>\n",
       "      <td>True</td>\n",
       "      <td>-22.070956</td>\n",
       "    </tr>\n",
       "    <tr>\n",
       "      <th>2</th>\n",
       "      <td>0.0010</td>\n",
       "      <td>True</td>\n",
       "      <td>-22.071243</td>\n",
       "    </tr>\n",
       "    <tr>\n",
       "      <th>4</th>\n",
       "      <td>0.0100</td>\n",
       "      <td>True</td>\n",
       "      <td>-22.101186</td>\n",
       "    </tr>\n",
       "  </tbody>\n",
       "</table>\n",
       "</div>"
      ],
      "text/plain": [
       "    alpha  fit_intercept       RMSE\n",
       "0  0.0001           True -22.070956\n",
       "2  0.0010           True -22.071243\n",
       "4  0.0100           True -22.101186"
      ]
     },
     "execution_count": 26,
     "metadata": {},
     "output_type": "execute_result"
    }
   ],
   "source": [
    "# LASSO + LARS\n",
    "params = {'fit_intercept': [True, False],\n",
    "          'alpha': [.0001, .001, .01]\n",
    "         }\n",
    "lars = LassoLars()\n",
    "crossval_GSCV(params, lars, X_tr_rfe, y_train).head(3)"
   ]
  },
  {
   "cell_type": "code",
   "execution_count": 27,
   "metadata": {},
   "outputs": [
    {
     "data": {
      "text/html": [
       "<div>\n",
       "<style scoped>\n",
       "    .dataframe tbody tr th:only-of-type {\n",
       "        vertical-align: middle;\n",
       "    }\n",
       "\n",
       "    .dataframe tbody tr th {\n",
       "        vertical-align: top;\n",
       "    }\n",
       "\n",
       "    .dataframe thead th {\n",
       "        text-align: right;\n",
       "    }\n",
       "</style>\n",
       "<table border=\"1\" class=\"dataframe\">\n",
       "  <thead>\n",
       "    <tr style=\"text-align: right;\">\n",
       "      <th></th>\n",
       "      <th>gamma</th>\n",
       "      <th>kernel</th>\n",
       "      <th>RMSE</th>\n",
       "    </tr>\n",
       "  </thead>\n",
       "  <tbody>\n",
       "    <tr>\n",
       "      <th>2</th>\n",
       "      <td>scale</td>\n",
       "      <td>rbf</td>\n",
       "      <td>-22.065233</td>\n",
       "    </tr>\n",
       "    <tr>\n",
       "      <th>0</th>\n",
       "      <td>scale</td>\n",
       "      <td>linear</td>\n",
       "      <td>-22.123579</td>\n",
       "    </tr>\n",
       "    <tr>\n",
       "      <th>4</th>\n",
       "      <td>auto</td>\n",
       "      <td>linear</td>\n",
       "      <td>-22.123579</td>\n",
       "    </tr>\n",
       "  </tbody>\n",
       "</table>\n",
       "</div>"
      ],
      "text/plain": [
       "   gamma  kernel       RMSE\n",
       "2  scale     rbf -22.065233\n",
       "0  scale  linear -22.123579\n",
       "4   auto  linear -22.123579"
      ]
     },
     "execution_count": 27,
     "metadata": {},
     "output_type": "execute_result"
    }
   ],
   "source": [
    "# Support Vector Regressor\n",
    "params = {'kernel': ['linear', 'poly', 'rbf', 'sigmoid'], \n",
    "          'gamma': ['scale', 'auto']\n",
    "         }\n",
    "svr = SVR()\n",
    "crossval_GSCV(params, svr, X_tr_rfe, y_train).head(3)"
   ]
  },
  {
   "cell_type": "code",
   "execution_count": 28,
   "metadata": {},
   "outputs": [
    {
     "data": {
      "text/html": [
       "<div>\n",
       "<style scoped>\n",
       "    .dataframe tbody tr th:only-of-type {\n",
       "        vertical-align: middle;\n",
       "    }\n",
       "\n",
       "    .dataframe tbody tr th {\n",
       "        vertical-align: top;\n",
       "    }\n",
       "\n",
       "    .dataframe thead th {\n",
       "        text-align: right;\n",
       "    }\n",
       "</style>\n",
       "<table border=\"1\" class=\"dataframe\">\n",
       "  <thead>\n",
       "    <tr style=\"text-align: right;\">\n",
       "      <th></th>\n",
       "      <th>alpha</th>\n",
       "      <th>link</th>\n",
       "      <th>power</th>\n",
       "      <th>RMSE</th>\n",
       "    </tr>\n",
       "  </thead>\n",
       "  <tbody>\n",
       "    <tr>\n",
       "      <th>0</th>\n",
       "      <td>0</td>\n",
       "      <td>auto</td>\n",
       "      <td>0</td>\n",
       "      <td>-22.070953</td>\n",
       "    </tr>\n",
       "    <tr>\n",
       "      <th>6</th>\n",
       "      <td>1</td>\n",
       "      <td>log</td>\n",
       "      <td>0</td>\n",
       "      <td>-22.099155</td>\n",
       "    </tr>\n",
       "    <tr>\n",
       "      <th>2</th>\n",
       "      <td>0</td>\n",
       "      <td>log</td>\n",
       "      <td>0</td>\n",
       "      <td>-22.100629</td>\n",
       "    </tr>\n",
       "  </tbody>\n",
       "</table>\n",
       "</div>"
      ],
      "text/plain": [
       "   alpha  link  power       RMSE\n",
       "0      0  auto      0 -22.070953\n",
       "6      1   log      0 -22.099155\n",
       "2      0   log      0 -22.100629"
      ]
     },
     "execution_count": 28,
     "metadata": {},
     "output_type": "execute_result"
    }
   ],
   "source": [
    "# Genralized Linear Model with Tweedie Regressor\n",
    "params = {'power': [0, 1], \n",
    "          'alpha': [0, 1],\n",
    "          'link': ['auto', 'log']\n",
    "         }\n",
    "glm = TweedieRegressor()\n",
    "crossval_GSCV(params, glm, X_tr_rfe, y_train).head(3)"
   ]
  },
  {
   "cell_type": "code",
   "execution_count": null,
   "metadata": {},
   "outputs": [],
   "source": []
  },
  {
   "cell_type": "markdown",
   "metadata": {},
   "source": [
    "---\n",
    "# Modeling\n",
    "### Set the baseline"
   ]
  },
  {
   "cell_type": "code",
   "execution_count": 29,
   "metadata": {},
   "outputs": [],
   "source": [
    "from model import get_baseline_metrics, linear_regression_model, lasso_lars\n",
    "from model import polynomial_regression, svr_model, glm_model, evaluate_df\n",
    "from model import visualize_model, visualize_error"
   ]
  },
  {
   "cell_type": "code",
   "execution_count": 30,
   "metadata": {},
   "outputs": [
    {
     "name": "stdout",
     "output_type": "stream",
     "text": [
      "RMSE (Root Mean Square Error) of Baseline on train data:\n",
      " 22.897138\n"
     ]
    }
   ],
   "source": [
    "bl, bl_train_rmse = get_baseline_metrics(y_train)"
   ]
  },
  {
   "cell_type": "markdown",
   "metadata": {},
   "source": [
    "---\n",
    "### Models using ALL Features"
   ]
  },
  {
   "cell_type": "code",
   "execution_count": 31,
   "metadata": {
    "scrolled": false
   },
   "outputs": [
    {
     "name": "stdout",
     "output_type": "stream",
     "text": [
      "RMSE for OLS using Linear Regression \n",
      "\n",
      "On train data:\n",
      " 21.24588 \n",
      "\n",
      "RMSE for LASSO + LARS \n",
      "\n",
      "On train data:\n",
      " 21.24588 \n",
      "\n",
      "RMSE for Polynomial Squared + Linear Regression \n",
      "\n",
      "On train data:\n",
      " 20.39603 \n",
      "\n",
      "RMSE for SVR using RBF Kernel \n",
      "\n",
      "On train data:\n",
      " 21.388908 \n",
      "\n",
      "RMSE for GLM using Normal Distribution \n",
      "\n",
      "On train data:\n",
      " 21.24588 \n",
      "\n"
     ]
    }
   ],
   "source": [
    "# OLS Model(defaults)\n",
    "lm_rmse, lm_rmse_v, lm_rmse_t = linear_regression_model(\n",
    "    X_train_mm, y_train, X_validate_mm, y_validate, X_test_mm, y_test)\n",
    "# LASSO + LARS Model(alpha=.00001)\n",
    "lars_rmse, lars_rmse_v, lars_rmse_t = lasso_lars(\n",
    "    X_train_mm, y_train, X_validate_mm, y_validate, X_test_mm, y_test, \n",
    "    alpha=.00001, fit_intercept=True)\n",
    "# Polynomial Features (squared, deg=2) with Linear Regression\n",
    "lm_sq_rmse, lm_sq_rmse_v, lm_sq_rmse_t = polynomial_regression(\n",
    "    X_train_mm, y_train, X_validate_mm, y_validate, X_test_mm, y_test, \n",
    "    'Squared', degree=2) \n",
    "# Support Vector Regression with RBF Kernel Scaled\n",
    "svr_rmse, svr_rmse_v, svr_rmse_t = svr_model(\n",
    "    X_train_mm, y_train, X_validate_mm, y_validate, X_test_mm, y_test, \n",
    "    'RBF', kernel='rbf', gamma='scale')\n",
    "# General Linearized Model with Normal Distribution\n",
    "glm_rmse, glm_rmse_v, glm_rmse_t, glm_pred_t = glm_model(\n",
    "    X_train_mm, y_train, X_validate_mm, y_validate, X_test_mm, y_test, \n",
    "    'Normal', alpha=0, link='auto', power=0)"
   ]
  },
  {
   "cell_type": "code",
   "execution_count": 32,
   "metadata": {},
   "outputs": [
    {
     "name": "stdout",
     "output_type": "stream",
     "text": [
      "ALL FEATURES\n",
      "Model beat baseline by 7.33%\n"
     ]
    },
    {
     "data": {
      "text/html": [
       "<div>\n",
       "<style scoped>\n",
       "    .dataframe tbody tr th:only-of-type {\n",
       "        vertical-align: middle;\n",
       "    }\n",
       "\n",
       "    .dataframe tbody tr th {\n",
       "        vertical-align: top;\n",
       "    }\n",
       "\n",
       "    .dataframe thead th {\n",
       "        text-align: right;\n",
       "    }\n",
       "</style>\n",
       "<table border=\"1\" class=\"dataframe\">\n",
       "  <thead>\n",
       "    <tr style=\"text-align: right;\">\n",
       "      <th></th>\n",
       "      <th>train_rmse</th>\n",
       "      <th>validate_rmse</th>\n",
       "      <th>test_rmse</th>\n",
       "    </tr>\n",
       "  </thead>\n",
       "  <tbody>\n",
       "    <tr>\n",
       "      <th>pf2_lr</th>\n",
       "      <td>20.396030</td>\n",
       "      <td>21.4233</td>\n",
       "      <td></td>\n",
       "    </tr>\n",
       "    <tr>\n",
       "      <th>ols</th>\n",
       "      <td>21.245880</td>\n",
       "      <td>21.2105</td>\n",
       "      <td></td>\n",
       "    </tr>\n",
       "    <tr>\n",
       "      <th>GLM</th>\n",
       "      <td>21.245880</td>\n",
       "      <td>21.2105</td>\n",
       "      <td></td>\n",
       "    </tr>\n",
       "    <tr>\n",
       "      <th>lassolars</th>\n",
       "      <td>21.245880</td>\n",
       "      <td>21.2103</td>\n",
       "      <td></td>\n",
       "    </tr>\n",
       "    <tr>\n",
       "      <th>SVM</th>\n",
       "      <td>21.388908</td>\n",
       "      <td>21.4733</td>\n",
       "      <td></td>\n",
       "    </tr>\n",
       "    <tr>\n",
       "      <th>baseline</th>\n",
       "      <td>22.897138</td>\n",
       "      <td></td>\n",
       "      <td></td>\n",
       "    </tr>\n",
       "  </tbody>\n",
       "</table>\n",
       "</div>"
      ],
      "text/plain": [
       "           train_rmse validate_rmse test_rmse\n",
       "pf2_lr      20.396030       21.4233          \n",
       "ols         21.245880       21.2105          \n",
       "GLM         21.245880       21.2105          \n",
       "lassolars   21.245880       21.2103          \n",
       "SVM         21.388908       21.4733          \n",
       "baseline    22.897138                        "
      ]
     },
     "execution_count": 32,
     "metadata": {},
     "output_type": "execute_result"
    }
   ],
   "source": [
    "columns = ['train_rmse', 'validate_rmse', 'test_rmse']\n",
    "index = ['baseline', 'ols', 'lassolars', 'pf2_lr', 'SVM', 'GLM']\n",
    "data = [[bl_train_rmse, '', ''],\n",
    "        [lm_rmse, lm_rmse_v, ''],\n",
    "        [lars_rmse, lars_rmse_v, ''],\n",
    "        [lm_sq_rmse, lm_sq_rmse_v, ''], \n",
    "        [svr_rmse, svr_rmse_v, ''],\n",
    "        [glm_rmse, glm_rmse_v, '']]\n",
    "print('ALL FEATURES')\n",
    "print(f'Model beat baseline by {abs((glm_rmse_t - bl_train_rmse)/bl_train_rmse)*100:.2f}%')\n",
    "pd.DataFrame(columns=columns, data=data, index=index).sort_values(by='train_rmse')"
   ]
  },
  {
   "cell_type": "code",
   "execution_count": 33,
   "metadata": {},
   "outputs": [
    {
     "data": {
      "text/plain": [
       "(                        importance\n",
       " loudness                  1.061048\n",
       " is_top_billboard_label    0.224020\n",
       " danceability              0.210244\n",
       " explicit                  0.192505\n",
       " is_featured_artist        0.174633,\n",
       "                 importance\n",
       " time_signature   -0.112405\n",
       " duration_ms      -0.303110\n",
       " speechiness      -0.360544\n",
       " track_number     -0.632601\n",
       " energy           -0.737007)"
      ]
     },
     "execution_count": 33,
     "metadata": {},
     "output_type": "execute_result"
    }
   ],
   "source": [
    "# create the model object\n",
    "glm = TweedieRegressor(alpha = 0, link= 'log', power= 0)\n",
    "\n",
    "# fit the model to our training data\n",
    "glm.fit(X_train_mm, y_train)\n",
    "feature_importances = pd.DataFrame(glm.coef_,\n",
    "                                       index = X_train_mm.columns,\n",
    "                                        columns=['importance']).sort_values('importance',ascending=False)\n",
    "feature_importances.head(5), feature_importances.tail(5)"
   ]
  },
  {
   "cell_type": "markdown",
   "metadata": {},
   "source": [
    "---\n",
    "### Models using SKB Features"
   ]
  },
  {
   "cell_type": "code",
   "execution_count": 35,
   "metadata": {
    "scrolled": false
   },
   "outputs": [
    {
     "name": "stdout",
     "output_type": "stream",
     "text": [
      "RMSE for OLS using Linear Regression \n",
      "\n",
      "On train data:\n",
      " 21.905982 \n",
      "\n",
      "RMSE for LASSO + LARS \n",
      "\n",
      "On train data:\n",
      " 21.905982 \n",
      "\n",
      "RMSE for Polynomial Squared + Linear Regression \n",
      "\n",
      "On train data:\n",
      " 21.82078 \n",
      "\n",
      "RMSE for SVR using RBF Kernel \n",
      "\n",
      "On train data:\n",
      " 21.960632 \n",
      "\n",
      "RMSE for GLM using Normal Distribution \n",
      "\n",
      "On train data:\n",
      " 21.905982 \n",
      "\n"
     ]
    }
   ],
   "source": [
    "# OLS Model(defaults)\n",
    "lm_rmse, lm_rmse_v, lm_rmse_t = linear_regression_model(\n",
    "    X_tr_skb, y_train, X_v_skb, y_validate, X_te_skb, y_test)\n",
    "# LASSO + LARS Model(alpha=.00001)\n",
    "lars_rmse, lars_rmse_v, lars_rmse_t = lasso_lars(\n",
    "    X_tr_skb, y_train, X_v_skb, y_validate, X_te_skb, y_test, \n",
    "    alpha=.00001, fit_intercept=True)\n",
    "# Polynomial Features (squared, deg=2) with Linear Regression\n",
    "lm_sq_rmse, lm_sq_rmse_v, lm_sq_rmse_t = polynomial_regression(\n",
    "    X_tr_skb, y_train, X_v_skb, y_validate, X_te_skb, y_test, \n",
    "    'Squared', degree=2) \n",
    "# Support Vector Regression with RBF Kernel Scaled\n",
    "svr_rmse, svr_rmse_v, svr_rmse_t = svr_model(\n",
    "    X_tr_skb, y_train, X_v_skb, y_validate, X_te_skb, y_test, \n",
    "    'RBF', kernel='rbf', gamma='scale')\n",
    "# General Linearized Model with Normal Distribution\n",
    "glm_rmse, glm_rmse_v, glm_rmse_t, glm_pred_t = glm_model(\n",
    "    X_tr_skb, y_train, X_v_skb, y_validate, X_te_skb, y_test, \n",
    "    'Normal', alpha=0, link='auto', power=0)"
   ]
  },
  {
   "cell_type": "code",
   "execution_count": 36,
   "metadata": {},
   "outputs": [
    {
     "name": "stdout",
     "output_type": "stream",
     "text": [
      "SKB FEATURES\n",
      "Model beat baseline by 5.16%\n",
      "['speechiness', 'explicit', 'track_number', 'is_featured_artist', 'single']\n"
     ]
    },
    {
     "data": {
      "text/html": [
       "<div>\n",
       "<style scoped>\n",
       "    .dataframe tbody tr th:only-of-type {\n",
       "        vertical-align: middle;\n",
       "    }\n",
       "\n",
       "    .dataframe tbody tr th {\n",
       "        vertical-align: top;\n",
       "    }\n",
       "\n",
       "    .dataframe thead th {\n",
       "        text-align: right;\n",
       "    }\n",
       "</style>\n",
       "<table border=\"1\" class=\"dataframe\">\n",
       "  <thead>\n",
       "    <tr style=\"text-align: right;\">\n",
       "      <th></th>\n",
       "      <th>train_rmse</th>\n",
       "      <th>validate_rmse</th>\n",
       "      <th>test_rmse</th>\n",
       "    </tr>\n",
       "  </thead>\n",
       "  <tbody>\n",
       "    <tr>\n",
       "      <th>pf2_lr</th>\n",
       "      <td>21.820780</td>\n",
       "      <td>21.8672</td>\n",
       "      <td></td>\n",
       "    </tr>\n",
       "    <tr>\n",
       "      <th>ols</th>\n",
       "      <td>21.905982</td>\n",
       "      <td>21.9519</td>\n",
       "      <td></td>\n",
       "    </tr>\n",
       "    <tr>\n",
       "      <th>GLM</th>\n",
       "      <td>21.905982</td>\n",
       "      <td>21.9519</td>\n",
       "      <td></td>\n",
       "    </tr>\n",
       "    <tr>\n",
       "      <th>lassolars</th>\n",
       "      <td>21.905982</td>\n",
       "      <td>21.9519</td>\n",
       "      <td></td>\n",
       "    </tr>\n",
       "    <tr>\n",
       "      <th>SVM</th>\n",
       "      <td>21.960632</td>\n",
       "      <td>21.9514</td>\n",
       "      <td></td>\n",
       "    </tr>\n",
       "    <tr>\n",
       "      <th>baseline</th>\n",
       "      <td>22.897138</td>\n",
       "      <td></td>\n",
       "      <td></td>\n",
       "    </tr>\n",
       "  </tbody>\n",
       "</table>\n",
       "</div>"
      ],
      "text/plain": [
       "           train_rmse validate_rmse test_rmse\n",
       "pf2_lr      21.820780       21.8672          \n",
       "ols         21.905982       21.9519          \n",
       "GLM         21.905982       21.9519          \n",
       "lassolars   21.905982       21.9519          \n",
       "SVM         21.960632       21.9514          \n",
       "baseline    22.897138                        "
      ]
     },
     "execution_count": 36,
     "metadata": {},
     "output_type": "execute_result"
    }
   ],
   "source": [
    "columns = ['train_rmse', 'validate_rmse', 'test_rmse']\n",
    "index = ['baseline', 'ols', 'lassolars', 'pf2_lr', 'SVM', 'GLM']\n",
    "data = [[bl_train_rmse, '', ''],\n",
    "        [lm_rmse, lm_rmse_v, ''],\n",
    "        [lars_rmse, lars_rmse_v, ''],\n",
    "        [lm_sq_rmse, lm_sq_rmse_v, ''], \n",
    "        [svr_rmse, svr_rmse_v, ''],\n",
    "        [glm_rmse, glm_rmse_v, '']]\n",
    "print('SKB FEATURES')\n",
    "print(f'Model beat baseline by {abs((lm_sq_rmse_t - bl_train_rmse)/bl_train_rmse)*100:.2f}%')\n",
    "print(skb_features)\n",
    "pd.DataFrame(columns=columns, data=data, index=index).sort_values(by='train_rmse')"
   ]
  },
  {
   "cell_type": "markdown",
   "metadata": {},
   "source": [
    "---\n",
    "### Models using RFE Features"
   ]
  },
  {
   "cell_type": "code",
   "execution_count": 37,
   "metadata": {
    "scrolled": false
   },
   "outputs": [
    {
     "name": "stdout",
     "output_type": "stream",
     "text": [
      "RMSE for OLS using Linear Regression \n",
      "\n",
      "On train data:\n",
      " 22.02482 \n",
      "\n",
      "RMSE for LASSO + LARS \n",
      "\n",
      "On train data:\n",
      " 22.02482 \n",
      "\n",
      "RMSE for Polynomial Squared + Linear Regression \n",
      "\n",
      "On train data:\n",
      " 21.843232 \n",
      "\n",
      "RMSE for SVR using RBF Kernel \n",
      "\n",
      "On train data:\n",
      " 21.979183 \n",
      "\n",
      "RMSE for GLM using Normal Distribution \n",
      "\n",
      "On train data:\n",
      " 22.02482 \n",
      "\n"
     ]
    }
   ],
   "source": [
    "# OLS Model(defaults)\n",
    "lm_rmse, lm_rmse_v, lm_rmse_t = linear_regression_model(\n",
    "    X_tr_rfe, y_train, X_v_rfe, y_validate, X_te_rfe, y_test)\n",
    "# LASSO + LARS Model(alpha=.00001)\n",
    "lars_rmse, lars_rmse_v, lars_rmse_t = lasso_lars(\n",
    "    X_tr_rfe, y_train, X_v_rfe, y_validate, X_te_rfe, y_test, \n",
    "    alpha=.00001, fit_intercept=True)\n",
    "# Polynomial Features (squared, deg=2) with Linear Regression\n",
    "lm_sq_rmse, lm_sq_rmse_v, lm_sq_rmse_t = polynomial_regression(\n",
    "    X_tr_rfe, y_train, X_v_rfe, y_validate, X_te_rfe, y_test, \n",
    "    'Squared', degree=2) \n",
    "# Support Vector Regression with RBF Kernel Scaled\n",
    "svr_rmse, svr_rmse_v, svr_rmse_t = svr_model(\n",
    "    X_tr_rfe, y_train, X_v_rfe, y_validate, X_te_rfe, y_test, \n",
    "    'RBF', kernel='rbf', gamma='scale')\n",
    "# General Linearized Model with Normal Distribution\n",
    "glm_rmse, glm_rmse_v, glm_rmse_t, glm_pred_t = glm_model(\n",
    "    X_tr_rfe, y_train, X_v_rfe, y_validate, X_te_rfe, y_test, \n",
    "    'Normal', alpha=0, link='auto', power=0)"
   ]
  },
  {
   "cell_type": "code",
   "execution_count": 38,
   "metadata": {},
   "outputs": [
    {
     "name": "stdout",
     "output_type": "stream",
     "text": [
      "RFE FEATURES\n",
      "Model beat baseline by 3.22%\n",
      "['danceability', 'energy', 'speechiness', 'explicit', 'is_top_billboard_label']\n"
     ]
    },
    {
     "data": {
      "text/html": [
       "<div>\n",
       "<style scoped>\n",
       "    .dataframe tbody tr th:only-of-type {\n",
       "        vertical-align: middle;\n",
       "    }\n",
       "\n",
       "    .dataframe tbody tr th {\n",
       "        vertical-align: top;\n",
       "    }\n",
       "\n",
       "    .dataframe thead th {\n",
       "        text-align: right;\n",
       "    }\n",
       "</style>\n",
       "<table border=\"1\" class=\"dataframe\">\n",
       "  <thead>\n",
       "    <tr style=\"text-align: right;\">\n",
       "      <th></th>\n",
       "      <th>train_rmse</th>\n",
       "      <th>validate_rmse</th>\n",
       "      <th>test_rmse</th>\n",
       "    </tr>\n",
       "  </thead>\n",
       "  <tbody>\n",
       "    <tr>\n",
       "      <th>pf2_lr</th>\n",
       "      <td>21.843232</td>\n",
       "      <td>21.8576</td>\n",
       "      <td></td>\n",
       "    </tr>\n",
       "    <tr>\n",
       "      <th>SVM</th>\n",
       "      <td>21.979183</td>\n",
       "      <td>21.9367</td>\n",
       "      <td></td>\n",
       "    </tr>\n",
       "    <tr>\n",
       "      <th>ols</th>\n",
       "      <td>22.024820</td>\n",
       "      <td>22.0338</td>\n",
       "      <td></td>\n",
       "    </tr>\n",
       "    <tr>\n",
       "      <th>GLM</th>\n",
       "      <td>22.024820</td>\n",
       "      <td>22.0338</td>\n",
       "      <td></td>\n",
       "    </tr>\n",
       "    <tr>\n",
       "      <th>lassolars</th>\n",
       "      <td>22.024820</td>\n",
       "      <td>22.0338</td>\n",
       "      <td></td>\n",
       "    </tr>\n",
       "    <tr>\n",
       "      <th>baseline</th>\n",
       "      <td>22.897138</td>\n",
       "      <td></td>\n",
       "      <td></td>\n",
       "    </tr>\n",
       "  </tbody>\n",
       "</table>\n",
       "</div>"
      ],
      "text/plain": [
       "           train_rmse validate_rmse test_rmse\n",
       "pf2_lr      21.843232       21.8576          \n",
       "SVM         21.979183       21.9367          \n",
       "ols         22.024820       22.0338          \n",
       "GLM         22.024820       22.0338          \n",
       "lassolars   22.024820       22.0338          \n",
       "baseline    22.897138                        "
      ]
     },
     "execution_count": 38,
     "metadata": {},
     "output_type": "execute_result"
    }
   ],
   "source": [
    "columns = ['train_rmse', 'validate_rmse', 'test_rmse']\n",
    "index = ['baseline', 'ols', 'lassolars', 'pf2_lr', 'SVM', 'GLM']\n",
    "data = [[bl_train_rmse, '', ''],\n",
    "        [lm_rmse, lm_rmse_v, ''],\n",
    "        [lars_rmse, lars_rmse_v, ''],\n",
    "        [lm_sq_rmse, lm_sq_rmse_v, ''], \n",
    "        [svr_rmse, svr_rmse_v, ''],\n",
    "        [glm_rmse, glm_rmse_v, '']]\n",
    "print('RFE FEATURES')\n",
    "print(f'Model beat baseline by {abs((lm_rmse_t - bl_train_rmse)/bl_train_rmse)*100:.2f}%')\n",
    "print(rfe_features)\n",
    "pd.DataFrame(columns=columns, data=data, index=index).sort_values(by='train_rmse')"
   ]
  },
  {
   "cell_type": "code",
   "execution_count": 39,
   "metadata": {},
   "outputs": [],
   "source": [
    "#visualize_model(glm_pred_t, y_test, baseline, 'GLM using Normal Distribution')"
   ]
  },
  {
   "cell_type": "code",
   "execution_count": 40,
   "metadata": {},
   "outputs": [],
   "source": [
    "#visualize_error(glm_pred_t, y_test, baseline, 'GLM using Normal Distribution')"
   ]
  },
  {
   "cell_type": "code",
   "execution_count": 41,
   "metadata": {},
   "outputs": [
    {
     "ename": "SyntaxError",
     "evalue": "'return' outside function (<ipython-input-41-ca7696b7f0e7>, line 5)",
     "output_type": "error",
     "traceback": [
      "\u001b[0;36m  File \u001b[0;32m\"<ipython-input-41-ca7696b7f0e7>\"\u001b[0;36m, line \u001b[0;32m5\u001b[0m\n\u001b[0;31m    return feature_importances\u001b[0m\n\u001b[0m                              ^\u001b[0m\n\u001b[0;31mSyntaxError\u001b[0m\u001b[0;31m:\u001b[0m 'return' outside function\n"
     ]
    }
   ],
   "source": [
    "def get_important_feats(model, X):\n",
    "    feature_importances = pd.DataFrame(rf.featureimportances,\n",
    "                                       index = X_train_scaled.columns,\n",
    "                                        columns=['importance']).sort_values('importance',ascending=False)\n",
    "return feature_importances"
   ]
  },
  {
   "cell_type": "markdown",
   "metadata": {},
   "source": [
    "Next\n",
    "- put modeling prep into a function\n",
    "- check the important feats for the ALL FEATURES MODEL\n",
    "- clean up the notebook"
   ]
  }
 ],
 "metadata": {
  "kernelspec": {
   "display_name": "Python 3",
   "language": "python",
   "name": "python3"
  },
  "language_info": {
   "codemirror_mode": {
    "name": "ipython",
    "version": 3
   },
   "file_extension": ".py",
   "mimetype": "text/x-python",
   "name": "python",
   "nbconvert_exporter": "python",
   "pygments_lexer": "ipython3",
   "version": "3.7.6"
  }
 },
 "nbformat": 4,
 "nbformat_minor": 4
}
