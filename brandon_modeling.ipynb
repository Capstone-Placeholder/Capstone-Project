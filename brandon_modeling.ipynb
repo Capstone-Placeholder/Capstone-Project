{
 "cells": [
  {
   "cell_type": "code",
   "execution_count": 1,
   "metadata": {},
   "outputs": [],
   "source": [
    "import numpy as np\n",
    "import pandas as pd\n",
    "import matplotlib.pyplot as plt\n",
    "%matplotlib inline\n",
    "import seaborn as sns\n",
    "plt.rc('figure', figsize=(16,9))"
   ]
  },
  {
   "cell_type": "code",
   "execution_count": 2,
   "metadata": {},
   "outputs": [],
   "source": [
    "import pandas as pd\n",
    "import numpy as np\n",
    "from scipy import stats\n",
    "from math import sqrt\n",
    "\n",
    "from sklearn.metrics import mean_squared_error, explained_variance_score, mean_absolute_error\n",
    "from sklearn.linear_model import LinearRegression, LassoLars, TweedieRegressor\n",
    "from sklearn.ensemble import IsolationForest, RandomForestRegressor\n",
    "\n",
    "import warnings\n",
    "warnings.filterwarnings(\"ignore\")"
   ]
  },
  {
   "cell_type": "markdown",
   "metadata": {},
   "source": [
    "# Wrangling"
   ]
  },
  {
   "cell_type": "code",
   "execution_count": 3,
   "metadata": {},
   "outputs": [],
   "source": [
    "from preprocessing import spotify_split, scale_data #,modeling_prep \n",
    "from acquire import concat_csv_files\n",
    "from prepare import prepare_df, set_index"
   ]
  },
  {
   "cell_type": "code",
   "execution_count": 4,
   "metadata": {},
   "outputs": [],
   "source": [
    "def modeling_prep():\n",
    "    '''\n",
    "    This function prepares the data for modeling\n",
    "    '''\n",
    "    # all local csv data compiled into a dataframe\n",
    "    df = concat_csv_files()\n",
    "    # adds new features, handles nulls, fixes data types, \n",
    "    # set the index to track_id, and fixes the tempo feature\n",
    "    df = prepare_df(df)\n",
    "    df = df.drop(columns='album')\n",
    "    #encode album_type\n",
    "    album_dummies = pd.get_dummies(df.album_type, drop_first=False).astype('int')\n",
    "    df = pd.concat([df, album_dummies], axis=1)\n",
    "\n",
    "    # drop any columns that won't contribute to modeling\n",
    "\n",
    "    df = df.drop(columns=['album_popularity','label', 'artist', \n",
    "                        'release_date', 'track_name', 'album_id', 'album_type',\n",
    "                        'release_year', 'release_month', 'release_day', 'duration_minutes', \n",
    "                        'duration_seconds', 'decade', 'is_top_billboard_label'])\n",
    "    return df"
   ]
  },
  {
   "cell_type": "code",
   "execution_count": 5,
   "metadata": {},
   "outputs": [],
   "source": [
    "df = modeling_prep()"
   ]
  },
  {
   "cell_type": "code",
   "execution_count": 6,
   "metadata": {},
   "outputs": [],
   "source": [
    "#genre = pd.read_csv('genre_count_df.csv')\n",
    "#genre = set_index(genre)\n",
    "#genre = genre[genre.columns[32:]]"
   ]
  },
  {
   "cell_type": "code",
   "execution_count": 7,
   "metadata": {
    "scrolled": true
   },
   "outputs": [],
   "source": [
    "#df = df.merge(genre, on='track_id', suffixes=[None, '_'])\n",
    "#df = df.dropna()"
   ]
  },
  {
   "cell_type": "code",
   "execution_count": 8,
   "metadata": {},
   "outputs": [],
   "source": [
    "#df.info()"
   ]
  },
  {
   "cell_type": "code",
   "execution_count": 9,
   "metadata": {
    "scrolled": false
   },
   "outputs": [],
   "source": [
    "#df.head(2)"
   ]
  },
  {
   "cell_type": "code",
   "execution_count": 10,
   "metadata": {},
   "outputs": [],
   "source": [
    "#genre.head(2)"
   ]
  },
  {
   "cell_type": "code",
   "execution_count": 11,
   "metadata": {},
   "outputs": [
    {
     "data": {
      "text/html": [
       "<div>\n",
       "<style scoped>\n",
       "    .dataframe tbody tr th:only-of-type {\n",
       "        vertical-align: middle;\n",
       "    }\n",
       "\n",
       "    .dataframe tbody tr th {\n",
       "        vertical-align: top;\n",
       "    }\n",
       "\n",
       "    .dataframe thead th {\n",
       "        text-align: right;\n",
       "    }\n",
       "</style>\n",
       "<table border=\"1\" class=\"dataframe\">\n",
       "  <thead>\n",
       "    <tr style=\"text-align: right;\">\n",
       "      <th></th>\n",
       "      <th>danceability</th>\n",
       "      <th>energy</th>\n",
       "      <th>key</th>\n",
       "      <th>loudness</th>\n",
       "      <th>mode</th>\n",
       "      <th>speechiness</th>\n",
       "      <th>instrumentalness</th>\n",
       "      <th>liveness</th>\n",
       "      <th>valence</th>\n",
       "      <th>tempo</th>\n",
       "      <th>duration_ms</th>\n",
       "      <th>time_signature</th>\n",
       "      <th>explicit</th>\n",
       "      <th>popularity</th>\n",
       "      <th>disc_number</th>\n",
       "      <th>track_number</th>\n",
       "      <th>is_featured_artist</th>\n",
       "      <th>album</th>\n",
       "      <th>compilation</th>\n",
       "      <th>single</th>\n",
       "    </tr>\n",
       "    <tr>\n",
       "      <th>track_id</th>\n",
       "      <th></th>\n",
       "      <th></th>\n",
       "      <th></th>\n",
       "      <th></th>\n",
       "      <th></th>\n",
       "      <th></th>\n",
       "      <th></th>\n",
       "      <th></th>\n",
       "      <th></th>\n",
       "      <th></th>\n",
       "      <th></th>\n",
       "      <th></th>\n",
       "      <th></th>\n",
       "      <th></th>\n",
       "      <th></th>\n",
       "      <th></th>\n",
       "      <th></th>\n",
       "      <th></th>\n",
       "      <th></th>\n",
       "      <th></th>\n",
       "    </tr>\n",
       "  </thead>\n",
       "  <tbody>\n",
       "    <tr>\n",
       "      <th>6mecZbKK3JDeMdFRNxsCV5</th>\n",
       "      <td>0.792</td>\n",
       "      <td>0.594</td>\n",
       "      <td>2</td>\n",
       "      <td>-8.544</td>\n",
       "      <td>1</td>\n",
       "      <td>0.300</td>\n",
       "      <td>0.0</td>\n",
       "      <td>0.244</td>\n",
       "      <td>0.351</td>\n",
       "      <td>82.512</td>\n",
       "      <td>232803</td>\n",
       "      <td>4</td>\n",
       "      <td>1</td>\n",
       "      <td>43</td>\n",
       "      <td>1</td>\n",
       "      <td>1</td>\n",
       "      <td>0</td>\n",
       "      <td>0</td>\n",
       "      <td>0</td>\n",
       "      <td>1</td>\n",
       "    </tr>\n",
       "    <tr>\n",
       "      <th>5PtMwNq8Dp31uYdGGacVJE</th>\n",
       "      <td>0.816</td>\n",
       "      <td>0.578</td>\n",
       "      <td>9</td>\n",
       "      <td>-6.912</td>\n",
       "      <td>1</td>\n",
       "      <td>0.233</td>\n",
       "      <td>0.0</td>\n",
       "      <td>0.114</td>\n",
       "      <td>0.265</td>\n",
       "      <td>148.077</td>\n",
       "      <td>193920</td>\n",
       "      <td>4</td>\n",
       "      <td>1</td>\n",
       "      <td>61</td>\n",
       "      <td>1</td>\n",
       "      <td>11</td>\n",
       "      <td>0</td>\n",
       "      <td>1</td>\n",
       "      <td>0</td>\n",
       "      <td>0</td>\n",
       "    </tr>\n",
       "  </tbody>\n",
       "</table>\n",
       "</div>"
      ],
      "text/plain": [
       "                        danceability  energy  key  loudness  mode  \\\n",
       "track_id                                                            \n",
       "6mecZbKK3JDeMdFRNxsCV5         0.792   0.594    2    -8.544     1   \n",
       "5PtMwNq8Dp31uYdGGacVJE         0.816   0.578    9    -6.912     1   \n",
       "\n",
       "                        speechiness  instrumentalness  liveness  valence  \\\n",
       "track_id                                                                   \n",
       "6mecZbKK3JDeMdFRNxsCV5        0.300               0.0     0.244    0.351   \n",
       "5PtMwNq8Dp31uYdGGacVJE        0.233               0.0     0.114    0.265   \n",
       "\n",
       "                          tempo  duration_ms  time_signature  explicit  \\\n",
       "track_id                                                                 \n",
       "6mecZbKK3JDeMdFRNxsCV5   82.512       232803               4         1   \n",
       "5PtMwNq8Dp31uYdGGacVJE  148.077       193920               4         1   \n",
       "\n",
       "                        popularity  disc_number  track_number  \\\n",
       "track_id                                                        \n",
       "6mecZbKK3JDeMdFRNxsCV5          43            1             1   \n",
       "5PtMwNq8Dp31uYdGGacVJE          61            1            11   \n",
       "\n",
       "                        is_featured_artist  album  compilation  single  \n",
       "track_id                                                                \n",
       "6mecZbKK3JDeMdFRNxsCV5                   0      0            0       1  \n",
       "5PtMwNq8Dp31uYdGGacVJE                   0      1            0       0  "
      ]
     },
     "execution_count": 11,
     "metadata": {},
     "output_type": "execute_result"
    }
   ],
   "source": [
    "df.head(2)"
   ]
  },
  {
   "cell_type": "code",
   "execution_count": 12,
   "metadata": {},
   "outputs": [
    {
     "data": {
      "text/plain": [
       "(5733, 20)"
      ]
     },
     "execution_count": 12,
     "metadata": {},
     "output_type": "execute_result"
    }
   ],
   "source": [
    "df.shape"
   ]
  },
  {
   "cell_type": "markdown",
   "metadata": {},
   "source": [
    "---\n",
    "### Split the Data"
   ]
  },
  {
   "cell_type": "code",
   "execution_count": 13,
   "metadata": {},
   "outputs": [
    {
     "name": "stdout",
     "output_type": "stream",
     "text": [
      "Shape of train: (4012, 19) | Shape of validate: (861, 19) | Shape of test: (860, 19)\n",
      "Percent train: 70.0        | Percent validate: 15.0       | Percent test: 15.0\n"
     ]
    },
    {
     "data": {
      "text/html": [
       "<div>\n",
       "<style scoped>\n",
       "    .dataframe tbody tr th:only-of-type {\n",
       "        vertical-align: middle;\n",
       "    }\n",
       "\n",
       "    .dataframe tbody tr th {\n",
       "        vertical-align: top;\n",
       "    }\n",
       "\n",
       "    .dataframe thead th {\n",
       "        text-align: right;\n",
       "    }\n",
       "</style>\n",
       "<table border=\"1\" class=\"dataframe\">\n",
       "  <thead>\n",
       "    <tr style=\"text-align: right;\">\n",
       "      <th></th>\n",
       "      <th>danceability</th>\n",
       "      <th>energy</th>\n",
       "      <th>key</th>\n",
       "      <th>loudness</th>\n",
       "      <th>mode</th>\n",
       "      <th>speechiness</th>\n",
       "      <th>instrumentalness</th>\n",
       "      <th>liveness</th>\n",
       "      <th>valence</th>\n",
       "      <th>tempo</th>\n",
       "      <th>duration_ms</th>\n",
       "      <th>time_signature</th>\n",
       "      <th>explicit</th>\n",
       "      <th>disc_number</th>\n",
       "      <th>track_number</th>\n",
       "      <th>is_featured_artist</th>\n",
       "      <th>album</th>\n",
       "      <th>compilation</th>\n",
       "      <th>single</th>\n",
       "    </tr>\n",
       "    <tr>\n",
       "      <th>track_id</th>\n",
       "      <th></th>\n",
       "      <th></th>\n",
       "      <th></th>\n",
       "      <th></th>\n",
       "      <th></th>\n",
       "      <th></th>\n",
       "      <th></th>\n",
       "      <th></th>\n",
       "      <th></th>\n",
       "      <th></th>\n",
       "      <th></th>\n",
       "      <th></th>\n",
       "      <th></th>\n",
       "      <th></th>\n",
       "      <th></th>\n",
       "      <th></th>\n",
       "      <th></th>\n",
       "      <th></th>\n",
       "      <th></th>\n",
       "    </tr>\n",
       "  </thead>\n",
       "  <tbody>\n",
       "    <tr>\n",
       "      <th>30bqVoKjX479ab90a8Pafp</th>\n",
       "      <td>0.585</td>\n",
       "      <td>0.471</td>\n",
       "      <td>4</td>\n",
       "      <td>-9.934</td>\n",
       "      <td>0</td>\n",
       "      <td>0.0616</td>\n",
       "      <td>0.0184</td>\n",
       "      <td>0.115</td>\n",
       "      <td>0.323</td>\n",
       "      <td>93.099</td>\n",
       "      <td>142000</td>\n",
       "      <td>4</td>\n",
       "      <td>1</td>\n",
       "      <td>1</td>\n",
       "      <td>1</td>\n",
       "      <td>0</td>\n",
       "      <td>0</td>\n",
       "      <td>0</td>\n",
       "      <td>1</td>\n",
       "    </tr>\n",
       "    <tr>\n",
       "      <th>0HO8pCseEpgozNi3z0R4bc</th>\n",
       "      <td>0.833</td>\n",
       "      <td>0.518</td>\n",
       "      <td>10</td>\n",
       "      <td>-10.126</td>\n",
       "      <td>0</td>\n",
       "      <td>0.3490</td>\n",
       "      <td>0.0000</td>\n",
       "      <td>0.635</td>\n",
       "      <td>0.773</td>\n",
       "      <td>90.004</td>\n",
       "      <td>120000</td>\n",
       "      <td>4</td>\n",
       "      <td>1</td>\n",
       "      <td>1</td>\n",
       "      <td>11</td>\n",
       "      <td>0</td>\n",
       "      <td>1</td>\n",
       "      <td>0</td>\n",
       "      <td>0</td>\n",
       "    </tr>\n",
       "  </tbody>\n",
       "</table>\n",
       "</div>"
      ],
      "text/plain": [
       "                        danceability  energy  key  loudness  mode  \\\n",
       "track_id                                                            \n",
       "30bqVoKjX479ab90a8Pafp         0.585   0.471    4    -9.934     0   \n",
       "0HO8pCseEpgozNi3z0R4bc         0.833   0.518   10   -10.126     0   \n",
       "\n",
       "                        speechiness  instrumentalness  liveness  valence  \\\n",
       "track_id                                                                   \n",
       "30bqVoKjX479ab90a8Pafp       0.0616            0.0184     0.115    0.323   \n",
       "0HO8pCseEpgozNi3z0R4bc       0.3490            0.0000     0.635    0.773   \n",
       "\n",
       "                         tempo  duration_ms  time_signature  explicit  \\\n",
       "track_id                                                                \n",
       "30bqVoKjX479ab90a8Pafp  93.099       142000               4         1   \n",
       "0HO8pCseEpgozNi3z0R4bc  90.004       120000               4         1   \n",
       "\n",
       "                        disc_number  track_number  is_featured_artist  album  \\\n",
       "track_id                                                                       \n",
       "30bqVoKjX479ab90a8Pafp            1             1                   0      0   \n",
       "0HO8pCseEpgozNi3z0R4bc            1            11                   0      1   \n",
       "\n",
       "                        compilation  single  \n",
       "track_id                                     \n",
       "30bqVoKjX479ab90a8Pafp            0       1  \n",
       "0HO8pCseEpgozNi3z0R4bc            0       0  "
      ]
     },
     "execution_count": 13,
     "metadata": {},
     "output_type": "execute_result"
    }
   ],
   "source": [
    "X_train, y_train, X_validate, y_validate, X_test, y_test, train, validate, test = spotify_split(df, 'popularity')\n",
    "X_train.head(2)"
   ]
  },
  {
   "cell_type": "markdown",
   "metadata": {},
   "source": [
    "---\n",
    "### Scale the Data"
   ]
  },
  {
   "cell_type": "code",
   "execution_count": 14,
   "metadata": {
    "scrolled": true
   },
   "outputs": [
    {
     "data": {
      "text/html": [
       "<div>\n",
       "<style scoped>\n",
       "    .dataframe tbody tr th:only-of-type {\n",
       "        vertical-align: middle;\n",
       "    }\n",
       "\n",
       "    .dataframe tbody tr th {\n",
       "        vertical-align: top;\n",
       "    }\n",
       "\n",
       "    .dataframe thead th {\n",
       "        text-align: right;\n",
       "    }\n",
       "</style>\n",
       "<table border=\"1\" class=\"dataframe\">\n",
       "  <thead>\n",
       "    <tr style=\"text-align: right;\">\n",
       "      <th></th>\n",
       "      <th>danceability</th>\n",
       "      <th>energy</th>\n",
       "      <th>key</th>\n",
       "      <th>loudness</th>\n",
       "      <th>mode</th>\n",
       "      <th>speechiness</th>\n",
       "      <th>instrumentalness</th>\n",
       "      <th>liveness</th>\n",
       "      <th>valence</th>\n",
       "      <th>tempo</th>\n",
       "      <th>duration_ms</th>\n",
       "      <th>time_signature</th>\n",
       "      <th>explicit</th>\n",
       "      <th>disc_number</th>\n",
       "      <th>track_number</th>\n",
       "      <th>is_featured_artist</th>\n",
       "      <th>album</th>\n",
       "      <th>compilation</th>\n",
       "      <th>single</th>\n",
       "    </tr>\n",
       "    <tr>\n",
       "      <th>track_id</th>\n",
       "      <th></th>\n",
       "      <th></th>\n",
       "      <th></th>\n",
       "      <th></th>\n",
       "      <th></th>\n",
       "      <th></th>\n",
       "      <th></th>\n",
       "      <th></th>\n",
       "      <th></th>\n",
       "      <th></th>\n",
       "      <th></th>\n",
       "      <th></th>\n",
       "      <th></th>\n",
       "      <th></th>\n",
       "      <th></th>\n",
       "      <th></th>\n",
       "      <th></th>\n",
       "      <th></th>\n",
       "      <th></th>\n",
       "    </tr>\n",
       "  </thead>\n",
       "  <tbody>\n",
       "    <tr>\n",
       "      <th>30bqVoKjX479ab90a8Pafp</th>\n",
       "      <td>0.593306</td>\n",
       "      <td>0.439493</td>\n",
       "      <td>0.363636</td>\n",
       "      <td>0.580823</td>\n",
       "      <td>0.0</td>\n",
       "      <td>0.064033</td>\n",
       "      <td>0.019127</td>\n",
       "      <td>0.101302</td>\n",
       "      <td>0.328921</td>\n",
       "      <td>0.547673</td>\n",
       "      <td>0.234238</td>\n",
       "      <td>0.8</td>\n",
       "      <td>1.0</td>\n",
       "      <td>0.0</td>\n",
       "      <td>0.000000</td>\n",
       "      <td>0.0</td>\n",
       "      <td>0.0</td>\n",
       "      <td>0.0</td>\n",
       "      <td>1.0</td>\n",
       "    </tr>\n",
       "    <tr>\n",
       "      <th>0HO8pCseEpgozNi3z0R4bc</th>\n",
       "      <td>0.844828</td>\n",
       "      <td>0.489960</td>\n",
       "      <td>0.909091</td>\n",
       "      <td>0.572667</td>\n",
       "      <td>0.0</td>\n",
       "      <td>0.362786</td>\n",
       "      <td>0.000000</td>\n",
       "      <td>0.651741</td>\n",
       "      <td>0.787169</td>\n",
       "      <td>0.529466</td>\n",
       "      <td>0.194025</td>\n",
       "      <td>0.8</td>\n",
       "      <td>1.0</td>\n",
       "      <td>0.0</td>\n",
       "      <td>0.163934</td>\n",
       "      <td>0.0</td>\n",
       "      <td>1.0</td>\n",
       "      <td>0.0</td>\n",
       "      <td>0.0</td>\n",
       "    </tr>\n",
       "    <tr>\n",
       "      <th>643K3eEgRvdJiXjSzlz7dg</th>\n",
       "      <td>0.477688</td>\n",
       "      <td>0.654247</td>\n",
       "      <td>0.090909</td>\n",
       "      <td>0.745826</td>\n",
       "      <td>1.0</td>\n",
       "      <td>0.354470</td>\n",
       "      <td>0.000000</td>\n",
       "      <td>0.305600</td>\n",
       "      <td>0.865580</td>\n",
       "      <td>0.520216</td>\n",
       "      <td>0.435841</td>\n",
       "      <td>0.8</td>\n",
       "      <td>1.0</td>\n",
       "      <td>0.0</td>\n",
       "      <td>0.016393</td>\n",
       "      <td>0.0</td>\n",
       "      <td>1.0</td>\n",
       "      <td>0.0</td>\n",
       "      <td>0.0</td>\n",
       "    </tr>\n",
       "  </tbody>\n",
       "</table>\n",
       "</div>"
      ],
      "text/plain": [
       "                        danceability    energy       key  loudness  mode  \\\n",
       "track_id                                                                   \n",
       "30bqVoKjX479ab90a8Pafp      0.593306  0.439493  0.363636  0.580823   0.0   \n",
       "0HO8pCseEpgozNi3z0R4bc      0.844828  0.489960  0.909091  0.572667   0.0   \n",
       "643K3eEgRvdJiXjSzlz7dg      0.477688  0.654247  0.090909  0.745826   1.0   \n",
       "\n",
       "                        speechiness  instrumentalness  liveness   valence  \\\n",
       "track_id                                                                    \n",
       "30bqVoKjX479ab90a8Pafp     0.064033          0.019127  0.101302  0.328921   \n",
       "0HO8pCseEpgozNi3z0R4bc     0.362786          0.000000  0.651741  0.787169   \n",
       "643K3eEgRvdJiXjSzlz7dg     0.354470          0.000000  0.305600  0.865580   \n",
       "\n",
       "                           tempo  duration_ms  time_signature  explicit  \\\n",
       "track_id                                                                  \n",
       "30bqVoKjX479ab90a8Pafp  0.547673     0.234238             0.8       1.0   \n",
       "0HO8pCseEpgozNi3z0R4bc  0.529466     0.194025             0.8       1.0   \n",
       "643K3eEgRvdJiXjSzlz7dg  0.520216     0.435841             0.8       1.0   \n",
       "\n",
       "                        disc_number  track_number  is_featured_artist  album  \\\n",
       "track_id                                                                       \n",
       "30bqVoKjX479ab90a8Pafp          0.0      0.000000                 0.0    0.0   \n",
       "0HO8pCseEpgozNi3z0R4bc          0.0      0.163934                 0.0    1.0   \n",
       "643K3eEgRvdJiXjSzlz7dg          0.0      0.016393                 0.0    1.0   \n",
       "\n",
       "                        compilation  single  \n",
       "track_id                                     \n",
       "30bqVoKjX479ab90a8Pafp          0.0     1.0  \n",
       "0HO8pCseEpgozNi3z0R4bc          0.0     0.0  \n",
       "643K3eEgRvdJiXjSzlz7dg          0.0     0.0  "
      ]
     },
     "execution_count": 14,
     "metadata": {},
     "output_type": "execute_result"
    }
   ],
   "source": [
    "#  Using MIN-MAX scaler\n",
    "X_train_mm, X_validate_mm, X_test_mm = scale_data(train, validate, test, 'popularity', 'MinMax')\n",
    "X_train_mm.head(3)"
   ]
  },
  {
   "cell_type": "markdown",
   "metadata": {},
   "source": [
    "--- \n",
    "# Feature Selection"
   ]
  },
  {
   "cell_type": "code",
   "execution_count": 15,
   "metadata": {},
   "outputs": [],
   "source": [
    "from preprocessing import rfe, select_kbest"
   ]
  },
  {
   "cell_type": "code",
   "execution_count": 16,
   "metadata": {},
   "outputs": [
    {
     "data": {
      "text/plain": [
       "['speechiness', 'explicit', 'track_number', 'is_featured_artist', 'single']"
      ]
     },
     "execution_count": 16,
     "metadata": {},
     "output_type": "execute_result"
    }
   ],
   "source": [
    "skb_features = select_kbest(X_train_mm, y_train, 5)\n",
    "skb_features"
   ]
  },
  {
   "cell_type": "code",
   "execution_count": 17,
   "metadata": {},
   "outputs": [
    {
     "data": {
      "text/plain": [
       "['danceability', 'energy', 'speechiness', 'explicit', 'is_featured_artist']"
      ]
     },
     "execution_count": 17,
     "metadata": {},
     "output_type": "execute_result"
    }
   ],
   "source": [
    "rfe_features = rfe(X_train, y_train, 5)\n",
    "rfe_features"
   ]
  },
  {
   "cell_type": "code",
   "execution_count": 18,
   "metadata": {},
   "outputs": [],
   "source": [
    "# Select K Best Top 5 Features DF\n",
    "X_tr_skb = X_train_mm[skb_features]\n",
    "X_v_skb = X_validate_mm[skb_features]\n",
    "X_te_skb = X_test_mm[skb_features]"
   ]
  },
  {
   "cell_type": "code",
   "execution_count": 19,
   "metadata": {},
   "outputs": [],
   "source": [
    "# Recursive Feature Elimination Top 5 Features DF\n",
    "X_tr_rfe = X_train_mm[rfe_features]\n",
    "X_v_rfe = X_validate_mm[rfe_features]\n",
    "X_te_rfe = X_test_mm[rfe_features]"
   ]
  },
  {
   "cell_type": "code",
   "execution_count": 20,
   "metadata": {},
   "outputs": [],
   "source": [
    "# Combo Top 5 Features\n",
    "top_feats = ['danceability', 'speechiness', 'explicit', 'is_featured_artist', 'single']\n",
    "X_tr_top = X_train_mm[top_feats]\n",
    "X_v_top = X_validate_mm[top_feats]\n",
    "X_te_top = X_test_mm[top_feats]"
   ]
  },
  {
   "cell_type": "code",
   "execution_count": 21,
   "metadata": {},
   "outputs": [],
   "source": [
    "# Combo2 Top 6 Features\n",
    "top_feats2 = ['danceability', 'speechiness', 'explicit', 'is_featured_artist', 'track_number', 'energy', 'single']\n",
    "X_tr_top2 = X_train_mm[top_feats2]\n",
    "X_v_top2 = X_validate_mm[top_feats2]\n",
    "X_te_top2 = X_test_mm[top_feats2]"
   ]
  },
  {
   "cell_type": "markdown",
   "metadata": {},
   "source": [
    "---\n",
    "# Cross Validation\n",
    "- Optimize Hyperparameters\n",
    "\n",
    "### CV Using SKB Features"
   ]
  },
  {
   "cell_type": "raw",
   "metadata": {},
   "source": [
    "from crossval import crossval_GSCV#, PolynomialRegression\n",
    "from sklearn.svm import SVR"
   ]
  },
  {
   "cell_type": "raw",
   "metadata": {},
   "source": [
    "# OLS\n",
    "params = {'fit_intercept': [True, False],\n",
    "         'normalize': [True, False]}\n",
    "lm = LinearRegression()\n",
    "crossval_GSCV(params, lm, X_tr_skb, y_train).head(3)"
   ]
  },
  {
   "cell_type": "raw",
   "metadata": {},
   "source": [
    "# LASSO + LARS\n",
    "params = {'fit_intercept': [True, False],\n",
    "          'alpha': [.0001, .001, .01]\n",
    "         }\n",
    "lars = LassoLars()\n",
    "crossval_GSCV(params, lars, X_tr_skb, y_train).head(3)"
   ]
  },
  {
   "cell_type": "raw",
   "metadata": {},
   "source": [
    "# Support Vector Regressor\n",
    "params = {'kernel': ['linear', 'poly', 'rbf', 'sigmoid'], \n",
    "          'gamma': ['scale', 'auto']\n",
    "         }\n",
    "svr = SVR()\n",
    "crossval_GSCV(params, svr, X_tr_skb, y_train).head(3)"
   ]
  },
  {
   "cell_type": "raw",
   "metadata": {},
   "source": [
    "# Genralized Linear Model with Tweedie Regressor\n",
    "params = {'power': [0, 1], \n",
    "          'alpha': [0, 1],\n",
    "          'link': ['auto', 'log']\n",
    "         }\n",
    "glm = TweedieRegressor()\n",
    "crossval_GSCV(params, glm, X_tr_skb, y_train).head(3)"
   ]
  },
  {
   "cell_type": "raw",
   "metadata": {},
   "source": [
    "### CV Using RFE Features"
   ]
  },
  {
   "cell_type": "raw",
   "metadata": {},
   "source": [
    "# OLS\n",
    "params = {'fit_intercept': [True, False],\n",
    "         'normalize': [True, False]}\n",
    "lm = LinearRegression()\n",
    "crossval_GSCV(params, lm, X_tr_rfe, y_train).head(3)"
   ]
  },
  {
   "cell_type": "raw",
   "metadata": {},
   "source": [
    "# LASSO + LARS\n",
    "params = {'fit_intercept': [True, False],\n",
    "          'alpha': [.0001, .001, .01]\n",
    "         }\n",
    "lars = LassoLars()\n",
    "crossval_GSCV(params, lars, X_tr_rfe, y_train).head(3)"
   ]
  },
  {
   "cell_type": "raw",
   "metadata": {},
   "source": [
    "# Support Vector Regressor\n",
    "params = {'kernel': ['linear', 'poly', 'rbf', 'sigmoid'], \n",
    "          'gamma': ['scale', 'auto']\n",
    "         }\n",
    "svr = SVR()\n",
    "crossval_GSCV(params, svr, X_tr_rfe, y_train).head(3)"
   ]
  },
  {
   "cell_type": "raw",
   "metadata": {},
   "source": [
    "# Genralized Linear Model with Tweedie Regressor\n",
    "params = {'power': [0, 1], \n",
    "          'alpha': [0, 1]\n",
    "         }\n",
    "glm = TweedieRegressor()\n",
    "crossval_GSCV(params, glm, X_tr_rfe, y_train).head(3)"
   ]
  },
  {
   "cell_type": "markdown",
   "metadata": {},
   "source": [
    "too complicated at the moment"
   ]
  },
  {
   "cell_type": "markdown",
   "metadata": {},
   "source": [
    "---\n",
    "# Modeling\n",
    "### Set the baseline"
   ]
  },
  {
   "cell_type": "code",
   "execution_count": 22,
   "metadata": {},
   "outputs": [],
   "source": [
    "from model import get_baseline_metrics, linear_regression_model, lasso_lars\n",
    "from model import polynomial_regression, svr_model, glm_model, evaluate_df\n",
    "from model import visualize_model, visualize_error"
   ]
  },
  {
   "cell_type": "code",
   "execution_count": 23,
   "metadata": {},
   "outputs": [
    {
     "name": "stdout",
     "output_type": "stream",
     "text": [
      "RMSE (Root Mean Square Error) of Baseline on train data:\n",
      " 22.897138\n"
     ]
    }
   ],
   "source": [
    "bl, bl_train_rmse = get_baseline_metrics(y_train)"
   ]
  },
  {
   "cell_type": "markdown",
   "metadata": {},
   "source": [
    "---\n",
    "### Models using ALL Features"
   ]
  },
  {
   "cell_type": "code",
   "execution_count": 24,
   "metadata": {
    "scrolled": false
   },
   "outputs": [
    {
     "name": "stdout",
     "output_type": "stream",
     "text": [
      "RMSE for OLS using Linear Regression \n",
      "\n",
      "On train data:\n",
      " 21.487177 \n",
      "\n",
      "RMSE for LASSO + LARS \n",
      "\n",
      "On train data:\n",
      " 22.897138 \n",
      "\n",
      "RMSE for Polynomial Squared + Linear Regression \n",
      "\n",
      "On train data:\n",
      " 20.693288 \n",
      "\n",
      "RMSE for SVR using RBF Kernel \n",
      "\n",
      "On train data:\n",
      " 21.660053 \n",
      "\n",
      "RMSE for GLM using Normal Distribution \n",
      "\n",
      "On train data:\n",
      " 21.510856 \n",
      "\n"
     ]
    }
   ],
   "source": [
    "# OLS Model\n",
    "lm_rmse, lm_rmse_v, lm_rmse_t = linear_regression_model(\n",
    "    X_train_mm, y_train, X_validate_mm, y_validate, X_test_mm, y_test)\n",
    "# LASSO + LARS Model\n",
    "lars_rmse, lars_rmse_v, lars_rmse_t = lasso_lars(\n",
    "    X_train_mm, y_train, X_validate_mm, y_validate, X_test_mm, y_test)\n",
    "# Polynomial Features (squared, deg=2) with Linear Regression\n",
    "lm_sq_rmse, lm_sq_rmse_v, lm_sq_rmse_t, lm_sq_pred_t = polynomial_regression(\n",
    "    X_train_mm, y_train, X_validate_mm, y_validate, X_test_mm, y_test, \n",
    "    'Squared', degree=2) \n",
    "# Support Vector Regression with RBF Kernel\n",
    "svr_rmse, svr_rmse_v, svr_rmse_t = svr_model(\n",
    "    X_train_mm, y_train, X_validate_mm, y_validate, X_test_mm, y_test, 'RBF')\n",
    "# General Linearized Model with Normal Distribution\n",
    "glm_rmse, glm_rmse_v, glm_rmse_t, glm_pred_t = glm_model(\n",
    "    X_train_mm, y_train, X_validate_mm, y_validate, X_test_mm, y_test, \n",
    "    'Normal', alpha=0, power=1)"
   ]
  },
  {
   "cell_type": "code",
   "execution_count": 25,
   "metadata": {},
   "outputs": [
    {
     "name": "stdout",
     "output_type": "stream",
     "text": [
      "ALL FEATURES\n",
      "Model beat baseline by 6.62%\n"
     ]
    },
    {
     "data": {
      "text/html": [
       "<div>\n",
       "<style scoped>\n",
       "    .dataframe tbody tr th:only-of-type {\n",
       "        vertical-align: middle;\n",
       "    }\n",
       "\n",
       "    .dataframe tbody tr th {\n",
       "        vertical-align: top;\n",
       "    }\n",
       "\n",
       "    .dataframe thead th {\n",
       "        text-align: right;\n",
       "    }\n",
       "</style>\n",
       "<table border=\"1\" class=\"dataframe\">\n",
       "  <thead>\n",
       "    <tr style=\"text-align: right;\">\n",
       "      <th></th>\n",
       "      <th>train_rmse</th>\n",
       "      <th>validate_rmse</th>\n",
       "      <th>test_rmse</th>\n",
       "    </tr>\n",
       "  </thead>\n",
       "  <tbody>\n",
       "    <tr>\n",
       "      <th>pf2_lr</th>\n",
       "      <td>20.693288</td>\n",
       "      <td>21.5614</td>\n",
       "      <td></td>\n",
       "    </tr>\n",
       "    <tr>\n",
       "      <th>ols</th>\n",
       "      <td>21.487177</td>\n",
       "      <td>21.3973</td>\n",
       "      <td></td>\n",
       "    </tr>\n",
       "    <tr>\n",
       "      <th>GLM</th>\n",
       "      <td>21.510856</td>\n",
       "      <td>21.3814</td>\n",
       "      <td></td>\n",
       "    </tr>\n",
       "    <tr>\n",
       "      <th>SVM</th>\n",
       "      <td>21.660053</td>\n",
       "      <td>21.6534</td>\n",
       "      <td></td>\n",
       "    </tr>\n",
       "    <tr>\n",
       "      <th>baseline</th>\n",
       "      <td>22.897138</td>\n",
       "      <td></td>\n",
       "      <td></td>\n",
       "    </tr>\n",
       "    <tr>\n",
       "      <th>lassolars</th>\n",
       "      <td>22.897138</td>\n",
       "      <td>22.8377</td>\n",
       "      <td></td>\n",
       "    </tr>\n",
       "  </tbody>\n",
       "</table>\n",
       "</div>"
      ],
      "text/plain": [
       "           train_rmse validate_rmse test_rmse\n",
       "pf2_lr      20.693288       21.5614          \n",
       "ols         21.487177       21.3973          \n",
       "GLM         21.510856       21.3814          \n",
       "SVM         21.660053       21.6534          \n",
       "baseline    22.897138                        \n",
       "lassolars   22.897138       22.8377          "
      ]
     },
     "execution_count": 25,
     "metadata": {},
     "output_type": "execute_result"
    }
   ],
   "source": [
    "columns = ['train_rmse', 'validate_rmse', 'test_rmse']\n",
    "index = ['baseline', 'ols', 'lassolars', 'pf2_lr', 'SVM', 'GLM']\n",
    "data = [[bl_train_rmse, '', ''],\n",
    "        [lm_rmse, lm_rmse_v, ''],\n",
    "        [lars_rmse, lars_rmse_v, ''],\n",
    "        [lm_sq_rmse, lm_sq_rmse_v, ''], \n",
    "        [svr_rmse, svr_rmse_v, ''],\n",
    "        [glm_rmse, glm_rmse_v, '']]\n",
    "print('ALL FEATURES')\n",
    "print(f'Model beat baseline by {abs((glm_rmse_t - bl_train_rmse)/bl_train_rmse)*100:.2f}%')\n",
    "pd.DataFrame(columns=columns, data=data, index=index).sort_values(by='train_rmse')"
   ]
  },
  {
   "cell_type": "code",
   "execution_count": 26,
   "metadata": {},
   "outputs": [
    {
     "data": {
      "text/plain": [
       "(                    importance\n",
       " loudness              1.151842\n",
       " danceability          0.210151\n",
       " explicit              0.205623\n",
       " is_featured_artist    0.171641\n",
       " tempo                 0.142183,\n",
       "               importance\n",
       " album          -0.132847\n",
       " compilation    -0.238549\n",
       " speechiness    -0.402822\n",
       " track_number   -0.684998\n",
       " energy         -0.763232)"
      ]
     },
     "execution_count": 26,
     "metadata": {},
     "output_type": "execute_result"
    }
   ],
   "source": [
    "# create the model object\n",
    "glm = TweedieRegressor(alpha = 0, power= 1)\n",
    "\n",
    "# fit the model to our training data\n",
    "glm.fit(X_train_mm, y_train)\n",
    "feature_importances = pd.DataFrame(glm.coef_,\n",
    "                                       index = X_train_mm.columns,\n",
    "                                        columns=['importance']).sort_values('importance',ascending=False)\n",
    "feature_importances.head(5), feature_importances.tail(5)"
   ]
  },
  {
   "cell_type": "markdown",
   "metadata": {},
   "source": [
    "---\n",
    "### Models using SKB Features"
   ]
  },
  {
   "cell_type": "code",
   "execution_count": 27,
   "metadata": {
    "scrolled": false
   },
   "outputs": [
    {
     "name": "stdout",
     "output_type": "stream",
     "text": [
      "RMSE for OLS using Linear Regression \n",
      "\n",
      "On train data:\n",
      " 21.905982 \n",
      "\n",
      "RMSE for LASSO + LARS \n",
      "\n",
      "On train data:\n",
      " 22.897138 \n",
      "\n",
      "RMSE for Polynomial Squared + Linear Regression \n",
      "\n",
      "On train data:\n",
      " 21.82078 \n",
      "\n",
      "RMSE for SVR using RBF Kernel \n",
      "\n",
      "On train data:\n",
      " 21.960632 \n",
      "\n",
      "RMSE for GLM using Normal Distribution \n",
      "\n",
      "On train data:\n",
      " 21.934884 \n",
      "\n"
     ]
    }
   ],
   "source": [
    "# OLS Model\n",
    "lm_rmse, lm_rmse_v, lm_rmse_t = linear_regression_model(\n",
    "    X_tr_skb, y_train, X_v_skb, y_validate, X_te_skb, y_test)\n",
    "# LASSO + LARS Model\n",
    "lars_rmse, lars_rmse_v, lars_rmse_t = lasso_lars(\n",
    "    X_tr_skb, y_train, X_v_skb, y_validate, X_te_skb, y_test)\n",
    "# Polynomial Features (squared, deg=2) with Linear Regression\n",
    "lm_sq_rmse, lm_sq_rmse_v, lm_sq_rmse_t, lm_sq_pred_t = polynomial_regression(\n",
    "    X_tr_skb, y_train, X_v_skb, y_validate, X_te_skb, y_test, \n",
    "    'Squared', degree=2) \n",
    "# Support Vector Regression with RBF Kernel\n",
    "svr_rmse, svr_rmse_v, svr_rmse_t = svr_model(\n",
    "    X_tr_skb, y_train, X_v_skb, y_validate, X_te_skb, y_test, 'RBF')\n",
    "# General Linearized Model with Normal Distribution\n",
    "glm_rmse, glm_rmse_v, glm_rmse_t, glm_pred_t = glm_model(\n",
    "    X_tr_skb, y_train, X_v_skb, y_validate, X_te_skb, y_test, \n",
    "    'Normal', alpha=0, power=1)"
   ]
  },
  {
   "cell_type": "code",
   "execution_count": 28,
   "metadata": {},
   "outputs": [
    {
     "name": "stdout",
     "output_type": "stream",
     "text": [
      "SKB FEATURES\n",
      "Model beat baseline by 5.16%\n",
      "['speechiness', 'explicit', 'track_number', 'is_featured_artist', 'single']\n"
     ]
    },
    {
     "data": {
      "text/html": [
       "<div>\n",
       "<style scoped>\n",
       "    .dataframe tbody tr th:only-of-type {\n",
       "        vertical-align: middle;\n",
       "    }\n",
       "\n",
       "    .dataframe tbody tr th {\n",
       "        vertical-align: top;\n",
       "    }\n",
       "\n",
       "    .dataframe thead th {\n",
       "        text-align: right;\n",
       "    }\n",
       "</style>\n",
       "<table border=\"1\" class=\"dataframe\">\n",
       "  <thead>\n",
       "    <tr style=\"text-align: right;\">\n",
       "      <th></th>\n",
       "      <th>train_rmse</th>\n",
       "      <th>validate_rmse</th>\n",
       "      <th>test_rmse</th>\n",
       "    </tr>\n",
       "  </thead>\n",
       "  <tbody>\n",
       "    <tr>\n",
       "      <th>pf2_lr</th>\n",
       "      <td>21.820780</td>\n",
       "      <td>21.8672</td>\n",
       "      <td></td>\n",
       "    </tr>\n",
       "    <tr>\n",
       "      <th>ols</th>\n",
       "      <td>21.905982</td>\n",
       "      <td>21.9519</td>\n",
       "      <td></td>\n",
       "    </tr>\n",
       "    <tr>\n",
       "      <th>GLM</th>\n",
       "      <td>21.934884</td>\n",
       "      <td>21.9476</td>\n",
       "      <td></td>\n",
       "    </tr>\n",
       "    <tr>\n",
       "      <th>SVM</th>\n",
       "      <td>21.960632</td>\n",
       "      <td>21.9514</td>\n",
       "      <td></td>\n",
       "    </tr>\n",
       "    <tr>\n",
       "      <th>baseline</th>\n",
       "      <td>22.897138</td>\n",
       "      <td></td>\n",
       "      <td></td>\n",
       "    </tr>\n",
       "    <tr>\n",
       "      <th>lassolars</th>\n",
       "      <td>22.897138</td>\n",
       "      <td>22.8377</td>\n",
       "      <td></td>\n",
       "    </tr>\n",
       "  </tbody>\n",
       "</table>\n",
       "</div>"
      ],
      "text/plain": [
       "           train_rmse validate_rmse test_rmse\n",
       "pf2_lr      21.820780       21.8672          \n",
       "ols         21.905982       21.9519          \n",
       "GLM         21.934884       21.9476          \n",
       "SVM         21.960632       21.9514          \n",
       "baseline    22.897138                        \n",
       "lassolars   22.897138       22.8377          "
      ]
     },
     "execution_count": 28,
     "metadata": {},
     "output_type": "execute_result"
    }
   ],
   "source": [
    "columns = ['train_rmse', 'validate_rmse', 'test_rmse']\n",
    "index = ['baseline', 'ols', 'lassolars', 'pf2_lr', 'SVM', 'GLM']\n",
    "data = [[bl_train_rmse, '', ''],\n",
    "        [lm_rmse, lm_rmse_v, ''],\n",
    "        [lars_rmse, lars_rmse_v, ''],\n",
    "        [lm_sq_rmse, lm_sq_rmse_v, ''], \n",
    "        [svr_rmse, svr_rmse_v, ''],\n",
    "        [glm_rmse, glm_rmse_v, '']]\n",
    "print('SKB FEATURES')\n",
    "print(f'Model beat baseline by {abs((lm_sq_rmse_t - bl_train_rmse)/bl_train_rmse)*100:.2f}%')\n",
    "print(skb_features)\n",
    "pd.DataFrame(columns=columns, data=data, index=index).sort_values(by='train_rmse')"
   ]
  },
  {
   "cell_type": "markdown",
   "metadata": {},
   "source": [
    "---\n",
    "### Models using RFE Features"
   ]
  },
  {
   "cell_type": "code",
   "execution_count": 29,
   "metadata": {
    "scrolled": false
   },
   "outputs": [
    {
     "name": "stdout",
     "output_type": "stream",
     "text": [
      "RMSE for OLS using Linear Regression \n",
      "\n",
      "On train data:\n",
      " 22.020966 \n",
      "\n",
      "RMSE for LASSO + LARS \n",
      "\n",
      "On train data:\n",
      " 22.897138 \n",
      "\n",
      "RMSE for Polynomial Squared + Linear Regression \n",
      "\n",
      "On train data:\n",
      " 21.884338 \n",
      "\n",
      "RMSE for SVR using RBF Kernel \n",
      "\n",
      "On train data:\n",
      " 22.03261 \n",
      "\n",
      "RMSE for GLM using Normal Distribution \n",
      "\n",
      "On train data:\n",
      " 22.026116 \n",
      "\n"
     ]
    }
   ],
   "source": [
    "# OLS Model\n",
    "lm_rmse, lm_rmse_v, lm_rmse_t = linear_regression_model(\n",
    "    X_tr_rfe, y_train, X_v_rfe, y_validate, X_te_rfe, y_test)\n",
    "# LASSO + LARS Model\n",
    "lars_rmse, lars_rmse_v, lars_rmse_t = lasso_lars(\n",
    "    X_tr_rfe, y_train, X_v_rfe, y_validate, X_te_rfe, y_test)\n",
    "# Polynomial Features (squared, deg=2) with Linear Regression\n",
    "lm_sq_rmse, lm_sq_rmse_v, lm_sq_rmse_t, lm_sq_pred_t = polynomial_regression(\n",
    "    X_tr_rfe, y_train, X_v_rfe, y_validate, X_te_rfe, y_test, \n",
    "    'Squared', degree=2) \n",
    "# Support Vector Regression with RBF Kernel\n",
    "svr_rmse, svr_rmse_v, svr_rmse_t = svr_model(\n",
    "    X_tr_rfe, y_train, X_v_rfe, y_validate, X_te_rfe, y_test, 'RBF')\n",
    "# General Linearized Model with Normal Distribution\n",
    "glm_rmse, glm_rmse_v, glm_rmse_t, glm_pred_t = glm_model(\n",
    "    X_tr_rfe, y_train, X_v_rfe, y_validate, X_te_rfe, y_test, \n",
    "    'Normal', alpha=0, power=1)"
   ]
  },
  {
   "cell_type": "code",
   "execution_count": 30,
   "metadata": {
    "scrolled": true
   },
   "outputs": [
    {
     "name": "stdout",
     "output_type": "stream",
     "text": [
      "RFE FEATURES\n",
      "Model beat baseline by 4.71%\n",
      "['danceability', 'energy', 'speechiness', 'explicit', 'is_featured_artist']\n"
     ]
    },
    {
     "data": {
      "text/html": [
       "<div>\n",
       "<style scoped>\n",
       "    .dataframe tbody tr th:only-of-type {\n",
       "        vertical-align: middle;\n",
       "    }\n",
       "\n",
       "    .dataframe tbody tr th {\n",
       "        vertical-align: top;\n",
       "    }\n",
       "\n",
       "    .dataframe thead th {\n",
       "        text-align: right;\n",
       "    }\n",
       "</style>\n",
       "<table border=\"1\" class=\"dataframe\">\n",
       "  <thead>\n",
       "    <tr style=\"text-align: right;\">\n",
       "      <th></th>\n",
       "      <th>train_rmse</th>\n",
       "      <th>validate_rmse</th>\n",
       "      <th>test_rmse</th>\n",
       "    </tr>\n",
       "  </thead>\n",
       "  <tbody>\n",
       "    <tr>\n",
       "      <th>pf2_lr</th>\n",
       "      <td>21.884338</td>\n",
       "      <td>21.8565</td>\n",
       "      <td></td>\n",
       "    </tr>\n",
       "    <tr>\n",
       "      <th>ols</th>\n",
       "      <td>22.020966</td>\n",
       "      <td>21.9541</td>\n",
       "      <td></td>\n",
       "    </tr>\n",
       "    <tr>\n",
       "      <th>GLM</th>\n",
       "      <td>22.026116</td>\n",
       "      <td>21.9487</td>\n",
       "      <td></td>\n",
       "    </tr>\n",
       "    <tr>\n",
       "      <th>SVM</th>\n",
       "      <td>22.032610</td>\n",
       "      <td>21.9516</td>\n",
       "      <td></td>\n",
       "    </tr>\n",
       "    <tr>\n",
       "      <th>baseline</th>\n",
       "      <td>22.897138</td>\n",
       "      <td></td>\n",
       "      <td></td>\n",
       "    </tr>\n",
       "    <tr>\n",
       "      <th>lassolars</th>\n",
       "      <td>22.897138</td>\n",
       "      <td>22.8377</td>\n",
       "      <td></td>\n",
       "    </tr>\n",
       "  </tbody>\n",
       "</table>\n",
       "</div>"
      ],
      "text/plain": [
       "           train_rmse validate_rmse test_rmse\n",
       "pf2_lr      21.884338       21.8565          \n",
       "ols         22.020966       21.9541          \n",
       "GLM         22.026116       21.9487          \n",
       "SVM         22.032610       21.9516          \n",
       "baseline    22.897138                        \n",
       "lassolars   22.897138       22.8377          "
      ]
     },
     "execution_count": 30,
     "metadata": {},
     "output_type": "execute_result"
    }
   ],
   "source": [
    "columns = ['train_rmse', 'validate_rmse', 'test_rmse']\n",
    "index = ['baseline', 'ols', 'lassolars', 'pf2_lr', 'SVM', 'GLM']\n",
    "data = [[bl_train_rmse, '', ''],\n",
    "        [lm_rmse, lm_rmse_v, ''],\n",
    "        [lars_rmse, lars_rmse_v, ''],\n",
    "        [lm_sq_rmse, lm_sq_rmse_v, ''], \n",
    "        [svr_rmse, svr_rmse_v, ''],\n",
    "        [glm_rmse, glm_rmse_v, '']]\n",
    "print('RFE FEATURES')\n",
    "print(f'Model beat baseline by {abs((lm_sq_rmse_t - bl_train_rmse)/bl_train_rmse)*100:.2f}%')\n",
    "print(rfe_features)\n",
    "pd.DataFrame(columns=columns, data=data, index=index).sort_values(by='train_rmse')"
   ]
  },
  {
   "cell_type": "markdown",
   "metadata": {},
   "source": [
    "---\n",
    "### Models using COMBO Top Features"
   ]
  },
  {
   "cell_type": "code",
   "execution_count": 41,
   "metadata": {
    "scrolled": false
   },
   "outputs": [
    {
     "name": "stdout",
     "output_type": "stream",
     "text": [
      "RMSE for OLS using Linear Regression \n",
      "\n",
      "On train data:\n",
      " 21.909077 \n",
      "\n",
      "RMSE for LASSO + LARS \n",
      "\n",
      "On train data:\n",
      " 22.897138 \n",
      "\n",
      "RMSE for Polynomial Squared + Linear Regression \n",
      "\n",
      "On train data:\n",
      " 21.836053 \n",
      "\n",
      "RMSE for SVR using RBF Kernel \n",
      "\n",
      "On train data:\n",
      " 21.92887 \n",
      "\n",
      "RMSE for GLM using Normal Distribution \n",
      "\n",
      "On train data:\n",
      " 21.930506 \n",
      "\n"
     ]
    }
   ],
   "source": [
    "# OLS Model\n",
    "lm_rmse, lm_rmse_v, lm_rmse_t = linear_regression_model(\n",
    "    X_tr_top, y_train, X_v_top, y_validate, X_te_top, y_test)\n",
    "# LASSO + LARS Model\n",
    "lars_rmse, lars_rmse_v, lars_rmse_t = lasso_lars(\n",
    "    X_tr_top, y_train, X_v_top, y_validate, X_te_top, y_test)\n",
    "# Polynomial Features (squared, deg=2) with Linear Regression\n",
    "lm_sq_rmse, lm_sq_rmse_v, lm_sq_rmse_t, lm_sq_pred_t = polynomial_regression(\n",
    "    X_tr_top, y_train, X_v_top, y_validate, X_te_top, y_test, \n",
    "    'Squared', degree=2) \n",
    "# Support Vector Regression with RBF Kernel\n",
    "svr_rmse, svr_rmse_v, svr_rmse_t = svr_model(\n",
    "    X_tr_top, y_train, X_v_top, y_validate, X_te_top, y_test, 'RBF')\n",
    "# General Linearized Model with Normal Distribution\n",
    "glm_rmse, glm_rmse_v, glm_rmse_t, glm_pred_t = glm_model(\n",
    "    X_tr_top, y_train, X_v_top, y_validate, X_te_top, y_test, \n",
    "    'Normal', alpha=0, power=1)"
   ]
  },
  {
   "cell_type": "code",
   "execution_count": 42,
   "metadata": {},
   "outputs": [
    {
     "name": "stdout",
     "output_type": "stream",
     "text": [
      "COMBO TOP 5 FEATURES\n",
      "Model beat baseline by 5.33%\n",
      "['danceability', 'speechiness', 'explicit', 'is_featured_artist', 'single']\n"
     ]
    },
    {
     "data": {
      "text/html": [
       "<div>\n",
       "<style scoped>\n",
       "    .dataframe tbody tr th:only-of-type {\n",
       "        vertical-align: middle;\n",
       "    }\n",
       "\n",
       "    .dataframe tbody tr th {\n",
       "        vertical-align: top;\n",
       "    }\n",
       "\n",
       "    .dataframe thead th {\n",
       "        text-align: right;\n",
       "    }\n",
       "</style>\n",
       "<table border=\"1\" class=\"dataframe\">\n",
       "  <thead>\n",
       "    <tr style=\"text-align: right;\">\n",
       "      <th></th>\n",
       "      <th>train_rmse</th>\n",
       "      <th>validate_rmse</th>\n",
       "      <th>test_rmse</th>\n",
       "    </tr>\n",
       "  </thead>\n",
       "  <tbody>\n",
       "    <tr>\n",
       "      <th>pf2_lr</th>\n",
       "      <td>21.836053</td>\n",
       "      <td>21.8135</td>\n",
       "      <td></td>\n",
       "    </tr>\n",
       "    <tr>\n",
       "      <th>ols</th>\n",
       "      <td>21.909077</td>\n",
       "      <td>21.9204</td>\n",
       "      <td></td>\n",
       "    </tr>\n",
       "    <tr>\n",
       "      <th>SVM</th>\n",
       "      <td>21.928870</td>\n",
       "      <td>21.8463</td>\n",
       "      <td></td>\n",
       "    </tr>\n",
       "    <tr>\n",
       "      <th>GLM</th>\n",
       "      <td>21.930506</td>\n",
       "      <td>21.9382</td>\n",
       "      <td></td>\n",
       "    </tr>\n",
       "    <tr>\n",
       "      <th>baseline</th>\n",
       "      <td>22.897138</td>\n",
       "      <td></td>\n",
       "      <td></td>\n",
       "    </tr>\n",
       "    <tr>\n",
       "      <th>lassolars</th>\n",
       "      <td>22.897138</td>\n",
       "      <td>22.8377</td>\n",
       "      <td></td>\n",
       "    </tr>\n",
       "  </tbody>\n",
       "</table>\n",
       "</div>"
      ],
      "text/plain": [
       "           train_rmse validate_rmse test_rmse\n",
       "pf2_lr      21.836053       21.8135          \n",
       "ols         21.909077       21.9204          \n",
       "SVM         21.928870       21.8463          \n",
       "GLM         21.930506       21.9382          \n",
       "baseline    22.897138                        \n",
       "lassolars   22.897138       22.8377          "
      ]
     },
     "execution_count": 42,
     "metadata": {},
     "output_type": "execute_result"
    }
   ],
   "source": [
    "columns = ['train_rmse', 'validate_rmse', 'test_rmse']\n",
    "index = ['baseline', 'ols', 'lassolars', 'pf2_lr', 'SVM', 'GLM']\n",
    "data = [[bl_train_rmse, '', ''],\n",
    "        [lm_rmse, lm_rmse_v, ''],\n",
    "        [lars_rmse, lars_rmse_v, ''],\n",
    "        [lm_sq_rmse, lm_sq_rmse_v, ''], \n",
    "        [svr_rmse, svr_rmse_v, ''],\n",
    "        [glm_rmse, glm_rmse_v, '']]\n",
    "print('COMBO TOP 5 FEATURES')\n",
    "print(f'Model beat baseline by {abs((lm_sq_rmse_t - bl_train_rmse)/bl_train_rmse)*100:.2f}%')\n",
    "print(top_feats)\n",
    "pd.DataFrame(columns=columns, data=data, index=index).sort_values(by='train_rmse')"
   ]
  },
  {
   "cell_type": "markdown",
   "metadata": {},
   "source": [
    "---\n",
    "### Models using COMBO 2 Top Features"
   ]
  },
  {
   "cell_type": "code",
   "execution_count": 48,
   "metadata": {
    "scrolled": false
   },
   "outputs": [
    {
     "name": "stdout",
     "output_type": "stream",
     "text": [
      "RMSE for OLS using Linear Regression \n",
      "\n",
      "On train data:\n",
      " 21.796331 \n",
      "\n",
      "RMSE for LASSO + LARS \n",
      "\n",
      "On train data:\n",
      " 22.897138 \n",
      "\n",
      "RMSE for Polynomial Squared + Linear Regression \n",
      "\n",
      "On train data:\n",
      " 21.599581 \n",
      "\n",
      "RMSE for SVR using RBF Kernel \n",
      "\n",
      "On train data:\n",
      " 21.812662 \n",
      "\n",
      "RMSE for GLM using Normal Distribution \n",
      "\n",
      "On train data:\n",
      " 21.821093 \n",
      "\n"
     ]
    }
   ],
   "source": [
    "# OLS Model\n",
    "lm_rmse, lm_rmse_v, lm_rmse_t = linear_regression_model(\n",
    "    X_tr_top2, y_train, X_v_top2, y_validate, X_te_top2, y_test)\n",
    "# LASSO + LARS Model\n",
    "lars_rmse, lars_rmse_v, lars_rmse_t = lasso_lars(\n",
    "    X_tr_top2, y_train, X_v_top2, y_validate, X_te_top2, y_test)\n",
    "# Polynomial Features (squared, deg=2) with Linear Regression\n",
    "lm_sq_rmse, lm_sq_rmse_v, lm_sq_rmse_t, lm_sq_pred_t = polynomial_regression(\n",
    "    X_tr_top2, y_train, X_v_top2, y_validate, X_te_top2, y_test, \n",
    "    'Squared', degree=2) \n",
    "# Support Vector Regression with RBF Kernel\n",
    "svr_rmse, svr_rmse_v, svr_rmse_t = svr_model(\n",
    "    X_tr_top2, y_train, X_v_top2, y_validate, X_te_top2, y_test, 'RBF')\n",
    "# General Linearized Model with Normal Distribution\n",
    "glm_rmse, glm_rmse_v, glm_rmse_t, glm_pred_t = glm_model(\n",
    "    X_tr_top2, y_train, X_v_top2, y_validate, X_te_top2, y_test, \n",
    "    'Normal', alpha=0, power=1)"
   ]
  },
  {
   "cell_type": "code",
   "execution_count": 58,
   "metadata": {
    "scrolled": true
   },
   "outputs": [
    {
     "name": "stdout",
     "output_type": "stream",
     "text": [
      "COMBO 2 TOP FEATURES\n",
      "Model beat baseline by 6.00%\n",
      "['danceability', 'speechiness', 'explicit', 'is_featured_artist', 'track_number', 'energy', 'single']\n"
     ]
    },
    {
     "data": {
      "text/html": [
       "<div>\n",
       "<style scoped>\n",
       "    .dataframe tbody tr th:only-of-type {\n",
       "        vertical-align: middle;\n",
       "    }\n",
       "\n",
       "    .dataframe tbody tr th {\n",
       "        vertical-align: top;\n",
       "    }\n",
       "\n",
       "    .dataframe thead th {\n",
       "        text-align: right;\n",
       "    }\n",
       "</style>\n",
       "<table border=\"1\" class=\"dataframe\">\n",
       "  <thead>\n",
       "    <tr style=\"text-align: right;\">\n",
       "      <th></th>\n",
       "      <th>train_rmse</th>\n",
       "      <th>validate_rmse</th>\n",
       "      <th>test_rmse</th>\n",
       "    </tr>\n",
       "  </thead>\n",
       "  <tbody>\n",
       "    <tr>\n",
       "      <th>Polynomial 2nd Degree</th>\n",
       "      <td>21.599581</td>\n",
       "      <td>21.5257</td>\n",
       "      <td>21.5236</td>\n",
       "    </tr>\n",
       "    <tr>\n",
       "      <th>Linear Regression</th>\n",
       "      <td>21.796331</td>\n",
       "      <td>21.7566</td>\n",
       "      <td></td>\n",
       "    </tr>\n",
       "    <tr>\n",
       "      <th>SVM</th>\n",
       "      <td>21.812662</td>\n",
       "      <td>21.6988</td>\n",
       "      <td></td>\n",
       "    </tr>\n",
       "    <tr>\n",
       "      <th>GLM</th>\n",
       "      <td>21.821093</td>\n",
       "      <td>21.7578</td>\n",
       "      <td></td>\n",
       "    </tr>\n",
       "    <tr>\n",
       "      <th>Baseline</th>\n",
       "      <td>22.897138</td>\n",
       "      <td></td>\n",
       "      <td></td>\n",
       "    </tr>\n",
       "    <tr>\n",
       "      <th>lassolars</th>\n",
       "      <td>22.897138</td>\n",
       "      <td>22.8377</td>\n",
       "      <td></td>\n",
       "    </tr>\n",
       "  </tbody>\n",
       "</table>\n",
       "</div>"
      ],
      "text/plain": [
       "                       train_rmse validate_rmse test_rmse\n",
       "Polynomial 2nd Degree   21.599581       21.5257   21.5236\n",
       "Linear Regression       21.796331       21.7566          \n",
       "SVM                     21.812662       21.6988          \n",
       "GLM                     21.821093       21.7578          \n",
       "Baseline                22.897138                        \n",
       "lassolars               22.897138       22.8377          "
      ]
     },
     "execution_count": 58,
     "metadata": {},
     "output_type": "execute_result"
    }
   ],
   "source": [
    "columns = ['train_rmse', 'validate_rmse', 'test_rmse']\n",
    "iindex = ['Baseline', 'Linear Regression', 'lassolars', 'Polynomial 2nd Degree', 'SVM', 'GLM']\n",
    "data = [[bl_train_rmse, '', ''],\n",
    "        [lm_rmse, lm_rmse_v, ''],\n",
    "        [lars_rmse, lars_rmse_v, ''],\n",
    "        [lm_sq_rmse, lm_sq_rmse_v, lm_sq_rmse_t], \n",
    "        [svr_rmse, svr_rmse_v, ''],\n",
    "        [glm_rmse, glm_rmse_v, '']]\n",
    "print('COMBO 2 TOP FEATURES')\n",
    "print(f'Model beat baseline by {abs((lm_sq_rmse_t - bl_train_rmse)/bl_train_rmse)*100:.2f}%')\n",
    "print(top_feats2)\n",
    "mod_perf = pd.DataFrame(columns=columns, data=data, index=iindex).sort_values(by='train_rmse')\n",
    "mod_perf"
   ]
  },
  {
   "cell_type": "code",
   "execution_count": 55,
   "metadata": {},
   "outputs": [
    {
     "data": {
      "text/plain": [
       "0.128406702334395"
      ]
     },
     "execution_count": 55,
     "metadata": {},
     "output_type": "execute_result"
    }
   ],
   "source": [
    "from sklearn.metrics import r2_score\n",
    "r2_score(y_test, lm_sq_pred_t)"
   ]
  },
  {
   "cell_type": "code",
   "execution_count": 71,
   "metadata": {},
   "outputs": [],
   "source": [
    "from sklearn.preprocessing import PolynomialFeatures\n",
    "# create polynomial features object\n",
    "pf = PolynomialFeatures(degree=2).fit(X_tr_top2)\n",
    "\n",
    "# fit and transform the train data\n",
    "X_train_sq = pf.transform(X_tr_top2)\n",
    "# transform the validate data\n",
    "X_validate_sq = pf.transform(X_v_top2)\n",
    "# transform the validate data\n",
    "X_test_sq = pf.transform(X_te_top2)\n",
    "\n",
    "# create the linear regression model\n",
    "lm_sq = LinearRegression()\n",
    "# fit the model to the training data\n",
    "lm_sq.fit(X_train_sq, y_train)\n",
    "\n",
    "y_pred_test = lm_sq.predict(X_test_sq)\n",
    "\n",
    "#pf.get_feature_names(X_tr_top.columns)"
   ]
  },
  {
   "cell_type": "code",
   "execution_count": 92,
   "metadata": {},
   "outputs": [
    {
     "data": {
      "text/html": [
       "<div>\n",
       "<style scoped>\n",
       "    .dataframe tbody tr th:only-of-type {\n",
       "        vertical-align: middle;\n",
       "    }\n",
       "\n",
       "    .dataframe tbody tr th {\n",
       "        vertical-align: top;\n",
       "    }\n",
       "\n",
       "    .dataframe thead th {\n",
       "        text-align: right;\n",
       "    }\n",
       "</style>\n",
       "<table border=\"1\" class=\"dataframe\">\n",
       "  <thead>\n",
       "    <tr style=\"text-align: right;\">\n",
       "      <th></th>\n",
       "      <th>importance</th>\n",
       "    </tr>\n",
       "  </thead>\n",
       "  <tbody>\n",
       "    <tr>\n",
       "      <th>energy</th>\n",
       "      <td>4.428871e+01</td>\n",
       "    </tr>\n",
       "    <tr>\n",
       "      <th>track_number</th>\n",
       "      <td>3.914197e+01</td>\n",
       "    </tr>\n",
       "    <tr>\n",
       "      <th>danceability speechiness</th>\n",
       "      <td>3.767490e+01</td>\n",
       "    </tr>\n",
       "    <tr>\n",
       "      <th>speechiness energy</th>\n",
       "      <td>2.100625e+01</td>\n",
       "    </tr>\n",
       "    <tr>\n",
       "      <th>speechiness^2</th>\n",
       "      <td>1.691093e+01</td>\n",
       "    </tr>\n",
       "    <tr>\n",
       "      <th>danceability^2</th>\n",
       "      <td>1.675282e+01</td>\n",
       "    </tr>\n",
       "    <tr>\n",
       "      <th>danceability explicit</th>\n",
       "      <td>1.642987e+01</td>\n",
       "    </tr>\n",
       "    <tr>\n",
       "      <th>speechiness explicit</th>\n",
       "      <td>1.138116e+01</td>\n",
       "    </tr>\n",
       "    <tr>\n",
       "      <th>is_featured_artist^2</th>\n",
       "      <td>1.018052e+01</td>\n",
       "    </tr>\n",
       "    <tr>\n",
       "      <th>is_featured_artist</th>\n",
       "      <td>1.018052e+01</td>\n",
       "    </tr>\n",
       "    <tr>\n",
       "      <th>track_number^2</th>\n",
       "      <td>8.157009e+00</td>\n",
       "    </tr>\n",
       "    <tr>\n",
       "      <th>single^2</th>\n",
       "      <td>5.076139e+00</td>\n",
       "    </tr>\n",
       "    <tr>\n",
       "      <th>single</th>\n",
       "      <td>5.076139e+00</td>\n",
       "    </tr>\n",
       "    <tr>\n",
       "      <th>energy single</th>\n",
       "      <td>3.614012e+00</td>\n",
       "    </tr>\n",
       "    <tr>\n",
       "      <th>speechiness single</th>\n",
       "      <td>3.406923e+00</td>\n",
       "    </tr>\n",
       "    <tr>\n",
       "      <th>is_featured_artist single</th>\n",
       "      <td>1.640218e+00</td>\n",
       "    </tr>\n",
       "    <tr>\n",
       "      <th>explicit is_featured_artist</th>\n",
       "      <td>7.598665e-01</td>\n",
       "    </tr>\n",
       "    <tr>\n",
       "      <th>is_featured_artist track_number</th>\n",
       "      <td>3.833344e-01</td>\n",
       "    </tr>\n",
       "    <tr>\n",
       "      <th>1</th>\n",
       "      <td>2.553325e-14</td>\n",
       "    </tr>\n",
       "    <tr>\n",
       "      <th>explicit energy</th>\n",
       "      <td>-1.005081e-01</td>\n",
       "    </tr>\n",
       "    <tr>\n",
       "      <th>danceability is_featured_artist</th>\n",
       "      <td>-1.135061e+00</td>\n",
       "    </tr>\n",
       "    <tr>\n",
       "      <th>explicit track_number</th>\n",
       "      <td>-2.184328e+00</td>\n",
       "    </tr>\n",
       "    <tr>\n",
       "      <th>explicit^2</th>\n",
       "      <td>-2.346845e+00</td>\n",
       "    </tr>\n",
       "    <tr>\n",
       "      <th>explicit</th>\n",
       "      <td>-2.346845e+00</td>\n",
       "    </tr>\n",
       "    <tr>\n",
       "      <th>speechiness is_featured_artist</th>\n",
       "      <td>-3.847730e+00</td>\n",
       "    </tr>\n",
       "    <tr>\n",
       "      <th>explicit single</th>\n",
       "      <td>-4.025298e+00</td>\n",
       "    </tr>\n",
       "    <tr>\n",
       "      <th>danceability single</th>\n",
       "      <td>-7.467798e+00</td>\n",
       "    </tr>\n",
       "    <tr>\n",
       "      <th>danceability energy</th>\n",
       "      <td>-9.982235e+00</td>\n",
       "    </tr>\n",
       "    <tr>\n",
       "      <th>is_featured_artist energy</th>\n",
       "      <td>-1.811022e+01</td>\n",
       "    </tr>\n",
       "    <tr>\n",
       "      <th>track_number energy</th>\n",
       "      <td>-2.043666e+01</td>\n",
       "    </tr>\n",
       "    <tr>\n",
       "      <th>danceability</th>\n",
       "      <td>-2.278948e+01</td>\n",
       "    </tr>\n",
       "    <tr>\n",
       "      <th>energy^2</th>\n",
       "      <td>-3.770513e+01</td>\n",
       "    </tr>\n",
       "    <tr>\n",
       "      <th>danceability track_number</th>\n",
       "      <td>-4.638678e+01</td>\n",
       "    </tr>\n",
       "    <tr>\n",
       "      <th>speechiness track_number</th>\n",
       "      <td>-5.031792e+01</td>\n",
       "    </tr>\n",
       "    <tr>\n",
       "      <th>speechiness</th>\n",
       "      <td>-7.382804e+01</td>\n",
       "    </tr>\n",
       "    <tr>\n",
       "      <th>track_number single</th>\n",
       "      <td>-1.553133e+02</td>\n",
       "    </tr>\n",
       "  </tbody>\n",
       "</table>\n",
       "</div>"
      ],
      "text/plain": [
       "                                   importance\n",
       "energy                           4.428871e+01\n",
       "track_number                     3.914197e+01\n",
       "danceability speechiness         3.767490e+01\n",
       "speechiness energy               2.100625e+01\n",
       "speechiness^2                    1.691093e+01\n",
       "danceability^2                   1.675282e+01\n",
       "danceability explicit            1.642987e+01\n",
       "speechiness explicit             1.138116e+01\n",
       "is_featured_artist^2             1.018052e+01\n",
       "is_featured_artist               1.018052e+01\n",
       "track_number^2                   8.157009e+00\n",
       "single^2                         5.076139e+00\n",
       "single                           5.076139e+00\n",
       "energy single                    3.614012e+00\n",
       "speechiness single               3.406923e+00\n",
       "is_featured_artist single        1.640218e+00\n",
       "explicit is_featured_artist      7.598665e-01\n",
       "is_featured_artist track_number  3.833344e-01\n",
       "1                                2.553325e-14\n",
       "explicit energy                 -1.005081e-01\n",
       "danceability is_featured_artist -1.135061e+00\n",
       "explicit track_number           -2.184328e+00\n",
       "explicit^2                      -2.346845e+00\n",
       "explicit                        -2.346845e+00\n",
       "speechiness is_featured_artist  -3.847730e+00\n",
       "explicit single                 -4.025298e+00\n",
       "danceability single             -7.467798e+00\n",
       "danceability energy             -9.982235e+00\n",
       "is_featured_artist energy       -1.811022e+01\n",
       "track_number energy             -2.043666e+01\n",
       "danceability                    -2.278948e+01\n",
       "energy^2                        -3.770513e+01\n",
       "danceability track_number       -4.638678e+01\n",
       "speechiness track_number        -5.031792e+01\n",
       "speechiness                     -7.382804e+01\n",
       "track_number single             -1.553133e+02"
      ]
     },
     "execution_count": 92,
     "metadata": {},
     "output_type": "execute_result"
    }
   ],
   "source": [
    "feature_importances = pd.DataFrame(lm_sq.coef_, \n",
    "                                   index = pf.get_feature_names(X_tr_top2.columns), \n",
    "                                   columns=['importance']).sort_values('importance', ascending=False)\n",
    "feature_importances#, feature_importances.tail(5)"
   ]
  },
  {
   "cell_type": "code",
   "execution_count": 66,
   "metadata": {},
   "outputs": [],
   "source": [
    "#visualize_model(lm_sq_pred_t, y_test, bl, 'Polynomial Features with Linear Regression')"
   ]
  },
  {
   "cell_type": "code",
   "execution_count": 65,
   "metadata": {},
   "outputs": [],
   "source": [
    "#visualize_error(lm_sq_pred_t, y_test, bl, 'Polynomial Features with Linear Regression')"
   ]
  },
  {
   "cell_type": "code",
   "execution_count": 69,
   "metadata": {},
   "outputs": [
    {
     "data": {
      "image/png": "[encoded data removed]",
      "text/plain": [
       "<Figure size 1152x576 with 1 Axes>"
      ]
     },
     "metadata": {},
     "output_type": "display_data"
    }
   ],
   "source": [
    "# first, a gray line representing the baseline prediction, \n",
    "# a horizontal line because it only predicts the average\n",
    "plt.figure(figsize=(16,8))\n",
    "plt.axhline(bl, alpha=.95, color=\"gray\", linestyle=':', label='Baseline Prediction: Average')\n",
    "\n",
    "# next, straight line for the actual values\n",
    "# y = x, i.e. when the value is 10 it would be predicted 10, when 60 it would be 60, etc.\n",
    "plt.plot(y_test, y_test, alpha=.9, color=\"blue\", label='The Ideal Line: Actual Values')\n",
    "\n",
    "# next, a scatter plot representing each observation (song popularity) as the actual value vs. the predicted value\n",
    "plt.scatter(y_test, lm_sq_pred_t, \n",
    "        alpha=.3, color='red', s=30, label='Model: Polynomial Regression - 2nd Degree')\n",
    "\n",
    "# adding plot labels\n",
    "plt.legend()\n",
    "plt.xlabel(\"Actual Song Popularity\", size=13)\n",
    "plt.ylabel(\"Predicted Song Popularity\", size=13)\n",
    "plt.title(\"How Does the Final Model Compare to Baseline? And to Actual Values?\", size=15)\n",
    "plt.show()"
   ]
  },
  {
   "cell_type": "code",
   "execution_count": 39,
   "metadata": {},
   "outputs": [],
   "source": [
    "def get_important_feats(model, X):\n",
    "    feature_importances = pd.DataFrame(rf.featureimportances,\n",
    "                                       index = X_train_scaled.columns,\n",
    "                                        columns=['importance']).sort_values('importance',ascending=False)\n",
    "    return feature_importances"
   ]
  },
  {
   "cell_type": "markdown",
   "metadata": {},
   "source": [
    "Next\n",
    "- put modeling prep into a function\n",
    "- check the important feats for the ALL FEATURES MODEL\n",
    "- clean up the notebook"
   ]
  },
  {
   "cell_type": "code",
   "execution_count": 62,
   "metadata": {},
   "outputs": [
    {
     "data": {
      "text/html": [
       "<div>\n",
       "<style scoped>\n",
       "    .dataframe tbody tr th:only-of-type {\n",
       "        vertical-align: middle;\n",
       "    }\n",
       "\n",
       "    .dataframe tbody tr th {\n",
       "        vertical-align: top;\n",
       "    }\n",
       "\n",
       "    .dataframe thead th {\n",
       "        text-align: right;\n",
       "    }\n",
       "</style>\n",
       "<table border=\"1\" class=\"dataframe\">\n",
       "  <thead>\n",
       "    <tr style=\"text-align: right;\">\n",
       "      <th></th>\n",
       "      <th>train_rmse</th>\n",
       "      <th>validate_rmse</th>\n",
       "      <th>test_rmse</th>\n",
       "    </tr>\n",
       "  </thead>\n",
       "  <tbody>\n",
       "    <tr>\n",
       "      <th>Polynomial 2nd Degree</th>\n",
       "      <td>21.599581</td>\n",
       "      <td>21.5257</td>\n",
       "      <td>21.5236</td>\n",
       "    </tr>\n",
       "    <tr>\n",
       "      <th>Linear Regression</th>\n",
       "      <td>21.796331</td>\n",
       "      <td>21.7566</td>\n",
       "      <td></td>\n",
       "    </tr>\n",
       "    <tr>\n",
       "      <th>Baseline</th>\n",
       "      <td>22.897138</td>\n",
       "      <td></td>\n",
       "      <td></td>\n",
       "    </tr>\n",
       "  </tbody>\n",
       "</table>\n",
       "</div>"
      ],
      "text/plain": [
       "                       train_rmse validate_rmse test_rmse\n",
       "Polynomial 2nd Degree   21.599581       21.5257   21.5236\n",
       "Linear Regression       21.796331       21.7566          \n",
       "Baseline                22.897138                        "
      ]
     },
     "execution_count": 62,
     "metadata": {},
     "output_type": "execute_result"
    }
   ],
   "source": [
    "columns = ['train_rmse', 'validate_rmse', 'test_rmse']\n",
    "iindex = ['Baseline', 'Linear Regression', 'Polynomial 2nd Degree']\n",
    "data = [[bl_train_rmse, '', ''],\n",
    "        [lm_rmse, lm_rmse_v, ''],\n",
    "        [lm_sq_rmse, lm_sq_rmse_v, lm_sq_rmse_t]]\n",
    "mod_perf = pd.DataFrame(columns=columns, data=data, index=iindex).sort_values(by='train_rmse')\n",
    "mod_perf"
   ]
  },
  {
   "cell_type": "code",
   "execution_count": 63,
   "metadata": {
    "scrolled": false
   },
   "outputs": [
    {
     "data": {
      "text/plain": [
       "(array([0, 1, 2]), <a list of 3 Text xticklabel objects>)"
      ]
     },
     "execution_count": 63,
     "metadata": {},
     "output_type": "execute_result"
    },
    {
     "data": {
      "image/png": "[encoded data removed]",
      "text/plain": [
       "<Figure size 936x648 with 1 Axes>"
      ]
     },
     "metadata": {},
     "output_type": "display_data"
    }
   ],
   "source": [
    "plt.figure(figsize=(13,9))\n",
    "sns.set_theme(style=\"whitegrid\")\n",
    "sns.barplot(mod_perf.index, mod_perf.train_rmse, alpha=.8)\n",
    "\n",
    "plt.title('Initial Modeling Results on Train', size = 20)\n",
    "plt.ylabel('Calculated RMSE', size = 15)\n",
    "plt.xlabel('\\nModel Type', size = 15)\n",
    "plt.xticks(size=15)"
   ]
  },
  {
   "cell_type": "code",
   "execution_count": 80,
   "metadata": {},
   "outputs": [
    {
     "ename": "AttributeError",
     "evalue": "module 'seaborn' has no attribute 'plot'",
     "output_type": "error",
     "traceback": [
      "\u001b[0;31m-------------------------------------------------------------------\u001b[0m",
      "\u001b[0;31mAttributeError\u001b[0m                    Traceback (most recent call last)",
      "\u001b[0;32m<ipython-input-80-b34cb983fc33>\u001b[0m in \u001b[0;36m<module>\u001b[0;34m\u001b[0m\n\u001b[0;32m----> 1\u001b[0;31m \u001b[0msns\u001b[0m\u001b[0;34m.\u001b[0m\u001b[0mplot\u001b[0m\u001b[0;34m(\u001b[0m\u001b[0my_test\u001b[0m\u001b[0;34m,\u001b[0m \u001b[0my_pred_test\u001b[0m\u001b[0;34m)\u001b[0m\u001b[0;34m\u001b[0m\u001b[0;34m\u001b[0m\u001b[0m\n\u001b[0m",
      "\u001b[0;31mAttributeError\u001b[0m: module 'seaborn' has no attribute 'plot'"
     ]
    }
   ],
   "source": [
    "sns.plot(y_test, y_pred_test)"
   ]
  },
  {
   "cell_type": "code",
   "execution_count": null,
   "metadata": {},
   "outputs": [],
   "source": [
    "y = a + bx + cx^2"
   ]
  },
  {
   "cell_type": "code",
   "execution_count": null,
   "metadata": {},
   "outputs": [],
   "source": []
  },
  {
   "cell_type": "code",
   "execution_count": 176,
   "metadata": {},
   "outputs": [
    {
     "data": {
      "image/png": "[encoded data removed]",
      "text/plain": [
       "<Figure size 1152x576 with 1 Axes>"
      ]
     },
     "metadata": {},
     "output_type": "display_data"
    },
    {
     "name": "stdout",
     "output_type": "stream",
     "text": [
      "y = 0.079 $x^2$ + 0.001 x + 34.20\n"
     ]
    }
   ],
   "source": [
    "from scipy.optimize import curve_fit\n",
    "# define the true objective function\n",
    "def objective(x, a, b, c):\n",
    "    return a * x + b * x**2 + c\n",
    "\n",
    "x, y = y_test, y_pred_test\n",
    "popt, _ = curve_fit(objective, x, y)\n",
    "a, b, c = popt\n",
    "equation = f'y = %.3f $x^2$ + %.3f x + %.2f' % (a, b, c)\n",
    "\n",
    "# first, a gray line representing the baseline prediction,\n",
    "# a horizontal line because it only predicts the average\n",
    "plt.figure(figsize=(16,8))\n",
    "plt.axhline(bl, alpha=.95, color=\"black\", linestyle='--', label='Baseline Prediction: Average')\n",
    "\n",
    "# define a sequence of inputs between the smallest and largest known inputs\n",
    "x_line = np.arange(min(x), max(x), 1)\n",
    "# calculate the output for the range\n",
    "y_line = objective(x_line, a, b, c)\n",
    "# create a line plot for the mapping function\n",
    "plt.plot(x_line, y_line, color='dodgerblue', linewidth=3, label='The Line of Best Fit')\n",
    "\n",
    "# next, a scatter plot representing each observation (song popularity) as the actual value vs. the predicted value\n",
    "plt.scatter(y_test, lm_sq_pred_t, \n",
    "        alpha=.4, color='red', s=50, label='Model: Polynomial Regression - 2nd Degree')\n",
    "\n",
    "# adding plot labels\n",
    "plt.annotate(equation, xy=(35, 38.5), xytext=(40,17), size=14,\n",
    "            arrowprops=dict(facecolor='dodgerblue', shrink=0.05, alpha=.8, linewidth=.5))\n",
    "plt.legend(fontsize=14)\n",
    "plt.xticks([0, 20, 40, 60, 80, 100])\n",
    "plt.yticks([0, 20, 40, 60])\n",
    "#plt.xlabel(\"Actual Song Popularity\", size=14)\n",
    "#plt.ylabel(\"Predicted Song Popularity\", size=14)\n",
    "#plt.title(\"How Does the Final Model Compare to Baseline? And to Actual Values?\", size=15)\n",
    "plt.show()\n",
    "print(equation)"
   ]
  },
  {
   "cell_type": "code",
   "execution_count": 179,
   "metadata": {},
   "outputs": [
    {
     "data": {
      "image/png": "[encoded data removed]",
      "text/plain": [
       "<Figure size 1152x576 with 1 Axes>"
      ]
     },
     "metadata": {},
     "output_type": "display_data"
    }
   ],
   "source": [
    "plt.figure(figsize=(16,8))\n",
    "\n",
    "# a straight line for an observation having no error, would lie on this line\n",
    "plt.axhline(label=\"The Ideal Line: No Error\")\n",
    "\n",
    "# the actual song popularity vs how far the prediction is from the actual\n",
    "plt.scatter(y_test, y_pred_test - y_test, \n",
    "        alpha=.4, color='red', s=50, label= 'Model: Polynomial Regression - 2nd Degree')\n",
    "\n",
    "# plot labels\n",
    "plt.legend(fontsize=14)\n",
    "#plt.xlabel(\"Actual Song Popularity\", size=13)\n",
    "#plt.ylabel(\"Residual/Error: Predicted Popularity - Actual Popularity\", size=13)\n",
    "#plt.title(\"Do the Size of Errors Change as the Popularity Changes?\", size=15)\n",
    "\n",
    "plt.show()"
   ]
  },
  {
   "cell_type": "code",
   "execution_count": null,
   "metadata": {},
   "outputs": [],
   "source": []
  }
 ],
 "metadata": {
  "kernelspec": {
   "display_name": "Python 3",
   "language": "python",
   "name": "python3"
  },
  "language_info": {
   "codemirror_mode": {
    "name": "ipython",
    "version": 3
   },
   "file_extension": ".py",
   "mimetype": "text/x-python",
   "name": "python",
   "nbconvert_exporter": "python",
   "pygments_lexer": "ipython3",
   "version": "3.7.6"
  }
 },
 "nbformat": 4,
 "nbformat_minor": 4
}
