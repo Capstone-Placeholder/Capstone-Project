{
 "cells": [
  {
   "cell_type": "markdown",
   "metadata": {},
   "source": [
    "# Exploratory Data Analysis\n",
    "### Kwame V. Taylor"
   ]
  },
  {
   "cell_type": "markdown",
   "metadata": {},
   "source": [
    "## Set up Environment"
   ]
  },
  {
   "cell_type": "code",
   "execution_count": 1,
   "metadata": {},
   "outputs": [],
   "source": [
    "import pandas as pd\n",
    "import numpy as np\n",
    "\n",
    "from math import sqrt\n",
    "from scipy import stats\n",
    "\n",
    "import matplotlib.pyplot as plt\n",
    "plt.style.use('ggplot')\n",
    "import matplotlib as mpl\n",
    "import seaborn as sns\n",
    "from cycler import cycler\n",
    "\n",
    "# default viz size settings\n",
    "sns.set(rc={'figure.figsize':(12, 9)})\n",
    "sns.set_context(\"talk\", rc={\"font.size\":14,\"axes.titlesize\":16,\"axes.labelsize\":12}) \n",
    "plt.rc('figure', figsize=(12, 9))\n",
    "plt.rc('font', size=14)\n",
    "mpl.rcParams['font.size'] = 14\n",
    "mpl.rcParams['figure.figsize'] = 12, 9\n",
    "mpl.rcParams['lines.linewidth'] = 2\n",
    "mpl.rcParams['lines.linestyle'] = '--'\n",
    "mpl.rcParams['axes.prop_cycle'] = cycler(color=['deepskyblue', 'firebrick', 'darkseagreen', 'violet'])"
   ]
  },
  {
   "cell_type": "code",
   "execution_count": 2,
   "metadata": {},
   "outputs": [
    {
     "ename": "SyntaxError",
     "evalue": "invalid syntax (preprocessing.py, line 275)",
     "output_type": "error",
     "traceback": [
      "Traceback \u001b[0;36m(most recent call last)\u001b[0m:\n",
      "  File \u001b[1;32m\"/usr/local/anaconda3/lib/python3.8/site-packages/IPython/core/interactiveshell.py\"\u001b[0m, line \u001b[1;32m3343\u001b[0m, in \u001b[1;35mrun_code\u001b[0m\n    exec(code_obj, self.user_global_ns, self.user_ns)\n",
      "  File \u001b[1;32m\"<ipython-input-2-041ce95cbee7>\"\u001b[0m, line \u001b[1;32m1\u001b[0m, in \u001b[1;35m<module>\u001b[0m\n    from prepare import handle_nulls\n",
      "\u001b[0;36m  File \u001b[0;32m\"/Users/a666/codeup-data-science/Capstone-Project/prepare.py\"\u001b[0;36m, line \u001b[0;32m6\u001b[0;36m, in \u001b[0;35m<module>\u001b[0;36m\u001b[0m\n\u001b[0;31m    from preprocessing import create_features\u001b[0m\n",
      "\u001b[0;36m  File \u001b[0;32m\"/Users/a666/codeup-data-science/Capstone-Project/preprocessing.py\"\u001b[0;36m, line \u001b[0;32m275\u001b[0m\n\u001b[0;31m    <<<<<<< HEAD\u001b[0m\n\u001b[0m    ^\u001b[0m\n\u001b[0;31mSyntaxError\u001b[0m\u001b[0;31m:\u001b[0m invalid syntax\n"
     ]
    }
   ],
   "source": [
    "from prepare import handle_nulls\n",
    "from preprocessing import spotify_split, scale_data"
   ]
  },
  {
   "cell_type": "markdown",
   "metadata": {},
   "source": [
    "## Acquire data"
   ]
  },
  {
   "cell_type": "code",
   "execution_count": null,
   "metadata": {},
   "outputs": [],
   "source": [
    "df = pd.read_csv('full-playlist.csv', index_col=0)"
   ]
  },
  {
   "cell_type": "code",
   "execution_count": null,
   "metadata": {},
   "outputs": [],
   "source": [
    "df.head()"
   ]
  },
  {
   "cell_type": "code",
   "execution_count": null,
   "metadata": {},
   "outputs": [],
   "source": [
    "df.shape"
   ]
  },
  {
   "cell_type": "code",
   "execution_count": null,
   "metadata": {},
   "outputs": [],
   "source": [
    "df.columns"
   ]
  },
  {
   "cell_type": "markdown",
   "metadata": {},
   "source": [
    "## Prepare data"
   ]
  },
  {
   "cell_type": "code",
   "execution_count": null,
   "metadata": {},
   "outputs": [],
   "source": [
    "# create 3 popularity bins for use in exploration\n",
    "bin_labels_3 = ['low', 'moderate', 'high']\n",
    "df['popularity_bin'] = pd.qcut(df['popularity'], q=3, precision=0, labels=bin_labels_3)\n",
    "df.head()"
   ]
  },
  {
   "cell_type": "code",
   "execution_count": null,
   "metadata": {},
   "outputs": [],
   "source": [
    "# rearrange columns for focused and easy viewing and exploration\n",
    "\n",
    "# drop for now: 'album_id', 'album_popularity', 'release_year', 'release_month',\n",
    "# 'release_day', 'duration_minutes', 'duration_ms'\n",
    "\n",
    "df = df[['popularity', 'popularity_bin', 'artist', 'album', 'track_name',\n",
    "       'label', 'danceability', 'energy', 'key', 'loudness', 'mode', 'is_featured_artist',\n",
    "       'speechiness', 'instrumentalness', 'liveness', 'valence', 'tempo', 'time_signature', 'explicit',\n",
    "       'disc_number', 'duration_seconds', 'track_number', 'album_type', 'release_date']]\n",
    "df"
   ]
  },
  {
   "cell_type": "code",
   "execution_count": null,
   "metadata": {},
   "outputs": [],
   "source": [
    "# handle null values\n",
    "df = handle_nulls(df)\n",
    "\n",
    "# split the data\n",
    "X_train, y_train, X_validate, y_validate, X_test, y_test, train, validate, test = spotify_split(df, 'popularity')\n",
    "train.head()"
   ]
  },
  {
   "cell_type": "code",
   "execution_count": null,
   "metadata": {},
   "outputs": [],
   "source": [
    "train.columns"
   ]
  },
  {
   "cell_type": "markdown",
   "metadata": {},
   "source": [
    "# Does a track being explicit or not correlate with its popularity?"
   ]
  },
  {
   "cell_type": "markdown",
   "metadata": {},
   "source": [
    "### Swarm plot"
   ]
  },
  {
   "cell_type": "code",
   "execution_count": null,
   "metadata": {},
   "outputs": [],
   "source": [
    "sns.catplot(x=\"explicit\", y=\"popularity\", kind=\"swarm\", data=train, height=8, aspect=1)"
   ]
  },
  {
   "cell_type": "markdown",
   "metadata": {},
   "source": [
    "### Independent T-Test"
   ]
  },
  {
   "cell_type": "markdown",
   "metadata": {},
   "source": [
    "The features are independent because there is no overlap between observations in explicit and observations in not explicit."
   ]
  },
  {
   "cell_type": "code",
   "execution_count": null,
   "metadata": {},
   "outputs": [],
   "source": [
    "# check for normal distribution\n",
    "sns.distplot(train.popularity)"
   ]
  },
  {
   "cell_type": "code",
   "execution_count": null,
   "metadata": {},
   "outputs": [],
   "source": [
    "train.explicit.value_counts()"
   ]
  },
  {
   "cell_type": "code",
   "execution_count": null,
   "metadata": {},
   "outputs": [],
   "source": [
    "# compare variances\n",
    "explicit_sample = train[train.explicit==True].popularity\n",
    "not_explicit_sample = train[train.explicit==False].popularity\n",
    "\n",
    "print(explicit_sample.var())\n",
    "print(not_explicit_sample.var())"
   ]
  },
  {
   "cell_type": "markdown",
   "metadata": {},
   "source": [
    "No, so we will set the argument of equal_var to False."
   ]
  },
  {
   "cell_type": "markdown",
   "metadata": {},
   "source": [
    "**Set hypothesis and alpha:**\n",
    "\n",
    "$H_{0}$: Mean of song popularity of explicit tracks = Mean of song popularity of non-explicit tracks\n",
    "\n",
    "$H_{a}$: Mean of song popularity of explicit tracks > Mean of song popularity of non-explicit tracks\n",
    "\n",
    "$\\alpha$: .05"
   ]
  },
  {
   "cell_type": "code",
   "execution_count": null,
   "metadata": {},
   "outputs": [],
   "source": [
    "alpha = .05"
   ]
  },
  {
   "cell_type": "markdown",
   "metadata": {},
   "source": [
    "**Compute test statistic and probability (t-statistic & p-value)**"
   ]
  },
  {
   "cell_type": "code",
   "execution_count": null,
   "metadata": {},
   "outputs": [],
   "source": [
    "t, p = stats.ttest_ind(explicit_sample, not_explicit_sample, equal_var = False)\n",
    "\n",
    "print('Test statistic:', t, '\\n', p/2, '\\n', alpha)"
   ]
  },
  {
   "cell_type": "markdown",
   "metadata": {},
   "source": [
    "**Decide**"
   ]
  },
  {
   "cell_type": "code",
   "execution_count": null,
   "metadata": {},
   "outputs": [],
   "source": [
    "null_hypothesis = \"there is no significant difference between the mean popularity of explicit tracks and non-explicit tracks.\"\n",
    "\n",
    "if p/2 < alpha:\n",
    "    print(\"We reject the hypothesis that\", null_hypothesis)\n",
    "else:\n",
    "    print(\"We fail to reject the null hypothesis.\")"
   ]
  },
  {
   "cell_type": "code",
   "execution_count": null,
   "metadata": {},
   "outputs": [],
   "source": [
    "not_explicit_sample.mean(), explicit_sample.mean()"
   ]
  },
  {
   "cell_type": "markdown",
   "metadata": {},
   "source": [
    "Now put it in a function:"
   ]
  },
  {
   "cell_type": "code",
   "execution_count": null,
   "metadata": {},
   "outputs": [],
   "source": [
    "def explicit_viz(df):\n",
    "    '''\n",
    "    This function produces a swarm plot on explicit tracks' and non-explicit tracks' popularity.\n",
    "    '''\n",
    "    print('Does a track being explicit or not correlate with its popularity?')\n",
    "    sns.catplot(x=\"explicit\", y=\"popularity\", kind=\"swarm\", data=df)"
   ]
  },
  {
   "cell_type": "code",
   "execution_count": null,
   "metadata": {},
   "outputs": [],
   "source": [
    "def explicit_ttest(df, alpha):\n",
    "    print('Set the alpha/significance level:')\n",
    "    print('  alpha =', alpha)\n",
    "    \n",
    "    print('\\n---\\n')\n",
    "    \n",
    "    print('Check for normal distribution:')\n",
    "    sns.distplot(df.popularity)\n",
    "    plt.show()\n",
    "    \n",
    "    print('---\\n')\n",
    "    \n",
    "    print('Check values counts:')\n",
    "    print(df.explicit.value_counts())\n",
    "    \n",
    "    print('\\n---\\n')\n",
    "    \n",
    "    print('Compare variances:')\n",
    "    explicit_sample = df[df.explicit==True].popularity\n",
    "    not_explicit_sample = df[df.explicit==False].popularity\n",
    "    \n",
    "    # if [results of lavenes variance test], then equal_var = __ (automate checking similar variance)\n",
    "    print(explicit_sample.var())\n",
    "    print(not_explicit_sample.var())\n",
    "          \n",
    "    print(\"They are of similar variance, so we will set the argument of equal_var to True.\")\n",
    "    \n",
    "    print('\\n---\\n')\n",
    "          \n",
    "    print(\"Compute test statistic and probability (t-statistic & p-value)\")\n",
    "    t, p = stats.ttest_ind(explicit_sample, not_explicit_sample, equal_var = True)\n",
    "    print('Test statistic:', t, '\\np-value:', p/2, '\\nalpha:', alpha)\n",
    "    \n",
    "    print('\\n---\\n')\n",
    "    \n",
    "    null_hypothesis = \"there is no significant difference between the mean popularity of explicit tracks and non-explicit tracks.\"\n",
    "    if p/2 < alpha:\n",
    "        print(\"We reject the hypothesis that\", null_hypothesis)\n",
    "    else:\n",
    "        print(\"We fail to reject the null hypothesis.\")\n",
    "        \n",
    "    print('\\n---\\n')\n",
    "          \n",
    "    print('mean of non-explicit songs:', not_explicit_sample.mean(), '\\nmean of explicit songs:', explicit_sample.mean())"
   ]
  },
  {
   "cell_type": "code",
   "execution_count": null,
   "metadata": {},
   "outputs": [],
   "source": [
    "explicit_ttest(train, alpha)"
   ]
  },
  {
   "cell_type": "markdown",
   "metadata": {},
   "source": [
    "# Does loudness have a relationship with popularity?"
   ]
  },
  {
   "cell_type": "code",
   "execution_count": null,
   "metadata": {},
   "outputs": [],
   "source": [
    "plt.figure(figsize=(10,5))\n",
    "plt.title('Popularity & Loudness')\n",
    "plt.ylabel('Loudness')\n",
    "plt.xlabel('Popularity')\n",
    "sns.scatterplot(train['popularity'], train['loudness'])\n",
    "plt.show()"
   ]
  },
  {
   "cell_type": "markdown",
   "metadata": {},
   "source": [
    "Doesn't appear to be any valuable insights here."
   ]
  },
  {
   "cell_type": "markdown",
   "metadata": {},
   "source": [
    "# Are originals or remixes more popular?"
   ]
  },
  {
   "cell_type": "code",
   "execution_count": null,
   "metadata": {},
   "outputs": [],
   "source": [
    "train[train.track_name.str.contains('remix', case=True, flags=0, regex=False)]"
   ]
  },
  {
   "cell_type": "code",
   "execution_count": null,
   "metadata": {},
   "outputs": [],
   "source": [
    "train[train.track_name.str.contains('pop, lock', case=True, flags=0, regex=False)]"
   ]
  },
  {
   "cell_type": "code",
   "execution_count": null,
   "metadata": {},
   "outputs": [],
   "source": [
    "train.columns"
   ]
  },
  {
   "cell_type": "markdown",
   "metadata": {},
   "source": [
    "There are not enough remixes and originals to compare."
   ]
  },
  {
   "cell_type": "markdown",
   "metadata": {},
   "source": [
    "# What are the drivers of popularity?"
   ]
  },
  {
   "cell_type": "code",
   "execution_count": null,
   "metadata": {},
   "outputs": [],
   "source": [
    "def corr_heatmap(train):\n",
    "    '''\n",
    "    This function creates a heatmap of the correlation of all features scaled, minus longitude and latitude and redundant features.\n",
    "    Takes a dataFrame as an argument\n",
    "    '''\n",
    "    # heatmap time!\n",
    "    heatmap_data = train\n",
    "    corr = heatmap_data.corr()\n",
    "    mask = np.triu(np.ones_like(corr, dtype=bool))\n",
    "    ax = sns.heatmap(corr, mask=mask, center=0, vmin=0, vmax=1, cmap=sns.diverging_palette(95, 220, n=250, s=93, l=35), square=True) \n",
    "    ax.set_xticklabels(ax.get_xticklabels(), rotation=45, horizontalalignment='right')\n",
    "    ax.set_yticklabels(ax.get_yticklabels(), rotation=0, horizontalalignment='right')\n",
    "    plt.title('Which features have significant correlation?')\n",
    "    ax"
   ]
  },
  {
   "cell_type": "code",
   "execution_count": null,
   "metadata": {},
   "outputs": [],
   "source": [
    "corr_heatmap(train.drop(columns=['artist', 'album', 'track_name', 'release_date']))"
   ]
  },
  {
   "cell_type": "markdown",
   "metadata": {},
   "source": [
    "Looks like the top drivers of popularity across all of the tracks are danceability, instrumentalness, and explicit."
   ]
  },
  {
   "cell_type": "markdown",
   "metadata": {},
   "source": [
    "# Do instrumentals/lyrics have an effect on popularity?"
   ]
  },
  {
   "cell_type": "code",
   "execution_count": null,
   "metadata": {},
   "outputs": [],
   "source": [
    "train.instrumentalness.hist()"
   ]
  },
  {
   "cell_type": "code",
   "execution_count": null,
   "metadata": {},
   "outputs": [],
   "source": [
    "train.instrumentalness.value_counts()"
   ]
  },
  {
   "cell_type": "code",
   "execution_count": null,
   "metadata": {},
   "outputs": [],
   "source": [
    "train.instrumentalness.max()"
   ]
  },
  {
   "cell_type": "code",
   "execution_count": null,
   "metadata": {},
   "outputs": [],
   "source": [
    "train['instrumentalness_boolean'] = train[\"instrumentalness\"] > 0.0\n",
    "train.head()"
   ]
  },
  {
   "cell_type": "code",
   "execution_count": null,
   "metadata": {},
   "outputs": [],
   "source": [
    "sns.catplot(x=\"instrumentalness_boolean\", y=\"popularity\", hue=\"explicit\", kind=\"swarm\", data=train, height=8, aspect=1)"
   ]
  },
  {
   "cell_type": "markdown",
   "metadata": {},
   "source": [
    "There doesn't appear to be a significant difference in popularity between songs with a 0.0 amount of instrumentalness, and songs that have over 0.0 amount of instrumentalness."
   ]
  },
  {
   "cell_type": "markdown",
   "metadata": {},
   "source": [
    "# Further feature engineering and exploration"
   ]
  },
  {
   "cell_type": "code",
   "execution_count": null,
   "metadata": {},
   "outputs": [],
   "source": [
    "train.head()"
   ]
  },
  {
   "cell_type": "markdown",
   "metadata": {},
   "source": [
    "Below are the top ten record labels with the highest average of song popularity across the 6000~ trasks we have in the dataset right now. Of course, some of these labels may have a small number of observations in them. Matt has done further exploration with the labels in his notebook."
   ]
  },
  {
   "cell_type": "code",
   "execution_count": null,
   "metadata": {},
   "outputs": [],
   "source": [
    "pd.DataFrame(train.groupby('label')['popularity'].mean().sort_values(ascending=False).head(10))"
   ]
  },
  {
   "cell_type": "markdown",
   "metadata": {},
   "source": [
    "Will eventually need to use regex to seperate out each the labels (delimited by a ```/```)."
   ]
  },
  {
   "cell_type": "code",
   "execution_count": null,
   "metadata": {},
   "outputs": [],
   "source": [
    "# Grouped violinplot\n",
    "sns.violinplot(x='mode', y=\"danceability\", hue=\"popularity_bin\", data=train, palette=\"Pastel1\")\n",
    "plt.show()"
   ]
  },
  {
   "cell_type": "code",
   "execution_count": null,
   "metadata": {},
   "outputs": [],
   "source": [
    "train.columns"
   ]
  },
  {
   "cell_type": "code",
   "execution_count": null,
   "metadata": {},
   "outputs": [],
   "source": []
  }
 ],
 "metadata": {
  "kernelspec": {
   "display_name": "Python 3",
   "language": "python",
   "name": "python3"
  },
  "language_info": {
   "codemirror_mode": {
    "name": "ipython",
    "version": 3
   },
   "file_extension": ".py",
   "mimetype": "text/x-python",
   "name": "python",
   "nbconvert_exporter": "python",
   "pygments_lexer": "ipython3",
   "version": "3.8.3"
  }
 },
 "nbformat": 4,
 "nbformat_minor": 4
}
