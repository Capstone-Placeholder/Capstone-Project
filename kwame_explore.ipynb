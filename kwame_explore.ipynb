{
 "cells": [
  {
   "cell_type": "markdown",
   "metadata": {},
   "source": [
    "# Exploratory Data Analysis\n",
    "### Kwame V. Taylor"
   ]
  },
  {
   "cell_type": "markdown",
   "metadata": {},
   "source": [
    "## Set up Environment"
   ]
  },
  {
   "cell_type": "code",
   "execution_count": 26,
   "metadata": {},
   "outputs": [],
   "source": [
    "import pandas as pd\n",
    "import numpy as np\n",
    "\n",
    "from math import sqrt\n",
    "from scipy import stats\n",
    "\n",
    "import matplotlib.pyplot as plt\n",
    "plt.style.use('ggplot')\n",
    "import matplotlib as mpl\n",
    "import seaborn as sns\n",
    "from cycler import cycler\n",
    "\n",
    "# default viz size settings\n",
    "plt.rc('figure', figsize=(11, 8))\n",
    "plt.rc('font', size=15)\n",
    "mpl.rcParams['lines.linewidth'] = 2\n",
    "mpl.rcParams['lines.linestyle'] = '--'\n",
    "mpl.rcParams['axes.prop_cycle'] = cycler(color=['deepskyblue', 'firebrick', 'darkseagreen', 'violet'])"
   ]
  },
  {
   "cell_type": "code",
   "execution_count": 15,
   "metadata": {},
   "outputs": [],
   "source": [
    "from prepare import handle_nulls\n",
    "from preprocessing import split_df"
   ]
  },
  {
   "cell_type": "markdown",
   "metadata": {},
   "source": [
    "## Acquire data"
   ]
  },
  {
   "cell_type": "code",
   "execution_count": 16,
   "metadata": {},
   "outputs": [],
   "source": [
    "df = pd.read_csv('full_playlist_offset.csv', index_col=0)"
   ]
  },
  {
   "cell_type": "code",
   "execution_count": 17,
   "metadata": {},
   "outputs": [
    {
     "data": {
      "text/html": [
       "<div>\n",
       "<style scoped>\n",
       "    .dataframe tbody tr th:only-of-type {\n",
       "        vertical-align: middle;\n",
       "    }\n",
       "\n",
       "    .dataframe tbody tr th {\n",
       "        vertical-align: top;\n",
       "    }\n",
       "\n",
       "    .dataframe thead th {\n",
       "        text-align: right;\n",
       "    }\n",
       "</style>\n",
       "<table border=\"1\" class=\"dataframe\">\n",
       "  <thead>\n",
       "    <tr style=\"text-align: right;\">\n",
       "      <th></th>\n",
       "      <th>artist</th>\n",
       "      <th>album</th>\n",
       "      <th>track_name</th>\n",
       "      <th>track_id</th>\n",
       "      <th>danceability</th>\n",
       "      <th>energy</th>\n",
       "      <th>key</th>\n",
       "      <th>loudness</th>\n",
       "      <th>mode</th>\n",
       "      <th>speechiness</th>\n",
       "      <th>instrumentalness</th>\n",
       "      <th>liveness</th>\n",
       "      <th>valence</th>\n",
       "      <th>tempo</th>\n",
       "      <th>duration_ms</th>\n",
       "      <th>time_signature</th>\n",
       "      <th>release_date</th>\n",
       "      <th>explicit</th>\n",
       "      <th>popularity</th>\n",
       "    </tr>\n",
       "  </thead>\n",
       "  <tbody>\n",
       "    <tr>\n",
       "      <th>0</th>\n",
       "      <td>Tay-K</td>\n",
       "      <td>TRAPMAN</td>\n",
       "      <td>TRAPMAN</td>\n",
       "      <td>6mecZbKK3JDeMdFRNxsCV5</td>\n",
       "      <td>0.792</td>\n",
       "      <td>0.594</td>\n",
       "      <td>2</td>\n",
       "      <td>-8.544</td>\n",
       "      <td>1</td>\n",
       "      <td>0.3000</td>\n",
       "      <td>0.000000</td>\n",
       "      <td>0.244</td>\n",
       "      <td>0.351</td>\n",
       "      <td>82.512</td>\n",
       "      <td>232803</td>\n",
       "      <td>4</td>\n",
       "      <td>2020-07-12</td>\n",
       "      <td>True</td>\n",
       "      <td>43.0</td>\n",
       "    </tr>\n",
       "    <tr>\n",
       "      <th>1</th>\n",
       "      <td>Lil Wyte</td>\n",
       "      <td>Doubt Me Now</td>\n",
       "      <td>Oxy Cotton</td>\n",
       "      <td>5PtMwNq8Dp31uYdGGacVJE</td>\n",
       "      <td>0.816</td>\n",
       "      <td>0.578</td>\n",
       "      <td>9</td>\n",
       "      <td>-6.912</td>\n",
       "      <td>1</td>\n",
       "      <td>0.2330</td>\n",
       "      <td>0.000000</td>\n",
       "      <td>0.114</td>\n",
       "      <td>0.265</td>\n",
       "      <td>148.077</td>\n",
       "      <td>193920</td>\n",
       "      <td>4</td>\n",
       "      <td>2003-03-04</td>\n",
       "      <td>True</td>\n",
       "      <td>61.0</td>\n",
       "    </tr>\n",
       "    <tr>\n",
       "      <th>2</th>\n",
       "      <td>Kamelen</td>\n",
       "      <td>KINGPIN SLIM</td>\n",
       "      <td>Kingpin O.G - Remix</td>\n",
       "      <td>6s8EhlBn2PIoESylkXnwYc</td>\n",
       "      <td>0.649</td>\n",
       "      <td>0.798</td>\n",
       "      <td>0</td>\n",
       "      <td>-6.450</td>\n",
       "      <td>0</td>\n",
       "      <td>0.1450</td>\n",
       "      <td>0.000000</td>\n",
       "      <td>0.409</td>\n",
       "      <td>0.717</td>\n",
       "      <td>160.011</td>\n",
       "      <td>254390</td>\n",
       "      <td>4</td>\n",
       "      <td>2019-11-29</td>\n",
       "      <td>True</td>\n",
       "      <td>22.0</td>\n",
       "    </tr>\n",
       "    <tr>\n",
       "      <th>3</th>\n",
       "      <td>Waka Flocka Flame</td>\n",
       "      <td>Flockaveli</td>\n",
       "      <td>Grove St. Party (feat. Kebo Gotti)</td>\n",
       "      <td>2e9EZ2V5QGGZPMJacO3y0Y</td>\n",
       "      <td>0.705</td>\n",
       "      <td>0.702</td>\n",
       "      <td>0</td>\n",
       "      <td>-4.783</td>\n",
       "      <td>0</td>\n",
       "      <td>0.1080</td>\n",
       "      <td>0.000000</td>\n",
       "      <td>0.364</td>\n",
       "      <td>0.771</td>\n",
       "      <td>140.059</td>\n",
       "      <td>250493</td>\n",
       "      <td>4</td>\n",
       "      <td>2010-10-01</td>\n",
       "      <td>True</td>\n",
       "      <td>62.0</td>\n",
       "    </tr>\n",
       "    <tr>\n",
       "      <th>4</th>\n",
       "      <td>Project Pat</td>\n",
       "      <td>Mista Don't Play: Everythangs Workin'</td>\n",
       "      <td>Don't Save Her (feat. Crunchy Black)</td>\n",
       "      <td>3ZRd5Z0fiYtASLdEPPb16m</td>\n",
       "      <td>0.838</td>\n",
       "      <td>0.793</td>\n",
       "      <td>11</td>\n",
       "      <td>-5.470</td>\n",
       "      <td>0</td>\n",
       "      <td>0.0773</td>\n",
       "      <td>0.000001</td>\n",
       "      <td>0.106</td>\n",
       "      <td>0.800</td>\n",
       "      <td>160.003</td>\n",
       "      <td>261933</td>\n",
       "      <td>4</td>\n",
       "      <td>2001-02-13</td>\n",
       "      <td>True</td>\n",
       "      <td>45.0</td>\n",
       "    </tr>\n",
       "  </tbody>\n",
       "</table>\n",
       "</div>"
      ],
      "text/plain": [
       "              artist                                  album  \\\n",
       "0              Tay-K                                TRAPMAN   \n",
       "1           Lil Wyte                           Doubt Me Now   \n",
       "2            Kamelen                           KINGPIN SLIM   \n",
       "3  Waka Flocka Flame                             Flockaveli   \n",
       "4        Project Pat  Mista Don't Play: Everythangs Workin'   \n",
       "\n",
       "                             track_name                track_id  danceability  \\\n",
       "0                               TRAPMAN  6mecZbKK3JDeMdFRNxsCV5         0.792   \n",
       "1                            Oxy Cotton  5PtMwNq8Dp31uYdGGacVJE         0.816   \n",
       "2                   Kingpin O.G - Remix  6s8EhlBn2PIoESylkXnwYc         0.649   \n",
       "3    Grove St. Party (feat. Kebo Gotti)  2e9EZ2V5QGGZPMJacO3y0Y         0.705   \n",
       "4  Don't Save Her (feat. Crunchy Black)  3ZRd5Z0fiYtASLdEPPb16m         0.838   \n",
       "\n",
       "   energy  key  loudness  mode  speechiness  instrumentalness  liveness  \\\n",
       "0   0.594    2    -8.544     1       0.3000          0.000000     0.244   \n",
       "1   0.578    9    -6.912     1       0.2330          0.000000     0.114   \n",
       "2   0.798    0    -6.450     0       0.1450          0.000000     0.409   \n",
       "3   0.702    0    -4.783     0       0.1080          0.000000     0.364   \n",
       "4   0.793   11    -5.470     0       0.0773          0.000001     0.106   \n",
       "\n",
       "   valence    tempo  duration_ms  time_signature release_date  explicit  \\\n",
       "0    0.351   82.512       232803               4   2020-07-12      True   \n",
       "1    0.265  148.077       193920               4   2003-03-04      True   \n",
       "2    0.717  160.011       254390               4   2019-11-29      True   \n",
       "3    0.771  140.059       250493               4   2010-10-01      True   \n",
       "4    0.800  160.003       261933               4   2001-02-13      True   \n",
       "\n",
       "   popularity  \n",
       "0        43.0  \n",
       "1        61.0  \n",
       "2        22.0  \n",
       "3        62.0  \n",
       "4        45.0  "
      ]
     },
     "execution_count": 17,
     "metadata": {},
     "output_type": "execute_result"
    }
   ],
   "source": [
    "df.head()"
   ]
  },
  {
   "cell_type": "code",
   "execution_count": 18,
   "metadata": {},
   "outputs": [
    {
     "data": {
      "text/plain": [
       "(700, 19)"
      ]
     },
     "execution_count": 18,
     "metadata": {},
     "output_type": "execute_result"
    }
   ],
   "source": [
    "df.shape"
   ]
  },
  {
   "cell_type": "markdown",
   "metadata": {},
   "source": [
    "## Prepare data"
   ]
  },
  {
   "cell_type": "code",
   "execution_count": 6,
   "metadata": {},
   "outputs": [
    {
     "name": "stdout",
     "output_type": "stream",
     "text": [
      "train shape:  (70, 19) , validate shape:  (20, 19) , test shape:  (10, 19)\n",
      "\n",
      "train percent:  70.0 , validate percent:  20.0 , test percent:  10.0\n"
     ]
    },
    {
     "data": {
      "text/html": [
       "<div>\n",
       "<style scoped>\n",
       "    .dataframe tbody tr th:only-of-type {\n",
       "        vertical-align: middle;\n",
       "    }\n",
       "\n",
       "    .dataframe tbody tr th {\n",
       "        vertical-align: top;\n",
       "    }\n",
       "\n",
       "    .dataframe thead th {\n",
       "        text-align: right;\n",
       "    }\n",
       "</style>\n",
       "<table border=\"1\" class=\"dataframe\">\n",
       "  <thead>\n",
       "    <tr style=\"text-align: right;\">\n",
       "      <th></th>\n",
       "      <th>artist</th>\n",
       "      <th>album</th>\n",
       "      <th>track_name</th>\n",
       "      <th>track_id</th>\n",
       "      <th>danceability</th>\n",
       "      <th>energy</th>\n",
       "      <th>key</th>\n",
       "      <th>loudness</th>\n",
       "      <th>mode</th>\n",
       "      <th>speechiness</th>\n",
       "      <th>instrumentalness</th>\n",
       "      <th>liveness</th>\n",
       "      <th>valence</th>\n",
       "      <th>tempo</th>\n",
       "      <th>duration_ms</th>\n",
       "      <th>time_signature</th>\n",
       "      <th>release_date</th>\n",
       "      <th>explicit</th>\n",
       "      <th>popularity</th>\n",
       "    </tr>\n",
       "  </thead>\n",
       "  <tbody>\n",
       "    <tr>\n",
       "      <th>25</th>\n",
       "      <td>Various Artists</td>\n",
       "      <td>The Crunk Recordings: Hits From The Pioneers A...</td>\n",
       "      <td>No Problem</td>\n",
       "      <td>0EgigrGFGb4PHaVNb7fgK7</td>\n",
       "      <td>0.858</td>\n",
       "      <td>0.731</td>\n",
       "      <td>1</td>\n",
       "      <td>-7.224</td>\n",
       "      <td>1</td>\n",
       "      <td>0.2370</td>\n",
       "      <td>0.0</td>\n",
       "      <td>0.150</td>\n",
       "      <td>0.1390</td>\n",
       "      <td>85.984</td>\n",
       "      <td>214213</td>\n",
       "      <td>4</td>\n",
       "      <td>2009-08-21</td>\n",
       "      <td>True</td>\n",
       "      <td>55.0</td>\n",
       "    </tr>\n",
       "    <tr>\n",
       "      <th>26</th>\n",
       "      <td>Nelly</td>\n",
       "      <td>Nelly Party Anthems</td>\n",
       "      <td>Grillz</td>\n",
       "      <td>6zS6zUoWh8QluIZ2lv9tWb</td>\n",
       "      <td>0.865</td>\n",
       "      <td>0.514</td>\n",
       "      <td>4</td>\n",
       "      <td>-7.251</td>\n",
       "      <td>0</td>\n",
       "      <td>0.2410</td>\n",
       "      <td>0.0</td>\n",
       "      <td>0.255</td>\n",
       "      <td>0.8220</td>\n",
       "      <td>82.987</td>\n",
       "      <td>271240</td>\n",
       "      <td>4</td>\n",
       "      <td>2020-06-26</td>\n",
       "      <td>True</td>\n",
       "      <td>58.0</td>\n",
       "    </tr>\n",
       "    <tr>\n",
       "      <th>82</th>\n",
       "      <td>DJ Khaled</td>\n",
       "      <td>We Global</td>\n",
       "      <td>Go Hard</td>\n",
       "      <td>6stxKQ2M28z3YYHxVnyTVv</td>\n",
       "      <td>0.640</td>\n",
       "      <td>0.883</td>\n",
       "      <td>5</td>\n",
       "      <td>-4.011</td>\n",
       "      <td>0</td>\n",
       "      <td>0.0497</td>\n",
       "      <td>0.0</td>\n",
       "      <td>0.488</td>\n",
       "      <td>0.3790</td>\n",
       "      <td>130.005</td>\n",
       "      <td>272093</td>\n",
       "      <td>4</td>\n",
       "      <td>2008-09-16</td>\n",
       "      <td>True</td>\n",
       "      <td>8.0</td>\n",
       "    </tr>\n",
       "    <tr>\n",
       "      <th>56</th>\n",
       "      <td>Tay-K</td>\n",
       "      <td>#SantanaWorld (+)</td>\n",
       "      <td>Megaman</td>\n",
       "      <td>6ikgPqC9vhkduTdIpsqYdj</td>\n",
       "      <td>0.744</td>\n",
       "      <td>0.314</td>\n",
       "      <td>8</td>\n",
       "      <td>-8.871</td>\n",
       "      <td>1</td>\n",
       "      <td>0.0864</td>\n",
       "      <td>0.0</td>\n",
       "      <td>0.134</td>\n",
       "      <td>0.0438</td>\n",
       "      <td>134.388</td>\n",
       "      <td>133000</td>\n",
       "      <td>4</td>\n",
       "      <td>2017-12-14</td>\n",
       "      <td>True</td>\n",
       "      <td>59.0</td>\n",
       "    </tr>\n",
       "    <tr>\n",
       "      <th>98</th>\n",
       "      <td>T-Pain</td>\n",
       "      <td>Epiphany</td>\n",
       "      <td>Bartender</td>\n",
       "      <td>5kxddRG1RZaZROadk7iC4D</td>\n",
       "      <td>0.675</td>\n",
       "      <td>0.394</td>\n",
       "      <td>8</td>\n",
       "      <td>-8.539</td>\n",
       "      <td>1</td>\n",
       "      <td>0.1330</td>\n",
       "      <td>0.0</td>\n",
       "      <td>0.214</td>\n",
       "      <td>0.4050</td>\n",
       "      <td>104.987</td>\n",
       "      <td>238800</td>\n",
       "      <td>4</td>\n",
       "      <td>2007-06-05</td>\n",
       "      <td>True</td>\n",
       "      <td>69.0</td>\n",
       "    </tr>\n",
       "  </tbody>\n",
       "</table>\n",
       "</div>"
      ],
      "text/plain": [
       "             artist                                              album  \\\n",
       "25  Various Artists  The Crunk Recordings: Hits From The Pioneers A...   \n",
       "26            Nelly                                Nelly Party Anthems   \n",
       "82        DJ Khaled                                          We Global   \n",
       "56            Tay-K                                  #SantanaWorld (+)   \n",
       "98           T-Pain                                           Epiphany   \n",
       "\n",
       "    track_name                track_id  danceability  energy  key  loudness  \\\n",
       "25  No Problem  0EgigrGFGb4PHaVNb7fgK7         0.858   0.731    1    -7.224   \n",
       "26      Grillz  6zS6zUoWh8QluIZ2lv9tWb         0.865   0.514    4    -7.251   \n",
       "82     Go Hard  6stxKQ2M28z3YYHxVnyTVv         0.640   0.883    5    -4.011   \n",
       "56     Megaman  6ikgPqC9vhkduTdIpsqYdj         0.744   0.314    8    -8.871   \n",
       "98   Bartender  5kxddRG1RZaZROadk7iC4D         0.675   0.394    8    -8.539   \n",
       "\n",
       "    mode  speechiness  instrumentalness  liveness  valence    tempo  \\\n",
       "25     1       0.2370               0.0     0.150   0.1390   85.984   \n",
       "26     0       0.2410               0.0     0.255   0.8220   82.987   \n",
       "82     0       0.0497               0.0     0.488   0.3790  130.005   \n",
       "56     1       0.0864               0.0     0.134   0.0438  134.388   \n",
       "98     1       0.1330               0.0     0.214   0.4050  104.987   \n",
       "\n",
       "    duration_ms  time_signature release_date  explicit  popularity  \n",
       "25       214213               4   2009-08-21      True        55.0  \n",
       "26       271240               4   2020-06-26      True        58.0  \n",
       "82       272093               4   2008-09-16      True         8.0  \n",
       "56       133000               4   2017-12-14      True        59.0  \n",
       "98       238800               4   2007-06-05      True        69.0  "
      ]
     },
     "execution_count": 6,
     "metadata": {},
     "output_type": "execute_result"
    }
   ],
   "source": [
    "# handle null values\n",
    "df = handle_nulls(df)\n",
    "\n",
    "# split the data\n",
    "train, validate, test = split_df(df)\n",
    "train.head()"
   ]
  },
  {
   "cell_type": "code",
   "execution_count": 7,
   "metadata": {},
   "outputs": [
    {
     "data": {
      "text/plain": [
       "Index(['artist', 'album', 'track_name', 'track_id', 'danceability', 'energy',\n",
       "       'key', 'loudness', 'mode', 'speechiness', 'instrumentalness',\n",
       "       'liveness', 'valence', 'tempo', 'duration_ms', 'time_signature',\n",
       "       'release_date', 'explicit', 'popularity'],\n",
       "      dtype='object')"
      ]
     },
     "execution_count": 7,
     "metadata": {},
     "output_type": "execute_result"
    }
   ],
   "source": [
    "df.columns"
   ]
  },
  {
   "cell_type": "markdown",
   "metadata": {},
   "source": [
    "# Does a track being explicit or not correlate with its popularity?"
   ]
  },
  {
   "cell_type": "markdown",
   "metadata": {},
   "source": [
    "### Swarm plot"
   ]
  },
  {
   "cell_type": "code",
   "execution_count": 20,
   "metadata": {},
   "outputs": [
    {
     "data": {
      "text/plain": [
       "<seaborn.axisgrid.FacetGrid at 0x7ffbf4512040>"
      ]
     },
     "execution_count": 20,
     "metadata": {},
     "output_type": "execute_result"
    },
    {
     "data": {
      "image/png": "[encoded data removed]",
      "text/plain": [
       "<Figure size 360x360 with 1 Axes>"
      ]
     },
     "metadata": {},
     "output_type": "display_data"
    }
   ],
   "source": [
    "sns.catplot(x=\"explicit\", y=\"popularity\", kind=\"swarm\", data=df)"
   ]
  },
  {
   "cell_type": "markdown",
   "metadata": {},
   "source": [
    "### Independent T-Test"
   ]
  },
  {
   "cell_type": "markdown",
   "metadata": {},
   "source": [
    "The features are independent because there is no overlap between observations in explicit and observations in not explicit."
   ]
  },
  {
   "cell_type": "code",
   "execution_count": 27,
   "metadata": {},
   "outputs": [
    {
     "data": {
      "text/plain": [
       "<matplotlib.axes._subplots.AxesSubplot at 0x7ffbf0d93730>"
      ]
     },
     "execution_count": 27,
     "metadata": {},
     "output_type": "execute_result"
    },
    {
     "data": {
      "image/png": "[encoded data removed]",
      "text/plain": [
       "<Figure size 792x576 with 1 Axes>"
      ]
     },
     "metadata": {},
     "output_type": "display_data"
    }
   ],
   "source": [
    "# check for normal distribution\n",
    "sns.distplot(df.popularity)"
   ]
  },
  {
   "cell_type": "code",
   "execution_count": 31,
   "metadata": {},
   "outputs": [
    {
     "data": {
      "text/plain": [
       "True     607\n",
       "False     93\n",
       "Name: explicit, dtype: int64"
      ]
     },
     "execution_count": 31,
     "metadata": {},
     "output_type": "execute_result"
    }
   ],
   "source": [
    "df.explicit.value_counts()"
   ]
  },
  {
   "cell_type": "code",
   "execution_count": 32,
   "metadata": {},
   "outputs": [
    {
     "name": "stdout",
     "output_type": "stream",
     "text": [
      "470.9400231621187\n",
      "550.5780738662927\n"
     ]
    }
   ],
   "source": [
    "# compare variances\n",
    "explicit_sample = df[df.explicit==True].popularity\n",
    "not_explicit_sample = df[df.explicit==False].popularity\n",
    "\n",
    "print(explicit_sample.var())\n",
    "print(not_explicit_sample.var())"
   ]
  },
  {
   "cell_type": "markdown",
   "metadata": {},
   "source": [
    "No, so we will set the argument of equal_var to False."
   ]
  },
  {
   "cell_type": "markdown",
   "metadata": {},
   "source": [
    "**Set hypothesis and alpha:**\n",
    "\n",
    "$H_{0}$: Mean of song popularity of explicit tracks = Mean of song popularity of non-explicit tracks\n",
    "\n",
    "$H_{a}$: Mean of song popularity of explicit tracks > Mean of song popularity of non-explicit tracks\n",
    "\n",
    "$\\alpha$: .05"
   ]
  },
  {
   "cell_type": "code",
   "execution_count": 34,
   "metadata": {},
   "outputs": [],
   "source": [
    "alpha = .05"
   ]
  },
  {
   "cell_type": "markdown",
   "metadata": {},
   "source": [
    "**Compute test statistic and probability (t-statistic & p-value)**"
   ]
  },
  {
   "cell_type": "code",
   "execution_count": 35,
   "metadata": {},
   "outputs": [
    {
     "name": "stdout",
     "output_type": "stream",
     "text": [
      "Test statistic: 2.656632970670158 \n",
      " 0.0044953248689709145 \n",
      " 0.05\n"
     ]
    }
   ],
   "source": [
    "t, p = stats.ttest_ind(explicit_sample, not_explicit_sample, equal_var = False)\n",
    "\n",
    "print('Test statistic:', t, '\\n', p/2, '\\n', alpha)"
   ]
  },
  {
   "cell_type": "markdown",
   "metadata": {},
   "source": [
    "**Decide**"
   ]
  },
  {
   "cell_type": "code",
   "execution_count": 37,
   "metadata": {},
   "outputs": [
    {
     "name": "stdout",
     "output_type": "stream",
     "text": [
      "We reject the hypothesis that there is no significant difference between the mean popularity of explicit tracks and non-explicit tracks.\n"
     ]
    }
   ],
   "source": [
    "null_hypothesis = \"there is no significant difference between the mean popularity of explicit tracks and non-explicit tracks.\"\n",
    "\n",
    "if p/2 < alpha:\n",
    "    print(\"We reject the hypothesis that\", null_hypothesis)\n",
    "else:\n",
    "    print(\"We fail to reject the null hypothesis.\")"
   ]
  },
  {
   "cell_type": "code",
   "execution_count": 39,
   "metadata": {},
   "outputs": [
    {
     "data": {
      "text/plain": [
       "(35.473118279569896, 42.34761120263592)"
      ]
     },
     "execution_count": 39,
     "metadata": {},
     "output_type": "execute_result"
    }
   ],
   "source": [
    "not_explicit_sample.mean(), explicit_sample.mean()"
   ]
  },
  {
   "cell_type": "markdown",
   "metadata": {},
   "source": [
    "Now put it in a function:"
   ]
  },
  {
   "cell_type": "code",
   "execution_count": null,
   "metadata": {},
   "outputs": [],
   "source": [
    "def explicit_viz(df):\n",
    "    \n",
    "\n",
    "def explicit_ttest(df)"
   ]
  },
  {
   "cell_type": "markdown",
   "metadata": {},
   "source": [
    "# Does loudness have a relationship with popularity?"
   ]
  },
  {
   "cell_type": "code",
   "execution_count": null,
   "metadata": {},
   "outputs": [],
   "source": []
  }
 ],
 "metadata": {
  "kernelspec": {
   "display_name": "Python 3",
   "language": "python",
   "name": "python3"
  },
  "language_info": {
   "codemirror_mode": {
    "name": "ipython",
    "version": 3
   },
   "file_extension": ".py",
   "mimetype": "text/x-python",
   "name": "python",
   "nbconvert_exporter": "python",
   "pygments_lexer": "ipython3",
   "version": "3.8.3"
  }
 },
 "nbformat": 4,
 "nbformat_minor": 4
}
