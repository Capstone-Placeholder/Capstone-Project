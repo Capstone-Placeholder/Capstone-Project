{
 "cells": [
  {
   "cell_type": "markdown",
   "metadata": {},
   "source": [
    "# Predictive Modeling\n",
    "### Kwame V. Taylor\n",
    "\n",
    "I will set the baseline and create the first ML model to predict song popularity."
   ]
  },
  {
   "cell_type": "markdown",
   "metadata": {},
   "source": [
    "## Set up Environment"
   ]
  },
  {
   "cell_type": "code",
   "execution_count": 1,
   "metadata": {},
   "outputs": [],
   "source": [
    "import numpy as np\n",
    "import pandas as pd\n",
    "\n",
    "from sklearn.cluster import KMeans\n",
    "from sklearn.metrics import mean_squared_error, explained_variance_score, mean_absolute_error\n",
    "from sklearn.linear_model import LinearRegression, TweedieRegressor\n",
    "from sklearn.feature_selection import RFE\n",
    "from sklearn.preprocessing import PolynomialFeatures\n",
    "\n",
    "import warnings\n",
    "warnings.filterwarnings(\"ignore\")"
   ]
  },
  {
   "cell_type": "code",
   "execution_count": 2,
   "metadata": {},
   "outputs": [],
   "source": [
    "from prepare import handle_nulls\n",
    "from preprocessing import spotify_split, split_df, scale_data"
   ]
  },
  {
   "cell_type": "markdown",
   "metadata": {},
   "source": [
    "## Acquire data"
   ]
  },
  {
   "cell_type": "code",
   "execution_count": 3,
   "metadata": {},
   "outputs": [],
   "source": [
    "df = pd.read_csv('full-playlist.csv', index_col=0)"
   ]
  },
  {
   "cell_type": "code",
   "execution_count": 4,
   "metadata": {},
   "outputs": [
    {
     "data": {
      "text/html": [
       "<div>\n",
       "<style scoped>\n",
       "    .dataframe tbody tr th:only-of-type {\n",
       "        vertical-align: middle;\n",
       "    }\n",
       "\n",
       "    .dataframe tbody tr th {\n",
       "        vertical-align: top;\n",
       "    }\n",
       "\n",
       "    .dataframe thead th {\n",
       "        text-align: right;\n",
       "    }\n",
       "</style>\n",
       "<table border=\"1\" class=\"dataframe\">\n",
       "  <thead>\n",
       "    <tr style=\"text-align: right;\">\n",
       "      <th></th>\n",
       "      <th>artist</th>\n",
       "      <th>album</th>\n",
       "      <th>release_date</th>\n",
       "      <th>track_name</th>\n",
       "      <th>track_id</th>\n",
       "      <th>danceability</th>\n",
       "      <th>energy</th>\n",
       "      <th>key</th>\n",
       "      <th>loudness</th>\n",
       "      <th>mode</th>\n",
       "      <th>speechiness</th>\n",
       "      <th>instrumentalness</th>\n",
       "      <th>liveness</th>\n",
       "      <th>valence</th>\n",
       "      <th>tempo</th>\n",
       "      <th>duration_ms</th>\n",
       "      <th>time_signature</th>\n",
       "      <th>explicit</th>\n",
       "      <th>popularity</th>\n",
       "      <th>disc_number</th>\n",
       "    </tr>\n",
       "  </thead>\n",
       "  <tbody>\n",
       "    <tr>\n",
       "      <th>0</th>\n",
       "      <td>Tay-K</td>\n",
       "      <td>TRAPMAN</td>\n",
       "      <td>2020-07-12</td>\n",
       "      <td>TRAPMAN</td>\n",
       "      <td>6mecZbKK3JDeMdFRNxsCV5</td>\n",
       "      <td>0.792</td>\n",
       "      <td>0.594</td>\n",
       "      <td>2.0</td>\n",
       "      <td>-8.544</td>\n",
       "      <td>1.0</td>\n",
       "      <td>0.3000</td>\n",
       "      <td>0.000000</td>\n",
       "      <td>0.244</td>\n",
       "      <td>0.351</td>\n",
       "      <td>82.512</td>\n",
       "      <td>232803.0</td>\n",
       "      <td>4.0</td>\n",
       "      <td>True</td>\n",
       "      <td>43.0</td>\n",
       "      <td>1.0</td>\n",
       "    </tr>\n",
       "    <tr>\n",
       "      <th>1</th>\n",
       "      <td>Lil Wyte</td>\n",
       "      <td>Doubt Me Now</td>\n",
       "      <td>2003-03-04</td>\n",
       "      <td>Oxy Cotton</td>\n",
       "      <td>5PtMwNq8Dp31uYdGGacVJE</td>\n",
       "      <td>0.816</td>\n",
       "      <td>0.578</td>\n",
       "      <td>9.0</td>\n",
       "      <td>-6.912</td>\n",
       "      <td>1.0</td>\n",
       "      <td>0.2330</td>\n",
       "      <td>0.000000</td>\n",
       "      <td>0.114</td>\n",
       "      <td>0.265</td>\n",
       "      <td>148.077</td>\n",
       "      <td>193920.0</td>\n",
       "      <td>4.0</td>\n",
       "      <td>True</td>\n",
       "      <td>61.0</td>\n",
       "      <td>1.0</td>\n",
       "    </tr>\n",
       "    <tr>\n",
       "      <th>2</th>\n",
       "      <td>Kamelen</td>\n",
       "      <td>KINGPIN SLIM</td>\n",
       "      <td>2019-11-29</td>\n",
       "      <td>Kingpin O.G - Remix</td>\n",
       "      <td>6s8EhlBn2PIoESylkXnwYc</td>\n",
       "      <td>0.649</td>\n",
       "      <td>0.798</td>\n",
       "      <td>0.0</td>\n",
       "      <td>-6.450</td>\n",
       "      <td>0.0</td>\n",
       "      <td>0.1450</td>\n",
       "      <td>0.000000</td>\n",
       "      <td>0.409</td>\n",
       "      <td>0.717</td>\n",
       "      <td>160.011</td>\n",
       "      <td>254390.0</td>\n",
       "      <td>4.0</td>\n",
       "      <td>True</td>\n",
       "      <td>22.0</td>\n",
       "      <td>1.0</td>\n",
       "    </tr>\n",
       "    <tr>\n",
       "      <th>3</th>\n",
       "      <td>Waka Flocka Flame</td>\n",
       "      <td>Flockaveli</td>\n",
       "      <td>2010-10-01</td>\n",
       "      <td>Grove St. Party (feat. Kebo Gotti)</td>\n",
       "      <td>2e9EZ2V5QGGZPMJacO3y0Y</td>\n",
       "      <td>0.705</td>\n",
       "      <td>0.702</td>\n",
       "      <td>0.0</td>\n",
       "      <td>-4.783</td>\n",
       "      <td>0.0</td>\n",
       "      <td>0.1080</td>\n",
       "      <td>0.000000</td>\n",
       "      <td>0.364</td>\n",
       "      <td>0.771</td>\n",
       "      <td>140.059</td>\n",
       "      <td>250493.0</td>\n",
       "      <td>4.0</td>\n",
       "      <td>True</td>\n",
       "      <td>62.0</td>\n",
       "      <td>1.0</td>\n",
       "    </tr>\n",
       "    <tr>\n",
       "      <th>4</th>\n",
       "      <td>Project Pat</td>\n",
       "      <td>Mista Don't Play: Everythangs Workin'</td>\n",
       "      <td>2001-02-13</td>\n",
       "      <td>Don't Save Her (feat. Crunchy Black)</td>\n",
       "      <td>3ZRd5Z0fiYtASLdEPPb16m</td>\n",
       "      <td>0.838</td>\n",
       "      <td>0.793</td>\n",
       "      <td>11.0</td>\n",
       "      <td>-5.470</td>\n",
       "      <td>0.0</td>\n",
       "      <td>0.0773</td>\n",
       "      <td>0.000001</td>\n",
       "      <td>0.106</td>\n",
       "      <td>0.800</td>\n",
       "      <td>160.003</td>\n",
       "      <td>261933.0</td>\n",
       "      <td>4.0</td>\n",
       "      <td>True</td>\n",
       "      <td>45.0</td>\n",
       "      <td>1.0</td>\n",
       "    </tr>\n",
       "  </tbody>\n",
       "</table>\n",
       "</div>"
      ],
      "text/plain": [
       "              artist                                  album release_date  \\\n",
       "0              Tay-K                                TRAPMAN   2020-07-12   \n",
       "1           Lil Wyte                           Doubt Me Now   2003-03-04   \n",
       "2            Kamelen                           KINGPIN SLIM   2019-11-29   \n",
       "3  Waka Flocka Flame                             Flockaveli   2010-10-01   \n",
       "4        Project Pat  Mista Don't Play: Everythangs Workin'   2001-02-13   \n",
       "\n",
       "                             track_name                track_id  danceability  \\\n",
       "0                               TRAPMAN  6mecZbKK3JDeMdFRNxsCV5         0.792   \n",
       "1                            Oxy Cotton  5PtMwNq8Dp31uYdGGacVJE         0.816   \n",
       "2                   Kingpin O.G - Remix  6s8EhlBn2PIoESylkXnwYc         0.649   \n",
       "3    Grove St. Party (feat. Kebo Gotti)  2e9EZ2V5QGGZPMJacO3y0Y         0.705   \n",
       "4  Don't Save Her (feat. Crunchy Black)  3ZRd5Z0fiYtASLdEPPb16m         0.838   \n",
       "\n",
       "   energy   key  loudness  mode  speechiness  instrumentalness  liveness  \\\n",
       "0   0.594   2.0    -8.544   1.0       0.3000          0.000000     0.244   \n",
       "1   0.578   9.0    -6.912   1.0       0.2330          0.000000     0.114   \n",
       "2   0.798   0.0    -6.450   0.0       0.1450          0.000000     0.409   \n",
       "3   0.702   0.0    -4.783   0.0       0.1080          0.000000     0.364   \n",
       "4   0.793  11.0    -5.470   0.0       0.0773          0.000001     0.106   \n",
       "\n",
       "   valence    tempo  duration_ms  time_signature  explicit  popularity  \\\n",
       "0    0.351   82.512     232803.0             4.0      True        43.0   \n",
       "1    0.265  148.077     193920.0             4.0      True        61.0   \n",
       "2    0.717  160.011     254390.0             4.0      True        22.0   \n",
       "3    0.771  140.059     250493.0             4.0      True        62.0   \n",
       "4    0.800  160.003     261933.0             4.0      True        45.0   \n",
       "\n",
       "   disc_number  \n",
       "0          1.0  \n",
       "1          1.0  \n",
       "2          1.0  \n",
       "3          1.0  \n",
       "4          1.0  "
      ]
     },
     "execution_count": 4,
     "metadata": {},
     "output_type": "execute_result"
    }
   ],
   "source": [
    "df.head()"
   ]
  },
  {
   "cell_type": "code",
   "execution_count": 5,
   "metadata": {},
   "outputs": [
    {
     "data": {
      "text/plain": [
       "(6074, 20)"
      ]
     },
     "execution_count": 5,
     "metadata": {},
     "output_type": "execute_result"
    }
   ],
   "source": [
    "df.shape"
   ]
  },
  {
   "cell_type": "markdown",
   "metadata": {},
   "source": [
    "## Prepare data"
   ]
  },
  {
   "cell_type": "code",
   "execution_count": 6,
   "metadata": {},
   "outputs": [
    {
     "ename": "ValueError",
     "evalue": "Bin labels must be one fewer than the number of bin edges",
     "output_type": "error",
     "traceback": [
      "\u001b[0;31m---------------------------------------------------------------------------\u001b[0m",
      "\u001b[0;31mValueError\u001b[0m                                Traceback (most recent call last)",
      "\u001b[0;32m<ipython-input-6-d7793ddf572c>\u001b[0m in \u001b[0;36m<module>\u001b[0;34m\u001b[0m\n\u001b[1;32m      3\u001b[0m \u001b[0;34m\u001b[0m\u001b[0m\n\u001b[1;32m      4\u001b[0m \u001b[0;31m# split the data\u001b[0m\u001b[0;34m\u001b[0m\u001b[0;34m\u001b[0m\u001b[0;34m\u001b[0m\u001b[0m\n\u001b[0;32m----> 5\u001b[0;31m \u001b[0mX_train\u001b[0m\u001b[0;34m,\u001b[0m \u001b[0my_train\u001b[0m\u001b[0;34m,\u001b[0m \u001b[0mX_validate\u001b[0m\u001b[0;34m,\u001b[0m \u001b[0my_validate\u001b[0m\u001b[0;34m,\u001b[0m \u001b[0mX_test\u001b[0m\u001b[0;34m,\u001b[0m \u001b[0my_test\u001b[0m\u001b[0;34m,\u001b[0m \u001b[0mtrain\u001b[0m\u001b[0;34m,\u001b[0m \u001b[0mvalidate\u001b[0m\u001b[0;34m,\u001b[0m \u001b[0mtest\u001b[0m \u001b[0;34m=\u001b[0m \u001b[0mspotify_split\u001b[0m\u001b[0;34m(\u001b[0m\u001b[0mdf\u001b[0m\u001b[0;34m,\u001b[0m \u001b[0;34m'popularity'\u001b[0m\u001b[0;34m)\u001b[0m\u001b[0;34m\u001b[0m\u001b[0;34m\u001b[0m\u001b[0m\n\u001b[0m\u001b[1;32m      6\u001b[0m \u001b[0mtrain\u001b[0m\u001b[0;34m.\u001b[0m\u001b[0mhead\u001b[0m\u001b[0;34m(\u001b[0m\u001b[0;34m)\u001b[0m\u001b[0;34m\u001b[0m\u001b[0;34m\u001b[0m\u001b[0m\n",
      "\u001b[0;32m~/codeup-data-science/Capstone-Project/preprocessing.py\u001b[0m in \u001b[0;36mspotify_split\u001b[0;34m(df, target)\u001b[0m\n\u001b[1;32m     92\u001b[0m     \u001b[0;31m# in order to use stratification, we need to turn it into a categorical variable with binning.\u001b[0m\u001b[0;34m\u001b[0m\u001b[0;34m\u001b[0m\u001b[0;34m\u001b[0m\u001b[0m\n\u001b[1;32m     93\u001b[0m     \u001b[0mbin_labels_5\u001b[0m \u001b[0;34m=\u001b[0m \u001b[0;34m[\u001b[0m\u001b[0;34m'Low'\u001b[0m\u001b[0;34m,\u001b[0m \u001b[0;34m'Moderately Low'\u001b[0m\u001b[0;34m,\u001b[0m \u001b[0;34m'Moderate'\u001b[0m\u001b[0;34m,\u001b[0m \u001b[0;34m'Moderately High'\u001b[0m\u001b[0;34m,\u001b[0m \u001b[0;34m'High'\u001b[0m\u001b[0;34m]\u001b[0m\u001b[0;34m\u001b[0m\u001b[0;34m\u001b[0m\u001b[0m\n\u001b[0;32m---> 94\u001b[0;31m     \u001b[0mdf\u001b[0m\u001b[0;34m[\u001b[0m\u001b[0;34m'popularity_bin'\u001b[0m\u001b[0;34m]\u001b[0m \u001b[0;34m=\u001b[0m \u001b[0mpd\u001b[0m\u001b[0;34m.\u001b[0m\u001b[0mqcut\u001b[0m\u001b[0;34m(\u001b[0m\u001b[0mdf\u001b[0m\u001b[0;34m[\u001b[0m\u001b[0;34m'popularity'\u001b[0m\u001b[0;34m]\u001b[0m\u001b[0;34m,\u001b[0m \u001b[0mq\u001b[0m\u001b[0;34m=\u001b[0m\u001b[0;36m4\u001b[0m\u001b[0;34m,\u001b[0m \u001b[0mprecision\u001b[0m\u001b[0;34m=\u001b[0m\u001b[0;36m0\u001b[0m\u001b[0;34m,\u001b[0m \u001b[0mlabels\u001b[0m\u001b[0;34m=\u001b[0m\u001b[0mbin_labels_5\u001b[0m\u001b[0;34m)\u001b[0m\u001b[0;34m\u001b[0m\u001b[0;34m\u001b[0m\u001b[0m\n\u001b[0m\u001b[1;32m     95\u001b[0m \u001b[0;34m\u001b[0m\u001b[0m\n\u001b[1;32m     96\u001b[0m     \u001b[0;31m# split df into test (15%) and train_validate (85%)\u001b[0m\u001b[0;34m\u001b[0m\u001b[0;34m\u001b[0m\u001b[0;34m\u001b[0m\u001b[0m\n",
      "\u001b[0;32m/usr/local/anaconda3/lib/python3.8/site-packages/pandas/core/reshape/tile.py\u001b[0m in \u001b[0;36mqcut\u001b[0;34m(x, q, labels, retbins, precision, duplicates)\u001b[0m\n\u001b[1;32m    358\u001b[0m         \u001b[0mquantiles\u001b[0m \u001b[0;34m=\u001b[0m \u001b[0mq\u001b[0m\u001b[0;34m\u001b[0m\u001b[0;34m\u001b[0m\u001b[0m\n\u001b[1;32m    359\u001b[0m     \u001b[0mbins\u001b[0m \u001b[0;34m=\u001b[0m \u001b[0malgos\u001b[0m\u001b[0;34m.\u001b[0m\u001b[0mquantile\u001b[0m\u001b[0;34m(\u001b[0m\u001b[0mx\u001b[0m\u001b[0;34m,\u001b[0m \u001b[0mquantiles\u001b[0m\u001b[0;34m)\u001b[0m\u001b[0;34m\u001b[0m\u001b[0;34m\u001b[0m\u001b[0m\n\u001b[0;32m--> 360\u001b[0;31m     fac, bins = _bins_to_cuts(\n\u001b[0m\u001b[1;32m    361\u001b[0m         \u001b[0mx\u001b[0m\u001b[0;34m,\u001b[0m\u001b[0;34m\u001b[0m\u001b[0;34m\u001b[0m\u001b[0m\n\u001b[1;32m    362\u001b[0m         \u001b[0mbins\u001b[0m\u001b[0;34m,\u001b[0m\u001b[0;34m\u001b[0m\u001b[0;34m\u001b[0m\u001b[0m\n",
      "\u001b[0;32m/usr/local/anaconda3/lib/python3.8/site-packages/pandas/core/reshape/tile.py\u001b[0m in \u001b[0;36m_bins_to_cuts\u001b[0;34m(x, bins, right, labels, precision, include_lowest, dtype, duplicates, ordered)\u001b[0m\n\u001b[1;32m    432\u001b[0m         \u001b[0;32melse\u001b[0m\u001b[0;34m:\u001b[0m\u001b[0;34m\u001b[0m\u001b[0;34m\u001b[0m\u001b[0m\n\u001b[1;32m    433\u001b[0m             \u001b[0;32mif\u001b[0m \u001b[0mlen\u001b[0m\u001b[0;34m(\u001b[0m\u001b[0mlabels\u001b[0m\u001b[0;34m)\u001b[0m \u001b[0;34m!=\u001b[0m \u001b[0mlen\u001b[0m\u001b[0;34m(\u001b[0m\u001b[0mbins\u001b[0m\u001b[0;34m)\u001b[0m \u001b[0;34m-\u001b[0m \u001b[0;36m1\u001b[0m\u001b[0;34m:\u001b[0m\u001b[0;34m\u001b[0m\u001b[0;34m\u001b[0m\u001b[0m\n\u001b[0;32m--> 434\u001b[0;31m                 raise ValueError(\n\u001b[0m\u001b[1;32m    435\u001b[0m                     \u001b[0;34m\"Bin labels must be one fewer than the number of bin edges\"\u001b[0m\u001b[0;34m\u001b[0m\u001b[0;34m\u001b[0m\u001b[0m\n\u001b[1;32m    436\u001b[0m                 )\n",
      "\u001b[0;31mValueError\u001b[0m: Bin labels must be one fewer than the number of bin edges"
     ]
    }
   ],
   "source": [
    "# handle null values\n",
    "df = handle_nulls(df)\n",
    "\n",
    "# split the data\n",
    "X_train, y_train, X_validate, y_validate, X_test, y_test, train, validate, test = spotify_split(df, 'popularity')\n",
    "train.head()"
   ]
  },
  {
   "cell_type": "code",
   "execution_count": null,
   "metadata": {},
   "outputs": [],
   "source": [
    "# show features\n",
    "df.columns"
   ]
  },
  {
   "cell_type": "markdown",
   "metadata": {},
   "source": [
    "## Set the baseline"
   ]
  },
  {
   "cell_type": "code",
   "execution_count": null,
   "metadata": {},
   "outputs": [],
   "source": []
  },
  {
   "cell_type": "code",
   "execution_count": null,
   "metadata": {},
   "outputs": [],
   "source": []
  },
  {
   "cell_type": "markdown",
   "metadata": {},
   "source": [
    "## Model 1 - "
   ]
  },
  {
   "cell_type": "code",
   "execution_count": null,
   "metadata": {},
   "outputs": [],
   "source": []
  },
  {
   "cell_type": "code",
   "execution_count": null,
   "metadata": {},
   "outputs": [],
   "source": []
  },
  {
   "cell_type": "code",
   "execution_count": null,
   "metadata": {},
   "outputs": [],
   "source": [
    "df.popularity.hist()"
   ]
  },
  {
   "cell_type": "code",
   "execution_count": null,
   "metadata": {},
   "outputs": [],
   "source": []
  }
 ],
 "metadata": {
  "kernelspec": {
   "display_name": "Python 3",
   "language": "python",
   "name": "python3"
  },
  "language_info": {
   "codemirror_mode": {
    "name": "ipython",
    "version": 3
   },
   "file_extension": ".py",
   "mimetype": "text/x-python",
   "name": "python",
   "nbconvert_exporter": "python",
   "pygments_lexer": "ipython3",
   "version": "3.8.3"
  }
 },
 "nbformat": 4,
 "nbformat_minor": 4
}
