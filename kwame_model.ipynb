{
 "cells": [
  {
   "cell_type": "markdown",
   "metadata": {},
   "source": [
    "# Predictive Modeling\n",
    "### Kwame V. Taylor\n",
    "\n",
    "I will set the baseline and create the first ML model to predict song popularity."
   ]
  },
  {
   "cell_type": "markdown",
   "metadata": {},
   "source": [
    "## Set up Environment"
   ]
  },
  {
   "cell_type": "code",
   "execution_count": 1,
   "metadata": {},
   "outputs": [],
   "source": [
    "import numpy as np\n",
    "import pandas as pd\n",
    "\n",
    "from sklearn.cluster import KMeans\n",
    "from sklearn.metrics import mean_squared_error, explained_variance_score, mean_absolute_error\n",
    "from sklearn.linear_model import LinearRegression, TweedieRegressor\n",
    "from sklearn.feature_selection import RFE\n",
    "from sklearn.preprocessing import PolynomialFeatures\n",
    "\n",
    "import warnings\n",
    "warnings.filterwarnings(\"ignore\")"
   ]
  },
  {
   "cell_type": "code",
   "execution_count": 2,
   "metadata": {},
   "outputs": [],
   "source": [
    "from prepare import handle_nulls\n",
    "from preprocessing import spotify_split, split_df, scale_data"
   ]
  },
  {
   "cell_type": "markdown",
   "metadata": {},
   "source": [
    "## Acquire data"
   ]
  },
  {
   "cell_type": "code",
   "execution_count": 3,
   "metadata": {},
   "outputs": [],
   "source": [
    "df = pd.read_csv('full-playlist.csv', index_col=0)"
   ]
  },
  {
   "cell_type": "code",
   "execution_count": 4,
   "metadata": {},
   "outputs": [
    {
     "data": {
      "text/html": [
       "<div>\n",
       "<style scoped>\n",
       "    .dataframe tbody tr th:only-of-type {\n",
       "        vertical-align: middle;\n",
       "    }\n",
       "\n",
       "    .dataframe tbody tr th {\n",
       "        vertical-align: top;\n",
       "    }\n",
       "\n",
       "    .dataframe thead th {\n",
       "        text-align: right;\n",
       "    }\n",
       "</style>\n",
       "<table border=\"1\" class=\"dataframe\">\n",
       "  <thead>\n",
       "    <tr style=\"text-align: right;\">\n",
       "      <th></th>\n",
       "      <th>artist</th>\n",
       "      <th>album</th>\n",
       "      <th>release_date</th>\n",
       "      <th>track_name</th>\n",
       "      <th>track_id</th>\n",
       "      <th>danceability</th>\n",
       "      <th>energy</th>\n",
       "      <th>key</th>\n",
       "      <th>loudness</th>\n",
       "      <th>mode</th>\n",
       "      <th>speechiness</th>\n",
       "      <th>instrumentalness</th>\n",
       "      <th>liveness</th>\n",
       "      <th>valence</th>\n",
       "      <th>tempo</th>\n",
       "      <th>duration_ms</th>\n",
       "      <th>time_signature</th>\n",
       "      <th>explicit</th>\n",
       "      <th>popularity</th>\n",
       "      <th>disc_number</th>\n",
       "    </tr>\n",
       "  </thead>\n",
       "  <tbody>\n",
       "    <tr>\n",
       "      <th>0</th>\n",
       "      <td>Tay-K</td>\n",
       "      <td>TRAPMAN</td>\n",
       "      <td>2020-07-12</td>\n",
       "      <td>TRAPMAN</td>\n",
       "      <td>6mecZbKK3JDeMdFRNxsCV5</td>\n",
       "      <td>0.792</td>\n",
       "      <td>0.594</td>\n",
       "      <td>2.0</td>\n",
       "      <td>-8.544</td>\n",
       "      <td>1.0</td>\n",
       "      <td>0.3000</td>\n",
       "      <td>0.000000</td>\n",
       "      <td>0.244</td>\n",
       "      <td>0.351</td>\n",
       "      <td>82.512</td>\n",
       "      <td>232803.0</td>\n",
       "      <td>4.0</td>\n",
       "      <td>True</td>\n",
       "      <td>43.0</td>\n",
       "      <td>1.0</td>\n",
       "    </tr>\n",
       "    <tr>\n",
       "      <th>1</th>\n",
       "      <td>Lil Wyte</td>\n",
       "      <td>Doubt Me Now</td>\n",
       "      <td>2003-03-04</td>\n",
       "      <td>Oxy Cotton</td>\n",
       "      <td>5PtMwNq8Dp31uYdGGacVJE</td>\n",
       "      <td>0.816</td>\n",
       "      <td>0.578</td>\n",
       "      <td>9.0</td>\n",
       "      <td>-6.912</td>\n",
       "      <td>1.0</td>\n",
       "      <td>0.2330</td>\n",
       "      <td>0.000000</td>\n",
       "      <td>0.114</td>\n",
       "      <td>0.265</td>\n",
       "      <td>148.077</td>\n",
       "      <td>193920.0</td>\n",
       "      <td>4.0</td>\n",
       "      <td>True</td>\n",
       "      <td>61.0</td>\n",
       "      <td>1.0</td>\n",
       "    </tr>\n",
       "    <tr>\n",
       "      <th>2</th>\n",
       "      <td>Kamelen</td>\n",
       "      <td>KINGPIN SLIM</td>\n",
       "      <td>2019-11-29</td>\n",
       "      <td>Kingpin O.G - Remix</td>\n",
       "      <td>6s8EhlBn2PIoESylkXnwYc</td>\n",
       "      <td>0.649</td>\n",
       "      <td>0.798</td>\n",
       "      <td>0.0</td>\n",
       "      <td>-6.450</td>\n",
       "      <td>0.0</td>\n",
       "      <td>0.1450</td>\n",
       "      <td>0.000000</td>\n",
       "      <td>0.409</td>\n",
       "      <td>0.717</td>\n",
       "      <td>160.011</td>\n",
       "      <td>254390.0</td>\n",
       "      <td>4.0</td>\n",
       "      <td>True</td>\n",
       "      <td>22.0</td>\n",
       "      <td>1.0</td>\n",
       "    </tr>\n",
       "    <tr>\n",
       "      <th>3</th>\n",
       "      <td>Waka Flocka Flame</td>\n",
       "      <td>Flockaveli</td>\n",
       "      <td>2010-10-01</td>\n",
       "      <td>Grove St. Party (feat. Kebo Gotti)</td>\n",
       "      <td>2e9EZ2V5QGGZPMJacO3y0Y</td>\n",
       "      <td>0.705</td>\n",
       "      <td>0.702</td>\n",
       "      <td>0.0</td>\n",
       "      <td>-4.783</td>\n",
       "      <td>0.0</td>\n",
       "      <td>0.1080</td>\n",
       "      <td>0.000000</td>\n",
       "      <td>0.364</td>\n",
       "      <td>0.771</td>\n",
       "      <td>140.059</td>\n",
       "      <td>250493.0</td>\n",
       "      <td>4.0</td>\n",
       "      <td>True</td>\n",
       "      <td>62.0</td>\n",
       "      <td>1.0</td>\n",
       "    </tr>\n",
       "    <tr>\n",
       "      <th>4</th>\n",
       "      <td>Project Pat</td>\n",
       "      <td>Mista Don't Play: Everythangs Workin'</td>\n",
       "      <td>2001-02-13</td>\n",
       "      <td>Don't Save Her (feat. Crunchy Black)</td>\n",
       "      <td>3ZRd5Z0fiYtASLdEPPb16m</td>\n",
       "      <td>0.838</td>\n",
       "      <td>0.793</td>\n",
       "      <td>11.0</td>\n",
       "      <td>-5.470</td>\n",
       "      <td>0.0</td>\n",
       "      <td>0.0773</td>\n",
       "      <td>0.000001</td>\n",
       "      <td>0.106</td>\n",
       "      <td>0.800</td>\n",
       "      <td>160.003</td>\n",
       "      <td>261933.0</td>\n",
       "      <td>4.0</td>\n",
       "      <td>True</td>\n",
       "      <td>45.0</td>\n",
       "      <td>1.0</td>\n",
       "    </tr>\n",
       "  </tbody>\n",
       "</table>\n",
       "</div>"
      ],
      "text/plain": [
       "              artist                                  album release_date  \\\n",
       "0              Tay-K                                TRAPMAN   2020-07-12   \n",
       "1           Lil Wyte                           Doubt Me Now   2003-03-04   \n",
       "2            Kamelen                           KINGPIN SLIM   2019-11-29   \n",
       "3  Waka Flocka Flame                             Flockaveli   2010-10-01   \n",
       "4        Project Pat  Mista Don't Play: Everythangs Workin'   2001-02-13   \n",
       "\n",
       "                             track_name                track_id  danceability  \\\n",
       "0                               TRAPMAN  6mecZbKK3JDeMdFRNxsCV5         0.792   \n",
       "1                            Oxy Cotton  5PtMwNq8Dp31uYdGGacVJE         0.816   \n",
       "2                   Kingpin O.G - Remix  6s8EhlBn2PIoESylkXnwYc         0.649   \n",
       "3    Grove St. Party (feat. Kebo Gotti)  2e9EZ2V5QGGZPMJacO3y0Y         0.705   \n",
       "4  Don't Save Her (feat. Crunchy Black)  3ZRd5Z0fiYtASLdEPPb16m         0.838   \n",
       "\n",
       "   energy   key  loudness  mode  speechiness  instrumentalness  liveness  \\\n",
       "0   0.594   2.0    -8.544   1.0       0.3000          0.000000     0.244   \n",
       "1   0.578   9.0    -6.912   1.0       0.2330          0.000000     0.114   \n",
       "2   0.798   0.0    -6.450   0.0       0.1450          0.000000     0.409   \n",
       "3   0.702   0.0    -4.783   0.0       0.1080          0.000000     0.364   \n",
       "4   0.793  11.0    -5.470   0.0       0.0773          0.000001     0.106   \n",
       "\n",
       "   valence    tempo  duration_ms  time_signature  explicit  popularity  \\\n",
       "0    0.351   82.512     232803.0             4.0      True        43.0   \n",
       "1    0.265  148.077     193920.0             4.0      True        61.0   \n",
       "2    0.717  160.011     254390.0             4.0      True        22.0   \n",
       "3    0.771  140.059     250493.0             4.0      True        62.0   \n",
       "4    0.800  160.003     261933.0             4.0      True        45.0   \n",
       "\n",
       "   disc_number  \n",
       "0          1.0  \n",
       "1          1.0  \n",
       "2          1.0  \n",
       "3          1.0  \n",
       "4          1.0  "
      ]
     },
     "execution_count": 4,
     "metadata": {},
     "output_type": "execute_result"
    }
   ],
   "source": [
    "df.head()"
   ]
  },
  {
   "cell_type": "code",
   "execution_count": 5,
   "metadata": {},
   "outputs": [
    {
     "data": {
      "text/plain": [
       "(6074, 20)"
      ]
     },
     "execution_count": 5,
     "metadata": {},
     "output_type": "execute_result"
    }
   ],
   "source": [
    "df.shape"
   ]
  },
  {
   "cell_type": "markdown",
   "metadata": {},
   "source": [
    "## Prepare data"
   ]
  },
  {
   "cell_type": "code",
   "execution_count": 6,
   "metadata": {},
   "outputs": [],
   "source": [
    "# handle null values\n",
    "df = handle_nulls(df)"
   ]
  },
  {
   "cell_type": "code",
   "execution_count": 7,
   "metadata": {},
   "outputs": [
    {
     "data": {
      "text/plain": [
       "artist              0\n",
       "album               0\n",
       "release_date        0\n",
       "track_name          0\n",
       "track_id            0\n",
       "danceability        0\n",
       "energy              0\n",
       "key                 0\n",
       "loudness            0\n",
       "mode                0\n",
       "speechiness         0\n",
       "instrumentalness    0\n",
       "liveness            0\n",
       "valence             0\n",
       "tempo               0\n",
       "duration_ms         0\n",
       "time_signature      0\n",
       "explicit            0\n",
       "popularity          0\n",
       "disc_number         0\n",
       "dtype: int64"
      ]
     },
     "execution_count": 7,
     "metadata": {},
     "output_type": "execute_result"
    }
   ],
   "source": [
    "# check for nulls\n",
    "df.isna().sum()"
   ]
  },
  {
   "cell_type": "code",
   "execution_count": 8,
   "metadata": {},
   "outputs": [
    {
     "data": {
      "text/plain": [
       "artist               object\n",
       "album                object\n",
       "release_date         object\n",
       "track_name           object\n",
       "track_id             object\n",
       "danceability        float64\n",
       "energy              float64\n",
       "key                 float64\n",
       "loudness            float64\n",
       "mode                float64\n",
       "speechiness         float64\n",
       "instrumentalness    float64\n",
       "liveness            float64\n",
       "valence             float64\n",
       "tempo               float64\n",
       "duration_ms         float64\n",
       "time_signature      float64\n",
       "explicit               bool\n",
       "popularity          float64\n",
       "disc_number         float64\n",
       "dtype: object"
      ]
     },
     "execution_count": 8,
     "metadata": {},
     "output_type": "execute_result"
    }
   ],
   "source": [
    "# check data types\n",
    "df.dtypes"
   ]
  },
  {
   "cell_type": "markdown",
   "metadata": {},
   "source": [
    "Note to self: After MVP we need to convert release_data into a Timestamp."
   ]
  },
  {
   "cell_type": "markdown",
   "metadata": {},
   "source": [
    "## Preprocess data"
   ]
  },
  {
   "cell_type": "code",
   "execution_count": 9,
   "metadata": {},
   "outputs": [],
   "source": [
    "# chose features for MVP modeling\n",
    "df = df.drop(columns=['artist', 'album', 'release_date', 'track_name', 'track_id'])"
   ]
  },
  {
   "cell_type": "code",
   "execution_count": 10,
   "metadata": {},
   "outputs": [
    {
     "data": {
      "text/plain": [
       "Index(['danceability', 'energy', 'key', 'loudness', 'mode', 'speechiness',\n",
       "       'instrumentalness', 'liveness', 'valence', 'tempo', 'duration_ms',\n",
       "       'time_signature', 'explicit', 'popularity', 'disc_number'],\n",
       "      dtype='object')"
      ]
     },
     "execution_count": 10,
     "metadata": {},
     "output_type": "execute_result"
    }
   ],
   "source": [
    "# show features\n",
    "df.columns"
   ]
  },
  {
   "cell_type": "code",
   "execution_count": 11,
   "metadata": {},
   "outputs": [
    {
     "name": "stdout",
     "output_type": "stream",
     "text": [
      "Shape of train: (4250, 14) | Shape of validate: (912, 14) | Shape of test: (911, 14)\n",
      "Percent train: 70.0        | Percent validate: 15.0       | Percent test: 15.0\n"
     ]
    },
    {
     "data": {
      "text/html": [
       "<div>\n",
       "<style scoped>\n",
       "    .dataframe tbody tr th:only-of-type {\n",
       "        vertical-align: middle;\n",
       "    }\n",
       "\n",
       "    .dataframe tbody tr th {\n",
       "        vertical-align: top;\n",
       "    }\n",
       "\n",
       "    .dataframe thead th {\n",
       "        text-align: right;\n",
       "    }\n",
       "</style>\n",
       "<table border=\"1\" class=\"dataframe\">\n",
       "  <thead>\n",
       "    <tr style=\"text-align: right;\">\n",
       "      <th></th>\n",
       "      <th>danceability</th>\n",
       "      <th>energy</th>\n",
       "      <th>key</th>\n",
       "      <th>loudness</th>\n",
       "      <th>mode</th>\n",
       "      <th>speechiness</th>\n",
       "      <th>instrumentalness</th>\n",
       "      <th>liveness</th>\n",
       "      <th>valence</th>\n",
       "      <th>tempo</th>\n",
       "      <th>duration_ms</th>\n",
       "      <th>time_signature</th>\n",
       "      <th>explicit</th>\n",
       "      <th>popularity</th>\n",
       "      <th>disc_number</th>\n",
       "    </tr>\n",
       "  </thead>\n",
       "  <tbody>\n",
       "    <tr>\n",
       "      <th>3072</th>\n",
       "      <td>0.646</td>\n",
       "      <td>0.595</td>\n",
       "      <td>10.0</td>\n",
       "      <td>-6.709</td>\n",
       "      <td>0.0</td>\n",
       "      <td>0.0512</td>\n",
       "      <td>0.000006</td>\n",
       "      <td>0.0527</td>\n",
       "      <td>0.772</td>\n",
       "      <td>73.973</td>\n",
       "      <td>238880.0</td>\n",
       "      <td>4.0</td>\n",
       "      <td>False</td>\n",
       "      <td>62.0</td>\n",
       "      <td>1.0</td>\n",
       "    </tr>\n",
       "    <tr>\n",
       "      <th>5674</th>\n",
       "      <td>0.839</td>\n",
       "      <td>0.335</td>\n",
       "      <td>9.0</td>\n",
       "      <td>-14.418</td>\n",
       "      <td>1.0</td>\n",
       "      <td>0.1750</td>\n",
       "      <td>0.000009</td>\n",
       "      <td>0.0967</td>\n",
       "      <td>0.566</td>\n",
       "      <td>127.053</td>\n",
       "      <td>151181.0</td>\n",
       "      <td>4.0</td>\n",
       "      <td>True</td>\n",
       "      <td>36.0</td>\n",
       "      <td>1.0</td>\n",
       "    </tr>\n",
       "    <tr>\n",
       "      <th>4005</th>\n",
       "      <td>0.517</td>\n",
       "      <td>0.903</td>\n",
       "      <td>10.0</td>\n",
       "      <td>-6.333</td>\n",
       "      <td>0.0</td>\n",
       "      <td>0.5680</td>\n",
       "      <td>0.000000</td>\n",
       "      <td>0.6900</td>\n",
       "      <td>0.643</td>\n",
       "      <td>84.792</td>\n",
       "      <td>196338.0</td>\n",
       "      <td>4.0</td>\n",
       "      <td>True</td>\n",
       "      <td>21.0</td>\n",
       "      <td>1.0</td>\n",
       "    </tr>\n",
       "    <tr>\n",
       "      <th>1130</th>\n",
       "      <td>0.923</td>\n",
       "      <td>0.604</td>\n",
       "      <td>11.0</td>\n",
       "      <td>-6.671</td>\n",
       "      <td>0.0</td>\n",
       "      <td>0.2450</td>\n",
       "      <td>0.000000</td>\n",
       "      <td>0.2720</td>\n",
       "      <td>0.826</td>\n",
       "      <td>145.062</td>\n",
       "      <td>139741.0</td>\n",
       "      <td>4.0</td>\n",
       "      <td>True</td>\n",
       "      <td>18.0</td>\n",
       "      <td>1.0</td>\n",
       "    </tr>\n",
       "    <tr>\n",
       "      <th>5441</th>\n",
       "      <td>0.595</td>\n",
       "      <td>0.407</td>\n",
       "      <td>8.0</td>\n",
       "      <td>-11.978</td>\n",
       "      <td>1.0</td>\n",
       "      <td>0.1930</td>\n",
       "      <td>0.000053</td>\n",
       "      <td>0.1620</td>\n",
       "      <td>0.452</td>\n",
       "      <td>144.938</td>\n",
       "      <td>126685.0</td>\n",
       "      <td>4.0</td>\n",
       "      <td>True</td>\n",
       "      <td>59.0</td>\n",
       "      <td>1.0</td>\n",
       "    </tr>\n",
       "  </tbody>\n",
       "</table>\n",
       "</div>"
      ],
      "text/plain": [
       "      danceability  energy   key  loudness  mode  speechiness  \\\n",
       "3072         0.646   0.595  10.0    -6.709   0.0       0.0512   \n",
       "5674         0.839   0.335   9.0   -14.418   1.0       0.1750   \n",
       "4005         0.517   0.903  10.0    -6.333   0.0       0.5680   \n",
       "1130         0.923   0.604  11.0    -6.671   0.0       0.2450   \n",
       "5441         0.595   0.407   8.0   -11.978   1.0       0.1930   \n",
       "\n",
       "      instrumentalness  liveness  valence    tempo  duration_ms  \\\n",
       "3072          0.000006    0.0527    0.772   73.973     238880.0   \n",
       "5674          0.000009    0.0967    0.566  127.053     151181.0   \n",
       "4005          0.000000    0.6900    0.643   84.792     196338.0   \n",
       "1130          0.000000    0.2720    0.826  145.062     139741.0   \n",
       "5441          0.000053    0.1620    0.452  144.938     126685.0   \n",
       "\n",
       "      time_signature  explicit  popularity  disc_number  \n",
       "3072             4.0     False        62.0          1.0  \n",
       "5674             4.0      True        36.0          1.0  \n",
       "4005             4.0      True        21.0          1.0  \n",
       "1130             4.0      True        18.0          1.0  \n",
       "5441             4.0      True        59.0          1.0  "
      ]
     },
     "execution_count": 11,
     "metadata": {},
     "output_type": "execute_result"
    }
   ],
   "source": [
    "# split the data\n",
    "X_train, y_train, X_validate, y_validate, X_test, y_test, train, validate, test = spotify_split(df, 'popularity')\n",
    "train.head()"
   ]
  },
  {
   "cell_type": "code",
   "execution_count": 12,
   "metadata": {},
   "outputs": [],
   "source": [
    "# scale the data\n",
    "X_train_scaled, X_validate_scaled, X_test_scaled = scale_data(train, validate, test, 'popularity', 'MinMax')"
   ]
  },
  {
   "cell_type": "markdown",
   "metadata": {},
   "source": [
    "## Set the baseline"
   ]
  },
  {
   "cell_type": "code",
   "execution_count": 13,
   "metadata": {},
   "outputs": [
    {
     "data": {
      "text/plain": [
       "38.46776470588235"
      ]
     },
     "execution_count": 13,
     "metadata": {},
     "output_type": "execute_result"
    }
   ],
   "source": [
    "#np.median(y_train)\n",
    "np.mean(y_train)"
   ]
  },
  {
   "cell_type": "code",
   "execution_count": 14,
   "metadata": {},
   "outputs": [
    {
     "name": "stdout",
     "output_type": "stream",
     "text": [
      "RMSE (Root Mean Square Error) of Baseline on train data:\n",
      " 259.24048\n",
      "RMSE (Root Mean Square Error) of Baseline on validate data:\n",
      " 265.302576\n"
     ]
    }
   ],
   "source": [
    "#baseline = y_train.median()\n",
    "baseline = y_train.mean()\n",
    "\n",
    "baseline_rmse_train = round(mean_squared_error(y_train, np.full(len(y_train), baseline))**1/2, 6)\n",
    "print('RMSE (Root Mean Square Error) of Baseline on train data:\\n', baseline_rmse_train)\n",
    "baseline_rmse_validate = round(mean_squared_error(y_validate, np.full(len(y_validate), baseline))**1/2, 6)\n",
    "print('RMSE (Root Mean Square Error) of Baseline on validate data:\\n', baseline_rmse_validate)"
   ]
  },
  {
   "cell_type": "markdown",
   "metadata": {},
   "source": [
    "Mean performed better than median.\n",
    "\n",
    "Our baseline prediction of popularity will be ```38.49411764705882```, with an RMSE of ```259.343806``` on the train data and ```263.89558``` on the validate data."
   ]
  },
  {
   "cell_type": "markdown",
   "metadata": {},
   "source": [
    "## Model 1 - Ordinary Least Squares (OLS) using Linear Regression"
   ]
  },
  {
   "cell_type": "code",
   "execution_count": 15,
   "metadata": {},
   "outputs": [
    {
     "data": {
      "text/plain": [
       "Index(['danceability', 'energy', 'key', 'loudness', 'mode', 'speechiness',\n",
       "       'instrumentalness', 'liveness', 'valence', 'tempo', 'duration_ms',\n",
       "       'time_signature', 'explicit', 'disc_number'],\n",
       "      dtype='object')"
      ]
     },
     "execution_count": 15,
     "metadata": {},
     "output_type": "execute_result"
    }
   ],
   "source": [
    "#show available features\n",
    "X_train_scaled.columns"
   ]
  },
  {
   "cell_type": "code",
   "execution_count": null,
   "metadata": {},
   "outputs": [],
   "source": []
  }
 ],
 "metadata": {
  "kernelspec": {
   "display_name": "Python 3",
   "language": "python",
   "name": "python3"
  },
  "language_info": {
   "codemirror_mode": {
    "name": "ipython",
    "version": 3
   },
   "file_extension": ".py",
   "mimetype": "text/x-python",
   "name": "python",
   "nbconvert_exporter": "python",
   "pygments_lexer": "ipython3",
   "version": "3.8.3"
  }
 },
 "nbformat": 4,
 "nbformat_minor": 4
}
