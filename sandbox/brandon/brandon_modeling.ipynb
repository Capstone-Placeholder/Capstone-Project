{
 "cells": [
  {
   "cell_type": "markdown",
   "metadata": {},
   "source": [
    "# Modeling Workbook"
   ]
  },
  {
   "cell_type": "code",
   "execution_count": 1,
   "metadata": {},
   "outputs": [],
   "source": [
    "import numpy as np\n",
    "import pandas as pd\n",
    "import warnings\n",
    "warnings.filterwarnings(\"ignore\")"
   ]
  },
  {
   "cell_type": "markdown",
   "metadata": {},
   "source": [
    "## Wrangling"
   ]
  },
  {
   "cell_type": "code",
   "execution_count": 2,
   "metadata": {},
   "outputs": [],
   "source": [
    "from preprocessing import spotify_split, scale_data\n",
    "from preprocessing import modeling_prep "
   ]
  },
  {
   "cell_type": "code",
   "execution_count": 3,
   "metadata": {
    "scrolled": true
   },
   "outputs": [],
   "source": [
    "df = modeling_prep()"
   ]
  },
  {
   "cell_type": "code",
   "execution_count": 4,
   "metadata": {
    "scrolled": true
   },
   "outputs": [
    {
     "name": "stdout",
     "output_type": "stream",
     "text": [
      "<class 'pandas.core.frame.DataFrame'>\n",
      "Index: 5733 entries, 6mecZbKK3JDeMdFRNxsCV5 to 2gVtrY8gCCynR9v0lyBL1m\n",
      "Data columns (total 20 columns):\n",
      " #   Column              Non-Null Count  Dtype  \n",
      "---  ------              --------------  -----  \n",
      " 0   danceability        5733 non-null   float64\n",
      " 1   energy              5733 non-null   float64\n",
      " 2   key                 5733 non-null   int64  \n",
      " 3   loudness            5733 non-null   float64\n",
      " 4   mode                5733 non-null   int64  \n",
      " 5   speechiness         5733 non-null   float64\n",
      " 6   instrumentalness    5733 non-null   float64\n",
      " 7   liveness            5733 non-null   float64\n",
      " 8   valence             5733 non-null   float64\n",
      " 9   tempo               5733 non-null   float64\n",
      " 10  duration_ms         5733 non-null   int64  \n",
      " 11  time_signature      5733 non-null   int64  \n",
      " 12  explicit            5733 non-null   int64  \n",
      " 13  popularity          5733 non-null   int64  \n",
      " 14  disc_number         5733 non-null   int64  \n",
      " 15  track_number        5733 non-null   int64  \n",
      " 16  is_featured_artist  5733 non-null   int64  \n",
      " 17  album               5733 non-null   int64  \n",
      " 18  compilation         5733 non-null   int64  \n",
      " 19  single              5733 non-null   int64  \n",
      "dtypes: float64(8), int64(12)\n",
      "memory usage: 940.6+ KB\n"
     ]
    }
   ],
   "source": [
    "df.info()"
   ]
  },
  {
   "cell_type": "code",
   "execution_count": 5,
   "metadata": {},
   "outputs": [
    {
     "data": {
      "text/html": [
       "<div>\n",
       "<style scoped>\n",
       "    .dataframe tbody tr th:only-of-type {\n",
       "        vertical-align: middle;\n",
       "    }\n",
       "\n",
       "    .dataframe tbody tr th {\n",
       "        vertical-align: top;\n",
       "    }\n",
       "\n",
       "    .dataframe thead th {\n",
       "        text-align: right;\n",
       "    }\n",
       "</style>\n",
       "<table border=\"1\" class=\"dataframe\">\n",
       "  <thead>\n",
       "    <tr style=\"text-align: right;\">\n",
       "      <th></th>\n",
       "      <th>danceability</th>\n",
       "      <th>energy</th>\n",
       "      <th>key</th>\n",
       "      <th>loudness</th>\n",
       "      <th>mode</th>\n",
       "      <th>speechiness</th>\n",
       "      <th>instrumentalness</th>\n",
       "      <th>liveness</th>\n",
       "      <th>valence</th>\n",
       "      <th>tempo</th>\n",
       "      <th>duration_ms</th>\n",
       "      <th>time_signature</th>\n",
       "      <th>explicit</th>\n",
       "      <th>popularity</th>\n",
       "      <th>disc_number</th>\n",
       "      <th>track_number</th>\n",
       "      <th>is_featured_artist</th>\n",
       "      <th>album</th>\n",
       "      <th>compilation</th>\n",
       "      <th>single</th>\n",
       "    </tr>\n",
       "    <tr>\n",
       "      <th>track_id</th>\n",
       "      <th></th>\n",
       "      <th></th>\n",
       "      <th></th>\n",
       "      <th></th>\n",
       "      <th></th>\n",
       "      <th></th>\n",
       "      <th></th>\n",
       "      <th></th>\n",
       "      <th></th>\n",
       "      <th></th>\n",
       "      <th></th>\n",
       "      <th></th>\n",
       "      <th></th>\n",
       "      <th></th>\n",
       "      <th></th>\n",
       "      <th></th>\n",
       "      <th></th>\n",
       "      <th></th>\n",
       "      <th></th>\n",
       "      <th></th>\n",
       "    </tr>\n",
       "  </thead>\n",
       "  <tbody>\n",
       "    <tr>\n",
       "      <th>6mecZbKK3JDeMdFRNxsCV5</th>\n",
       "      <td>0.792</td>\n",
       "      <td>0.594</td>\n",
       "      <td>2</td>\n",
       "      <td>-8.544</td>\n",
       "      <td>1</td>\n",
       "      <td>0.300</td>\n",
       "      <td>0.0</td>\n",
       "      <td>0.244</td>\n",
       "      <td>0.351</td>\n",
       "      <td>82.512</td>\n",
       "      <td>232803</td>\n",
       "      <td>4</td>\n",
       "      <td>1</td>\n",
       "      <td>43</td>\n",
       "      <td>1</td>\n",
       "      <td>1</td>\n",
       "      <td>0</td>\n",
       "      <td>0</td>\n",
       "      <td>0</td>\n",
       "      <td>1</td>\n",
       "    </tr>\n",
       "    <tr>\n",
       "      <th>5PtMwNq8Dp31uYdGGacVJE</th>\n",
       "      <td>0.816</td>\n",
       "      <td>0.578</td>\n",
       "      <td>9</td>\n",
       "      <td>-6.912</td>\n",
       "      <td>1</td>\n",
       "      <td>0.233</td>\n",
       "      <td>0.0</td>\n",
       "      <td>0.114</td>\n",
       "      <td>0.265</td>\n",
       "      <td>148.077</td>\n",
       "      <td>193920</td>\n",
       "      <td>4</td>\n",
       "      <td>1</td>\n",
       "      <td>61</td>\n",
       "      <td>1</td>\n",
       "      <td>11</td>\n",
       "      <td>0</td>\n",
       "      <td>1</td>\n",
       "      <td>0</td>\n",
       "      <td>0</td>\n",
       "    </tr>\n",
       "  </tbody>\n",
       "</table>\n",
       "</div>"
      ],
      "text/plain": [
       "                        danceability  energy  key  loudness  mode  \\\n",
       "track_id                                                            \n",
       "6mecZbKK3JDeMdFRNxsCV5         0.792   0.594    2    -8.544     1   \n",
       "5PtMwNq8Dp31uYdGGacVJE         0.816   0.578    9    -6.912     1   \n",
       "\n",
       "                        speechiness  instrumentalness  liveness  valence  \\\n",
       "track_id                                                                   \n",
       "6mecZbKK3JDeMdFRNxsCV5        0.300               0.0     0.244    0.351   \n",
       "5PtMwNq8Dp31uYdGGacVJE        0.233               0.0     0.114    0.265   \n",
       "\n",
       "                          tempo  duration_ms  time_signature  explicit  \\\n",
       "track_id                                                                 \n",
       "6mecZbKK3JDeMdFRNxsCV5   82.512       232803               4         1   \n",
       "5PtMwNq8Dp31uYdGGacVJE  148.077       193920               4         1   \n",
       "\n",
       "                        popularity  disc_number  track_number  \\\n",
       "track_id                                                        \n",
       "6mecZbKK3JDeMdFRNxsCV5          43            1             1   \n",
       "5PtMwNq8Dp31uYdGGacVJE          61            1            11   \n",
       "\n",
       "                        is_featured_artist  album  compilation  single  \n",
       "track_id                                                                \n",
       "6mecZbKK3JDeMdFRNxsCV5                   0      0            0       1  \n",
       "5PtMwNq8Dp31uYdGGacVJE                   0      1            0       0  "
      ]
     },
     "execution_count": 5,
     "metadata": {},
     "output_type": "execute_result"
    }
   ],
   "source": [
    "df.head(2)"
   ]
  },
  {
   "cell_type": "code",
   "execution_count": 6,
   "metadata": {},
   "outputs": [
    {
     "data": {
      "text/plain": [
       "(5733, 20)"
      ]
     },
     "execution_count": 6,
     "metadata": {},
     "output_type": "execute_result"
    }
   ],
   "source": [
    "df.shape"
   ]
  },
  {
   "cell_type": "markdown",
   "metadata": {},
   "source": [
    "---\n",
    "### Split the Data"
   ]
  },
  {
   "cell_type": "code",
   "execution_count": 7,
   "metadata": {},
   "outputs": [
    {
     "name": "stdout",
     "output_type": "stream",
     "text": [
      "Shape of train: (4012, 19) | Shape of validate: (861, 19) | Shape of test: (860, 19)\n",
      "Percent train: 70.0        | Percent validate: 15.0       | Percent test: 15.0\n"
     ]
    },
    {
     "data": {
      "text/html": [
       "<div>\n",
       "<style scoped>\n",
       "    .dataframe tbody tr th:only-of-type {\n",
       "        vertical-align: middle;\n",
       "    }\n",
       "\n",
       "    .dataframe tbody tr th {\n",
       "        vertical-align: top;\n",
       "    }\n",
       "\n",
       "    .dataframe thead th {\n",
       "        text-align: right;\n",
       "    }\n",
       "</style>\n",
       "<table border=\"1\" class=\"dataframe\">\n",
       "  <thead>\n",
       "    <tr style=\"text-align: right;\">\n",
       "      <th></th>\n",
       "      <th>danceability</th>\n",
       "      <th>energy</th>\n",
       "      <th>key</th>\n",
       "      <th>loudness</th>\n",
       "      <th>mode</th>\n",
       "      <th>speechiness</th>\n",
       "      <th>instrumentalness</th>\n",
       "      <th>liveness</th>\n",
       "      <th>valence</th>\n",
       "      <th>tempo</th>\n",
       "      <th>duration_ms</th>\n",
       "      <th>time_signature</th>\n",
       "      <th>explicit</th>\n",
       "      <th>disc_number</th>\n",
       "      <th>track_number</th>\n",
       "      <th>is_featured_artist</th>\n",
       "      <th>album</th>\n",
       "      <th>compilation</th>\n",
       "      <th>single</th>\n",
       "    </tr>\n",
       "    <tr>\n",
       "      <th>track_id</th>\n",
       "      <th></th>\n",
       "      <th></th>\n",
       "      <th></th>\n",
       "      <th></th>\n",
       "      <th></th>\n",
       "      <th></th>\n",
       "      <th></th>\n",
       "      <th></th>\n",
       "      <th></th>\n",
       "      <th></th>\n",
       "      <th></th>\n",
       "      <th></th>\n",
       "      <th></th>\n",
       "      <th></th>\n",
       "      <th></th>\n",
       "      <th></th>\n",
       "      <th></th>\n",
       "      <th></th>\n",
       "      <th></th>\n",
       "    </tr>\n",
       "  </thead>\n",
       "  <tbody>\n",
       "    <tr>\n",
       "      <th>30bqVoKjX479ab90a8Pafp</th>\n",
       "      <td>0.585</td>\n",
       "      <td>0.471</td>\n",
       "      <td>4</td>\n",
       "      <td>-9.934</td>\n",
       "      <td>0</td>\n",
       "      <td>0.0616</td>\n",
       "      <td>0.0184</td>\n",
       "      <td>0.115</td>\n",
       "      <td>0.323</td>\n",
       "      <td>93.099</td>\n",
       "      <td>142000</td>\n",
       "      <td>4</td>\n",
       "      <td>1</td>\n",
       "      <td>1</td>\n",
       "      <td>1</td>\n",
       "      <td>0</td>\n",
       "      <td>0</td>\n",
       "      <td>0</td>\n",
       "      <td>1</td>\n",
       "    </tr>\n",
       "    <tr>\n",
       "      <th>0HO8pCseEpgozNi3z0R4bc</th>\n",
       "      <td>0.833</td>\n",
       "      <td>0.518</td>\n",
       "      <td>10</td>\n",
       "      <td>-10.126</td>\n",
       "      <td>0</td>\n",
       "      <td>0.3490</td>\n",
       "      <td>0.0000</td>\n",
       "      <td>0.635</td>\n",
       "      <td>0.773</td>\n",
       "      <td>90.004</td>\n",
       "      <td>120000</td>\n",
       "      <td>4</td>\n",
       "      <td>1</td>\n",
       "      <td>1</td>\n",
       "      <td>11</td>\n",
       "      <td>0</td>\n",
       "      <td>1</td>\n",
       "      <td>0</td>\n",
       "      <td>0</td>\n",
       "    </tr>\n",
       "  </tbody>\n",
       "</table>\n",
       "</div>"
      ],
      "text/plain": [
       "                        danceability  energy  key  loudness  mode  \\\n",
       "track_id                                                            \n",
       "30bqVoKjX479ab90a8Pafp         0.585   0.471    4    -9.934     0   \n",
       "0HO8pCseEpgozNi3z0R4bc         0.833   0.518   10   -10.126     0   \n",
       "\n",
       "                        speechiness  instrumentalness  liveness  valence  \\\n",
       "track_id                                                                   \n",
       "30bqVoKjX479ab90a8Pafp       0.0616            0.0184     0.115    0.323   \n",
       "0HO8pCseEpgozNi3z0R4bc       0.3490            0.0000     0.635    0.773   \n",
       "\n",
       "                         tempo  duration_ms  time_signature  explicit  \\\n",
       "track_id                                                                \n",
       "30bqVoKjX479ab90a8Pafp  93.099       142000               4         1   \n",
       "0HO8pCseEpgozNi3z0R4bc  90.004       120000               4         1   \n",
       "\n",
       "                        disc_number  track_number  is_featured_artist  album  \\\n",
       "track_id                                                                       \n",
       "30bqVoKjX479ab90a8Pafp            1             1                   0      0   \n",
       "0HO8pCseEpgozNi3z0R4bc            1            11                   0      1   \n",
       "\n",
       "                        compilation  single  \n",
       "track_id                                     \n",
       "30bqVoKjX479ab90a8Pafp            0       1  \n",
       "0HO8pCseEpgozNi3z0R4bc            0       0  "
      ]
     },
     "execution_count": 7,
     "metadata": {},
     "output_type": "execute_result"
    }
   ],
   "source": [
    "X_train, y_train, X_validate, y_validate, X_test, y_test, train, validate, test = spotify_split(df, 'popularity')\n",
    "X_train.head(2)"
   ]
  },
  {
   "cell_type": "markdown",
   "metadata": {},
   "source": [
    "---\n",
    "### Scale the Data"
   ]
  },
  {
   "cell_type": "code",
   "execution_count": 8,
   "metadata": {
    "scrolled": true
   },
   "outputs": [
    {
     "data": {
      "text/html": [
       "<div>\n",
       "<style scoped>\n",
       "    .dataframe tbody tr th:only-of-type {\n",
       "        vertical-align: middle;\n",
       "    }\n",
       "\n",
       "    .dataframe tbody tr th {\n",
       "        vertical-align: top;\n",
       "    }\n",
       "\n",
       "    .dataframe thead th {\n",
       "        text-align: right;\n",
       "    }\n",
       "</style>\n",
       "<table border=\"1\" class=\"dataframe\">\n",
       "  <thead>\n",
       "    <tr style=\"text-align: right;\">\n",
       "      <th></th>\n",
       "      <th>danceability</th>\n",
       "      <th>energy</th>\n",
       "      <th>key</th>\n",
       "      <th>loudness</th>\n",
       "      <th>mode</th>\n",
       "      <th>speechiness</th>\n",
       "      <th>instrumentalness</th>\n",
       "      <th>liveness</th>\n",
       "      <th>valence</th>\n",
       "      <th>tempo</th>\n",
       "      <th>duration_ms</th>\n",
       "      <th>time_signature</th>\n",
       "      <th>explicit</th>\n",
       "      <th>disc_number</th>\n",
       "      <th>track_number</th>\n",
       "      <th>is_featured_artist</th>\n",
       "      <th>album</th>\n",
       "      <th>compilation</th>\n",
       "      <th>single</th>\n",
       "    </tr>\n",
       "    <tr>\n",
       "      <th>track_id</th>\n",
       "      <th></th>\n",
       "      <th></th>\n",
       "      <th></th>\n",
       "      <th></th>\n",
       "      <th></th>\n",
       "      <th></th>\n",
       "      <th></th>\n",
       "      <th></th>\n",
       "      <th></th>\n",
       "      <th></th>\n",
       "      <th></th>\n",
       "      <th></th>\n",
       "      <th></th>\n",
       "      <th></th>\n",
       "      <th></th>\n",
       "      <th></th>\n",
       "      <th></th>\n",
       "      <th></th>\n",
       "      <th></th>\n",
       "    </tr>\n",
       "  </thead>\n",
       "  <tbody>\n",
       "    <tr>\n",
       "      <th>30bqVoKjX479ab90a8Pafp</th>\n",
       "      <td>0.593306</td>\n",
       "      <td>0.439493</td>\n",
       "      <td>0.363636</td>\n",
       "      <td>0.580823</td>\n",
       "      <td>0.0</td>\n",
       "      <td>0.064033</td>\n",
       "      <td>0.019127</td>\n",
       "      <td>0.101302</td>\n",
       "      <td>0.328921</td>\n",
       "      <td>0.547673</td>\n",
       "      <td>0.234238</td>\n",
       "      <td>0.8</td>\n",
       "      <td>1.0</td>\n",
       "      <td>0.0</td>\n",
       "      <td>0.000000</td>\n",
       "      <td>0.0</td>\n",
       "      <td>0.0</td>\n",
       "      <td>0.0</td>\n",
       "      <td>1.0</td>\n",
       "    </tr>\n",
       "    <tr>\n",
       "      <th>0HO8pCseEpgozNi3z0R4bc</th>\n",
       "      <td>0.844828</td>\n",
       "      <td>0.489960</td>\n",
       "      <td>0.909091</td>\n",
       "      <td>0.572667</td>\n",
       "      <td>0.0</td>\n",
       "      <td>0.362786</td>\n",
       "      <td>0.000000</td>\n",
       "      <td>0.651741</td>\n",
       "      <td>0.787169</td>\n",
       "      <td>0.529466</td>\n",
       "      <td>0.194025</td>\n",
       "      <td>0.8</td>\n",
       "      <td>1.0</td>\n",
       "      <td>0.0</td>\n",
       "      <td>0.163934</td>\n",
       "      <td>0.0</td>\n",
       "      <td>1.0</td>\n",
       "      <td>0.0</td>\n",
       "      <td>0.0</td>\n",
       "    </tr>\n",
       "    <tr>\n",
       "      <th>643K3eEgRvdJiXjSzlz7dg</th>\n",
       "      <td>0.477688</td>\n",
       "      <td>0.654247</td>\n",
       "      <td>0.090909</td>\n",
       "      <td>0.745826</td>\n",
       "      <td>1.0</td>\n",
       "      <td>0.354470</td>\n",
       "      <td>0.000000</td>\n",
       "      <td>0.305600</td>\n",
       "      <td>0.865580</td>\n",
       "      <td>0.520216</td>\n",
       "      <td>0.435841</td>\n",
       "      <td>0.8</td>\n",
       "      <td>1.0</td>\n",
       "      <td>0.0</td>\n",
       "      <td>0.016393</td>\n",
       "      <td>0.0</td>\n",
       "      <td>1.0</td>\n",
       "      <td>0.0</td>\n",
       "      <td>0.0</td>\n",
       "    </tr>\n",
       "  </tbody>\n",
       "</table>\n",
       "</div>"
      ],
      "text/plain": [
       "                        danceability    energy       key  loudness  mode  \\\n",
       "track_id                                                                   \n",
       "30bqVoKjX479ab90a8Pafp      0.593306  0.439493  0.363636  0.580823   0.0   \n",
       "0HO8pCseEpgozNi3z0R4bc      0.844828  0.489960  0.909091  0.572667   0.0   \n",
       "643K3eEgRvdJiXjSzlz7dg      0.477688  0.654247  0.090909  0.745826   1.0   \n",
       "\n",
       "                        speechiness  instrumentalness  liveness   valence  \\\n",
       "track_id                                                                    \n",
       "30bqVoKjX479ab90a8Pafp     0.064033          0.019127  0.101302  0.328921   \n",
       "0HO8pCseEpgozNi3z0R4bc     0.362786          0.000000  0.651741  0.787169   \n",
       "643K3eEgRvdJiXjSzlz7dg     0.354470          0.000000  0.305600  0.865580   \n",
       "\n",
       "                           tempo  duration_ms  time_signature  explicit  \\\n",
       "track_id                                                                  \n",
       "30bqVoKjX479ab90a8Pafp  0.547673     0.234238             0.8       1.0   \n",
       "0HO8pCseEpgozNi3z0R4bc  0.529466     0.194025             0.8       1.0   \n",
       "643K3eEgRvdJiXjSzlz7dg  0.520216     0.435841             0.8       1.0   \n",
       "\n",
       "                        disc_number  track_number  is_featured_artist  album  \\\n",
       "track_id                                                                       \n",
       "30bqVoKjX479ab90a8Pafp          0.0      0.000000                 0.0    0.0   \n",
       "0HO8pCseEpgozNi3z0R4bc          0.0      0.163934                 0.0    1.0   \n",
       "643K3eEgRvdJiXjSzlz7dg          0.0      0.016393                 0.0    1.0   \n",
       "\n",
       "                        compilation  single  \n",
       "track_id                                     \n",
       "30bqVoKjX479ab90a8Pafp          0.0     1.0  \n",
       "0HO8pCseEpgozNi3z0R4bc          0.0     0.0  \n",
       "643K3eEgRvdJiXjSzlz7dg          0.0     0.0  "
      ]
     },
     "execution_count": 8,
     "metadata": {},
     "output_type": "execute_result"
    }
   ],
   "source": [
    "# Using MIN-MAX scaler\n",
    "X_train_mm, X_validate_mm, X_test_mm = scale_data(train, validate, test, 'popularity', 'MinMax')\n",
    "X_train_mm.head(3)"
   ]
  },
  {
   "cell_type": "markdown",
   "metadata": {},
   "source": [
    "<div class=\"alert alert-block alert-info\">\n",
    "    <b>Takeaways</b>:\n",
    "    <li>Useable features are added to the data</li>\n",
    "    <li>Data is split into train, validate, test</li>\n",
    "    <li>Data is scaled by minimum and max values (0-1)</li>\n",
    "</div>"
   ]
  },
  {
   "cell_type": "markdown",
   "metadata": {},
   "source": [
    "--- \n",
    "## Feature Selection Tools"
   ]
  },
  {
   "cell_type": "code",
   "execution_count": 9,
   "metadata": {},
   "outputs": [],
   "source": [
    "from preprocessing import rfe, select_kbest"
   ]
  },
  {
   "cell_type": "code",
   "execution_count": 10,
   "metadata": {},
   "outputs": [
    {
     "data": {
      "text/plain": [
       "['speechiness', 'explicit', 'track_number', 'is_featured_artist', 'single']"
      ]
     },
     "execution_count": 10,
     "metadata": {},
     "output_type": "execute_result"
    }
   ],
   "source": [
    "# Select K Best Algorithm\n",
    "skb_features = select_kbest(X_train_mm, y_train, 5)\n",
    "skb_features"
   ]
  },
  {
   "cell_type": "code",
   "execution_count": 11,
   "metadata": {},
   "outputs": [
    {
     "data": {
      "text/plain": [
       "['danceability', 'energy', 'speechiness', 'explicit', 'is_featured_artist']"
      ]
     },
     "execution_count": 11,
     "metadata": {},
     "output_type": "execute_result"
    }
   ],
   "source": [
    "# Recursive Feature Elmination Algorithm\n",
    "rfe_features = rfe(X_train, y_train, 5)\n",
    "rfe_features"
   ]
  },
  {
   "cell_type": "markdown",
   "metadata": {},
   "source": [
    "<div class=\"alert alert-block alert-info\">\n",
    "    <b>Takeaways</b>:\n",
    "    <li>Used tools that select important features</li>\n",
    "    <li><i>Select K Best</i>: selects features according to the k highest scores</li>\n",
    "    <li><i>Recursive Feature Elimination</i>: features that perform well on a simple linear regression model</li>\n",
    "</div>"
   ]
  },
  {
   "cell_type": "markdown",
   "metadata": {},
   "source": [
    "---\n",
    "## Feature Groups"
   ]
  },
  {
   "cell_type": "code",
   "execution_count": 12,
   "metadata": {},
   "outputs": [],
   "source": [
    "# Select K Best: Top 5 Features DF\n",
    "X_tr_skb = X_train_mm[skb_features]\n",
    "X_v_skb = X_validate_mm[skb_features]\n",
    "X_te_skb = X_test_mm[skb_features]"
   ]
  },
  {
   "cell_type": "code",
   "execution_count": 13,
   "metadata": {},
   "outputs": [],
   "source": [
    "# Recursive Feature Elimination: Top 5 Features DF\n",
    "X_tr_rfe = X_train_mm[rfe_features]\n",
    "X_v_rfe = X_validate_mm[rfe_features]\n",
    "X_te_rfe = X_test_mm[rfe_features]"
   ]
  },
  {
   "cell_type": "code",
   "execution_count": 14,
   "metadata": {},
   "outputs": [],
   "source": [
    "# Combo 3: Top 6 Features\n",
    "top_feats = ['danceability', 'speechiness', 'explicit', 'is_featured_artist', 'track_number', 'energy', 'single']\n",
    "X_tr_top = X_train_mm[top_feats]\n",
    "X_v_top = X_validate_mm[top_feats]\n",
    "X_te_top = X_test_mm[top_feats]"
   ]
  },
  {
   "cell_type": "markdown",
   "metadata": {},
   "source": [
    "<div class=\"alert alert-block alert-info\">\n",
    "    <b>Takeaways</b>:\n",
    "    <li>Set top 5 features from <i>Select K Best</i> to a dataframe for modeling</li>\n",
    "    <li>Set top 5 features from <i>Recursive Feature Elimination</i> to a dataframe for modeling</li>\n",
    "    <li>Set top 7 features from both <i>RFE and SKB</i> to a dataframe for modeling</li>\n",
    "</div>"
   ]
  },
  {
   "cell_type": "markdown",
   "metadata": {},
   "source": [
    "---\n",
    "## Modeling\n",
    "### Set the baseline"
   ]
  },
  {
   "cell_type": "code",
   "execution_count": 15,
   "metadata": {},
   "outputs": [],
   "source": [
    "from model import get_baseline_metrics, linear_regression_model, lasso_lars\n",
    "from model import polynomial_regression, svr_model, glm_model, evaluate_df"
   ]
  },
  {
   "cell_type": "code",
   "execution_count": 16,
   "metadata": {},
   "outputs": [
    {
     "name": "stdout",
     "output_type": "stream",
     "text": [
      "RMSE (Root Mean Square Error) of Baseline on train data:\n",
      " 22.897138\n"
     ]
    }
   ],
   "source": [
    "bl, bl_train_rmse = get_baseline_metrics(y_train)"
   ]
  },
  {
   "cell_type": "markdown",
   "metadata": {},
   "source": [
    "---\n",
    "### Models using SKB Features"
   ]
  },
  {
   "cell_type": "code",
   "execution_count": 17,
   "metadata": {
    "scrolled": false
   },
   "outputs": [
    {
     "name": "stdout",
     "output_type": "stream",
     "text": [
      "RMSE for OLS using Linear Regression \n",
      "\n",
      "On train data:\n",
      " 21.905982 \n",
      "\n",
      "RMSE for LASSO + LARS \n",
      "\n",
      "On train data:\n",
      " 22.897138 \n",
      "\n",
      "RMSE for Polynomial Squared + Linear Regression \n",
      "\n",
      "On train data:\n",
      " 21.82078 \n",
      "\n",
      "RMSE for SVR using RBF Kernel \n",
      "\n",
      "On train data:\n",
      " 21.960632 \n",
      "\n",
      "RMSE for GLM using Normal Distribution \n",
      "\n",
      "On train data:\n",
      " 21.934884 \n",
      "\n"
     ]
    }
   ],
   "source": [
    "# OLS Model\n",
    "lm_rmse, lm_rmse_v, lm_rmse_t = linear_regression_model(\n",
    "    X_tr_skb, y_train, X_v_skb, y_validate, X_te_skb, y_test)\n",
    "\n",
    "# LASSO + LARS Model\n",
    "lars_rmse, lars_rmse_v, lars_rmse_t = lasso_lars(\n",
    "    X_tr_skb, y_train, X_v_skb, y_validate, X_te_skb, y_test)\n",
    "\n",
    "# Polynomial Features (squared, deg=2) with Linear Regression\n",
    "lm_sq_rmse, lm_sq_rmse_v, lm_sq_rmse_t, lm_sq_pred_t = polynomial_regression(\n",
    "    X_tr_skb, y_train, X_v_skb, y_validate, X_te_skb, y_test, \n",
    "    'Squared', degree=2) \n",
    "\n",
    "# Support Vector Regression with RBF Kernel\n",
    "svr_rmse, svr_rmse_v, svr_rmse_t = svr_model(\n",
    "    X_tr_skb, y_train, X_v_skb, y_validate, X_te_skb, y_test, 'RBF')\n",
    "\n",
    "# General Linearized Model with Normal Distribution\n",
    "glm_rmse, glm_rmse_v, glm_rmse_t, glm_pred_t = glm_model(\n",
    "    X_tr_skb, y_train, X_v_skb, y_validate, X_te_skb, y_test, \n",
    "    'Normal', alpha=0, power=1)"
   ]
  },
  {
   "cell_type": "code",
   "execution_count": 18,
   "metadata": {},
   "outputs": [
    {
     "name": "stdout",
     "output_type": "stream",
     "text": [
      "SKB FEATURES\n",
      "Model beat baseline by 5.16%\n",
      "['speechiness', 'explicit', 'track_number', 'is_featured_artist', 'single']\n"
     ]
    },
    {
     "data": {
      "text/html": [
       "<div>\n",
       "<style scoped>\n",
       "    .dataframe tbody tr th:only-of-type {\n",
       "        vertical-align: middle;\n",
       "    }\n",
       "\n",
       "    .dataframe tbody tr th {\n",
       "        vertical-align: top;\n",
       "    }\n",
       "\n",
       "    .dataframe thead th {\n",
       "        text-align: right;\n",
       "    }\n",
       "</style>\n",
       "<table border=\"1\" class=\"dataframe\">\n",
       "  <thead>\n",
       "    <tr style=\"text-align: right;\">\n",
       "      <th></th>\n",
       "      <th>train_rmse</th>\n",
       "      <th>validate_rmse</th>\n",
       "      <th>test_rmse</th>\n",
       "    </tr>\n",
       "  </thead>\n",
       "  <tbody>\n",
       "    <tr>\n",
       "      <th>pf2_lr</th>\n",
       "      <td>21.820780</td>\n",
       "      <td>21.8672</td>\n",
       "      <td></td>\n",
       "    </tr>\n",
       "    <tr>\n",
       "      <th>ols</th>\n",
       "      <td>21.905982</td>\n",
       "      <td>21.9519</td>\n",
       "      <td></td>\n",
       "    </tr>\n",
       "    <tr>\n",
       "      <th>GLM</th>\n",
       "      <td>21.934884</td>\n",
       "      <td>21.9476</td>\n",
       "      <td></td>\n",
       "    </tr>\n",
       "    <tr>\n",
       "      <th>SVM</th>\n",
       "      <td>21.960632</td>\n",
       "      <td>21.9514</td>\n",
       "      <td></td>\n",
       "    </tr>\n",
       "    <tr>\n",
       "      <th>baseline</th>\n",
       "      <td>22.897138</td>\n",
       "      <td></td>\n",
       "      <td></td>\n",
       "    </tr>\n",
       "    <tr>\n",
       "      <th>lassolars</th>\n",
       "      <td>22.897138</td>\n",
       "      <td>22.8377</td>\n",
       "      <td></td>\n",
       "    </tr>\n",
       "  </tbody>\n",
       "</table>\n",
       "</div>"
      ],
      "text/plain": [
       "           train_rmse validate_rmse test_rmse\n",
       "pf2_lr      21.820780       21.8672          \n",
       "ols         21.905982       21.9519          \n",
       "GLM         21.934884       21.9476          \n",
       "SVM         21.960632       21.9514          \n",
       "baseline    22.897138                        \n",
       "lassolars   22.897138       22.8377          "
      ]
     },
     "execution_count": 18,
     "metadata": {},
     "output_type": "execute_result"
    }
   ],
   "source": [
    "# Dataframe Evaluation for Models with SKB features\n",
    "columns = ['train_rmse', 'validate_rmse', 'test_rmse']\n",
    "index = ['baseline', 'ols', 'lassolars', 'pf2_lr', 'SVM', 'GLM']\n",
    "data = [[bl_train_rmse, '', ''],\n",
    "        [lm_rmse, lm_rmse_v, ''],\n",
    "        [lars_rmse, lars_rmse_v, ''],\n",
    "        [lm_sq_rmse, lm_sq_rmse_v, ''], \n",
    "        [svr_rmse, svr_rmse_v, ''],\n",
    "        [glm_rmse, glm_rmse_v, '']]\n",
    "\n",
    "print('SKB FEATURES')\n",
    "print(f'Model beat baseline by {abs((lm_sq_rmse_t - bl_train_rmse)/bl_train_rmse)*100:.2f}%')\n",
    "print(skb_features)\n",
    "\n",
    "pd.DataFrame(columns=columns, data=data, index=index).sort_values(by='train_rmse')"
   ]
  },
  {
   "cell_type": "markdown",
   "metadata": {},
   "source": [
    "---\n",
    "### Models using RFE Features"
   ]
  },
  {
   "cell_type": "code",
   "execution_count": 19,
   "metadata": {
    "scrolled": false
   },
   "outputs": [
    {
     "name": "stdout",
     "output_type": "stream",
     "text": [
      "RMSE for OLS using Linear Regression \n",
      "\n",
      "On train data:\n",
      " 22.020966 \n",
      "\n",
      "RMSE for LASSO + LARS \n",
      "\n",
      "On train data:\n",
      " 22.897138 \n",
      "\n",
      "RMSE for Polynomial Squared + Linear Regression \n",
      "\n",
      "On train data:\n",
      " 21.884338 \n",
      "\n",
      "RMSE for SVR using RBF Kernel \n",
      "\n",
      "On train data:\n",
      " 22.03261 \n",
      "\n",
      "RMSE for GLM using Normal Distribution \n",
      "\n",
      "On train data:\n",
      " 22.026116 \n",
      "\n"
     ]
    }
   ],
   "source": [
    "# OLS Model\n",
    "lm_rmse, lm_rmse_v, lm_rmse_t = linear_regression_model(\n",
    "    X_tr_rfe, y_train, X_v_rfe, y_validate, X_te_rfe, y_test)\n",
    "\n",
    "# LASSO + LARS Model\n",
    "lars_rmse, lars_rmse_v, lars_rmse_t = lasso_lars(\n",
    "    X_tr_rfe, y_train, X_v_rfe, y_validate, X_te_rfe, y_test)\n",
    "\n",
    "# Polynomial Features (squared, deg=2) with Linear Regression\n",
    "lm_sq_rmse, lm_sq_rmse_v, lm_sq_rmse_t, lm_sq_pred_t = polynomial_regression(\n",
    "    X_tr_rfe, y_train, X_v_rfe, y_validate, X_te_rfe, y_test, \n",
    "    'Squared', degree=2) \n",
    "\n",
    "# Support Vector Regression with RBF Kernel\n",
    "svr_rmse, svr_rmse_v, svr_rmse_t = svr_model(\n",
    "    X_tr_rfe, y_train, X_v_rfe, y_validate, X_te_rfe, y_test, 'RBF')\n",
    "\n",
    "# General Linearized Model with Normal Distribution\n",
    "glm_rmse, glm_rmse_v, glm_rmse_t, glm_pred_t = glm_model(\n",
    "    X_tr_rfe, y_train, X_v_rfe, y_validate, X_te_rfe, y_test, \n",
    "    'Normal', alpha=0, power=1)"
   ]
  },
  {
   "cell_type": "code",
   "execution_count": 20,
   "metadata": {
    "scrolled": false
   },
   "outputs": [
    {
     "name": "stdout",
     "output_type": "stream",
     "text": [
      "RFE FEATURES\n",
      "Model beat baseline by 4.71%\n",
      "['danceability', 'energy', 'speechiness', 'explicit', 'is_featured_artist']\n"
     ]
    },
    {
     "data": {
      "text/html": [
       "<div>\n",
       "<style scoped>\n",
       "    .dataframe tbody tr th:only-of-type {\n",
       "        vertical-align: middle;\n",
       "    }\n",
       "\n",
       "    .dataframe tbody tr th {\n",
       "        vertical-align: top;\n",
       "    }\n",
       "\n",
       "    .dataframe thead th {\n",
       "        text-align: right;\n",
       "    }\n",
       "</style>\n",
       "<table border=\"1\" class=\"dataframe\">\n",
       "  <thead>\n",
       "    <tr style=\"text-align: right;\">\n",
       "      <th></th>\n",
       "      <th>train_rmse</th>\n",
       "      <th>validate_rmse</th>\n",
       "      <th>test_rmse</th>\n",
       "    </tr>\n",
       "  </thead>\n",
       "  <tbody>\n",
       "    <tr>\n",
       "      <th>pf2_lr</th>\n",
       "      <td>21.884338</td>\n",
       "      <td>21.8565</td>\n",
       "      <td></td>\n",
       "    </tr>\n",
       "    <tr>\n",
       "      <th>ols</th>\n",
       "      <td>22.020966</td>\n",
       "      <td>21.9541</td>\n",
       "      <td></td>\n",
       "    </tr>\n",
       "    <tr>\n",
       "      <th>GLM</th>\n",
       "      <td>22.026116</td>\n",
       "      <td>21.9487</td>\n",
       "      <td></td>\n",
       "    </tr>\n",
       "    <tr>\n",
       "      <th>SVM</th>\n",
       "      <td>22.032610</td>\n",
       "      <td>21.9516</td>\n",
       "      <td></td>\n",
       "    </tr>\n",
       "    <tr>\n",
       "      <th>baseline</th>\n",
       "      <td>22.897138</td>\n",
       "      <td></td>\n",
       "      <td></td>\n",
       "    </tr>\n",
       "    <tr>\n",
       "      <th>lassolars</th>\n",
       "      <td>22.897138</td>\n",
       "      <td>22.8377</td>\n",
       "      <td></td>\n",
       "    </tr>\n",
       "  </tbody>\n",
       "</table>\n",
       "</div>"
      ],
      "text/plain": [
       "           train_rmse validate_rmse test_rmse\n",
       "pf2_lr      21.884338       21.8565          \n",
       "ols         22.020966       21.9541          \n",
       "GLM         22.026116       21.9487          \n",
       "SVM         22.032610       21.9516          \n",
       "baseline    22.897138                        \n",
       "lassolars   22.897138       22.8377          "
      ]
     },
     "execution_count": 20,
     "metadata": {},
     "output_type": "execute_result"
    }
   ],
   "source": [
    "# Dataframe Evaluation for Models with RFE features\n",
    "columns = ['train_rmse', 'validate_rmse', 'test_rmse']\n",
    "index = ['baseline', 'ols', 'lassolars', 'pf2_lr', 'SVM', 'GLM']\n",
    "data = [[bl_train_rmse, '', ''],\n",
    "        [lm_rmse, lm_rmse_v, ''],\n",
    "        [lars_rmse, lars_rmse_v, ''],\n",
    "        [lm_sq_rmse, lm_sq_rmse_v, ''], \n",
    "        [svr_rmse, svr_rmse_v, ''],\n",
    "        [glm_rmse, glm_rmse_v, '']]\n",
    "\n",
    "print('RFE FEATURES')\n",
    "print(f'Model beat baseline by {abs((lm_sq_rmse_t - bl_train_rmse)/bl_train_rmse)*100:.2f}%')\n",
    "print(rfe_features)\n",
    "\n",
    "pd.DataFrame(columns=columns, data=data, index=index).sort_values(by='train_rmse')"
   ]
  },
  {
   "cell_type": "markdown",
   "metadata": {},
   "source": [
    "---\n",
    "### Models using COMBO: 7 Features"
   ]
  },
  {
   "cell_type": "code",
   "execution_count": 21,
   "metadata": {
    "scrolled": false
   },
   "outputs": [
    {
     "name": "stdout",
     "output_type": "stream",
     "text": [
      "RMSE for OLS using Linear Regression \n",
      "\n",
      "On train data:\n",
      " 21.796331 \n",
      "\n",
      "RMSE for LASSO + LARS \n",
      "\n",
      "On train data:\n",
      " 22.897138 \n",
      "\n",
      "RMSE for Polynomial Squared + Linear Regression \n",
      "\n",
      "On train data:\n",
      " 21.599581 \n",
      "\n",
      "RMSE for SVR using RBF Kernel \n",
      "\n",
      "On train data:\n",
      " 21.812662 \n",
      "\n",
      "RMSE for GLM using Normal Distribution \n",
      "\n",
      "On train data:\n",
      " 21.821093 \n",
      "\n"
     ]
    }
   ],
   "source": [
    "# OLS Model\n",
    "lm_rmse, lm_rmse_v, lm_rmse_t = linear_regression_model(\n",
    "    X_tr_top, y_train, X_v_top, y_validate, X_te_top, y_test)\n",
    "\n",
    "# LASSO + LARS Model\n",
    "lars_rmse, lars_rmse_v, lars_rmse_t = lasso_lars(\n",
    "    X_tr_top, y_train, X_v_top, y_validate, X_te_top, y_test)\n",
    "\n",
    "# Polynomial Features (squared, deg=2) with Linear Regression\n",
    "lm_sq_rmse, lm_sq_rmse_v, lm_sq_rmse_t, lm_sq_pred_t = polynomial_regression(\n",
    "    X_tr_top, y_train, X_v_top, y_validate, X_te_top, y_test, \n",
    "    'Squared', degree=2) \n",
    "\n",
    "# Support Vector Regression with RBF Kernel\n",
    "svr_rmse, svr_rmse_v, svr_rmse_t = svr_model(\n",
    "    X_tr_top, y_train, X_v_top, y_validate, X_te_top, y_test, 'RBF')\n",
    "\n",
    "# General Linearized Model with Normal Distribution\n",
    "glm_rmse, glm_rmse_v, glm_rmse_t, glm_pred_t = glm_model(\n",
    "    X_tr_top, y_train, X_v_top, y_validate, X_te_top, y_test, \n",
    "    'Normal', alpha=0, power=1)"
   ]
  },
  {
   "cell_type": "code",
   "execution_count": 22,
   "metadata": {
    "scrolled": true
   },
   "outputs": [
    {
     "name": "stdout",
     "output_type": "stream",
     "text": [
      "COMBO TOP FEATURES\n",
      "Model beat baseline by 6.00%\n",
      "['danceability', 'speechiness', 'explicit', 'is_featured_artist', 'track_number', 'energy', 'single']\n"
     ]
    },
    {
     "data": {
      "text/html": [
       "<div>\n",
       "<style scoped>\n",
       "    .dataframe tbody tr th:only-of-type {\n",
       "        vertical-align: middle;\n",
       "    }\n",
       "\n",
       "    .dataframe tbody tr th {\n",
       "        vertical-align: top;\n",
       "    }\n",
       "\n",
       "    .dataframe thead th {\n",
       "        text-align: right;\n",
       "    }\n",
       "</style>\n",
       "<table border=\"1\" class=\"dataframe\">\n",
       "  <thead>\n",
       "    <tr style=\"text-align: right;\">\n",
       "      <th></th>\n",
       "      <th>train_rmse</th>\n",
       "      <th>validate_rmse</th>\n",
       "      <th>test_rmse</th>\n",
       "    </tr>\n",
       "  </thead>\n",
       "  <tbody>\n",
       "    <tr>\n",
       "      <th>Polynomial 2nd Degree</th>\n",
       "      <td>21.599581</td>\n",
       "      <td>21.5257</td>\n",
       "      <td>21.5236</td>\n",
       "    </tr>\n",
       "    <tr>\n",
       "      <th>Linear Regression</th>\n",
       "      <td>21.796331</td>\n",
       "      <td>21.7566</td>\n",
       "      <td></td>\n",
       "    </tr>\n",
       "    <tr>\n",
       "      <th>SVM</th>\n",
       "      <td>21.812662</td>\n",
       "      <td>21.6988</td>\n",
       "      <td></td>\n",
       "    </tr>\n",
       "    <tr>\n",
       "      <th>GLM</th>\n",
       "      <td>21.821093</td>\n",
       "      <td>21.7578</td>\n",
       "      <td></td>\n",
       "    </tr>\n",
       "    <tr>\n",
       "      <th>Baseline</th>\n",
       "      <td>22.897138</td>\n",
       "      <td></td>\n",
       "      <td></td>\n",
       "    </tr>\n",
       "    <tr>\n",
       "      <th>lassolars</th>\n",
       "      <td>22.897138</td>\n",
       "      <td>22.8377</td>\n",
       "      <td></td>\n",
       "    </tr>\n",
       "  </tbody>\n",
       "</table>\n",
       "</div>"
      ],
      "text/plain": [
       "                       train_rmse validate_rmse test_rmse\n",
       "Polynomial 2nd Degree   21.599581       21.5257   21.5236\n",
       "Linear Regression       21.796331       21.7566          \n",
       "SVM                     21.812662       21.6988          \n",
       "GLM                     21.821093       21.7578          \n",
       "Baseline                22.897138                        \n",
       "lassolars               22.897138       22.8377          "
      ]
     },
     "execution_count": 22,
     "metadata": {},
     "output_type": "execute_result"
    }
   ],
   "source": [
    "# Dataframe Evaluation for Models with COMBO features\n",
    "columns = ['train_rmse', 'validate_rmse', 'test_rmse']\n",
    "iindex = ['Baseline', 'Linear Regression', 'lassolars', 'Polynomial 2nd Degree', 'SVM', 'GLM']\n",
    "data = [[bl_train_rmse, '', ''],\n",
    "        [lm_rmse, lm_rmse_v, ''],\n",
    "        [lars_rmse, lars_rmse_v, ''],\n",
    "        [lm_sq_rmse, lm_sq_rmse_v, lm_sq_rmse_t], \n",
    "        [svr_rmse, svr_rmse_v, ''],\n",
    "        [glm_rmse, glm_rmse_v, '']]\n",
    "\n",
    "print('COMBO TOP FEATURES')\n",
    "print(f'Model beat baseline by {abs((lm_sq_rmse_t - bl_train_rmse)/bl_train_rmse)*100:.2f}%')\n",
    "print(top_feats)\n",
    "\n",
    "mod_perf = pd.DataFrame(columns=columns, data=data, index=iindex).sort_values(by='train_rmse')\n",
    "mod_perf"
   ]
  },
  {
   "cell_type": "markdown",
   "metadata": {},
   "source": [
    "**Conclusion**: \n",
    "<div class=\"alert alert-block alert-info\">\n",
    "    <b>Takeaways</b>:\n",
    "    <li>COMBO features are the optimum combination for best model performance. These feature combinations are significant</li>\n",
    "    <li>Second Degree Polynomial Features with Linear Regression is best performing model among all feature sets</li>\n",
    "    <li>Final model predicts 6% better than baseline with RMSE of 21.52 on test data(unseen).</li>\n",
    "</div>"
   ]
  },
  {
   "cell_type": "markdown",
   "metadata": {},
   "source": [
    "---\n",
    "## Model Performance Plot"
   ]
  },
  {
   "cell_type": "code",
   "execution_count": 23,
   "metadata": {},
   "outputs": [],
   "source": [
    "from model import polyreg_predictions, plot_polyreg"
   ]
  },
  {
   "cell_type": "code",
   "execution_count": 24,
   "metadata": {},
   "outputs": [],
   "source": [
    "lm_sq, y_pred_test, pf = polyreg_predictions(X_tr_top, X_te_top, y_train)"
   ]
  },
  {
   "cell_type": "code",
   "execution_count": 25,
   "metadata": {},
   "outputs": [
    {
     "data": {
      "image/png": "[encoded data removed]",
      "text/plain": [
       "<Figure size 1152x576 with 1 Axes>"
      ]
     },
     "metadata": {
      "needs_background": "light"
     },
     "output_type": "display_data"
    },
    {
     "name": "stdout",
     "output_type": "stream",
     "text": [
      "y = 0.079 $x^2$ + 0.001 x + 34.20\n"
     ]
    }
   ],
   "source": [
    "plot_polyreg(y_test, lm_sq_pred_t, y_pred_test, bl)"
   ]
  },
  {
   "cell_type": "markdown",
   "metadata": {},
   "source": [
    "<div class=\"alert alert-block alert-info\">\n",
    "    <b>Takeaways</b>:\n",
    "    Model is plotted against the baseline with predictions\n",
    "</div>"
   ]
  },
  {
   "cell_type": "markdown",
   "metadata": {},
   "source": [
    "---\n",
    "# Top Drivers of the Top Model"
   ]
  },
  {
   "cell_type": "code",
   "execution_count": 26,
   "metadata": {},
   "outputs": [],
   "source": [
    "from model import get_important_feats, plot_top_feats"
   ]
  },
  {
   "cell_type": "code",
   "execution_count": 27,
   "metadata": {},
   "outputs": [],
   "source": [
    "# extracts the most influential features by \n",
    "# creating a dataframe of the most important features/combination,\n",
    "# with their rank\n",
    "feature_importances = get_important_feats(lm_sq, pf, X_tr_top)"
   ]
  },
  {
   "cell_type": "code",
   "execution_count": 28,
   "metadata": {},
   "outputs": [
    {
     "data": {
      "text/html": [
       "<div>\n",
       "<style scoped>\n",
       "    .dataframe tbody tr th:only-of-type {\n",
       "        vertical-align: middle;\n",
       "    }\n",
       "\n",
       "    .dataframe tbody tr th {\n",
       "        vertical-align: top;\n",
       "    }\n",
       "\n",
       "    .dataframe thead th {\n",
       "        text-align: right;\n",
       "    }\n",
       "</style>\n",
       "<table border=\"1\" class=\"dataframe\">\n",
       "  <thead>\n",
       "    <tr style=\"text-align: right;\">\n",
       "      <th></th>\n",
       "      <th>rank</th>\n",
       "      <th>importance</th>\n",
       "    </tr>\n",
       "    <tr>\n",
       "      <th>index</th>\n",
       "      <th></th>\n",
       "      <th></th>\n",
       "    </tr>\n",
       "  </thead>\n",
       "  <tbody>\n",
       "    <tr>\n",
       "      <th>energy</th>\n",
       "      <td>1</td>\n",
       "      <td>44.288712</td>\n",
       "    </tr>\n",
       "    <tr>\n",
       "      <th>track_number</th>\n",
       "      <td>2</td>\n",
       "      <td>39.141969</td>\n",
       "    </tr>\n",
       "    <tr>\n",
       "      <th>danceability speechiness</th>\n",
       "      <td>3</td>\n",
       "      <td>37.674902</td>\n",
       "    </tr>\n",
       "    <tr>\n",
       "      <th>speechiness energy</th>\n",
       "      <td>4</td>\n",
       "      <td>21.006246</td>\n",
       "    </tr>\n",
       "    <tr>\n",
       "      <th>speechiness^2</th>\n",
       "      <td>5</td>\n",
       "      <td>16.910925</td>\n",
       "    </tr>\n",
       "  </tbody>\n",
       "</table>\n",
       "</div>"
      ],
      "text/plain": [
       "                          rank  importance\n",
       "index                                     \n",
       "energy                       1   44.288712\n",
       "track_number                 2   39.141969\n",
       "danceability speechiness     3   37.674902\n",
       "speechiness energy           4   21.006246\n",
       "speechiness^2                5   16.910925"
      ]
     },
     "execution_count": 28,
     "metadata": {},
     "output_type": "execute_result"
    }
   ],
   "source": [
    "# top 5 positive drivers of popularity\n",
    "feature_importances.head()"
   ]
  },
  {
   "cell_type": "code",
   "execution_count": 29,
   "metadata": {},
   "outputs": [
    {
     "data": {
      "text/html": [
       "<div>\n",
       "<style scoped>\n",
       "    .dataframe tbody tr th:only-of-type {\n",
       "        vertical-align: middle;\n",
       "    }\n",
       "\n",
       "    .dataframe tbody tr th {\n",
       "        vertical-align: top;\n",
       "    }\n",
       "\n",
       "    .dataframe thead th {\n",
       "        text-align: right;\n",
       "    }\n",
       "</style>\n",
       "<table border=\"1\" class=\"dataframe\">\n",
       "  <thead>\n",
       "    <tr style=\"text-align: right;\">\n",
       "      <th></th>\n",
       "      <th>rank</th>\n",
       "      <th>importance</th>\n",
       "    </tr>\n",
       "    <tr>\n",
       "      <th>index</th>\n",
       "      <th></th>\n",
       "      <th></th>\n",
       "    </tr>\n",
       "  </thead>\n",
       "  <tbody>\n",
       "    <tr>\n",
       "      <th>energy^2</th>\n",
       "      <td>32</td>\n",
       "      <td>-37.705128</td>\n",
       "    </tr>\n",
       "    <tr>\n",
       "      <th>danceability track_number</th>\n",
       "      <td>33</td>\n",
       "      <td>-46.386784</td>\n",
       "    </tr>\n",
       "    <tr>\n",
       "      <th>speechiness track_number</th>\n",
       "      <td>34</td>\n",
       "      <td>-50.317919</td>\n",
       "    </tr>\n",
       "    <tr>\n",
       "      <th>speechiness</th>\n",
       "      <td>35</td>\n",
       "      <td>-73.828035</td>\n",
       "    </tr>\n",
       "    <tr>\n",
       "      <th>track_number single</th>\n",
       "      <td>36</td>\n",
       "      <td>-155.313290</td>\n",
       "    </tr>\n",
       "  </tbody>\n",
       "</table>\n",
       "</div>"
      ],
      "text/plain": [
       "                           rank  importance\n",
       "index                                      \n",
       "energy^2                     32  -37.705128\n",
       "danceability track_number    33  -46.386784\n",
       "speechiness track_number     34  -50.317919\n",
       "speechiness                  35  -73.828035\n",
       "track_number single          36 -155.313290"
      ]
     },
     "execution_count": 29,
     "metadata": {},
     "output_type": "execute_result"
    }
   ],
   "source": [
    "# Bottom 5 negative drivers of popularity\n",
    "feature_importances.tail()"
   ]
  },
  {
   "cell_type": "code",
   "execution_count": 30,
   "metadata": {},
   "outputs": [
    {
     "data": {
      "image/png": "[encoded data removed]",
      "text/plain": [
       "<Figure size 1080x504 with 2 Axes>"
      ]
     },
     "metadata": {
      "needs_background": "light"
     },
     "output_type": "display_data"
    }
   ],
   "source": [
    "# plots the dataframes above\n",
    "plot_top_feats(feature_importances)"
   ]
  },
  {
   "cell_type": "markdown",
   "metadata": {},
   "source": [
    "<div class=\"alert alert-block alert-info\">\n",
    "    <b>Takeaways</b>:\n",
    "    <li>Positive drivers on the left</li>\n",
    "    <li>Negative drivers on the right</li>\n",
    "    <li>Some of the feature combinations are shown that may have a more than linear relationship with song popularity</li>\n",
    "</div> "
   ]
  }
 ],
 "metadata": {
  "kernelspec": {
   "display_name": "Python 3",
   "language": "python",
   "name": "python3"
  },
  "language_info": {
   "codemirror_mode": {
    "name": "ipython",
    "version": 3
   },
   "file_extension": ".py",
   "mimetype": "text/x-python",
   "name": "python",
   "nbconvert_exporter": "python",
   "pygments_lexer": "ipython3",
   "version": "3.7.6"
  }
 },
 "nbformat": 4,
 "nbformat_minor": 4
}
