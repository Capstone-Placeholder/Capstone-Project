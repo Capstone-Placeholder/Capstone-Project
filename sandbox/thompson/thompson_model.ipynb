{
 "cells": [
  {
   "cell_type": "markdown",
   "metadata": {},
   "source": [
    "# Modeling Workbook\n",
    "- duplicated notebook from Brandon to work on visualizing model performance"
   ]
  },
  {
   "cell_type": "code",
   "execution_count": 1,
   "metadata": {},
   "outputs": [],
   "source": [
    "import pandas as pd\n",
    "import numpy as np\n",
    "from scipy import stats\n",
    "from math import sqrt\n",
    "\n",
    "from sklearn.model_selection import train_test_split, cross_val_score, GridSearchCV\n",
    "from sklearn.preprocessing import StandardScaler, MinMaxScaler\n",
    "from sklearn.cluster import KMeans\n",
    "from sklearn.metrics import mean_squared_error, explained_variance_score, mean_absolute_error\n",
    "from sklearn.linear_model import LinearRegression, LassoLars\n",
    "from sklearn.feature_selection import RFE\n",
    "from sklearn.preprocessing import PolynomialFeatures\n",
    "from sklearn.ensemble import IsolationForest, RandomForestRegressor\n",
    "\n",
    "import warnings\n",
    "warnings.filterwarnings(\"ignore\")"
   ]
  },
  {
   "cell_type": "code",
   "execution_count": 2,
   "metadata": {},
   "outputs": [],
   "source": [
    "from prepare import handle_nulls, set_index\n",
    "from preprocessing import spotify_split, split_df, scale_data, encode_features, get_top_ten_labels"
   ]
  },
  {
   "cell_type": "code",
   "execution_count": 3,
   "metadata": {},
   "outputs": [],
   "source": [
    "def get_model_features(df):\n",
    "    '''\n",
    "    This function takes in a DataFrame and returns a DataFrame with features to use in predictive modeling.\n",
    "    '''\n",
    "    df = df.drop(columns=['artist', 'album', 'release_date', 'track_name'])\n",
    "    return df"
   ]
  },
  {
   "cell_type": "markdown",
   "metadata": {},
   "source": [
    "---\n",
    "# Wrangle"
   ]
  },
  {
   "cell_type": "code",
   "execution_count": 4,
   "metadata": {},
   "outputs": [],
   "source": [
    "df = pd.read_csv('full-playlist.csv', index_col=0)\n",
    "df = handle_nulls(df)\n",
    "df = encode_features(df)\n",
    "df = get_top_ten_labels(df)\n",
    "df = df.drop(columns=['track_id', 'label','track_id','album_type','album_id','album_popularity'], axis=1)"
   ]
  },
  {
   "cell_type": "code",
   "execution_count": 5,
   "metadata": {},
   "outputs": [
    {
     "name": "stdout",
     "output_type": "stream",
     "text": [
      "<class 'pandas.core.frame.DataFrame'>\n",
      "Int64Index: 5973 entries, 0 to 5973\n",
      "Data columns (total 21 columns):\n",
      " #   Column            Non-Null Count  Dtype  \n",
      "---  ------            --------------  -----  \n",
      " 0   artist            5973 non-null   object \n",
      " 1   album             5973 non-null   object \n",
      " 2   release_date      5973 non-null   object \n",
      " 3   track_name        5973 non-null   object \n",
      " 4   danceability      5973 non-null   float64\n",
      " 5   energy            5973 non-null   float64\n",
      " 6   key               5973 non-null   float64\n",
      " 7   loudness          5973 non-null   float64\n",
      " 8   mode              5973 non-null   float64\n",
      " 9   speechiness       5973 non-null   float64\n",
      " 10  instrumentalness  5973 non-null   float64\n",
      " 11  liveness          5973 non-null   float64\n",
      " 12  valence           5973 non-null   float64\n",
      " 13  tempo             5973 non-null   float64\n",
      " 14  duration_ms       5973 non-null   float64\n",
      " 15  time_signature    5973 non-null   float64\n",
      " 16  popularity        5973 non-null   float64\n",
      " 17  disc_number       5973 non-null   float64\n",
      " 18  track_number      5973 non-null   float64\n",
      " 19  is_explicit       5973 non-null   int64  \n",
      " 20  top_ten_label     5973 non-null   int64  \n",
      "dtypes: float64(15), int64(2), object(4)\n",
      "memory usage: 1.2+ MB\n"
     ]
    }
   ],
   "source": [
    "df.info()"
   ]
  },
  {
   "cell_type": "code",
   "execution_count": 6,
   "metadata": {},
   "outputs": [
    {
     "data": {
      "text/html": [
       "<div>\n",
       "<style scoped>\n",
       "    .dataframe tbody tr th:only-of-type {\n",
       "        vertical-align: middle;\n",
       "    }\n",
       "\n",
       "    .dataframe tbody tr th {\n",
       "        vertical-align: top;\n",
       "    }\n",
       "\n",
       "    .dataframe thead th {\n",
       "        text-align: right;\n",
       "    }\n",
       "</style>\n",
       "<table border=\"1\" class=\"dataframe\">\n",
       "  <thead>\n",
       "    <tr style=\"text-align: right;\">\n",
       "      <th></th>\n",
       "      <th>artist</th>\n",
       "      <th>album</th>\n",
       "      <th>release_date</th>\n",
       "      <th>track_name</th>\n",
       "      <th>danceability</th>\n",
       "      <th>energy</th>\n",
       "      <th>key</th>\n",
       "      <th>loudness</th>\n",
       "      <th>mode</th>\n",
       "      <th>speechiness</th>\n",
       "      <th>...</th>\n",
       "      <th>liveness</th>\n",
       "      <th>valence</th>\n",
       "      <th>tempo</th>\n",
       "      <th>duration_ms</th>\n",
       "      <th>time_signature</th>\n",
       "      <th>popularity</th>\n",
       "      <th>disc_number</th>\n",
       "      <th>track_number</th>\n",
       "      <th>is_explicit</th>\n",
       "      <th>top_ten_label</th>\n",
       "    </tr>\n",
       "  </thead>\n",
       "  <tbody>\n",
       "    <tr>\n",
       "      <th>0</th>\n",
       "      <td>Tay-K</td>\n",
       "      <td>TRAPMAN</td>\n",
       "      <td>2020-07-12</td>\n",
       "      <td>TRAPMAN</td>\n",
       "      <td>0.792</td>\n",
       "      <td>0.594</td>\n",
       "      <td>2.0</td>\n",
       "      <td>-8.544</td>\n",
       "      <td>1.0</td>\n",
       "      <td>0.3000</td>\n",
       "      <td>...</td>\n",
       "      <td>0.244</td>\n",
       "      <td>0.351</td>\n",
       "      <td>82.512</td>\n",
       "      <td>232803.0</td>\n",
       "      <td>4.0</td>\n",
       "      <td>43.0</td>\n",
       "      <td>1.0</td>\n",
       "      <td>1.0</td>\n",
       "      <td>1</td>\n",
       "      <td>0</td>\n",
       "    </tr>\n",
       "    <tr>\n",
       "      <th>1</th>\n",
       "      <td>Lil Wyte</td>\n",
       "      <td>Doubt Me Now</td>\n",
       "      <td>2003-03-04</td>\n",
       "      <td>Oxy Cotton</td>\n",
       "      <td>0.816</td>\n",
       "      <td>0.578</td>\n",
       "      <td>9.0</td>\n",
       "      <td>-6.912</td>\n",
       "      <td>1.0</td>\n",
       "      <td>0.2330</td>\n",
       "      <td>...</td>\n",
       "      <td>0.114</td>\n",
       "      <td>0.265</td>\n",
       "      <td>148.077</td>\n",
       "      <td>193920.0</td>\n",
       "      <td>4.0</td>\n",
       "      <td>61.0</td>\n",
       "      <td>1.0</td>\n",
       "      <td>11.0</td>\n",
       "      <td>1</td>\n",
       "      <td>0</td>\n",
       "    </tr>\n",
       "    <tr>\n",
       "      <th>2</th>\n",
       "      <td>Kamelen</td>\n",
       "      <td>KINGPIN SLIM</td>\n",
       "      <td>2019-11-29</td>\n",
       "      <td>Kingpin O.G - Remix</td>\n",
       "      <td>0.649</td>\n",
       "      <td>0.798</td>\n",
       "      <td>0.0</td>\n",
       "      <td>-6.450</td>\n",
       "      <td>0.0</td>\n",
       "      <td>0.1450</td>\n",
       "      <td>...</td>\n",
       "      <td>0.409</td>\n",
       "      <td>0.717</td>\n",
       "      <td>160.011</td>\n",
       "      <td>254390.0</td>\n",
       "      <td>4.0</td>\n",
       "      <td>23.0</td>\n",
       "      <td>1.0</td>\n",
       "      <td>11.0</td>\n",
       "      <td>1</td>\n",
       "      <td>0</td>\n",
       "    </tr>\n",
       "    <tr>\n",
       "      <th>3</th>\n",
       "      <td>Waka Flocka Flame</td>\n",
       "      <td>Flockaveli</td>\n",
       "      <td>2010-10-01</td>\n",
       "      <td>Grove St. Party (feat. Kebo Gotti)</td>\n",
       "      <td>0.705</td>\n",
       "      <td>0.702</td>\n",
       "      <td>0.0</td>\n",
       "      <td>-4.783</td>\n",
       "      <td>0.0</td>\n",
       "      <td>0.1080</td>\n",
       "      <td>...</td>\n",
       "      <td>0.364</td>\n",
       "      <td>0.771</td>\n",
       "      <td>140.059</td>\n",
       "      <td>250493.0</td>\n",
       "      <td>4.0</td>\n",
       "      <td>62.0</td>\n",
       "      <td>1.0</td>\n",
       "      <td>9.0</td>\n",
       "      <td>1</td>\n",
       "      <td>0</td>\n",
       "    </tr>\n",
       "    <tr>\n",
       "      <th>4</th>\n",
       "      <td>Project Pat</td>\n",
       "      <td>Mista Don't Play: Everythangs Workin'</td>\n",
       "      <td>2001-02-13</td>\n",
       "      <td>Don't Save Her (feat. Crunchy Black)</td>\n",
       "      <td>0.838</td>\n",
       "      <td>0.793</td>\n",
       "      <td>11.0</td>\n",
       "      <td>-5.470</td>\n",
       "      <td>0.0</td>\n",
       "      <td>0.0773</td>\n",
       "      <td>...</td>\n",
       "      <td>0.106</td>\n",
       "      <td>0.800</td>\n",
       "      <td>160.003</td>\n",
       "      <td>261933.0</td>\n",
       "      <td>4.0</td>\n",
       "      <td>45.0</td>\n",
       "      <td>1.0</td>\n",
       "      <td>5.0</td>\n",
       "      <td>1</td>\n",
       "      <td>0</td>\n",
       "    </tr>\n",
       "  </tbody>\n",
       "</table>\n",
       "<p>5 rows × 21 columns</p>\n",
       "</div>"
      ],
      "text/plain": [
       "              artist                                  album release_date  \\\n",
       "0              Tay-K                                TRAPMAN   2020-07-12   \n",
       "1           Lil Wyte                           Doubt Me Now   2003-03-04   \n",
       "2            Kamelen                           KINGPIN SLIM   2019-11-29   \n",
       "3  Waka Flocka Flame                             Flockaveli   2010-10-01   \n",
       "4        Project Pat  Mista Don't Play: Everythangs Workin'   2001-02-13   \n",
       "\n",
       "                             track_name  danceability  energy   key  loudness  \\\n",
       "0                               TRAPMAN         0.792   0.594   2.0    -8.544   \n",
       "1                            Oxy Cotton         0.816   0.578   9.0    -6.912   \n",
       "2                   Kingpin O.G - Remix         0.649   0.798   0.0    -6.450   \n",
       "3    Grove St. Party (feat. Kebo Gotti)         0.705   0.702   0.0    -4.783   \n",
       "4  Don't Save Her (feat. Crunchy Black)         0.838   0.793  11.0    -5.470   \n",
       "\n",
       "   mode  speechiness  ...  liveness  valence    tempo  duration_ms  \\\n",
       "0   1.0       0.3000  ...     0.244    0.351   82.512     232803.0   \n",
       "1   1.0       0.2330  ...     0.114    0.265  148.077     193920.0   \n",
       "2   0.0       0.1450  ...     0.409    0.717  160.011     254390.0   \n",
       "3   0.0       0.1080  ...     0.364    0.771  140.059     250493.0   \n",
       "4   0.0       0.0773  ...     0.106    0.800  160.003     261933.0   \n",
       "\n",
       "   time_signature  popularity  disc_number  track_number  is_explicit  \\\n",
       "0             4.0        43.0          1.0           1.0            1   \n",
       "1             4.0        61.0          1.0          11.0            1   \n",
       "2             4.0        23.0          1.0          11.0            1   \n",
       "3             4.0        62.0          1.0           9.0            1   \n",
       "4             4.0        45.0          1.0           5.0            1   \n",
       "\n",
       "   top_ten_label  \n",
       "0              0  \n",
       "1              0  \n",
       "2              0  \n",
       "3              0  \n",
       "4              0  \n",
       "\n",
       "[5 rows x 21 columns]"
      ]
     },
     "execution_count": 6,
     "metadata": {},
     "output_type": "execute_result"
    }
   ],
   "source": [
    "df.head()"
   ]
  },
  {
   "cell_type": "code",
   "execution_count": 7,
   "metadata": {},
   "outputs": [],
   "source": [
    "df = get_model_features(df)"
   ]
  },
  {
   "cell_type": "code",
   "execution_count": 8,
   "metadata": {},
   "outputs": [
    {
     "name": "stdout",
     "output_type": "stream",
     "text": [
      "Shape of train: (4180, 16) | Shape of validate: (897, 16) | Shape of test: (896, 16)\n",
      "Percent train: 70.0        | Percent validate: 15.0       | Percent test: 15.0\n"
     ]
    },
    {
     "data": {
      "text/html": [
       "<div>\n",
       "<style scoped>\n",
       "    .dataframe tbody tr th:only-of-type {\n",
       "        vertical-align: middle;\n",
       "    }\n",
       "\n",
       "    .dataframe tbody tr th {\n",
       "        vertical-align: top;\n",
       "    }\n",
       "\n",
       "    .dataframe thead th {\n",
       "        text-align: right;\n",
       "    }\n",
       "</style>\n",
       "<table border=\"1\" class=\"dataframe\">\n",
       "  <thead>\n",
       "    <tr style=\"text-align: right;\">\n",
       "      <th></th>\n",
       "      <th>danceability</th>\n",
       "      <th>energy</th>\n",
       "      <th>key</th>\n",
       "      <th>loudness</th>\n",
       "      <th>mode</th>\n",
       "      <th>speechiness</th>\n",
       "      <th>instrumentalness</th>\n",
       "      <th>liveness</th>\n",
       "      <th>valence</th>\n",
       "      <th>tempo</th>\n",
       "      <th>duration_ms</th>\n",
       "      <th>time_signature</th>\n",
       "      <th>disc_number</th>\n",
       "      <th>track_number</th>\n",
       "      <th>is_explicit</th>\n",
       "      <th>top_ten_label</th>\n",
       "    </tr>\n",
       "  </thead>\n",
       "  <tbody>\n",
       "    <tr>\n",
       "      <th>3332</th>\n",
       "      <td>0.687</td>\n",
       "      <td>0.948</td>\n",
       "      <td>9.0</td>\n",
       "      <td>-3.136</td>\n",
       "      <td>0.0</td>\n",
       "      <td>0.372</td>\n",
       "      <td>0.0</td>\n",
       "      <td>0.232</td>\n",
       "      <td>0.631</td>\n",
       "      <td>119.921</td>\n",
       "      <td>148000.0</td>\n",
       "      <td>4.0</td>\n",
       "      <td>1.0</td>\n",
       "      <td>8.0</td>\n",
       "      <td>1</td>\n",
       "      <td>0</td>\n",
       "    </tr>\n",
       "    <tr>\n",
       "      <th>1626</th>\n",
       "      <td>0.709</td>\n",
       "      <td>0.676</td>\n",
       "      <td>9.0</td>\n",
       "      <td>-7.369</td>\n",
       "      <td>1.0</td>\n",
       "      <td>0.329</td>\n",
       "      <td>0.0</td>\n",
       "      <td>0.349</td>\n",
       "      <td>0.680</td>\n",
       "      <td>144.067</td>\n",
       "      <td>205460.0</td>\n",
       "      <td>4.0</td>\n",
       "      <td>1.0</td>\n",
       "      <td>1.0</td>\n",
       "      <td>1</td>\n",
       "      <td>0</td>\n",
       "    </tr>\n",
       "    <tr>\n",
       "      <th>2319</th>\n",
       "      <td>0.761</td>\n",
       "      <td>0.695</td>\n",
       "      <td>1.0</td>\n",
       "      <td>-5.395</td>\n",
       "      <td>0.0</td>\n",
       "      <td>0.192</td>\n",
       "      <td>0.0</td>\n",
       "      <td>0.318</td>\n",
       "      <td>0.547</td>\n",
       "      <td>147.979</td>\n",
       "      <td>274756.0</td>\n",
       "      <td>4.0</td>\n",
       "      <td>1.0</td>\n",
       "      <td>1.0</td>\n",
       "      <td>1</td>\n",
       "      <td>0</td>\n",
       "    </tr>\n",
       "  </tbody>\n",
       "</table>\n",
       "</div>"
      ],
      "text/plain": [
       "      danceability  energy  key  loudness  mode  speechiness  \\\n",
       "3332         0.687   0.948  9.0    -3.136   0.0        0.372   \n",
       "1626         0.709   0.676  9.0    -7.369   1.0        0.329   \n",
       "2319         0.761   0.695  1.0    -5.395   0.0        0.192   \n",
       "\n",
       "      instrumentalness  liveness  valence    tempo  duration_ms  \\\n",
       "3332               0.0     0.232    0.631  119.921     148000.0   \n",
       "1626               0.0     0.349    0.680  144.067     205460.0   \n",
       "2319               0.0     0.318    0.547  147.979     274756.0   \n",
       "\n",
       "      time_signature  disc_number  track_number  is_explicit  top_ten_label  \n",
       "3332             4.0          1.0           8.0            1              0  \n",
       "1626             4.0          1.0           1.0            1              0  \n",
       "2319             4.0          1.0           1.0            1              0  "
      ]
     },
     "execution_count": 8,
     "metadata": {},
     "output_type": "execute_result"
    }
   ],
   "source": [
    "# split the data\n",
    "X_train, y_train, X_validate, y_validate, X_test, y_test, train, validate, test = spotify_split(df, 'popularity')\n",
    "X_train.head(3)"
   ]
  },
  {
   "cell_type": "markdown",
   "metadata": {},
   "source": [
    "### Scale the Data"
   ]
  },
  {
   "cell_type": "code",
   "execution_count": 9,
   "metadata": {},
   "outputs": [
    {
     "data": {
      "text/html": [
       "<div>\n",
       "<style scoped>\n",
       "    .dataframe tbody tr th:only-of-type {\n",
       "        vertical-align: middle;\n",
       "    }\n",
       "\n",
       "    .dataframe tbody tr th {\n",
       "        vertical-align: top;\n",
       "    }\n",
       "\n",
       "    .dataframe thead th {\n",
       "        text-align: right;\n",
       "    }\n",
       "</style>\n",
       "<table border=\"1\" class=\"dataframe\">\n",
       "  <thead>\n",
       "    <tr style=\"text-align: right;\">\n",
       "      <th></th>\n",
       "      <th>danceability</th>\n",
       "      <th>energy</th>\n",
       "      <th>key</th>\n",
       "      <th>loudness</th>\n",
       "      <th>mode</th>\n",
       "      <th>speechiness</th>\n",
       "      <th>instrumentalness</th>\n",
       "      <th>liveness</th>\n",
       "      <th>valence</th>\n",
       "      <th>tempo</th>\n",
       "      <th>duration_ms</th>\n",
       "      <th>time_signature</th>\n",
       "      <th>disc_number</th>\n",
       "      <th>track_number</th>\n",
       "      <th>is_explicit</th>\n",
       "      <th>top_ten_label</th>\n",
       "    </tr>\n",
       "  </thead>\n",
       "  <tbody>\n",
       "    <tr>\n",
       "      <th>3332</th>\n",
       "      <td>0.696755</td>\n",
       "      <td>0.949438</td>\n",
       "      <td>0.818182</td>\n",
       "      <td>0.823952</td>\n",
       "      <td>0.0</td>\n",
       "      <td>0.387904</td>\n",
       "      <td>0.0</td>\n",
       "      <td>0.225887</td>\n",
       "      <td>0.642566</td>\n",
       "      <td>0.544474</td>\n",
       "      <td>0.245205</td>\n",
       "      <td>0.8</td>\n",
       "      <td>0.0</td>\n",
       "      <td>0.114754</td>\n",
       "      <td>1.0</td>\n",
       "      <td>0.0</td>\n",
       "    </tr>\n",
       "    <tr>\n",
       "      <th>1626</th>\n",
       "      <td>0.719067</td>\n",
       "      <td>0.668765</td>\n",
       "      <td>0.818182</td>\n",
       "      <td>0.660421</td>\n",
       "      <td>1.0</td>\n",
       "      <td>0.343066</td>\n",
       "      <td>0.0</td>\n",
       "      <td>0.347623</td>\n",
       "      <td>0.692464</td>\n",
       "      <td>0.654104</td>\n",
       "      <td>0.350236</td>\n",
       "      <td>0.8</td>\n",
       "      <td>0.0</td>\n",
       "      <td>0.000000</td>\n",
       "      <td>1.0</td>\n",
       "      <td>0.0</td>\n",
       "    </tr>\n",
       "    <tr>\n",
       "      <th>2319</th>\n",
       "      <td>0.771805</td>\n",
       "      <td>0.688371</td>\n",
       "      <td>0.090909</td>\n",
       "      <td>0.736681</td>\n",
       "      <td>0.0</td>\n",
       "      <td>0.200209</td>\n",
       "      <td>0.0</td>\n",
       "      <td>0.315368</td>\n",
       "      <td>0.557026</td>\n",
       "      <td>0.671865</td>\n",
       "      <td>0.476901</td>\n",
       "      <td>0.8</td>\n",
       "      <td>0.0</td>\n",
       "      <td>0.000000</td>\n",
       "      <td>1.0</td>\n",
       "      <td>0.0</td>\n",
       "    </tr>\n",
       "  </tbody>\n",
       "</table>\n",
       "</div>"
      ],
      "text/plain": [
       "      danceability    energy       key  loudness  mode  speechiness  \\\n",
       "3332      0.696755  0.949438  0.818182  0.823952   0.0     0.387904   \n",
       "1626      0.719067  0.668765  0.818182  0.660421   1.0     0.343066   \n",
       "2319      0.771805  0.688371  0.090909  0.736681   0.0     0.200209   \n",
       "\n",
       "      instrumentalness  liveness   valence     tempo  duration_ms  \\\n",
       "3332               0.0  0.225887  0.642566  0.544474     0.245205   \n",
       "1626               0.0  0.347623  0.692464  0.654104     0.350236   \n",
       "2319               0.0  0.315368  0.557026  0.671865     0.476901   \n",
       "\n",
       "      time_signature  disc_number  track_number  is_explicit  top_ten_label  \n",
       "3332             0.8          0.0      0.114754          1.0            0.0  \n",
       "1626             0.8          0.0      0.000000          1.0            0.0  \n",
       "2319             0.8          0.0      0.000000          1.0            0.0  "
      ]
     },
     "execution_count": 9,
     "metadata": {},
     "output_type": "execute_result"
    }
   ],
   "source": [
    "# MIN-MAX\n",
    "X_train_mm, X_validate_mm, X_test_mm = scale_data(train, validate, test, 'popularity', 'MinMax')\n",
    "X_train_mm.head(3)"
   ]
  },
  {
   "cell_type": "code",
   "execution_count": 10,
   "metadata": {},
   "outputs": [
    {
     "data": {
      "text/html": [
       "<div>\n",
       "<style scoped>\n",
       "    .dataframe tbody tr th:only-of-type {\n",
       "        vertical-align: middle;\n",
       "    }\n",
       "\n",
       "    .dataframe tbody tr th {\n",
       "        vertical-align: top;\n",
       "    }\n",
       "\n",
       "    .dataframe thead th {\n",
       "        text-align: right;\n",
       "    }\n",
       "</style>\n",
       "<table border=\"1\" class=\"dataframe\">\n",
       "  <thead>\n",
       "    <tr style=\"text-align: right;\">\n",
       "      <th></th>\n",
       "      <th>danceability</th>\n",
       "      <th>energy</th>\n",
       "      <th>key</th>\n",
       "      <th>loudness</th>\n",
       "      <th>mode</th>\n",
       "      <th>speechiness</th>\n",
       "      <th>instrumentalness</th>\n",
       "      <th>liveness</th>\n",
       "      <th>valence</th>\n",
       "      <th>tempo</th>\n",
       "      <th>duration_ms</th>\n",
       "      <th>time_signature</th>\n",
       "      <th>disc_number</th>\n",
       "      <th>track_number</th>\n",
       "      <th>is_explicit</th>\n",
       "      <th>top_ten_label</th>\n",
       "    </tr>\n",
       "  </thead>\n",
       "  <tbody>\n",
       "    <tr>\n",
       "      <th>3332</th>\n",
       "      <td>-0.382672</td>\n",
       "      <td>1.818840</td>\n",
       "      <td>1.003165</td>\n",
       "      <td>1.348643</td>\n",
       "      <td>-1.164584</td>\n",
       "      <td>0.926952</td>\n",
       "      <td>-0.160234</td>\n",
       "      <td>0.191349</td>\n",
       "      <td>0.470375</td>\n",
       "      <td>-0.011981</td>\n",
       "      <td>-0.970947</td>\n",
       "      <td>0.029696</td>\n",
       "      <td>-0.065376</td>\n",
       "      <td>0.495387</td>\n",
       "      <td>0.480102</td>\n",
       "      <td>-0.401788</td>\n",
       "    </tr>\n",
       "    <tr>\n",
       "      <th>1626</th>\n",
       "      <td>-0.218486</td>\n",
       "      <td>0.069804</td>\n",
       "      <td>1.003165</td>\n",
       "      <td>-0.128026</td>\n",
       "      <td>0.858675</td>\n",
       "      <td>0.633988</td>\n",
       "      <td>-0.160234</td>\n",
       "      <td>0.921536</td>\n",
       "      <td>0.692341</td>\n",
       "      <td>0.789298</td>\n",
       "      <td>-0.031013</td>\n",
       "      <td>0.029696</td>\n",
       "      <td>-0.065376</td>\n",
       "      <td>-0.922635</td>\n",
       "      <td>0.480102</td>\n",
       "      <td>-0.401788</td>\n",
       "    </tr>\n",
       "    <tr>\n",
       "      <th>2319</th>\n",
       "      <td>0.169590</td>\n",
       "      <td>0.191979</td>\n",
       "      <td>-1.129438</td>\n",
       "      <td>0.560598</td>\n",
       "      <td>-1.164584</td>\n",
       "      <td>-0.299407</td>\n",
       "      <td>-0.160234</td>\n",
       "      <td>0.728067</td>\n",
       "      <td>0.089862</td>\n",
       "      <td>0.919116</td>\n",
       "      <td>1.102535</td>\n",
       "      <td>0.029696</td>\n",
       "      <td>-0.065376</td>\n",
       "      <td>-0.922635</td>\n",
       "      <td>0.480102</td>\n",
       "      <td>-0.401788</td>\n",
       "    </tr>\n",
       "  </tbody>\n",
       "</table>\n",
       "</div>"
      ],
      "text/plain": [
       "      danceability    energy       key  loudness      mode  speechiness  \\\n",
       "3332     -0.382672  1.818840  1.003165  1.348643 -1.164584     0.926952   \n",
       "1626     -0.218486  0.069804  1.003165 -0.128026  0.858675     0.633988   \n",
       "2319      0.169590  0.191979 -1.129438  0.560598 -1.164584    -0.299407   \n",
       "\n",
       "      instrumentalness  liveness   valence     tempo  duration_ms  \\\n",
       "3332         -0.160234  0.191349  0.470375 -0.011981    -0.970947   \n",
       "1626         -0.160234  0.921536  0.692341  0.789298    -0.031013   \n",
       "2319         -0.160234  0.728067  0.089862  0.919116     1.102535   \n",
       "\n",
       "      time_signature  disc_number  track_number  is_explicit  top_ten_label  \n",
       "3332        0.029696    -0.065376      0.495387     0.480102      -0.401788  \n",
       "1626        0.029696    -0.065376     -0.922635     0.480102      -0.401788  \n",
       "2319        0.029696    -0.065376     -0.922635     0.480102      -0.401788  "
      ]
     },
     "execution_count": 10,
     "metadata": {},
     "output_type": "execute_result"
    }
   ],
   "source": [
    "# STANDARD\n",
    "X_train_st, X_validate_st, X_test_st = scale_data(train, validate, test, 'popularity', 'Standard')\n",
    "X_train_st.head(3)"
   ]
  },
  {
   "cell_type": "code",
   "execution_count": 11,
   "metadata": {},
   "outputs": [
    {
     "data": {
      "text/html": [
       "<div>\n",
       "<style scoped>\n",
       "    .dataframe tbody tr th:only-of-type {\n",
       "        vertical-align: middle;\n",
       "    }\n",
       "\n",
       "    .dataframe tbody tr th {\n",
       "        vertical-align: top;\n",
       "    }\n",
       "\n",
       "    .dataframe thead th {\n",
       "        text-align: right;\n",
       "    }\n",
       "</style>\n",
       "<table border=\"1\" class=\"dataframe\">\n",
       "  <thead>\n",
       "    <tr style=\"text-align: right;\">\n",
       "      <th></th>\n",
       "      <th>danceability</th>\n",
       "      <th>energy</th>\n",
       "      <th>key</th>\n",
       "      <th>loudness</th>\n",
       "      <th>mode</th>\n",
       "      <th>speechiness</th>\n",
       "      <th>instrumentalness</th>\n",
       "      <th>liveness</th>\n",
       "      <th>valence</th>\n",
       "      <th>tempo</th>\n",
       "      <th>duration_ms</th>\n",
       "      <th>time_signature</th>\n",
       "      <th>disc_number</th>\n",
       "      <th>track_number</th>\n",
       "      <th>is_explicit</th>\n",
       "      <th>top_ten_label</th>\n",
       "    </tr>\n",
       "  </thead>\n",
       "  <tbody>\n",
       "    <tr>\n",
       "      <th>3332</th>\n",
       "      <td>-0.382672</td>\n",
       "      <td>1.818840</td>\n",
       "      <td>1.003165</td>\n",
       "      <td>1.348643</td>\n",
       "      <td>-1.164584</td>\n",
       "      <td>0.926952</td>\n",
       "      <td>-0.160234</td>\n",
       "      <td>0.191349</td>\n",
       "      <td>0.470375</td>\n",
       "      <td>-0.011981</td>\n",
       "      <td>-0.970947</td>\n",
       "      <td>0.029696</td>\n",
       "      <td>-0.065376</td>\n",
       "      <td>0.495387</td>\n",
       "      <td>0.480102</td>\n",
       "      <td>-0.401788</td>\n",
       "    </tr>\n",
       "    <tr>\n",
       "      <th>1626</th>\n",
       "      <td>-0.218486</td>\n",
       "      <td>0.069804</td>\n",
       "      <td>1.003165</td>\n",
       "      <td>-0.128026</td>\n",
       "      <td>0.858675</td>\n",
       "      <td>0.633988</td>\n",
       "      <td>-0.160234</td>\n",
       "      <td>0.921536</td>\n",
       "      <td>0.692341</td>\n",
       "      <td>0.789298</td>\n",
       "      <td>-0.031013</td>\n",
       "      <td>0.029696</td>\n",
       "      <td>-0.065376</td>\n",
       "      <td>-0.922635</td>\n",
       "      <td>0.480102</td>\n",
       "      <td>-0.401788</td>\n",
       "    </tr>\n",
       "    <tr>\n",
       "      <th>2319</th>\n",
       "      <td>0.169590</td>\n",
       "      <td>0.191979</td>\n",
       "      <td>-1.129438</td>\n",
       "      <td>0.560598</td>\n",
       "      <td>-1.164584</td>\n",
       "      <td>-0.299407</td>\n",
       "      <td>-0.160234</td>\n",
       "      <td>0.728067</td>\n",
       "      <td>0.089862</td>\n",
       "      <td>0.919116</td>\n",
       "      <td>1.102535</td>\n",
       "      <td>0.029696</td>\n",
       "      <td>-0.065376</td>\n",
       "      <td>-0.922635</td>\n",
       "      <td>0.480102</td>\n",
       "      <td>-0.401788</td>\n",
       "    </tr>\n",
       "  </tbody>\n",
       "</table>\n",
       "</div>"
      ],
      "text/plain": [
       "      danceability    energy       key  loudness      mode  speechiness  \\\n",
       "3332     -0.382672  1.818840  1.003165  1.348643 -1.164584     0.926952   \n",
       "1626     -0.218486  0.069804  1.003165 -0.128026  0.858675     0.633988   \n",
       "2319      0.169590  0.191979 -1.129438  0.560598 -1.164584    -0.299407   \n",
       "\n",
       "      instrumentalness  liveness   valence     tempo  duration_ms  \\\n",
       "3332         -0.160234  0.191349  0.470375 -0.011981    -0.970947   \n",
       "1626         -0.160234  0.921536  0.692341  0.789298    -0.031013   \n",
       "2319         -0.160234  0.728067  0.089862  0.919116     1.102535   \n",
       "\n",
       "      time_signature  disc_number  track_number  is_explicit  top_ten_label  \n",
       "3332        0.029696    -0.065376      0.495387     0.480102      -0.401788  \n",
       "1626        0.029696    -0.065376     -0.922635     0.480102      -0.401788  \n",
       "2319        0.029696    -0.065376     -0.922635     0.480102      -0.401788  "
      ]
     },
     "execution_count": 11,
     "metadata": {},
     "output_type": "execute_result"
    }
   ],
   "source": [
    "# ROBUST\n",
    "X_train_rb, X_validate_rb, X_test_rb = scale_data(train, validate, test, 'popularity', 'Robust')\n",
    "X_train_rb.head(3)"
   ]
  },
  {
   "cell_type": "markdown",
   "metadata": {},
   "source": [
    "--- \n",
    "# Feature Selection"
   ]
  },
  {
   "cell_type": "code",
   "execution_count": 12,
   "metadata": {},
   "outputs": [],
   "source": [
    "# SELECT K BEST\n",
    "from sklearn.feature_selection import SelectKBest, f_regression"
   ]
  },
  {
   "cell_type": "code",
   "execution_count": 13,
   "metadata": {},
   "outputs": [
    {
     "data": {
      "text/html": [
       "<div>\n",
       "<style scoped>\n",
       "    .dataframe tbody tr th:only-of-type {\n",
       "        vertical-align: middle;\n",
       "    }\n",
       "\n",
       "    .dataframe tbody tr th {\n",
       "        vertical-align: top;\n",
       "    }\n",
       "\n",
       "    .dataframe thead th {\n",
       "        text-align: right;\n",
       "    }\n",
       "</style>\n",
       "<table border=\"1\" class=\"dataframe\">\n",
       "  <thead>\n",
       "    <tr style=\"text-align: right;\">\n",
       "      <th></th>\n",
       "      <th>loudness</th>\n",
       "      <th>speechiness</th>\n",
       "      <th>track_number</th>\n",
       "      <th>is_explicit</th>\n",
       "      <th>top_ten_label</th>\n",
       "    </tr>\n",
       "  </thead>\n",
       "  <tbody>\n",
       "    <tr>\n",
       "      <th>3332</th>\n",
       "      <td>0.823952</td>\n",
       "      <td>0.387904</td>\n",
       "      <td>0.114754</td>\n",
       "      <td>1.0</td>\n",
       "      <td>0.0</td>\n",
       "    </tr>\n",
       "  </tbody>\n",
       "</table>\n",
       "</div>"
      ],
      "text/plain": [
       "      loudness  speechiness  track_number  is_explicit  top_ten_label\n",
       "3332  0.823952     0.387904      0.114754          1.0            0.0"
      ]
     },
     "execution_count": 13,
     "metadata": {},
     "output_type": "execute_result"
    }
   ],
   "source": [
    "f_selector = SelectKBest(f_regression, 5)\n",
    "f_selector.fit(X_train_mm, y_train)\n",
    "f_mask = f_selector.get_support()\n",
    "X_train_scaled_f_reduced = X_train_mm.iloc[:,f_mask]\n",
    "X_train_scaled_f_reduced.head(1)"
   ]
  },
  {
   "cell_type": "code",
   "execution_count": 14,
   "metadata": {},
   "outputs": [],
   "source": [
    "skb_features = X_train_scaled_f_reduced"
   ]
  },
  {
   "cell_type": "code",
   "execution_count": 15,
   "metadata": {},
   "outputs": [],
   "source": [
    "#RFE\n",
    "from sklearn.feature_selection import RFE"
   ]
  },
  {
   "cell_type": "code",
   "execution_count": 16,
   "metadata": {},
   "outputs": [
    {
     "data": {
      "text/html": [
       "<div>\n",
       "<style scoped>\n",
       "    .dataframe tbody tr th:only-of-type {\n",
       "        vertical-align: middle;\n",
       "    }\n",
       "\n",
       "    .dataframe tbody tr th {\n",
       "        vertical-align: top;\n",
       "    }\n",
       "\n",
       "    .dataframe thead th {\n",
       "        text-align: right;\n",
       "    }\n",
       "</style>\n",
       "<table border=\"1\" class=\"dataframe\">\n",
       "  <thead>\n",
       "    <tr style=\"text-align: right;\">\n",
       "      <th></th>\n",
       "      <th>energy</th>\n",
       "      <th>loudness</th>\n",
       "      <th>disc_number</th>\n",
       "      <th>track_number</th>\n",
       "      <th>top_ten_label</th>\n",
       "    </tr>\n",
       "  </thead>\n",
       "  <tbody>\n",
       "    <tr>\n",
       "      <th>3332</th>\n",
       "      <td>0.949438</td>\n",
       "      <td>0.823952</td>\n",
       "      <td>0.0</td>\n",
       "      <td>0.114754</td>\n",
       "      <td>0.0</td>\n",
       "    </tr>\n",
       "  </tbody>\n",
       "</table>\n",
       "</div>"
      ],
      "text/plain": [
       "        energy  loudness  disc_number  track_number  top_ten_label\n",
       "3332  0.949438  0.823952          0.0      0.114754            0.0"
      ]
     },
     "execution_count": 16,
     "metadata": {},
     "output_type": "execute_result"
    }
   ],
   "source": [
    "# creat3 the ML model object\n",
    "lm = LinearRegression()\n",
    "# create the rfe object\n",
    "rfe = RFE(lm, 5)\n",
    "# fit the rfe\n",
    "rfe.fit(X_train_mm, y_train)\n",
    "# get the feature support boolean list\n",
    "rfe_mask = rfe.support_\n",
    "# reduce the dataframe to just those features\n",
    "X_train_scaled_rfe_reduced = X_train_mm.iloc[:,rfe_mask]\n",
    "X_train_scaled_rfe_reduced.head(1)"
   ]
  },
  {
   "cell_type": "code",
   "execution_count": 17,
   "metadata": {},
   "outputs": [],
   "source": [
    "rfe_features = X_train_scaled_rfe_reduced"
   ]
  },
  {
   "cell_type": "markdown",
   "metadata": {},
   "source": [
    "--- \n",
    "# Set the baseline"
   ]
  },
  {
   "cell_type": "code",
   "execution_count": 18,
   "metadata": {},
   "outputs": [
    {
     "data": {
      "text/plain": [
       "38.53421052631579"
      ]
     },
     "execution_count": 18,
     "metadata": {},
     "output_type": "execute_result"
    }
   ],
   "source": [
    "baseline = np.mean(y_train)\n",
    "baseline"
   ]
  },
  {
   "cell_type": "code",
   "execution_count": 19,
   "metadata": {},
   "outputs": [
    {
     "name": "stdout",
     "output_type": "stream",
     "text": [
      "RMSE (Root Mean Square Error) of Baseline on train data:\n",
      " 22.822029\n",
      "RMSE (Root Mean Square Error) of Baseline on validate data:\n",
      " 22.9586\n",
      "RMSE (Root Mean Square Error) of Baseline on test data:\n",
      " 23.196285\n"
     ]
    }
   ],
   "source": [
    "baseline_train_rmse = round(sqrt(mean_squared_error(y_train, np.full(len(y_train), baseline))), 6)\n",
    "print('RMSE (Root Mean Square Error) of Baseline on train data:\\n', baseline_train_rmse)\n",
    "\n",
    "baseline_validate_rmse = round(sqrt(mean_squared_error(y_validate, np.full(len(y_validate), baseline))), 6)\n",
    "print('RMSE (Root Mean Square Error) of Baseline on validate data:\\n', baseline_validate_rmse)\n",
    "\n",
    "baseline_test_rmse = round(sqrt(mean_squared_error(y_test, np.full(len(y_test), baseline))), 6)\n",
    "print('RMSE (Root Mean Square Error) of Baseline on test data:\\n', baseline_test_rmse)"
   ]
  },
  {
   "cell_type": "markdown",
   "metadata": {},
   "source": [
    "---\n",
    "# MODELS"
   ]
  },
  {
   "cell_type": "markdown",
   "metadata": {},
   "source": [
    "---\n",
    "### Cross Validation"
   ]
  },
  {
   "cell_type": "code",
   "execution_count": 20,
   "metadata": {},
   "outputs": [],
   "source": [
    "from sklearn.model_selection import GridSearchCV"
   ]
  },
  {
   "cell_type": "code",
   "execution_count": 21,
   "metadata": {},
   "outputs": [
    {
     "data": {
      "text/html": [
       "<div>\n",
       "<style scoped>\n",
       "    .dataframe tbody tr th:only-of-type {\n",
       "        vertical-align: middle;\n",
       "    }\n",
       "\n",
       "    .dataframe tbody tr th {\n",
       "        vertical-align: top;\n",
       "    }\n",
       "\n",
       "    .dataframe thead th {\n",
       "        text-align: right;\n",
       "    }\n",
       "</style>\n",
       "<table border=\"1\" class=\"dataframe\">\n",
       "  <thead>\n",
       "    <tr style=\"text-align: right;\">\n",
       "      <th></th>\n",
       "      <th>fit_intercept</th>\n",
       "      <th>RMSE</th>\n",
       "    </tr>\n",
       "  </thead>\n",
       "  <tbody>\n",
       "    <tr>\n",
       "      <th>0</th>\n",
       "      <td>True</td>\n",
       "      <td>-21.167502</td>\n",
       "    </tr>\n",
       "    <tr>\n",
       "      <th>1</th>\n",
       "      <td>False</td>\n",
       "      <td>-21.205112</td>\n",
       "    </tr>\n",
       "  </tbody>\n",
       "</table>\n",
       "</div>"
      ],
      "text/plain": [
       "   fit_intercept       RMSE\n",
       "0           True -21.167502\n",
       "1          False -21.205112"
      ]
     },
     "execution_count": 21,
     "metadata": {},
     "output_type": "execute_result"
    }
   ],
   "source": [
    "# OLS CV\n",
    "params = {'fit_intercept': [True, False]}\n",
    "\n",
    "lm = LinearRegression()\n",
    "\n",
    "grid = GridSearchCV(lm, params, \n",
    "                    scoring= 'neg_root_mean_squared_error', \n",
    "                    cv=3, iid=True)\n",
    "\n",
    "grid.fit(X_train_mm, y_train)\n",
    "\n",
    "results = grid.cv_results_\n",
    "#results.keys()\n",
    "\n",
    "params = results['params']\n",
    "test_scores = results['mean_test_score']\n",
    "\n",
    "for p, s in zip(params, test_scores):\n",
    "    p['RMSE'] = s\n",
    "\n",
    "pd.DataFrame(params).sort_values(by='RMSE', ascending=False)"
   ]
  },
  {
   "cell_type": "code",
   "execution_count": 22,
   "metadata": {},
   "outputs": [
    {
     "data": {
      "text/html": [
       "<div>\n",
       "<style scoped>\n",
       "    .dataframe tbody tr th:only-of-type {\n",
       "        vertical-align: middle;\n",
       "    }\n",
       "\n",
       "    .dataframe tbody tr th {\n",
       "        vertical-align: top;\n",
       "    }\n",
       "\n",
       "    .dataframe thead th {\n",
       "        text-align: right;\n",
       "    }\n",
       "</style>\n",
       "<table border=\"1\" class=\"dataframe\">\n",
       "  <thead>\n",
       "    <tr style=\"text-align: right;\">\n",
       "      <th></th>\n",
       "      <th>alpha</th>\n",
       "      <th>fit_intercept</th>\n",
       "      <th>RMSE</th>\n",
       "    </tr>\n",
       "  </thead>\n",
       "  <tbody>\n",
       "    <tr>\n",
       "      <th>2</th>\n",
       "      <td>0.0010</td>\n",
       "      <td>True</td>\n",
       "      <td>-21.161037</td>\n",
       "    </tr>\n",
       "    <tr>\n",
       "      <th>0</th>\n",
       "      <td>0.0001</td>\n",
       "      <td>True</td>\n",
       "      <td>-21.166693</td>\n",
       "    </tr>\n",
       "    <tr>\n",
       "      <th>4</th>\n",
       "      <td>0.0100</td>\n",
       "      <td>True</td>\n",
       "      <td>-21.194998</td>\n",
       "    </tr>\n",
       "    <tr>\n",
       "      <th>5</th>\n",
       "      <td>0.0100</td>\n",
       "      <td>False</td>\n",
       "      <td>-21.199645</td>\n",
       "    </tr>\n",
       "    <tr>\n",
       "      <th>3</th>\n",
       "      <td>0.0010</td>\n",
       "      <td>False</td>\n",
       "      <td>-21.204128</td>\n",
       "    </tr>\n",
       "    <tr>\n",
       "      <th>1</th>\n",
       "      <td>0.0001</td>\n",
       "      <td>False</td>\n",
       "      <td>-21.205009</td>\n",
       "    </tr>\n",
       "  </tbody>\n",
       "</table>\n",
       "</div>"
      ],
      "text/plain": [
       "    alpha  fit_intercept       RMSE\n",
       "2  0.0010           True -21.161037\n",
       "0  0.0001           True -21.166693\n",
       "4  0.0100           True -21.194998\n",
       "5  0.0100          False -21.199645\n",
       "3  0.0010          False -21.204128\n",
       "1  0.0001          False -21.205009"
      ]
     },
     "execution_count": 22,
     "metadata": {},
     "output_type": "execute_result"
    }
   ],
   "source": [
    "# Lasso Lars CV\n",
    "params = {'fit_intercept': [True, False],\n",
    "          'alpha': [.0001, .001, .01]\n",
    "         }\n",
    "          \n",
    "lars = LassoLars()\n",
    "\n",
    "grid = GridSearchCV(lars, params, \n",
    "                    scoring= 'neg_root_mean_squared_error', \n",
    "                    cv=3, iid=True)\n",
    "\n",
    "grid.fit(X_train_mm, y_train)\n",
    "\n",
    "results = grid.cv_results_\n",
    "#results.keys()\n",
    "\n",
    "params = results['params']\n",
    "test_scores = results['mean_test_score']\n",
    "\n",
    "for p, s in zip(params, test_scores):\n",
    "    p['RMSE'] = s\n",
    "\n",
    "pd.DataFrame(params).sort_values(by='RMSE', ascending=False)"
   ]
  },
  {
   "cell_type": "code",
   "execution_count": 23,
   "metadata": {},
   "outputs": [],
   "source": [
    "def PolynomialRegression(degree=2, interaction_only=False, include_bias=True, order='C', **kwargs):\n",
    "    from sklearn.pipeline import make_pipeline\n",
    "    return make_pipeline(PolynomialFeatures(degree, interaction_only, include_bias, order),\n",
    "                         LinearRegression(**kwargs))"
   ]
  },
  {
   "cell_type": "code",
   "execution_count": 24,
   "metadata": {
    "scrolled": true
   },
   "outputs": [
    {
     "data": {
      "text/plain": [
       "dict_keys(['memory', 'steps', 'verbose', 'polynomialfeatures', 'linearregression', 'polynomialfeatures__degree', 'polynomialfeatures__include_bias', 'polynomialfeatures__interaction_only', 'polynomialfeatures__order', 'linearregression__copy_X', 'linearregression__fit_intercept', 'linearregression__n_jobs', 'linearregression__normalize'])"
      ]
     },
     "execution_count": 24,
     "metadata": {},
     "output_type": "execute_result"
    }
   ],
   "source": [
    "PolynomialRegression().get_params().keys()"
   ]
  },
  {
   "cell_type": "code",
   "execution_count": 25,
   "metadata": {},
   "outputs": [
    {
     "data": {
      "text/plain": [
       "Pipeline(memory=None,\n",
       "         steps=[('polynomialfeatures',\n",
       "                 PolynomialFeatures(degree=2, include_bias=True,\n",
       "                                    interaction_only=False, order='C')),\n",
       "                ('linearregression',\n",
       "                 LinearRegression(copy_X=True, fit_intercept=True, n_jobs=None,\n",
       "                                  normalize=False))],\n",
       "         verbose=False)"
      ]
     },
     "execution_count": 25,
     "metadata": {},
     "output_type": "execute_result"
    }
   ],
   "source": [
    "PolynomialRegression()"
   ]
  },
  {
   "cell_type": "code",
   "execution_count": 26,
   "metadata": {
    "scrolled": true
   },
   "outputs": [
    {
     "data": {
      "text/html": [
       "<div>\n",
       "<style scoped>\n",
       "    .dataframe tbody tr th:only-of-type {\n",
       "        vertical-align: middle;\n",
       "    }\n",
       "\n",
       "    .dataframe tbody tr th {\n",
       "        vertical-align: top;\n",
       "    }\n",
       "\n",
       "    .dataframe thead th {\n",
       "        text-align: right;\n",
       "    }\n",
       "</style>\n",
       "<table border=\"1\" class=\"dataframe\">\n",
       "  <thead>\n",
       "    <tr style=\"text-align: right;\">\n",
       "      <th></th>\n",
       "      <th>polynomialfeatures__degree</th>\n",
       "      <th>polynomialfeatures__include_bias</th>\n",
       "      <th>polynomialfeatures__interaction_only</th>\n",
       "      <th>polynomialfeatures__order</th>\n",
       "      <th>RMSE</th>\n",
       "    </tr>\n",
       "  </thead>\n",
       "  <tbody>\n",
       "    <tr>\n",
       "      <th>1</th>\n",
       "      <td>2</td>\n",
       "      <td>True</td>\n",
       "      <td>True</td>\n",
       "      <td>F</td>\n",
       "      <td>-2.209647e+01</td>\n",
       "    </tr>\n",
       "    <tr>\n",
       "      <th>0</th>\n",
       "      <td>2</td>\n",
       "      <td>True</td>\n",
       "      <td>True</td>\n",
       "      <td>C</td>\n",
       "      <td>-2.209647e+01</td>\n",
       "    </tr>\n",
       "    <tr>\n",
       "      <th>4</th>\n",
       "      <td>2</td>\n",
       "      <td>False</td>\n",
       "      <td>True</td>\n",
       "      <td>C</td>\n",
       "      <td>-2.209647e+01</td>\n",
       "    </tr>\n",
       "    <tr>\n",
       "      <th>5</th>\n",
       "      <td>2</td>\n",
       "      <td>False</td>\n",
       "      <td>True</td>\n",
       "      <td>F</td>\n",
       "      <td>-2.209647e+01</td>\n",
       "    </tr>\n",
       "    <tr>\n",
       "      <th>9</th>\n",
       "      <td>3</td>\n",
       "      <td>True</td>\n",
       "      <td>True</td>\n",
       "      <td>F</td>\n",
       "      <td>-3.679750e+02</td>\n",
       "    </tr>\n",
       "    <tr>\n",
       "      <th>13</th>\n",
       "      <td>3</td>\n",
       "      <td>False</td>\n",
       "      <td>True</td>\n",
       "      <td>F</td>\n",
       "      <td>-3.679750e+02</td>\n",
       "    </tr>\n",
       "    <tr>\n",
       "      <th>12</th>\n",
       "      <td>3</td>\n",
       "      <td>False</td>\n",
       "      <td>True</td>\n",
       "      <td>C</td>\n",
       "      <td>-3.679750e+02</td>\n",
       "    </tr>\n",
       "    <tr>\n",
       "      <th>8</th>\n",
       "      <td>3</td>\n",
       "      <td>True</td>\n",
       "      <td>True</td>\n",
       "      <td>C</td>\n",
       "      <td>-3.679750e+02</td>\n",
       "    </tr>\n",
       "    <tr>\n",
       "      <th>14</th>\n",
       "      <td>3</td>\n",
       "      <td>False</td>\n",
       "      <td>False</td>\n",
       "      <td>C</td>\n",
       "      <td>-4.504008e+02</td>\n",
       "    </tr>\n",
       "    <tr>\n",
       "      <th>10</th>\n",
       "      <td>3</td>\n",
       "      <td>True</td>\n",
       "      <td>False</td>\n",
       "      <td>C</td>\n",
       "      <td>-4.504008e+02</td>\n",
       "    </tr>\n",
       "    <tr>\n",
       "      <th>11</th>\n",
       "      <td>3</td>\n",
       "      <td>True</td>\n",
       "      <td>False</td>\n",
       "      <td>F</td>\n",
       "      <td>-4.504008e+02</td>\n",
       "    </tr>\n",
       "    <tr>\n",
       "      <th>15</th>\n",
       "      <td>3</td>\n",
       "      <td>False</td>\n",
       "      <td>False</td>\n",
       "      <td>F</td>\n",
       "      <td>-4.504008e+02</td>\n",
       "    </tr>\n",
       "    <tr>\n",
       "      <th>23</th>\n",
       "      <td>4</td>\n",
       "      <td>False</td>\n",
       "      <td>False</td>\n",
       "      <td>F</td>\n",
       "      <td>-4.694520e+07</td>\n",
       "    </tr>\n",
       "    <tr>\n",
       "      <th>19</th>\n",
       "      <td>4</td>\n",
       "      <td>True</td>\n",
       "      <td>False</td>\n",
       "      <td>F</td>\n",
       "      <td>-4.694520e+07</td>\n",
       "    </tr>\n",
       "    <tr>\n",
       "      <th>22</th>\n",
       "      <td>4</td>\n",
       "      <td>False</td>\n",
       "      <td>False</td>\n",
       "      <td>C</td>\n",
       "      <td>-4.696277e+07</td>\n",
       "    </tr>\n",
       "    <tr>\n",
       "      <th>18</th>\n",
       "      <td>4</td>\n",
       "      <td>True</td>\n",
       "      <td>False</td>\n",
       "      <td>C</td>\n",
       "      <td>-4.704112e+07</td>\n",
       "    </tr>\n",
       "    <tr>\n",
       "      <th>3</th>\n",
       "      <td>2</td>\n",
       "      <td>True</td>\n",
       "      <td>False</td>\n",
       "      <td>F</td>\n",
       "      <td>-1.991006e+08</td>\n",
       "    </tr>\n",
       "    <tr>\n",
       "      <th>6</th>\n",
       "      <td>2</td>\n",
       "      <td>False</td>\n",
       "      <td>False</td>\n",
       "      <td>C</td>\n",
       "      <td>-3.069940e+08</td>\n",
       "    </tr>\n",
       "    <tr>\n",
       "      <th>7</th>\n",
       "      <td>2</td>\n",
       "      <td>False</td>\n",
       "      <td>False</td>\n",
       "      <td>F</td>\n",
       "      <td>-6.174074e+08</td>\n",
       "    </tr>\n",
       "    <tr>\n",
       "      <th>2</th>\n",
       "      <td>2</td>\n",
       "      <td>True</td>\n",
       "      <td>False</td>\n",
       "      <td>C</td>\n",
       "      <td>-1.194769e+09</td>\n",
       "    </tr>\n",
       "    <tr>\n",
       "      <th>20</th>\n",
       "      <td>4</td>\n",
       "      <td>False</td>\n",
       "      <td>True</td>\n",
       "      <td>C</td>\n",
       "      <td>-1.973322e+10</td>\n",
       "    </tr>\n",
       "    <tr>\n",
       "      <th>21</th>\n",
       "      <td>4</td>\n",
       "      <td>False</td>\n",
       "      <td>True</td>\n",
       "      <td>F</td>\n",
       "      <td>-1.039115e+11</td>\n",
       "    </tr>\n",
       "    <tr>\n",
       "      <th>17</th>\n",
       "      <td>4</td>\n",
       "      <td>True</td>\n",
       "      <td>True</td>\n",
       "      <td>F</td>\n",
       "      <td>-2.412515e+11</td>\n",
       "    </tr>\n",
       "    <tr>\n",
       "      <th>16</th>\n",
       "      <td>4</td>\n",
       "      <td>True</td>\n",
       "      <td>True</td>\n",
       "      <td>C</td>\n",
       "      <td>-3.891032e+11</td>\n",
       "    </tr>\n",
       "  </tbody>\n",
       "</table>\n",
       "</div>"
      ],
      "text/plain": [
       "    polynomialfeatures__degree  polynomialfeatures__include_bias  \\\n",
       "1                            2                              True   \n",
       "0                            2                              True   \n",
       "4                            2                             False   \n",
       "5                            2                             False   \n",
       "9                            3                              True   \n",
       "13                           3                             False   \n",
       "12                           3                             False   \n",
       "8                            3                              True   \n",
       "14                           3                             False   \n",
       "10                           3                              True   \n",
       "11                           3                              True   \n",
       "15                           3                             False   \n",
       "23                           4                             False   \n",
       "19                           4                              True   \n",
       "22                           4                             False   \n",
       "18                           4                              True   \n",
       "3                            2                              True   \n",
       "6                            2                             False   \n",
       "7                            2                             False   \n",
       "2                            2                              True   \n",
       "20                           4                             False   \n",
       "21                           4                             False   \n",
       "17                           4                              True   \n",
       "16                           4                              True   \n",
       "\n",
       "    polynomialfeatures__interaction_only polynomialfeatures__order  \\\n",
       "1                                   True                         F   \n",
       "0                                   True                         C   \n",
       "4                                   True                         C   \n",
       "5                                   True                         F   \n",
       "9                                   True                         F   \n",
       "13                                  True                         F   \n",
       "12                                  True                         C   \n",
       "8                                   True                         C   \n",
       "14                                 False                         C   \n",
       "10                                 False                         C   \n",
       "11                                 False                         F   \n",
       "15                                 False                         F   \n",
       "23                                 False                         F   \n",
       "19                                 False                         F   \n",
       "22                                 False                         C   \n",
       "18                                 False                         C   \n",
       "3                                  False                         F   \n",
       "6                                  False                         C   \n",
       "7                                  False                         F   \n",
       "2                                  False                         C   \n",
       "20                                  True                         C   \n",
       "21                                  True                         F   \n",
       "17                                  True                         F   \n",
       "16                                  True                         C   \n",
       "\n",
       "            RMSE  \n",
       "1  -2.209647e+01  \n",
       "0  -2.209647e+01  \n",
       "4  -2.209647e+01  \n",
       "5  -2.209647e+01  \n",
       "9  -3.679750e+02  \n",
       "13 -3.679750e+02  \n",
       "12 -3.679750e+02  \n",
       "8  -3.679750e+02  \n",
       "14 -4.504008e+02  \n",
       "10 -4.504008e+02  \n",
       "11 -4.504008e+02  \n",
       "15 -4.504008e+02  \n",
       "23 -4.694520e+07  \n",
       "19 -4.694520e+07  \n",
       "22 -4.696277e+07  \n",
       "18 -4.704112e+07  \n",
       "3  -1.991006e+08  \n",
       "6  -3.069940e+08  \n",
       "7  -6.174074e+08  \n",
       "2  -1.194769e+09  \n",
       "20 -1.973322e+10  \n",
       "21 -1.039115e+11  \n",
       "17 -2.412515e+11  \n",
       "16 -3.891032e+11  "
      ]
     },
     "execution_count": 26,
     "metadata": {},
     "output_type": "execute_result"
    }
   ],
   "source": [
    "# Polynomial Features\n",
    "params = {'polynomialfeatures__degree': [2, 3, 4],\n",
    "          'polynomialfeatures__interaction_only': [True, False],\n",
    "          'polynomialfeatures__include_bias': [True, False],\n",
    "          'polynomialfeatures__order': ['C', 'F']\n",
    "         }\n",
    "          \n",
    "pf = PolynomialRegression()\n",
    "\n",
    "grid = GridSearchCV(pf, params, \n",
    "                    scoring= 'neg_root_mean_squared_error', \n",
    "                    cv=3, iid=True)\n",
    "\n",
    "grid.fit(X_train_mm, y_train)\n",
    "\n",
    "results = grid.cv_results_\n",
    "#results.keys()\n",
    "\n",
    "params = results['params']\n",
    "test_scores = results['mean_test_score']\n",
    "\n",
    "for p, s in zip(params, test_scores):\n",
    "    p['RMSE'] = s\n",
    "\n",
    "pd.DataFrame(params).sort_values(by='RMSE', ascending=False)"
   ]
  },
  {
   "cell_type": "markdown",
   "metadata": {},
   "source": [
    "---\n",
    "## Train and Evaluate\n",
    "### OLS Model\n",
    "- all features\n",
    "- min-max scaler"
   ]
  },
  {
   "cell_type": "code",
   "execution_count": 27,
   "metadata": {},
   "outputs": [
    {
     "name": "stdout",
     "output_type": "stream",
     "text": [
      "RMSE for OLS using Linear Regression \n",
      "\n",
      "On train data:\n",
      " 21.065283 \n",
      "\n"
     ]
    }
   ],
   "source": [
    "lm = LinearRegression(normalize=True)\n",
    "lm.fit(X_train_mm, y_train)\n",
    "lm_pred = lm.predict(X_train_mm)\n",
    "lm_rmse = sqrt(mean_squared_error(y_train, lm_pred))\n",
    "\n",
    "lm_pred_v = lm.predict(X_validate_mm)\n",
    "lm_rmse_v = sqrt(mean_squared_error(y_validate, lm_pred_v))\n",
    "\n",
    "print('RMSE for OLS using Linear Regression \\n')\n",
    "print('On train data:\\n', round(lm_rmse, 6), '\\n') \n",
    "#print('On validate data:\\n', round(lm_rmse_v, 6))"
   ]
  },
  {
   "cell_type": "markdown",
   "metadata": {},
   "source": [
    "### OLS Model\n",
    "- select k best features (top 5)\n",
    "- min-max scaler"
   ]
  },
  {
   "cell_type": "code",
   "execution_count": 28,
   "metadata": {},
   "outputs": [
    {
     "name": "stdout",
     "output_type": "stream",
     "text": [
      "RMSE for OLS using Linear Regression \n",
      "\n",
      "On train data:\n",
      " 21.479089 \n",
      "\n"
     ]
    }
   ],
   "source": [
    "lm = LinearRegression(normalize=True)\n",
    "lm.fit(skb_features, y_train)\n",
    "lm_pred = lm.predict(skb_features)\n",
    "lm_rmse = sqrt(mean_squared_error(y_train, lm_pred))\n",
    "\n",
    "lm_pred_v = lm.predict(X_validate_mm[skb_features.columns.to_list()])\n",
    "lm_rmse_v = sqrt(mean_squared_error(y_validate, lm_pred_v))\n",
    "\n",
    "print('RMSE for OLS using Linear Regression \\n')\n",
    "print('On train data:\\n', round(lm_rmse, 6), '\\n') \n",
    "#print('On validate data:\\n', round(lm_rmse_v, 6))"
   ]
  },
  {
   "cell_type": "markdown",
   "metadata": {},
   "source": [
    "---\n",
    "### OLS Model\n",
    "- RFE features (top 5)\n",
    "- min-max scaler"
   ]
  },
  {
   "cell_type": "code",
   "execution_count": 29,
   "metadata": {},
   "outputs": [
    {
     "name": "stdout",
     "output_type": "stream",
     "text": [
      "RMSE for OLS using Linear Regression \n",
      "\n",
      "On train data:\n",
      " 21.392088 \n",
      "\n"
     ]
    }
   ],
   "source": [
    "lm = LinearRegression(normalize=True)\n",
    "lm.fit(rfe_features, y_train)\n",
    "lm_pred = lm.predict(rfe_features)\n",
    "lm_rmse = sqrt(mean_squared_error(y_train, lm_pred))\n",
    "\n",
    "lm_pred_v = lm.predict(X_validate_mm[rfe_features.columns.to_list()])\n",
    "lm_rmse_v = sqrt(mean_squared_error(y_validate, lm_pred_v))\n",
    "\n",
    "print('RMSE for OLS using Linear Regression \\n')\n",
    "print('On train data:\\n', round(lm_rmse, 6), '\\n') \n",
    "#print('On validate data:\\n', round(lm_rmse_v, 6))"
   ]
  },
  {
   "cell_type": "markdown",
   "metadata": {},
   "source": [
    "<div class=\"alert alert-block alert-info\">\n",
    "    <b>Takeaways</b>: using the feature selectors (opposed to using all features) and selecting the top 5 features doesn't improve model performance.</div>"
   ]
  },
  {
   "cell_type": "markdown",
   "metadata": {},
   "source": [
    "### Lasso + Lars\n",
    "- all features\n",
    "- min-max-scaler\n",
    "- alpha=0.1"
   ]
  },
  {
   "cell_type": "code",
   "execution_count": 30,
   "metadata": {},
   "outputs": [
    {
     "name": "stdout",
     "output_type": "stream",
     "text": [
      "RMSE for LASSO + LARS \n",
      "\n",
      "On train data:\n",
      " 21.066942 \n",
      "\n"
     ]
    }
   ],
   "source": [
    "lars = LassoLars(alpha=.001)\n",
    "lars.fit(X_train_mm, y_train)\n",
    "\n",
    "lars_pred = lars.predict(X_train_mm)\n",
    "lars_rmse = sqrt(mean_squared_error(y_train, lars_pred))\n",
    "\n",
    "lars_pred_v = lars.predict(X_validate_mm)\n",
    "lars_rmse_v = sqrt(mean_squared_error(y_validate, lars_pred_v))\n",
    "\n",
    "print('RMSE for LASSO + LARS \\n')\n",
    "print('On train data:\\n', round(lars_rmse, 6), '\\n') \n",
    "#print('On validate data:\\n', round(lars_rmse_v, 6))"
   ]
  },
  {
   "cell_type": "code",
   "execution_count": 31,
   "metadata": {},
   "outputs": [
    {
     "name": "stdout",
     "output_type": "stream",
     "text": [
      "RMSE for LASSO + LARS \n",
      "\n",
      "On train data:\n",
      " 21.104996 \n",
      "\n"
     ]
    }
   ],
   "source": [
    "# smaller alpha\n",
    "lars = LassoLars(alpha=.00001, fit_intercept=False)\n",
    "lars.fit(X_train_mm, y_train)\n",
    "\n",
    "lars_pred = lars.predict(X_train_mm)\n",
    "lars_rmse = sqrt(mean_squared_error(y_train, lars_pred))\n",
    "\n",
    "lars_pred_v = lars.predict(X_validate_mm)\n",
    "lars_rmse_v = sqrt(mean_squared_error(y_validate, lars_pred_v))\n",
    "\n",
    "lars_pred_t = lars.predict(X_test_mm)###\n",
    "lars_rmse_t = sqrt(mean_squared_error(y_test, lars_pred_t))###\n",
    "\n",
    "print('RMSE for LASSO + LARS \\n')\n",
    "print('On train data:\\n', round(lars_rmse, 6), '\\n') \n",
    "#print('On validate data:\\n', round(lars_rmse_v, 6))"
   ]
  },
  {
   "cell_type": "markdown",
   "metadata": {},
   "source": [
    "### Polynomial Features + Linear Regression"
   ]
  },
  {
   "cell_type": "code",
   "execution_count": 32,
   "metadata": {},
   "outputs": [
    {
     "name": "stdout",
     "output_type": "stream",
     "text": [
      "RMSE for Polynomial Squared + Linear Regression \n",
      "\n",
      "On train data:\n",
      " 20.526966 \n",
      "\n"
     ]
    }
   ],
   "source": [
    "#squared\n",
    "pf = PolynomialFeatures(degree=2)\n",
    "X_train_sq = pf.fit_transform(X_train_mm)\n",
    "X_validate_sq = pf.transform(X_validate_mm)\n",
    "\n",
    "lm_sq = LinearRegression()\n",
    "lm_sq.fit(X_train_sq, y_train)\n",
    "\n",
    "lm_sq_pred = lm_sq.predict(X_train_sq)\n",
    "lm_sq_rmse = sqrt(mean_squared_error(y_train, lm_sq_pred))\n",
    "\n",
    "lm_sq_pred_v = lm_sq.predict(X_validate_sq)\n",
    "lm_sq_rmse_v = sqrt(mean_squared_error(y_validate, lm_sq_pred_v))\n",
    "\n",
    "print('RMSE for Polynomial Squared + Linear Regression \\n')\n",
    "print('On train data:\\n', round(lm_sq_rmse, 6), '\\n') \n",
    "#print('On validate data:\\n', round(lm_sq_rmse_v, 6))"
   ]
  },
  {
   "cell_type": "code",
   "execution_count": 33,
   "metadata": {},
   "outputs": [
    {
     "name": "stdout",
     "output_type": "stream",
     "text": [
      "RMSE for Polynomial Squared + Linear Regression \n",
      "\n",
      "On train data:\n",
      " 18.796474 \n",
      "\n"
     ]
    }
   ],
   "source": [
    "# cubed\n",
    "pf = PolynomialFeatures(degree=3)\n",
    "X_train_cb = pf.fit_transform(X_train_mm)\n",
    "X_validate_cb = pf.transform(X_validate_mm)\n",
    "\n",
    "lm_cb = LinearRegression()\n",
    "lm_cb.fit(X_train_cb, y_train)\n",
    "\n",
    "lm_cb_pred = lm_cb.predict(X_train_cb)\n",
    "lm_cb_rmse = sqrt(mean_squared_error(y_train, lm_cb_pred))\n",
    "\n",
    "lm_cb_pred_v = lm_cb.predict(X_validate_cb)\n",
    "lm_cb_rmse_v = sqrt(mean_squared_error(y_validate, lm_cb_pred_v))\n",
    "\n",
    "print('RMSE for Polynomial Squared + Linear Regression \\n')\n",
    "print('On train data:\\n', round(lm_cb_rmse, 6), '\\n') \n",
    "#print('On validate data:\\n', round(lm_cb_rmse_v, 6))"
   ]
  },
  {
   "cell_type": "code",
   "execution_count": 34,
   "metadata": {},
   "outputs": [
    {
     "data": {
      "text/html": [
       "<div>\n",
       "<style scoped>\n",
       "    .dataframe tbody tr th:only-of-type {\n",
       "        vertical-align: middle;\n",
       "    }\n",
       "\n",
       "    .dataframe tbody tr th {\n",
       "        vertical-align: top;\n",
       "    }\n",
       "\n",
       "    .dataframe thead th {\n",
       "        text-align: right;\n",
       "    }\n",
       "</style>\n",
       "<table border=\"1\" class=\"dataframe\">\n",
       "  <thead>\n",
       "    <tr style=\"text-align: right;\">\n",
       "      <th></th>\n",
       "      <th>train_rmse</th>\n",
       "      <th>validate_rmse</th>\n",
       "      <th>test_rmse</th>\n",
       "    </tr>\n",
       "  </thead>\n",
       "  <tbody>\n",
       "    <tr>\n",
       "      <th>pf3_lr</th>\n",
       "      <td>18.796474</td>\n",
       "      <td>6.243039e+09</td>\n",
       "      <td>NaN</td>\n",
       "    </tr>\n",
       "    <tr>\n",
       "      <th>pf2_lr</th>\n",
       "      <td>20.526966</td>\n",
       "      <td>2.117323e+01</td>\n",
       "      <td>NaN</td>\n",
       "    </tr>\n",
       "    <tr>\n",
       "      <th>lassolars</th>\n",
       "      <td>21.104996</td>\n",
       "      <td>2.129290e+01</td>\n",
       "      <td>21.726116</td>\n",
       "    </tr>\n",
       "    <tr>\n",
       "      <th>ols</th>\n",
       "      <td>21.392088</td>\n",
       "      <td>NaN</td>\n",
       "      <td>NaN</td>\n",
       "    </tr>\n",
       "    <tr>\n",
       "      <th>baseline</th>\n",
       "      <td>22.822029</td>\n",
       "      <td>2.295860e+01</td>\n",
       "      <td>23.196285</td>\n",
       "    </tr>\n",
       "  </tbody>\n",
       "</table>\n",
       "</div>"
      ],
      "text/plain": [
       "           train_rmse  validate_rmse  test_rmse\n",
       "pf3_lr      18.796474   6.243039e+09        NaN\n",
       "pf2_lr      20.526966   2.117323e+01        NaN\n",
       "lassolars   21.104996   2.129290e+01  21.726116\n",
       "ols         21.392088            NaN        NaN\n",
       "baseline    22.822029   2.295860e+01  23.196285"
      ]
     },
     "execution_count": 34,
     "metadata": {},
     "output_type": "execute_result"
    }
   ],
   "source": [
    "columns = ['train_rmse', 'validate_rmse', 'test_rmse']\n",
    "index = ['baseline', 'ols', 'lassolars', 'pf2_lr', 'pf3_lr']\n",
    "data = [[baseline_train_rmse, baseline_validate_rmse, baseline_test_rmse],\n",
    "        [lm_rmse, ],\n",
    "        [lars_rmse, lars_rmse_v, lars_rmse_t],\n",
    "        [lm_sq_rmse, lm_sq_rmse_v],\n",
    "        [lm_cb_rmse, lm_cb_rmse_v, ]]\n",
    "model_performance = pd.DataFrame(columns=columns, data=data, index=index).sort_values(by='train_rmse')\n",
    "model_performance"
   ]
  },
  {
   "cell_type": "markdown",
   "metadata": {},
   "source": [
    "<div class=\"alert alert-block alert-info\">\n",
    "    <b>Takeaways</b>:\n",
    "    <li>Polynomial features cubed is overfit</li>\n",
    "    <li>Polynomial features squared and Lasso lars perform best on train and validate</li>\n",
    "    <li><b>Best Model</b> is Lasso Lars since it performed better on unseen data</li>\n",
    "    <li>Beat the baseline but barely.</li>\n",
    "    </div>"
   ]
  },
  {
   "cell_type": "code",
   "execution_count": 35,
   "metadata": {},
   "outputs": [
    {
     "name": "stdout",
     "output_type": "stream",
     "text": [
      "Model beat baseline by 6.44%\n"
     ]
    }
   ],
   "source": [
    "print(\n",
    "    f'Model beat baseline by {abs((lars_rmse_t - baseline_test_rmse)/baseline_train_rmse)*100:.2f}%')"
   ]
  },
  {
   "cell_type": "markdown",
   "metadata": {},
   "source": [
    "# Visualizing Final Model"
   ]
  },
  {
   "cell_type": "code",
   "execution_count": 36,
   "metadata": {},
   "outputs": [],
   "source": [
    "import matplotlib.pyplot as plt\n",
    "import seaborn as sns"
   ]
  },
  {
   "cell_type": "markdown",
   "metadata": {},
   "source": [
    "## Feature Importance"
   ]
  },
  {
   "cell_type": "code",
   "execution_count": 49,
   "metadata": {},
   "outputs": [
    {
     "data": {
      "text/plain": [
       "{'alpha': 1e-05,\n",
       " 'copy_X': True,\n",
       " 'eps': 2.220446049250313e-16,\n",
       " 'fit_intercept': False,\n",
       " 'fit_path': True,\n",
       " 'max_iter': 500,\n",
       " 'normalize': True,\n",
       " 'positive': False,\n",
       " 'precompute': 'auto',\n",
       " 'verbose': False}"
      ]
     },
     "execution_count": 49,
     "metadata": {},
     "output_type": "execute_result"
    }
   ],
   "source": [
    "lars.get_params(deep=True)"
   ]
  },
  {
   "cell_type": "code",
   "execution_count": 48,
   "metadata": {},
   "outputs": [
    {
     "data": {
      "image/png": "[encoded data removed]",
      "text/plain": [
       "<Figure size 1152x576 with 1 Axes>"
      ]
     },
     "metadata": {
      "needs_background": "light"
     },
     "output_type": "display_data"
    }
   ],
   "source": [
    "y_test, lars_pred_t\n",
    "\n",
    "\n",
    "plt.figure(figsize=(16,8))\n",
    "plt.axhline(baseline, alpha=.5, color=\"gray\", label='Actual Values')\n",
    "plt.annotate(\"Baseline: Predict Using Mean\", (86, 39.5))\n",
    "\n",
    "plt.plot(y_test, y_test, alpha=.9, color=\"blue\", label='_nolegend_')\n",
    "plt.annotate(\"The Ideal Line: Predicted = Actual\", (74.5, 77), rotation=26)\n",
    "\n",
    "plt.scatter(y_test, lars_pred_t, \n",
    "            alpha=.3, color='red', s=30, label=\"Model: LassoLars\")\n",
    "\n",
    "\n",
    "plt.legend()\n",
    "plt.xlabel(\"Actual Song Popularity\", size=13)\n",
    "plt.ylabel(\"Predicted Song Popularity\", size=13)\n",
    "plt.title(\"How Does the Final Model Compare to Baseline? And to the Actual Values?\", size=15)\n",
    "plt.annotate(\"The model is predicting songs around 10 to 60 popularity.\", (15, 7))\n",
    "# plt.annotate(\"The OLS model (LinearRegression)\\n appears to be most consistent\", (15.5, 3))\n",
    "plt.show()"
   ]
  },
  {
   "cell_type": "code",
   "execution_count": 51,
   "metadata": {
    "scrolled": false
   },
   "outputs": [
    {
     "data": {
      "image/png": "[encoded data removed]",
      "text/plain": [
       "<Figure size 1152x576 with 1 Axes>"
      ]
     },
     "metadata": {
      "needs_background": "light"
     },
     "output_type": "display_data"
    }
   ],
   "source": [
    "# y_validate.head()\n",
    "plt.figure(figsize=(16,8))\n",
    "plt.axhline(label=\"No Error\")\n",
    "plt.scatter(y_test, lars_pred_t - y_test, \n",
    "            alpha=.3, color='red', s=30, label=\"Model: LassoLars\")\n",
    "\n",
    "plt.legend()\n",
    "plt.xlabel(\"Actual Song Popularity\", size=13)\n",
    "plt.ylabel(\"Residual/Error: Predicted Popularity - Actual Popularity\", size=13)\n",
    "plt.title(\"Do the Size of Errors Change as the Popularity Changes?\", size=15)\n",
    "\n",
    "plt.show()"
   ]
  },
  {
   "cell_type": "code",
   "execution_count": 40,
   "metadata": {},
   "outputs": [
    {
     "data": {
      "text/html": [
       "<div>\n",
       "<style scoped>\n",
       "    .dataframe tbody tr th:only-of-type {\n",
       "        vertical-align: middle;\n",
       "    }\n",
       "\n",
       "    .dataframe tbody tr th {\n",
       "        vertical-align: top;\n",
       "    }\n",
       "\n",
       "    .dataframe thead th {\n",
       "        text-align: right;\n",
       "    }\n",
       "</style>\n",
       "<table border=\"1\" class=\"dataframe\">\n",
       "  <thead>\n",
       "    <tr style=\"text-align: right;\">\n",
       "      <th></th>\n",
       "      <th>train_rmse</th>\n",
       "      <th>validate_rmse</th>\n",
       "      <th>test_rmse</th>\n",
       "    </tr>\n",
       "  </thead>\n",
       "  <tbody>\n",
       "    <tr>\n",
       "      <th>pf3_lr</th>\n",
       "      <td>18.796474</td>\n",
       "      <td>6.243039e+09</td>\n",
       "      <td>NaN</td>\n",
       "    </tr>\n",
       "    <tr>\n",
       "      <th>pf2_lr</th>\n",
       "      <td>20.526966</td>\n",
       "      <td>2.117323e+01</td>\n",
       "      <td>NaN</td>\n",
       "    </tr>\n",
       "    <tr>\n",
       "      <th>lassolars</th>\n",
       "      <td>21.104996</td>\n",
       "      <td>2.129290e+01</td>\n",
       "      <td>21.726116</td>\n",
       "    </tr>\n",
       "    <tr>\n",
       "      <th>ols</th>\n",
       "      <td>21.392088</td>\n",
       "      <td>NaN</td>\n",
       "      <td>NaN</td>\n",
       "    </tr>\n",
       "    <tr>\n",
       "      <th>baseline</th>\n",
       "      <td>22.822029</td>\n",
       "      <td>2.295860e+01</td>\n",
       "      <td>23.196285</td>\n",
       "    </tr>\n",
       "  </tbody>\n",
       "</table>\n",
       "</div>"
      ],
      "text/plain": [
       "           train_rmse  validate_rmse  test_rmse\n",
       "pf3_lr      18.796474   6.243039e+09        NaN\n",
       "pf2_lr      20.526966   2.117323e+01        NaN\n",
       "lassolars   21.104996   2.129290e+01  21.726116\n",
       "ols         21.392088            NaN        NaN\n",
       "baseline    22.822029   2.295860e+01  23.196285"
      ]
     },
     "execution_count": 40,
     "metadata": {},
     "output_type": "execute_result"
    }
   ],
   "source": [
    "model_performance"
   ]
  },
  {
   "cell_type": "code",
   "execution_count": 41,
   "metadata": {},
   "outputs": [
    {
     "data": {
      "text/plain": [
       "Text(0.5, 0, 'Model Type')"
      ]
     },
     "execution_count": 41,
     "metadata": {},
     "output_type": "execute_result"
    },
    {
     "data": {
      "image/png": "[encoded data removed]",
      "text/plain": [
       "<Figure size 936x648 with 1 Axes>"
      ]
     },
     "metadata": {
      "needs_background": "light"
     },
     "output_type": "display_data"
    }
   ],
   "source": [
    "plt.figure(figsize=(13,9))\n",
    "sns.barplot(model_performance.index, model_performance.train_rmse)\n",
    "plt.title('Model Performance on Train', size = 15)\n",
    "plt.ylabel('Calculated RMSE', size = 13)\n",
    "plt.xlabel('Model Type', size = 13)"
   ]
  },
  {
   "cell_type": "code",
   "execution_count": 42,
   "metadata": {},
   "outputs": [
    {
     "data": {
      "text/plain": [
       "Text(0.5, 0, 'Model Type')"
      ]
     },
     "execution_count": 42,
     "metadata": {},
     "output_type": "execute_result"
    },
    {
     "data": {
      "image/png": "[encoded data removed]",
      "text/plain": [
       "<Figure size 936x648 with 1 Axes>"
      ]
     },
     "metadata": {
      "needs_background": "light"
     },
     "output_type": "display_data"
    }
   ],
   "source": [
    "plt.figure(figsize=(13,9))\n",
    "sns.barplot(model_performance.index, model_performance.validate_rmse)\n",
    "plt.title('Model Performance on Validate', size = 15)\n",
    "plt.ylabel('Calculated RMSE', size = 13)\n",
    "plt.xlabel('Model Type', size = 13)"
   ]
  },
  {
   "cell_type": "code",
   "execution_count": 43,
   "metadata": {},
   "outputs": [
    {
     "data": {
      "text/plain": [
       "Text(0.5, 0, 'Model Type')"
      ]
     },
     "execution_count": 43,
     "metadata": {},
     "output_type": "execute_result"
    },
    {
     "data": {
      "image/png": "[encoded data removed]",
      "text/plain": [
       "<Figure size 936x648 with 1 Axes>"
      ]
     },
     "metadata": {
      "needs_background": "light"
     },
     "output_type": "display_data"
    }
   ],
   "source": [
    "plt.figure(figsize=(13,9))\n",
    "sns.barplot(model_performance.index, model_performance.test_rmse)\n",
    "plt.title('Model Performance on Validate', size = 15)\n",
    "plt.ylabel('Calculated RMSE', size = 13)\n",
    "plt.xlabel('Model Type', size = 13)"
   ]
  }
 ],
 "metadata": {
  "kernelspec": {
   "display_name": "Python 3",
   "language": "python",
   "name": "python3"
  },
  "language_info": {
   "codemirror_mode": {
    "name": "ipython",
    "version": 3
   },
   "file_extension": ".py",
   "mimetype": "text/x-python",
   "name": "python",
   "nbconvert_exporter": "python",
   "pygments_lexer": "ipython3",
   "version": "3.7.6"
  }
 },
 "nbformat": 4,
 "nbformat_minor": 4
}
